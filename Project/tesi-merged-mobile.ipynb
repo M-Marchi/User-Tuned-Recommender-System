{
 "cells": [
  {
   "cell_type": "code",
   "execution_count": 1,
   "id": "1fc5710c",
   "metadata": {
    "_cell_guid": "b1076dfc-b9ad-4769-8c92-a6c4dae69d19",
    "_uuid": "8f2839f25d086af736a60e9eeb907d3b93b6e0e5",
    "execution": {
     "iopub.execute_input": "2022-06-20T18:10:49.189802Z",
     "iopub.status.busy": "2022-06-20T18:10:49.189376Z",
     "iopub.status.idle": "2022-06-20T18:10:56.683257Z",
     "shell.execute_reply": "2022-06-20T18:10:56.682363Z"
    },
    "papermill": {
     "duration": 7.518402,
     "end_time": "2022-06-20T18:10:56.685555",
     "exception": false,
     "start_time": "2022-06-20T18:10:49.167153",
     "status": "completed"
    },
    "tags": []
   },
   "outputs": [],
   "source": [
    "import zipfile\n",
    "import os\n",
    "import pandas as pd\n",
    "import tensorflow as tf\n",
    "from tensorflow import keras\n",
    "from keras import optimizers\n",
    "from keras import layers\n",
    "from keras.regularizers import l2\n",
    "from tensorflow.keras.preprocessing import image\n",
    "from tensorflow.keras.models import Model\n",
    "from keras.models import Sequential\n",
    "from keras.layers import Dense, GlobalAveragePooling2D, Dropout, Flatten, concatenate\n",
    "from tensorflow.keras import regularizers\n",
    "from keras.callbacks import EarlyStopping\n",
    "from keras.callbacks import ModelCheckpoint\n",
    "from keras.utils.vis_utils import plot_model\n",
    "import pylab as pl\n",
    "import numpy as np\n",
    "import matplotlib.image as mpimg\n",
    "import matplotlib.pyplot as plt\n",
    "import seaborn as sns\n",
    "from sklearn.model_selection import train_test_split\n",
    "from keras.utils import np_utils\n",
    "from sklearn.utils import shuffle\n",
    "from sklearn.metrics import confusion_matrix\n",
    "from sklearn import preprocessing\n",
    "import itertools\n",
    "import math\n",
    "\n",
    "\n",
    "# audio lib\n",
    "import librosa\n",
    "import librosa.display\n",
    "from librosa.util import fix_length\n",
    "\n",
    "import IPython.display as ipd\n",
    "from PIL import Image\n"
   ]
  },
  {
   "cell_type": "code",
   "execution_count": 2,
   "id": "4725574d",
   "metadata": {
    "execution": {
     "iopub.execute_input": "2022-06-20T18:10:56.726750Z",
     "iopub.status.busy": "2022-06-20T18:10:56.726465Z",
     "iopub.status.idle": "2022-06-20T18:10:56.730275Z",
     "shell.execute_reply": "2022-06-20T18:10:56.729510Z"
    },
    "papermill": {
     "duration": 0.026346,
     "end_time": "2022-06-20T18:10:56.732068",
     "exception": false,
     "start_time": "2022-06-20T18:10:56.705722",
     "status": "completed"
    },
    "tags": []
   },
   "outputs": [],
   "source": [
    "import warnings\n",
    "warnings.filterwarnings(\"ignore\")"
   ]
  },
  {
   "cell_type": "markdown",
   "id": "336e3c3c",
   "metadata": {
    "papermill": {
     "duration": 0.019295,
     "end_time": "2022-06-20T18:10:56.770412",
     "exception": false,
     "start_time": "2022-06-20T18:10:56.751117",
     "status": "completed"
    },
    "tags": []
   },
   "source": [
    "# CNN MEL SPECTROGRAM APPROACH - MERGED DATASET\n",
    "\n",
    "Una volta capito che il modello migliore era quello ottenuto tramite CNN sono stati generati spectrogrammi di Mel corrispondenti i dataset: \"PMEmo\", \"4Q\", \"Emotify\".\n",
    "Al fine di ottenere un dataset finale più bilanciato del dataset \"PMEmo\" sono stati presi solo 600 campioni."
   ]
  },
  {
   "cell_type": "code",
   "execution_count": 3,
   "id": "1a17bf45",
   "metadata": {
    "execution": {
     "iopub.execute_input": "2022-06-20T18:10:56.810362Z",
     "iopub.status.busy": "2022-06-20T18:10:56.809759Z",
     "iopub.status.idle": "2022-06-20T18:10:56.880233Z",
     "shell.execute_reply": "2022-06-20T18:10:56.879566Z"
    },
    "papermill": {
     "duration": 0.092773,
     "end_time": "2022-06-20T18:10:56.882178",
     "exception": false,
     "start_time": "2022-06-20T18:10:56.789405",
     "status": "completed"
    },
    "tags": []
   },
   "outputs": [
    {
     "data": {
      "text/html": [
       "<div>\n",
       "<style scoped>\n",
       "    .dataframe tbody tr th:only-of-type {\n",
       "        vertical-align: middle;\n",
       "    }\n",
       "\n",
       "    .dataframe tbody tr th {\n",
       "        vertical-align: top;\n",
       "    }\n",
       "\n",
       "    .dataframe thead th {\n",
       "        text-align: right;\n",
       "    }\n",
       "</style>\n",
       "<table border=\"1\" class=\"dataframe\">\n",
       "  <thead>\n",
       "    <tr style=\"text-align: right;\">\n",
       "      <th></th>\n",
       "      <th>ID_song</th>\n",
       "    </tr>\n",
       "  </thead>\n",
       "  <tbody>\n",
       "    <tr>\n",
       "      <th>0</th>\n",
       "      <td>3001</td>\n",
       "    </tr>\n",
       "    <tr>\n",
       "      <th>5</th>\n",
       "      <td>3004</td>\n",
       "    </tr>\n",
       "    <tr>\n",
       "      <th>10</th>\n",
       "      <td>3005</td>\n",
       "    </tr>\n",
       "    <tr>\n",
       "      <th>15</th>\n",
       "      <td>3006</td>\n",
       "    </tr>\n",
       "    <tr>\n",
       "      <th>20</th>\n",
       "      <td>3007</td>\n",
       "    </tr>\n",
       "    <tr>\n",
       "      <th>...</th>\n",
       "      <td>...</td>\n",
       "    </tr>\n",
       "    <tr>\n",
       "      <th>3718</th>\n",
       "      <td>3993</td>\n",
       "    </tr>\n",
       "    <tr>\n",
       "      <th>3723</th>\n",
       "      <td>3996</td>\n",
       "    </tr>\n",
       "    <tr>\n",
       "      <th>3728</th>\n",
       "      <td>3997</td>\n",
       "    </tr>\n",
       "    <tr>\n",
       "      <th>3733</th>\n",
       "      <td>3999</td>\n",
       "    </tr>\n",
       "    <tr>\n",
       "      <th>3738</th>\n",
       "      <td>4000</td>\n",
       "    </tr>\n",
       "  </tbody>\n",
       "</table>\n",
       "<p>767 rows × 1 columns</p>\n",
       "</div>"
      ],
      "text/plain": [
       "     ID_song\n",
       "0       3001\n",
       "5       3004\n",
       "10      3005\n",
       "15      3006\n",
       "20      3007\n",
       "...      ...\n",
       "3718    3993\n",
       "3723    3996\n",
       "3728    3997\n",
       "3733    3999\n",
       "3738    4000\n",
       "\n",
       "[767 rows x 1 columns]"
      ]
     },
     "execution_count": 3,
     "metadata": {},
     "output_type": "execute_result"
    }
   ],
   "source": [
    "df1 = pd.read_csv('../input/mel-pmemo/mel.csv')\n",
    "df2 = pd.read_csv('../input/mel-4q/mel.csv')\n",
    "df3 = pd.read_csv('../input/mel-emotify/mel.csv')\n",
    "\n",
    "df1['ID_song'] = df1['ID'].astype(str).str[0:4]\n",
    "df2['ID_song'] = df2['ID'].astype(str).str[0:4]\n",
    "df3['ID_song'] = df3['ID'].astype(str).str[0:4]\n",
    "\n",
    "df1_ID = pd.DataFrame()\n",
    "df1_ID['ID_song'] = df1['ID_song'].drop_duplicates()\n",
    "\n",
    "df2_ID = pd.DataFrame()\n",
    "df2_ID['ID_song'] = df2['ID_song'].drop_duplicates()\n",
    "\n",
    "df3_ID = pd.DataFrame()\n",
    "df3_ID['ID_song'] = df3['ID_song'].drop_duplicates()\n",
    "\n",
    "\n",
    "df1_ID"
   ]
  },
  {
   "cell_type": "code",
   "execution_count": 4,
   "id": "c9ac1971",
   "metadata": {
    "execution": {
     "iopub.execute_input": "2022-06-20T18:10:56.923548Z",
     "iopub.status.busy": "2022-06-20T18:10:56.922972Z",
     "iopub.status.idle": "2022-06-20T18:10:56.931355Z",
     "shell.execute_reply": "2022-06-20T18:10:56.930385Z"
    },
    "papermill": {
     "duration": 0.030732,
     "end_time": "2022-06-20T18:10:56.932989",
     "exception": false,
     "start_time": "2022-06-20T18:10:56.902257",
     "status": "completed"
    },
    "tags": []
   },
   "outputs": [
    {
     "name": "stdout",
     "output_type": "stream",
     "text": [
      "(1200, 1)\n",
      "(9844, 3)\n"
     ]
    }
   ],
   "source": [
    "df_ID = pd.concat([df1_ID[:150], df2_ID, df3_ID[:150]], ignore_index=True, sort=False)\n",
    "df = pd.concat([df1, df2, df3], ignore_index=True, sort=False)\n",
    "\n",
    "print(df_ID.shape)\n",
    "print(df.shape)\n"
   ]
  },
  {
   "cell_type": "code",
   "execution_count": 5,
   "id": "036eb851",
   "metadata": {
    "execution": {
     "iopub.execute_input": "2022-06-20T18:10:56.974680Z",
     "iopub.status.busy": "2022-06-20T18:10:56.974141Z",
     "iopub.status.idle": "2022-06-20T18:10:56.984330Z",
     "shell.execute_reply": "2022-06-20T18:10:56.983685Z"
    },
    "papermill": {
     "duration": 0.03238,
     "end_time": "2022-06-20T18:10:56.985973",
     "exception": false,
     "start_time": "2022-06-20T18:10:56.953593",
     "status": "completed"
    },
    "tags": []
   },
   "outputs": [
    {
     "name": "stdout",
     "output_type": "stream",
     "text": [
      "(840,)\n",
      "(180,)\n",
      "(180,)\n"
     ]
    },
    {
     "data": {
      "text/plain": [
       "array(['1474', '1763', '1113', '3171', '3005', '1470', '1889', '1440',\n",
       "       '1046', '2011', '3058', '1548', '1656', '1281', '1157', '1455',\n",
       "       '3139', '2027', '1099', '3008', '1872', '1071', '3021', '1714',\n",
       "       '1226', '1082', '1690', '2020', '1045', '2004', '1695', '1771',\n",
       "       '1614', '1398', '1131', '2150', '1254', '1180', '1444', '2078',\n",
       "       '1748', '2101', '3109', '1200', '1806', '1445', '1862', '1830',\n",
       "       '1826', '3145', '1174', '1286', '1514', '1664', '1790', '1187',\n",
       "       '2060', '3091', '1705', '2114', '1448', '3073', '1504', '1685',\n",
       "       '1152', '1881', '1623', '1704', '1687', '1523', '3165', '1536',\n",
       "       '2074', '1418', '3097', '3075', '1616', '1427', '1805', '1524',\n",
       "       '1090', '3136', '1241', '2135', '1259', '1843', '1399', '1389',\n",
       "       '1857', '1838', '1874', '3092', '1139', '1652', '2025', '1829',\n",
       "       '1255', '1884', '1490', '1666', '1581', '1379', '2075', '1323',\n",
       "       '1173', '1827', '3034', '1438', '1839', '1739', '1239', '1859',\n",
       "       '1743', '1598', '1702', '3025', '1347', '1324', '1458', '1031',\n",
       "       '1087', '1553', '1218', '2118', '1303', '1433', '1681', '1378',\n",
       "       '1682', '2123', '3184', '1172', '1677', '1855', '2117', '1432',\n",
       "       '3175', '3098', '1042', '1041', '1634', '1198', '1410', '2105',\n",
       "       '3115', '3106', '1346', '2026', '3132', '1644', '1344', '1534',\n",
       "       '1840', '2043', '2121', '3017', '1165', '1435', '1501', '1622',\n",
       "       '3044', '1781', '1868', '3051', '3166', '1562', '1016', '3094',\n",
       "       '1149', '2087', '1670', '1679', '3126', '1844', '3148', '1125',\n",
       "       '1095', '1385', '3012', '2015'], dtype=object)"
      ]
     },
     "execution_count": 5,
     "metadata": {},
     "output_type": "execute_result"
    }
   ],
   "source": [
    "ID_train, ID_test = train_test_split( np.array(df_ID['ID_song']), test_size=0.30, shuffle = True,  random_state=1)\n",
    "ID_test, ID_validation = train_test_split( ID_test, test_size=0.5, shuffle = True,  random_state=1)\n",
    "\n",
    "print(ID_train.shape)\n",
    "print(ID_test.shape)\n",
    "print(ID_validation.shape)\n",
    "ID_test"
   ]
  },
  {
   "cell_type": "code",
   "execution_count": 6,
   "id": "a139a2bf",
   "metadata": {
    "execution": {
     "iopub.execute_input": "2022-06-20T18:10:57.030397Z",
     "iopub.status.busy": "2022-06-20T18:10:57.030199Z",
     "iopub.status.idle": "2022-06-20T18:10:59.787512Z",
     "shell.execute_reply": "2022-06-20T18:10:59.786871Z"
    },
    "papermill": {
     "duration": 2.785624,
     "end_time": "2022-06-20T18:10:59.793765",
     "exception": false,
     "start_time": "2022-06-20T18:10:57.008141",
     "status": "completed"
    },
    "tags": []
   },
   "outputs": [
    {
     "name": "stdout",
     "output_type": "stream",
     "text": [
      "(3911,)\n",
      "(837,)\n",
      "(832,)\n"
     ]
    },
    {
     "data": {
      "text/plain": [
       "array(['1474-0', '1474-1', '1474-2', '1474-3', '1474-4', '1763-0',\n",
       "       '1763-1', '1763-2', '1763-3', '1113-0', '1113-1', '1113-2',\n",
       "       '1113-3', '1113-4', '3171-0', '3171-1', '3171-2', '3171-3',\n",
       "       '3171-4', '3005-0', '3005-1', '3005-2', '3005-3', '3005-4',\n",
       "       '1470-0', '1470-1', '1470-2', '1470-3', '1889-0', '1889-1',\n",
       "       '1889-2', '1889-3', '1440-0', '1440-1', '1440-2', '1440-3',\n",
       "       '1440-4', '1046-0', '1046-1', '1046-2', '1046-3', '1046-4',\n",
       "       '2011-0', '2011-1', '2011-2', '2011-3', '2011-4', '3058-0',\n",
       "       '3058-1', '3058-2', '3058-3', '3058-4', '1548-0', '1548-1',\n",
       "       '1548-2', '1548-3', '1656-0', '1656-1', '1656-2', '1656-3',\n",
       "       '1281-0', '1281-1', '1281-2', '1281-3', '1281-4', '1157-0',\n",
       "       '1157-1', '1157-2', '1157-3', '1157-4', '1455-0', '1455-1',\n",
       "       '1455-2', '1455-3', '1455-4', '3139-0', '3139-1', '3139-2',\n",
       "       '3139-3', '3139-4', '2027-0', '2027-1', '2027-2', '2027-3',\n",
       "       '2027-4', '1099-0', '1099-1', '1099-2', '1099-3', '1099-4',\n",
       "       '3008-0', '3008-1', '3008-2', '3008-3', '3008-4', '1872-0',\n",
       "       '1872-1', '1872-2', '1872-3', '1071-0'], dtype='<U6')"
      ]
     },
     "execution_count": 6,
     "metadata": {},
     "output_type": "execute_result"
    }
   ],
   "source": [
    "y_train_ID = []\n",
    "y_test_ID = []\n",
    "y_validation_ID = []\n",
    "\n",
    "for i in ID_train:\n",
    "    if (i + '-0') in df['ID'].values:\n",
    "        y_train_ID.append(i + '-0')\n",
    "    if (i + '-1') in df['ID'].values:\n",
    "        y_train_ID.append(i + '-1')\n",
    "    if (i + '-2') in df['ID'].values:\n",
    "        y_train_ID.append(i + '-2')\n",
    "    if (i + '-3') in df['ID'].values:\n",
    "        y_train_ID.append(i + '-3')\n",
    "    if (i + '-4') in df['ID'].values:\n",
    "        y_train_ID.append(i + '-4')\n",
    "\n",
    "for i in ID_test:\n",
    "    if (i + '-0') in df['ID'].values:\n",
    "        y_test_ID.append(i + '-0')\n",
    "    if (i + '-1') in df['ID'].values:\n",
    "        y_test_ID.append(i + '-1')\n",
    "    if (i + '-2') in df['ID'].values:\n",
    "        y_test_ID.append(i + '-2')\n",
    "    if (i + '-3') in df['ID'].values:\n",
    "        y_test_ID.append(i + '-3')\n",
    "    if (i + '-4') in df['ID'].values:\n",
    "        y_test_ID.append(i + '-4')\n",
    "        \n",
    "for i in ID_validation:\n",
    "    if (i + '-0') in df['ID'].values:\n",
    "        y_validation_ID.append(i + '-0')\n",
    "    if (i + '-1') in df['ID'].values:\n",
    "        y_validation_ID.append(i + '-1')\n",
    "    if (i + '-2') in df['ID'].values:\n",
    "        y_validation_ID.append(i + '-2')\n",
    "    if (i + '-3') in df['ID'].values:\n",
    "        y_validation_ID.append(i + '-3')\n",
    "    if (i + '-4') in df['ID'].values:\n",
    "        y_validation_ID.append(i + '-4')\n",
    "        \n",
    "y_train_ID = np.array(y_train_ID)\n",
    "y_test_ID = np.array(y_test_ID)\n",
    "y_validation_ID = np.array(y_validation_ID)\n",
    "\n",
    "print(y_train_ID.shape)\n",
    "print(y_test_ID.shape)\n",
    "print(y_validation_ID.shape)\n",
    "y_test_ID[:100]"
   ]
  },
  {
   "cell_type": "code",
   "execution_count": 7,
   "id": "6033d479",
   "metadata": {
    "execution": {
     "iopub.execute_input": "2022-06-20T18:10:59.839535Z",
     "iopub.status.busy": "2022-06-20T18:10:59.839322Z",
     "iopub.status.idle": "2022-06-20T18:11:50.812766Z",
     "shell.execute_reply": "2022-06-20T18:11:50.811969Z"
    },
    "papermill": {
     "duration": 51.019442,
     "end_time": "2022-06-20T18:11:50.836176",
     "exception": false,
     "start_time": "2022-06-20T18:10:59.816734",
     "status": "completed"
    },
    "tags": []
   },
   "outputs": [
    {
     "name": "stdout",
     "output_type": "stream",
     "text": [
      "(3911, 300, 300, 3)\n",
      "(837, 300, 300, 3)\n",
      "(832, 300, 300, 3)\n"
     ]
    }
   ],
   "source": [
    "path1 = '../input/mel-pmemo/melspectrogram_dataset/'\n",
    "path2 = '../input/mel-4q/melspectrogram_dataset/'\n",
    "path3 = '../input/mel-emotify/melspectrogram_dataset/'\n",
    "\n",
    "\n",
    "# Load the images and the labels\n",
    "x_train = []\n",
    "x_test = []\n",
    "x_validation = []\n",
    "\n",
    "for img in y_train_ID:\n",
    "    if img[0] == '3':\n",
    "        pic = image.load_img((path1 + img + '.png'))\n",
    "        x_train.append(np.array(pic))\n",
    "    elif img[0] == '1':\n",
    "        pic = image.load_img((path2 + img + '.png'))\n",
    "        x_train.append(np.array(pic))\n",
    "    elif img[0] == '2':\n",
    "        pic = image.load_img((path3 + img + '.png'))\n",
    "        x_train.append(np.array(pic))\n",
    "\n",
    "for img in y_test_ID:\n",
    "    if img[0] == '3':\n",
    "        pic = image.load_img((path1 + img + '.png'))\n",
    "        x_test.append(np.array(pic))\n",
    "    elif img[0] == '1':\n",
    "        pic = image.load_img((path2 + img + '.png'))\n",
    "        x_test.append(np.array(pic))\n",
    "    elif img[0] == '2':\n",
    "        pic = image.load_img((path3 + img + '.png'))\n",
    "        x_test.append(np.array(pic))\n",
    "        \n",
    "for img in y_validation_ID:\n",
    "    if img[0] == '3':\n",
    "        pic = image.load_img((path1 + img + '.png'))\n",
    "        x_validation.append(np.array(pic))\n",
    "    elif img[0] == '1':\n",
    "        pic = image.load_img((path2 + img + '.png'))\n",
    "        x_validation.append(np.array(pic))\n",
    "    elif img[0] == '2':\n",
    "        pic = image.load_img((path3 + img + '.png'))\n",
    "        x_validation.append(np.array(pic))\n",
    "    \n",
    "x_train = np.array(x_train)\n",
    "x_test = np.array(x_test)\n",
    "x_validation = np.array(x_validation)\n",
    "\n",
    "print(x_train.shape)\n",
    "print(x_test.shape)\n",
    "print(x_validation.shape)"
   ]
  },
  {
   "cell_type": "code",
   "execution_count": 8,
   "id": "e730b617",
   "metadata": {
    "execution": {
     "iopub.execute_input": "2022-06-20T18:11:50.880119Z",
     "iopub.status.busy": "2022-06-20T18:11:50.879632Z",
     "iopub.status.idle": "2022-06-20T18:12:01.892075Z",
     "shell.execute_reply": "2022-06-20T18:12:01.891190Z"
    },
    "papermill": {
     "duration": 11.036555,
     "end_time": "2022-06-20T18:12:01.894048",
     "exception": false,
     "start_time": "2022-06-20T18:11:50.857493",
     "status": "completed"
    },
    "tags": []
   },
   "outputs": [
    {
     "name": "stdout",
     "output_type": "stream",
     "text": [
      "(3911,)\n",
      "(837,)\n",
      "(832,)\n"
     ]
    }
   ],
   "source": [
    "y_train = []\n",
    "y_test = []\n",
    "y_validation = []\n",
    "\n",
    "for i in y_train_ID:\n",
    "    \n",
    "    row = df.loc[df['ID'] == i]\n",
    "    y_train.append(row['Label'].iloc[0])\n",
    "\n",
    "for i in y_test_ID:\n",
    "    \n",
    "    row = df.loc[df['ID'] == i]\n",
    "    y_test.append(row['Label'].iloc[0])\n",
    "\n",
    "\n",
    "for i in y_validation_ID:\n",
    "    \n",
    "    row = df.loc[df['ID'] == i]\n",
    "    y_validation.append(row['Label'].iloc[0])\n",
    "    \n",
    "    \n",
    "    \n",
    "y_train = np.array(y_train)\n",
    "y_test = np.array(y_test)\n",
    "y_validation = np.array(y_validation)\n",
    "\n",
    "print(y_train.shape)\n",
    "print(y_test.shape)\n",
    "print(y_validation.shape)"
   ]
  },
  {
   "cell_type": "code",
   "execution_count": 9,
   "id": "3faad457",
   "metadata": {
    "execution": {
     "iopub.execute_input": "2022-06-20T18:12:01.939726Z",
     "iopub.status.busy": "2022-06-20T18:12:01.939499Z",
     "iopub.status.idle": "2022-06-20T18:12:02.335248Z",
     "shell.execute_reply": "2022-06-20T18:12:02.334483Z"
    },
    "papermill": {
     "duration": 0.420377,
     "end_time": "2022-06-20T18:12:02.337330",
     "exception": false,
     "start_time": "2022-06-20T18:12:01.916953",
     "status": "completed"
    },
    "tags": []
   },
   "outputs": [],
   "source": [
    "x_train, y_train = shuffle(x_train, y_train)\n",
    "x_test, y_test = shuffle(x_test, y_test)\n",
    "x_validation, y_validation = shuffle(x_validation, y_validation)"
   ]
  },
  {
   "cell_type": "markdown",
   "id": "618b2af6",
   "metadata": {
    "papermill": {
     "duration": 0.021508,
     "end_time": "2022-06-20T18:12:02.381235",
     "exception": false,
     "start_time": "2022-06-20T18:12:02.359727",
     "status": "completed"
    },
    "tags": []
   },
   "source": [
    "Si effettua uno studio sul learning rate al fine di ottenere il learning rate ottimale per il modello sulla base del dataset utilizzato."
   ]
  },
  {
   "cell_type": "code",
   "execution_count": 10,
   "id": "66019fe7",
   "metadata": {
    "execution": {
     "iopub.execute_input": "2022-06-20T18:12:02.426942Z",
     "iopub.status.busy": "2022-06-20T18:12:02.426729Z",
     "iopub.status.idle": "2022-06-20T18:12:02.450442Z",
     "shell.execute_reply": "2022-06-20T18:12:02.449814Z"
    },
    "papermill": {
     "duration": 0.049016,
     "end_time": "2022-06-20T18:12:02.452062",
     "exception": false,
     "start_time": "2022-06-20T18:12:02.403046",
     "status": "completed"
    },
    "tags": []
   },
   "outputs": [],
   "source": [
    "from keras.callbacks import LambdaCallback\n",
    "import keras.backend as K\n",
    "\n",
    "class LRFinder:\n",
    "    \"\"\"\n",
    "    Plots the change of the loss function of a Keras model when the learning rate is exponentially increasing.\n",
    "    See for details:\n",
    "    https://towardsdatascience.com/estimating-optimal-learning-rate-for-a-deep-neural-network-ce32f2556ce0\n",
    "    \"\"\"\n",
    "\n",
    "    def __init__(self, model):\n",
    "        self.model = model\n",
    "        self.losses = []\n",
    "        self.lrs = []\n",
    "        self.best_loss = 1e9\n",
    "\n",
    "    def on_batch_end(self, batch, logs):\n",
    "        # Log the learning rate\n",
    "        lr = K.get_value(self.model.optimizer.lr)\n",
    "        self.lrs.append(lr)\n",
    "\n",
    "        # Log the loss\n",
    "        loss = logs['loss']\n",
    "        self.losses.append(loss)\n",
    "\n",
    "        # Check whether the loss got too large or NaN\n",
    "        if batch > 5 and (math.isnan(loss) or loss > self.best_loss * 4):\n",
    "            self.model.stop_training = True\n",
    "            return\n",
    "\n",
    "        if loss < self.best_loss:\n",
    "            self.best_loss = loss\n",
    "\n",
    "        # Increase the learning rate for the next batch\n",
    "        lr *= self.lr_mult\n",
    "        K.set_value(self.model.optimizer.lr, lr)\n",
    "\n",
    "    def find(self, x_train, y_train, start_lr, end_lr, batch_size=64, epochs=1, **kw_fit):\n",
    "        # If x_train contains data for multiple inputs, use length of the first input.\n",
    "        # Assumption: the first element in the list is single input; NOT a list of inputs.\n",
    "        N = x_train[0].shape[0] if isinstance(x_train, list) else x_train.shape[0]\n",
    "\n",
    "        # Compute number of batches and LR multiplier\n",
    "        num_batches = epochs * N / batch_size\n",
    "        self.lr_mult = (float(end_lr) / float(start_lr)) ** (float(1) / float(num_batches))\n",
    "        # Save weights into a file\n",
    "        initial_weights = self.model.get_weights()\n",
    "\n",
    "        # Remember the original learning rate\n",
    "        original_lr = K.get_value(self.model.optimizer.lr)\n",
    "\n",
    "        # Set the initial learning rate\n",
    "        K.set_value(self.model.optimizer.lr, start_lr)\n",
    "\n",
    "        callback = LambdaCallback(on_batch_end=lambda batch, logs: self.on_batch_end(batch, logs))\n",
    "\n",
    "        self.model.fit(x_train, y_train,\n",
    "                       batch_size=batch_size, epochs=epochs,\n",
    "                       callbacks=[callback],\n",
    "                       **kw_fit)\n",
    "\n",
    "        # Restore the weights to the state before model fitting\n",
    "        self.model.set_weights(initial_weights)\n",
    "\n",
    "        # Restore the original learning rate\n",
    "        K.set_value(self.model.optimizer.lr, original_lr)\n",
    "\n",
    "    def find_generator(self, generator, start_lr, end_lr, epochs=1, steps_per_epoch=None, **kw_fit):\n",
    "        if steps_per_epoch is None:\n",
    "            try:\n",
    "                steps_per_epoch = len(generator)\n",
    "            except (ValueError, NotImplementedError) as e:\n",
    "                raise e('`steps_per_epoch=None` is only valid for a'\n",
    "                        ' generator based on the '\n",
    "                        '`keras.utils.Sequence`'\n",
    "                        ' class. Please specify `steps_per_epoch` '\n",
    "                        'or use the `keras.utils.Sequence` class.')\n",
    "        self.lr_mult = (float(end_lr) / float(start_lr)) ** (float(1) / float(epochs * steps_per_epoch))\n",
    "\n",
    "        # Save weights into a file\n",
    "        initial_weights = self.model.get_weights()\n",
    "\n",
    "        # Remember the original learning rate\n",
    "        original_lr = K.get_value(self.model.optimizer.lr)\n",
    "\n",
    "        # Set the initial learning rate\n",
    "        K.set_value(self.model.optimizer.lr, start_lr)\n",
    "\n",
    "        callback = LambdaCallback(on_batch_end=lambda batch,\n",
    "                                                      logs: self.on_batch_end(batch, logs))\n",
    "\n",
    "        self.model.fit_generator(generator=generator,\n",
    "                                 epochs=epochs,\n",
    "                                 steps_per_epoch=steps_per_epoch,\n",
    "                                 callbacks=[callback],\n",
    "                                 **kw_fit)\n",
    "\n",
    "        # Restore the weights to the state before model fitting\n",
    "        self.model.set_weights(initial_weights)\n",
    "\n",
    "        # Restore the original learning rate\n",
    "        K.set_value(self.model.optimizer.lr, original_lr)\n",
    "\n",
    "    def plot_loss(self, n_skip_beginning=10, n_skip_end=5, x_scale='log'):\n",
    "        \"\"\"\n",
    "        Plots the loss.\n",
    "        Parameters:\n",
    "            n_skip_beginning - number of batches to skip on the left.\n",
    "            n_skip_end - number of batches to skip on the right.\n",
    "        \"\"\"\n",
    "        plt.ylabel(\"loss\")\n",
    "        plt.xlabel(\"learning rate (log scale)\")\n",
    "        plt.plot(self.lrs[n_skip_beginning:-n_skip_end], self.losses[n_skip_beginning:-n_skip_end])\n",
    "        plt.xscale(x_scale)\n",
    "        plt.show()\n",
    "\n",
    "    def plot_loss_change(self, sma=1, n_skip_beginning=10, n_skip_end=5, y_lim=(-0.01, 0.01)):\n",
    "        \"\"\"\n",
    "        Plots rate of change of the loss function.\n",
    "        Parameters:\n",
    "            sma - number of batches for simple moving average to smooth out the curve.\n",
    "            n_skip_beginning - number of batches to skip on the left.\n",
    "            n_skip_end - number of batches to skip on the right.\n",
    "            y_lim - limits for the y axis.\n",
    "        \"\"\"\n",
    "        derivatives = self.get_derivatives(sma)[n_skip_beginning:-n_skip_end]\n",
    "        lrs = self.lrs[n_skip_beginning:-n_skip_end]\n",
    "        plt.ylabel(\"rate of loss change\")\n",
    "        plt.xlabel(\"learning rate (log scale)\")\n",
    "        plt.plot(lrs, derivatives)\n",
    "        plt.xscale('log')\n",
    "        plt.ylim(y_lim)\n",
    "        plt.show()\n",
    "\n",
    "    def get_derivatives(self, sma):\n",
    "        assert sma >= 1\n",
    "        derivatives = [0] * sma\n",
    "        for i in range(sma, len(self.lrs)):\n",
    "            derivatives.append((self.losses[i] - self.losses[i - sma]) / sma)\n",
    "        return derivatives\n",
    "\n",
    "    def get_best_lr(self, sma, n_skip_beginning=10, n_skip_end=5):\n",
    "        derivatives = self.get_derivatives(sma)\n",
    "        best_der_idx = np.argmin(derivatives[n_skip_beginning:-n_skip_end])\n",
    "        return self.lrs[n_skip_beginning:-n_skip_end][best_der_idx]"
   ]
  },
  {
   "cell_type": "markdown",
   "id": "fd2969ae",
   "metadata": {
    "papermill": {
     "duration": 0.021341,
     "end_time": "2022-06-20T18:12:02.494904",
     "exception": false,
     "start_time": "2022-06-20T18:12:02.473563",
     "status": "completed"
    },
    "tags": []
   },
   "source": [
    "Si procede a costruire il modello della rete neurale convoluzionale.\n",
    "si utilizzano i seguenti iperparametri:\n",
    "\n",
    "\n",
    "*   Tipo di modello: CNN\n",
    "*   Modello di partenza: EfficientNetB3\n",
    "*   Numero di epoche 50;\n",
    "*   Activation Output Layer Softmax: funzione più usata per la classificazione multiclasse;\n",
    "*   Activation Hidden Layer ReLU: è la funzione di \"deafult\" grazie alla sua versatilità per la maggior parte degli utilizzi;\n",
    "*   Loss Function Sparse Categorical Crossentropy: funzione usata nella classificazione multiclasse usando varibili categoriche;\n",
    "*   Optimizer adam con learning rate ottimale;\n",
    "*   Regolarizzazione tramite L2 con alpha = 0.1: si limitano le unità con pesi troppo grossi per evitare overfitting e tramite dropout decrescente.\n",
    "*   Per evitare overfitting si utilizzeranno i pesi che ottengono il miglior valore di loss sul validation set."
   ]
  },
  {
   "cell_type": "code",
   "execution_count": 11,
   "id": "6674b669",
   "metadata": {
    "execution": {
     "iopub.execute_input": "2022-06-20T18:12:02.540315Z",
     "iopub.status.busy": "2022-06-20T18:12:02.540071Z",
     "iopub.status.idle": "2022-06-20T18:12:06.668514Z",
     "shell.execute_reply": "2022-06-20T18:12:06.667776Z"
    },
    "papermill": {
     "duration": 4.1542,
     "end_time": "2022-06-20T18:12:06.670633",
     "exception": false,
     "start_time": "2022-06-20T18:12:02.516433",
     "status": "completed"
    },
    "tags": []
   },
   "outputs": [
    {
     "name": "stderr",
     "output_type": "stream",
     "text": [
      "2022-06-20 18:12:02.646733: I tensorflow/stream_executor/cuda/cuda_gpu_executor.cc:937] successful NUMA node read from SysFS had negative value (-1), but there must be at least one NUMA node, so returning NUMA node zero\n",
      "2022-06-20 18:12:02.760771: I tensorflow/stream_executor/cuda/cuda_gpu_executor.cc:937] successful NUMA node read from SysFS had negative value (-1), but there must be at least one NUMA node, so returning NUMA node zero\n",
      "2022-06-20 18:12:02.761536: I tensorflow/stream_executor/cuda/cuda_gpu_executor.cc:937] successful NUMA node read from SysFS had negative value (-1), but there must be at least one NUMA node, so returning NUMA node zero\n",
      "2022-06-20 18:12:02.762880: I tensorflow/core/platform/cpu_feature_guard.cc:142] This TensorFlow binary is optimized with oneAPI Deep Neural Network Library (oneDNN) to use the following CPU instructions in performance-critical operations:  AVX2 AVX512F FMA\n",
      "To enable them in other operations, rebuild TensorFlow with the appropriate compiler flags.\n",
      "2022-06-20 18:12:02.763179: I tensorflow/stream_executor/cuda/cuda_gpu_executor.cc:937] successful NUMA node read from SysFS had negative value (-1), but there must be at least one NUMA node, so returning NUMA node zero\n",
      "2022-06-20 18:12:02.763909: I tensorflow/stream_executor/cuda/cuda_gpu_executor.cc:937] successful NUMA node read from SysFS had negative value (-1), but there must be at least one NUMA node, so returning NUMA node zero\n",
      "2022-06-20 18:12:02.764547: I tensorflow/stream_executor/cuda/cuda_gpu_executor.cc:937] successful NUMA node read from SysFS had negative value (-1), but there must be at least one NUMA node, so returning NUMA node zero\n",
      "2022-06-20 18:12:04.758962: I tensorflow/stream_executor/cuda/cuda_gpu_executor.cc:937] successful NUMA node read from SysFS had negative value (-1), but there must be at least one NUMA node, so returning NUMA node zero\n",
      "2022-06-20 18:12:04.759837: I tensorflow/stream_executor/cuda/cuda_gpu_executor.cc:937] successful NUMA node read from SysFS had negative value (-1), but there must be at least one NUMA node, so returning NUMA node zero\n",
      "2022-06-20 18:12:04.760511: I tensorflow/stream_executor/cuda/cuda_gpu_executor.cc:937] successful NUMA node read from SysFS had negative value (-1), but there must be at least one NUMA node, so returning NUMA node zero\n",
      "2022-06-20 18:12:04.761730: I tensorflow/core/common_runtime/gpu/gpu_device.cc:1510] Created device /job:localhost/replica:0/task:0/device:GPU:0 with 15403 MB memory:  -> device: 0, name: Tesla P100-PCIE-16GB, pci bus id: 0000:00:04.0, compute capability: 6.0\n"
     ]
    },
    {
     "name": "stdout",
     "output_type": "stream",
     "text": [
      "Downloading data from https://storage.googleapis.com/tensorflow/keras-applications/mobilenet_v3/weights_mobilenet_v3_large_224_1.0_float_no_top.h5\n",
      "17612800/17605208 [==============================] - 0s 0us/step\n",
      "17620992/17605208 [==============================] - 0s 0us/step\n"
     ]
    }
   ],
   "source": [
    "# Load a pre-trained neural network to use for transfer learning\n",
    "base_net = keras.applications.MobileNetV3Large(\n",
    "    input_shape=(300,300,3),\n",
    "    weights='imagenet',\n",
    "    include_top=False,\n",
    "    dropout_rate=0.5,\n",
    "    pooling='avg'\n",
    ")\n",
    "\n",
    "# Set the layers of the base net to not be trained\n",
    "for layer in base_net.layers:\n",
    "  layer.trainable=True"
   ]
  },
  {
   "cell_type": "code",
   "execution_count": 12,
   "id": "809e6966",
   "metadata": {
    "execution": {
     "iopub.execute_input": "2022-06-20T18:12:06.720992Z",
     "iopub.status.busy": "2022-06-20T18:12:06.720769Z",
     "iopub.status.idle": "2022-06-20T18:12:06.789646Z",
     "shell.execute_reply": "2022-06-20T18:12:06.788974Z"
    },
    "papermill": {
     "duration": 0.096115,
     "end_time": "2022-06-20T18:12:06.791334",
     "exception": false,
     "start_time": "2022-06-20T18:12:06.695219",
     "status": "completed"
    },
    "tags": []
   },
   "outputs": [],
   "source": [
    "x = Flatten()(base_net.layers[-1].output)\n",
    "x = keras.layers.Dense(1024, activation='relu', kernel_regularizer=l2(0.1), bias_regularizer=l2(0.1))(x)\n",
    "x = keras.layers.Dropout(0.5)(x)\n",
    "x = keras.layers.Dense(512, activation='relu', kernel_regularizer=l2(0.1), bias_regularizer=l2(0.1))(x)\n",
    "x = keras.layers.Dropout(0.4)(x)\n",
    "x = keras.layers.Dense(128, activation='relu', kernel_regularizer=l2(0.1), bias_regularizer=l2(0.1))(x)\n",
    "x = keras.layers.Dropout(0.3)(x)\n",
    "x = keras.layers.Dense(4, activation='softmax')(x)\n",
    "outputs = x\n",
    "\n",
    "OPT = tf.keras.optimizers.Adam()\n",
    "\n",
    "cnn = keras.Model(inputs=base_net.inputs, outputs=outputs)\n",
    "cnn.compile(loss='sparse_categorical_crossentropy', optimizer=OPT, metrics=['accuracy'])\n",
    "\n",
    "#cnn.summary()"
   ]
  },
  {
   "cell_type": "code",
   "execution_count": 13,
   "id": "4b845ef1",
   "metadata": {
    "execution": {
     "iopub.execute_input": "2022-06-20T18:12:06.841167Z",
     "iopub.status.busy": "2022-06-20T18:12:06.840613Z",
     "iopub.status.idle": "2022-06-20T18:14:17.569272Z",
     "shell.execute_reply": "2022-06-20T18:14:17.568517Z"
    },
    "papermill": {
     "duration": 130.755978,
     "end_time": "2022-06-20T18:14:17.571402",
     "exception": false,
     "start_time": "2022-06-20T18:12:06.815424",
     "status": "completed"
    },
    "tags": []
   },
   "outputs": [
    {
     "name": "stderr",
     "output_type": "stream",
     "text": [
      "2022-06-20 18:12:06.913878: W tensorflow/core/framework/cpu_allocator_impl.cc:80] Allocation of 1055970000 exceeds 10% of free system memory.\n",
      "2022-06-20 18:12:08.120856: W tensorflow/core/framework/cpu_allocator_impl.cc:80] Allocation of 1055970000 exceeds 10% of free system memory.\n",
      "2022-06-20 18:12:08.919306: I tensorflow/compiler/mlir/mlir_graph_optimization_pass.cc:185] None of the MLIR Optimization Passes are enabled (registered 2)\n"
     ]
    },
    {
     "name": "stdout",
     "output_type": "stream",
     "text": [
      "Epoch 1/5\n"
     ]
    },
    {
     "name": "stderr",
     "output_type": "stream",
     "text": [
      "2022-06-20 18:12:14.811991: I tensorflow/stream_executor/cuda/cuda_dnn.cc:369] Loaded cuDNN version 8005\n"
     ]
    },
    {
     "name": "stdout",
     "output_type": "stream",
     "text": [
      "123/123 [==============================] - 44s 259ms/step - loss: 121.0968 - accuracy: 0.4978\n",
      "Epoch 2/5\n",
      "123/123 [==============================] - 32s 256ms/step - loss: 6.3880 - accuracy: 0.5947\n",
      "Epoch 3/5\n",
      "123/123 [==============================] - 32s 256ms/step - loss: 2.3840 - accuracy: 0.4551\n",
      "Epoch 4/5\n",
      "123/123 [==============================] - 21s 173ms/step - loss: 12.5307 - accuracy: 0.3475\n"
     ]
    }
   ],
   "source": [
    "# model is a Keras model\n",
    "lr_finder = LRFinder(cnn)\n",
    "\n",
    "# Train a model with learning rate growing exponentially from 0.0001 to 1\n",
    "lr_finder.find(x_train, y_train, start_lr=0.0001, end_lr=1, batch_size=32, epochs=5)"
   ]
  },
  {
   "cell_type": "code",
   "execution_count": 14,
   "id": "83ea3283",
   "metadata": {
    "execution": {
     "iopub.execute_input": "2022-06-20T18:14:17.904392Z",
     "iopub.status.busy": "2022-06-20T18:14:17.903809Z",
     "iopub.status.idle": "2022-06-20T18:14:36.615211Z",
     "shell.execute_reply": "2022-06-20T18:14:36.614511Z"
    },
    "papermill": {
     "duration": 18.880075,
     "end_time": "2022-06-20T18:14:36.617025",
     "exception": false,
     "start_time": "2022-06-20T18:14:17.736950",
     "status": "completed"
    },
    "tags": []
   },
   "outputs": [
    {
     "data": {
      "image/png": "[encoded data removed]",
      "text/plain": [
       "<Figure size 432x288 with 1 Axes>"
      ]
     },
     "metadata": {
      "needs_background": "light"
     },
     "output_type": "display_data"
    }
   ],
   "source": [
    "# Plot the loss, ignore 20 batches in the beginning and 5 in the end\n",
    "lr_finder.plot_loss(n_skip_beginning=20, n_skip_end=5)\n",
    "plt.show()"
   ]
  },
  {
   "cell_type": "code",
   "execution_count": 15,
   "id": "0d04b684",
   "metadata": {
    "execution": {
     "iopub.execute_input": "2022-06-20T18:14:36.951281Z",
     "iopub.status.busy": "2022-06-20T18:14:36.951033Z",
     "iopub.status.idle": "2022-06-20T18:14:36.957350Z",
     "shell.execute_reply": "2022-06-20T18:14:36.956621Z"
    },
    "papermill": {
     "duration": 0.174987,
     "end_time": "2022-06-20T18:14:36.959132",
     "exception": false,
     "start_time": "2022-06-20T18:14:36.784145",
     "status": "completed"
    },
    "tags": []
   },
   "outputs": [
    {
     "name": "stdout",
     "output_type": "stream",
     "text": [
      "0.0006384304\n"
     ]
    }
   ],
   "source": [
    "optimal_lr = lr_finder.get_best_lr(sma=1)\n",
    "print(optimal_lr)\n",
    "OPT = tf.keras.optimizers.Adam(learning_rate=optimal_lr)"
   ]
  },
  {
   "cell_type": "code",
   "execution_count": 16,
   "id": "10769272",
   "metadata": {
    "execution": {
     "iopub.execute_input": "2022-06-20T18:14:37.296055Z",
     "iopub.status.busy": "2022-06-20T18:14:37.295391Z",
     "iopub.status.idle": "2022-06-20T18:14:37.299925Z",
     "shell.execute_reply": "2022-06-20T18:14:37.299196Z"
    },
    "papermill": {
     "duration": 0.175898,
     "end_time": "2022-06-20T18:14:37.301606",
     "exception": false,
     "start_time": "2022-06-20T18:14:37.125708",
     "status": "completed"
    },
    "tags": []
   },
   "outputs": [],
   "source": [
    "filepath_cnn=\"weights.cnn.hdf5\"\n",
    "checkpoint = ModelCheckpoint(filepath_cnn, monitor='val_accuracy', verbose=1, save_best_only=True, mode='max')"
   ]
  },
  {
   "cell_type": "code",
   "execution_count": 17,
   "id": "033fb067",
   "metadata": {
    "execution": {
     "iopub.execute_input": "2022-06-20T18:14:37.635130Z",
     "iopub.status.busy": "2022-06-20T18:14:37.634596Z",
     "iopub.status.idle": "2022-06-20T18:42:06.486902Z",
     "shell.execute_reply": "2022-06-20T18:42:06.486123Z"
    },
    "papermill": {
     "duration": 1649.02215,
     "end_time": "2022-06-20T18:42:06.489263",
     "exception": false,
     "start_time": "2022-06-20T18:14:37.467113",
     "status": "completed"
    },
    "tags": []
   },
   "outputs": [
    {
     "name": "stderr",
     "output_type": "stream",
     "text": [
      "2022-06-20 18:14:37.660569: W tensorflow/core/framework/cpu_allocator_impl.cc:80] Allocation of 1055970000 exceeds 10% of free system memory.\n",
      "2022-06-20 18:14:38.726564: W tensorflow/core/framework/cpu_allocator_impl.cc:80] Allocation of 1055970000 exceeds 10% of free system memory.\n"
     ]
    },
    {
     "name": "stdout",
     "output_type": "stream",
     "text": [
      "Epoch 1/50\n",
      "123/123 [==============================] - 38s 269ms/step - loss: 47.2802 - accuracy: 0.5433 - val_loss: 3.4124 - val_accuracy: 0.4219\n",
      "\n",
      "Epoch 00001: val_accuracy improved from -inf to 0.42188, saving model to weights.cnn.hdf5\n",
      "Epoch 2/50\n",
      "123/123 [==============================] - 32s 263ms/step - loss: 1.5033 - accuracy: 0.6546 - val_loss: 1.3801 - val_accuracy: 0.4519\n",
      "\n",
      "Epoch 00002: val_accuracy improved from 0.42188 to 0.45192, saving model to weights.cnn.hdf5\n",
      "Epoch 3/50\n",
      "123/123 [==============================] - 32s 264ms/step - loss: 0.8937 - accuracy: 0.7157 - val_loss: 1.8300 - val_accuracy: 0.4663\n",
      "\n",
      "Epoch 00003: val_accuracy improved from 0.45192 to 0.46635, saving model to weights.cnn.hdf5\n",
      "Epoch 4/50\n",
      "123/123 [==============================] - 32s 261ms/step - loss: 0.7618 - accuracy: 0.7832 - val_loss: 1.4241 - val_accuracy: 0.4531\n",
      "\n",
      "Epoch 00004: val_accuracy did not improve from 0.46635\n",
      "Epoch 5/50\n",
      "123/123 [==============================] - 32s 262ms/step - loss: 0.7439 - accuracy: 0.7914 - val_loss: 1.3626 - val_accuracy: 0.5553\n",
      "\n",
      "Epoch 00005: val_accuracy improved from 0.46635 to 0.55529, saving model to weights.cnn.hdf5\n",
      "Epoch 6/50\n",
      "123/123 [==============================] - 32s 261ms/step - loss: 0.5778 - accuracy: 0.8566 - val_loss: 3.7252 - val_accuracy: 0.4663\n",
      "\n",
      "Epoch 00006: val_accuracy did not improve from 0.55529\n",
      "Epoch 7/50\n",
      "123/123 [==============================] - 32s 261ms/step - loss: 0.5395 - accuracy: 0.8745 - val_loss: 3.9758 - val_accuracy: 0.4303\n",
      "\n",
      "Epoch 00007: val_accuracy did not improve from 0.55529\n",
      "Epoch 8/50\n",
      "123/123 [==============================] - 32s 262ms/step - loss: 0.5100 - accuracy: 0.8952 - val_loss: 10.6548 - val_accuracy: 0.4062\n",
      "\n",
      "Epoch 00008: val_accuracy did not improve from 0.55529\n",
      "Epoch 9/50\n",
      "123/123 [==============================] - 32s 263ms/step - loss: 0.4400 - accuracy: 0.9118 - val_loss: 16.1945 - val_accuracy: 0.2752\n",
      "\n",
      "Epoch 00009: val_accuracy did not improve from 0.55529\n",
      "Epoch 10/50\n",
      "123/123 [==============================] - 32s 261ms/step - loss: 0.3931 - accuracy: 0.9264 - val_loss: 3.9954 - val_accuracy: 0.4363\n",
      "\n",
      "Epoch 00010: val_accuracy did not improve from 0.55529\n",
      "Epoch 11/50\n",
      "123/123 [==============================] - 32s 260ms/step - loss: 0.3358 - accuracy: 0.9507 - val_loss: 3.1038 - val_accuracy: 0.4543\n",
      "\n",
      "Epoch 00011: val_accuracy did not improve from 0.55529\n",
      "Epoch 12/50\n",
      "123/123 [==============================] - 32s 262ms/step - loss: 0.3497 - accuracy: 0.9489 - val_loss: 2.1027 - val_accuracy: 0.4243\n",
      "\n",
      "Epoch 00012: val_accuracy did not improve from 0.55529\n",
      "Epoch 13/50\n",
      "123/123 [==============================] - 32s 264ms/step - loss: 0.4836 - accuracy: 0.9146 - val_loss: 2.1036 - val_accuracy: 0.4784\n",
      "\n",
      "Epoch 00013: val_accuracy did not improve from 0.55529\n",
      "Epoch 14/50\n",
      "123/123 [==============================] - 32s 264ms/step - loss: 0.3338 - accuracy: 0.9599 - val_loss: 2.2811 - val_accuracy: 0.4507\n",
      "\n",
      "Epoch 00014: val_accuracy did not improve from 0.55529\n",
      "Epoch 15/50\n",
      "123/123 [==============================] - 32s 260ms/step - loss: 0.3126 - accuracy: 0.9547 - val_loss: 15.7479 - val_accuracy: 0.4688\n",
      "\n",
      "Epoch 00015: val_accuracy did not improve from 0.55529\n",
      "Epoch 16/50\n",
      "123/123 [==============================] - 32s 261ms/step - loss: 0.4414 - accuracy: 0.9450 - val_loss: 2.0391 - val_accuracy: 0.3762\n",
      "\n",
      "Epoch 00016: val_accuracy did not improve from 0.55529\n",
      "Epoch 17/50\n",
      "123/123 [==============================] - 32s 263ms/step - loss: 0.3999 - accuracy: 0.9532 - val_loss: 2.7204 - val_accuracy: 0.5637\n",
      "\n",
      "Epoch 00017: val_accuracy improved from 0.55529 to 0.56370, saving model to weights.cnn.hdf5\n",
      "Epoch 18/50\n",
      "123/123 [==============================] - 32s 264ms/step - loss: 0.2212 - accuracy: 0.9798 - val_loss: 2.1225 - val_accuracy: 0.6238\n",
      "\n",
      "Epoch 00018: val_accuracy improved from 0.56370 to 0.62380, saving model to weights.cnn.hdf5\n",
      "Epoch 19/50\n",
      "123/123 [==============================] - 32s 263ms/step - loss: 0.2083 - accuracy: 0.9803 - val_loss: 2.2053 - val_accuracy: 0.5697\n",
      "\n",
      "Epoch 00019: val_accuracy did not improve from 0.62380\n",
      "Epoch 20/50\n",
      "123/123 [==============================] - 32s 260ms/step - loss: 0.2962 - accuracy: 0.9693 - val_loss: 1.6216 - val_accuracy: 0.5901\n",
      "\n",
      "Epoch 00020: val_accuracy did not improve from 0.62380\n",
      "Epoch 21/50\n",
      "123/123 [==============================] - 33s 265ms/step - loss: 0.4338 - accuracy: 0.9455 - val_loss: 3.0686 - val_accuracy: 0.5601\n",
      "\n",
      "Epoch 00021: val_accuracy did not improve from 0.62380\n",
      "Epoch 22/50\n",
      "123/123 [==============================] - 32s 263ms/step - loss: 0.2887 - accuracy: 0.9686 - val_loss: 2.9067 - val_accuracy: 0.6058\n",
      "\n",
      "Epoch 00022: val_accuracy did not improve from 0.62380\n",
      "Epoch 23/50\n",
      "123/123 [==============================] - 32s 260ms/step - loss: 0.3531 - accuracy: 0.9655 - val_loss: 2.1741 - val_accuracy: 0.5361\n",
      "\n",
      "Epoch 00023: val_accuracy did not improve from 0.62380\n",
      "Epoch 24/50\n",
      "123/123 [==============================] - 32s 263ms/step - loss: 0.2010 - accuracy: 0.9785 - val_loss: 1.7935 - val_accuracy: 0.6058\n",
      "\n",
      "Epoch 00024: val_accuracy did not improve from 0.62380\n",
      "Epoch 25/50\n",
      "123/123 [==============================] - 32s 263ms/step - loss: 0.2241 - accuracy: 0.9844 - val_loss: 2.3106 - val_accuracy: 0.5625\n",
      "\n",
      "Epoch 00025: val_accuracy did not improve from 0.62380\n",
      "Epoch 26/50\n",
      "123/123 [==============================] - 32s 260ms/step - loss: 0.2412 - accuracy: 0.9816 - val_loss: 3.8915 - val_accuracy: 0.5901\n",
      "\n",
      "Epoch 00026: val_accuracy did not improve from 0.62380\n",
      "Epoch 27/50\n",
      "123/123 [==============================] - 32s 263ms/step - loss: 0.2428 - accuracy: 0.9795 - val_loss: 1.9793 - val_accuracy: 0.5974\n",
      "\n",
      "Epoch 00027: val_accuracy did not improve from 0.62380\n",
      "Epoch 28/50\n",
      "123/123 [==============================] - 32s 260ms/step - loss: 0.2813 - accuracy: 0.9808 - val_loss: 2.5433 - val_accuracy: 0.6250\n",
      "\n",
      "Epoch 00028: val_accuracy improved from 0.62380 to 0.62500, saving model to weights.cnn.hdf5\n",
      "Epoch 29/50\n",
      "123/123 [==============================] - 32s 259ms/step - loss: 0.1282 - accuracy: 0.9931 - val_loss: 1.8116 - val_accuracy: 0.6238\n",
      "\n",
      "Epoch 00029: val_accuracy did not improve from 0.62500\n",
      "Epoch 30/50\n",
      "123/123 [==============================] - 32s 263ms/step - loss: 0.1628 - accuracy: 0.9854 - val_loss: 2.5464 - val_accuracy: 0.5853\n",
      "\n",
      "Epoch 00030: val_accuracy did not improve from 0.62500\n",
      "Epoch 31/50\n",
      "123/123 [==============================] - 32s 263ms/step - loss: 0.1290 - accuracy: 0.9911 - val_loss: 2.2455 - val_accuracy: 0.5974\n",
      "\n",
      "Epoch 00031: val_accuracy did not improve from 0.62500\n",
      "Epoch 32/50\n",
      "123/123 [==============================] - 32s 260ms/step - loss: 0.3360 - accuracy: 0.9732 - val_loss: 2.6402 - val_accuracy: 0.5337\n",
      "\n",
      "Epoch 00032: val_accuracy did not improve from 0.62500\n",
      "Epoch 33/50\n",
      "123/123 [==============================] - 32s 263ms/step - loss: 0.4193 - accuracy: 0.9683 - val_loss: 2.3502 - val_accuracy: 0.5312\n",
      "\n",
      "Epoch 00033: val_accuracy did not improve from 0.62500\n",
      "Epoch 34/50\n",
      "123/123 [==============================] - 32s 263ms/step - loss: 0.2469 - accuracy: 0.9829 - val_loss: 2.5926 - val_accuracy: 0.6346\n",
      "\n",
      "Epoch 00034: val_accuracy improved from 0.62500 to 0.63462, saving model to weights.cnn.hdf5\n",
      "Epoch 35/50\n",
      "123/123 [==============================] - 32s 261ms/step - loss: 0.1766 - accuracy: 0.9885 - val_loss: 1.8969 - val_accuracy: 0.5962\n",
      "\n",
      "Epoch 00035: val_accuracy did not improve from 0.63462\n",
      "Epoch 36/50\n",
      "123/123 [==============================] - 32s 263ms/step - loss: 0.3408 - accuracy: 0.9634 - val_loss: 2.7052 - val_accuracy: 0.5649\n",
      "\n",
      "Epoch 00036: val_accuracy did not improve from 0.63462\n",
      "Epoch 37/50\n",
      "123/123 [==============================] - 32s 263ms/step - loss: 0.3030 - accuracy: 0.9770 - val_loss: 2.3737 - val_accuracy: 0.5421\n",
      "\n",
      "Epoch 00037: val_accuracy did not improve from 0.63462\n",
      "Epoch 38/50\n",
      "123/123 [==============================] - 32s 260ms/step - loss: 0.4214 - accuracy: 0.9599 - val_loss: 1.6949 - val_accuracy: 0.6154\n",
      "\n",
      "Epoch 00038: val_accuracy did not improve from 0.63462\n",
      "Epoch 39/50\n",
      "123/123 [==============================] - 32s 263ms/step - loss: 0.1903 - accuracy: 0.9905 - val_loss: 1.5116 - val_accuracy: 0.6767\n",
      "\n",
      "Epoch 00039: val_accuracy improved from 0.63462 to 0.67668, saving model to weights.cnn.hdf5\n",
      "Epoch 40/50\n",
      "123/123 [==============================] - 32s 261ms/step - loss: 0.1647 - accuracy: 0.9893 - val_loss: 2.0309 - val_accuracy: 0.5925\n",
      "\n",
      "Epoch 00040: val_accuracy did not improve from 0.67668\n",
      "Epoch 41/50\n",
      "123/123 [==============================] - 32s 264ms/step - loss: 0.2186 - accuracy: 0.9826 - val_loss: 2.0684 - val_accuracy: 0.6226\n",
      "\n",
      "Epoch 00041: val_accuracy did not improve from 0.67668\n",
      "Epoch 42/50\n",
      "123/123 [==============================] - 32s 263ms/step - loss: 0.2374 - accuracy: 0.9859 - val_loss: 3.0201 - val_accuracy: 0.6010\n",
      "\n",
      "Epoch 00042: val_accuracy did not improve from 0.67668\n",
      "Epoch 43/50\n",
      "123/123 [==============================] - 32s 264ms/step - loss: 0.2709 - accuracy: 0.9803 - val_loss: 2.8423 - val_accuracy: 0.5625\n",
      "\n",
      "Epoch 00043: val_accuracy did not improve from 0.67668\n",
      "Epoch 44/50\n",
      "123/123 [==============================] - 32s 262ms/step - loss: 0.2221 - accuracy: 0.9831 - val_loss: 2.5111 - val_accuracy: 0.6226\n",
      "\n",
      "Epoch 00044: val_accuracy did not improve from 0.67668\n",
      "Epoch 45/50\n",
      "123/123 [==============================] - 32s 263ms/step - loss: 0.1821 - accuracy: 0.9893 - val_loss: 1.6503 - val_accuracy: 0.6406\n",
      "\n",
      "Epoch 00045: val_accuracy did not improve from 0.67668\n",
      "Epoch 46/50\n",
      "123/123 [==============================] - 32s 263ms/step - loss: 0.2611 - accuracy: 0.9790 - val_loss: 1.8878 - val_accuracy: 0.6587\n",
      "\n",
      "Epoch 00046: val_accuracy did not improve from 0.67668\n",
      "Epoch 47/50\n",
      "123/123 [==============================] - 32s 263ms/step - loss: 0.4594 - accuracy: 0.9662 - val_loss: 1.4311 - val_accuracy: 0.5793\n",
      "\n",
      "Epoch 00047: val_accuracy did not improve from 0.67668\n",
      "Epoch 48/50\n",
      "123/123 [==============================] - 32s 263ms/step - loss: 0.1531 - accuracy: 0.9921 - val_loss: 2.0016 - val_accuracy: 0.5697\n",
      "\n",
      "Epoch 00048: val_accuracy did not improve from 0.67668\n",
      "Epoch 49/50\n",
      "123/123 [==============================] - 32s 260ms/step - loss: 0.1724 - accuracy: 0.9887 - val_loss: 1.6256 - val_accuracy: 0.5901\n",
      "\n",
      "Epoch 00049: val_accuracy did not improve from 0.67668\n",
      "Epoch 50/50\n",
      "123/123 [==============================] - 32s 260ms/step - loss: 0.0896 - accuracy: 0.9962 - val_loss: 1.6833 - val_accuracy: 0.6322\n",
      "\n",
      "Epoch 00050: val_accuracy did not improve from 0.67668\n"
     ]
    }
   ],
   "source": [
    "cnn.compile(loss='sparse_categorical_crossentropy', optimizer=OPT, metrics=['accuracy'])\n",
    "hist_cnn = cnn.fit(x_train, y_train, batch_size=32, epochs=50,  validation_data=(x_validation, y_validation), callbacks=[checkpoint])"
   ]
  },
  {
   "cell_type": "code",
   "execution_count": 18,
   "id": "6ec351da",
   "metadata": {
    "execution": {
     "iopub.execute_input": "2022-06-20T18:42:10.711170Z",
     "iopub.status.busy": "2022-06-20T18:42:10.710540Z",
     "iopub.status.idle": "2022-06-20T18:42:11.066506Z",
     "shell.execute_reply": "2022-06-20T18:42:11.065851Z"
    },
    "papermill": {
     "duration": 2.518446,
     "end_time": "2022-06-20T18:42:11.068252",
     "exception": false,
     "start_time": "2022-06-20T18:42:08.549806",
     "status": "completed"
    },
    "tags": []
   },
   "outputs": [
    {
     "data": {
      "image/png": "[encoded data removed]",
      "text/plain": [
       "<Figure size 432x288 with 1 Axes>"
      ]
     },
     "metadata": {
      "needs_background": "light"
     },
     "output_type": "display_data"
    },
    {
     "data": {
      "image/png": "[encoded data removed]",
      "text/plain": [
       "<Figure size 432x288 with 1 Axes>"
      ]
     },
     "metadata": {
      "needs_background": "light"
     },
     "output_type": "display_data"
    }
   ],
   "source": [
    "def plot_hist(hist, title):\n",
    "    plt.plot(hist.history[\"accuracy\"])\n",
    "    plt.plot(hist.history[\"val_accuracy\"])\n",
    "    plt.title(\"Accuracy \" + title)\n",
    "    plt.ylabel(\"accuracy\")\n",
    "    plt.xlabel(\"epoch\")\n",
    "    plt.legend([\"train\", \"validation\"], loc=\"upper left\")\n",
    "    plt.show()\n",
    "    \n",
    "    # summarize history for loss\n",
    "    plt.plot(hist.history['loss'])\n",
    "    plt.plot(hist.history['val_loss'])\n",
    "    plt.title(\"LOSS \" + title)\n",
    "    plt.ylabel('loss')\n",
    "    plt.xlabel('epoch')\n",
    "    plt.legend(['train', 'validation'], loc='upper left')\n",
    "    plt.show()\n",
    "\n",
    "\n",
    "plot_hist(hist_cnn, title=\"Efficient-Net B3\")"
   ]
  },
  {
   "cell_type": "code",
   "execution_count": 19,
   "id": "db1d5431",
   "metadata": {
    "execution": {
     "iopub.execute_input": "2022-06-20T18:42:15.471158Z",
     "iopub.status.busy": "2022-06-20T18:42:15.470862Z",
     "iopub.status.idle": "2022-06-20T18:42:15.479972Z",
     "shell.execute_reply": "2022-06-20T18:42:15.478777Z"
    },
    "papermill": {
     "duration": 2.090576,
     "end_time": "2022-06-20T18:42:15.481690",
     "exception": false,
     "start_time": "2022-06-20T18:42:13.391114",
     "status": "completed"
    },
    "tags": []
   },
   "outputs": [],
   "source": [
    "def plot_confusion_matrix(cm, classes,\n",
    "                          normalize=False,\n",
    "                          title='Confusion matrix',\n",
    "                          cmap=plt.cm.Blues):\n",
    "    \"\"\"\n",
    "    This function prints and plots the confusion matrix.\n",
    "    Normalization can be applied by setting `normalize=True`.\n",
    "    \"\"\"\n",
    "    plt.figure(figsize = (5,5))\n",
    "    plt.imshow(cm, interpolation='nearest', cmap=cmap)\n",
    "    plt.title(title)\n",
    "    plt.colorbar()\n",
    "    tick_marks = np.arange(len(classes))\n",
    "    plt.xticks(tick_marks, classes, rotation=90)\n",
    "    plt.yticks(tick_marks, classes)\n",
    "    if normalize:\n",
    "        cm = cm.astype('float') / cm.sum(axis=1)[:, np.newaxis]\n",
    "\n",
    "    thresh = cm.max() / 2.\n",
    "    for i, j in itertools.product(range(cm.shape[0]), range(cm.shape[1])):\n",
    "        plt.text(j, i, cm[i, j],\n",
    "                 horizontalalignment=\"center\",\n",
    "                 color=\"white\" if cm[i, j] > thresh else \"black\")\n",
    "    plt.tight_layout()\n",
    "    plt.ylabel('True label')\n",
    "    plt.xlabel('Predicted label')"
   ]
  },
  {
   "cell_type": "code",
   "execution_count": 20,
   "id": "c9d4b21f",
   "metadata": {
    "execution": {
     "iopub.execute_input": "2022-06-20T18:42:19.862077Z",
     "iopub.status.busy": "2022-06-20T18:42:19.861461Z",
     "iopub.status.idle": "2022-06-20T18:42:25.419384Z",
     "shell.execute_reply": "2022-06-20T18:42:25.418705Z"
    },
    "papermill": {
     "duration": 7.859267,
     "end_time": "2022-06-20T18:42:25.421223",
     "exception": false,
     "start_time": "2022-06-20T18:42:17.561956",
     "status": "completed"
    },
    "tags": []
   },
   "outputs": [
    {
     "name": "stdout",
     "output_type": "stream",
     "text": [
      "Convolutional Neural Network - accuracy: 0.6188769340515137 \n",
      "\n"
     ]
    },
    {
     "data": {
      "image/png": "[encoded data removed]",
      "text/plain": [
       "<Figure size 360x360 with 2 Axes>"
      ]
     },
     "metadata": {
      "needs_background": "light"
     },
     "output_type": "display_data"
    }
   ],
   "source": [
    "score = cnn.evaluate(x_test, y_test, verbose=0)\n",
    "print('Convolutional Neural Network - accuracy:', score[1],\"\\n\")\n",
    "Y_pred = cnn.predict(x_test)\n",
    "Y_pred_classes = np.argmax(Y_pred,axis = 1) \n",
    "confusion_mtx = confusion_matrix(y_test, Y_pred_classes)\n",
    "plot_confusion_matrix(confusion_mtx, classes = ['A-V-','A-V+','A+V-','A+V+']) \n",
    "plt.show()"
   ]
  }
 ],
 "metadata": {
  "kernelspec": {
   "display_name": "Python 3",
   "language": "python",
   "name": "python3"
  },
  "language_info": {
   "codemirror_mode": {
    "name": "ipython",
    "version": 3
   },
   "file_extension": ".py",
   "mimetype": "text/x-python",
   "name": "python",
   "nbconvert_exporter": "python",
   "pygments_lexer": "ipython3",
   "version": "3.7.12"
  },
  "papermill": {
   "default_parameters": {},
   "duration": 1909.739068,
   "end_time": "2022-06-20T18:42:30.571704",
   "environment_variables": {},
   "exception": null,
   "input_path": "__notebook__.ipynb",
   "output_path": "__notebook__.ipynb",
   "parameters": {},
   "start_time": "2022-06-20T18:10:40.832636",
   "version": "2.3.4"
  }
 },
 "nbformat": 4,
 "nbformat_minor": 5
}
