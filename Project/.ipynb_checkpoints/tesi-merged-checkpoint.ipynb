{
 "cells": [
  {
   "cell_type": "code",
   "execution_count": 1,
   "id": "0d98be31",
   "metadata": {
    "_cell_guid": "b1076dfc-b9ad-4769-8c92-a6c4dae69d19",
    "_uuid": "8f2839f25d086af736a60e9eeb907d3b93b6e0e5",
    "execution": {
     "iopub.execute_input": "2022-05-08T14:06:06.221353Z",
     "iopub.status.busy": "2022-05-08T14:06:06.220959Z",
     "iopub.status.idle": "2022-05-08T14:06:12.832787Z",
     "shell.execute_reply": "2022-05-08T14:06:12.831923Z"
    },
    "papermill": {
     "duration": 6.643977,
     "end_time": "2022-05-08T14:06:12.835345",
     "exception": false,
     "start_time": "2022-05-08T14:06:06.191368",
     "status": "completed"
    },
    "tags": []
   },
   "outputs": [],
   "source": [
    "import zipfile\n",
    "import os\n",
    "import pandas as pd\n",
    "import tensorflow as tf\n",
    "from tensorflow import keras\n",
    "from keras import optimizers\n",
    "from keras import layers\n",
    "from keras.regularizers import l2\n",
    "from tensorflow.keras.preprocessing import image\n",
    "from tensorflow.keras.models import Model\n",
    "from keras.models import Sequential\n",
    "from keras.layers import Dense, GlobalAveragePooling2D, Dropout, Flatten, concatenate\n",
    "from tensorflow.keras import regularizers\n",
    "from keras.callbacks import EarlyStopping\n",
    "from keras.callbacks import ModelCheckpoint\n",
    "from keras.utils.vis_utils import plot_model\n",
    "import pylab as pl\n",
    "import numpy as np\n",
    "import matplotlib.image as mpimg\n",
    "import matplotlib.pyplot as plt\n",
    "import seaborn as sns\n",
    "from sklearn.model_selection import train_test_split\n",
    "from keras.utils import np_utils\n",
    "from sklearn.metrics import confusion_matrix\n",
    "from sklearn import preprocessing\n",
    "import itertools\n",
    "import math\n",
    "\n",
    "\n",
    "# audio lib\n",
    "import librosa\n",
    "import librosa.display\n",
    "from librosa.util import fix_length\n",
    "\n",
    "import IPython.display as ipd\n",
    "from PIL import Image\n"
   ]
  },
  {
   "cell_type": "code",
   "execution_count": 2,
   "id": "03dee557",
   "metadata": {
    "execution": {
     "iopub.execute_input": "2022-05-08T14:06:12.871449Z",
     "iopub.status.busy": "2022-05-08T14:06:12.871232Z",
     "iopub.status.idle": "2022-05-08T14:06:12.874743Z",
     "shell.execute_reply": "2022-05-08T14:06:12.874026Z"
    },
    "papermill": {
     "duration": 0.023287,
     "end_time": "2022-05-08T14:06:12.876355",
     "exception": false,
     "start_time": "2022-05-08T14:06:12.853068",
     "status": "completed"
    },
    "tags": []
   },
   "outputs": [],
   "source": [
    "import warnings\n",
    "warnings.filterwarnings(\"ignore\")"
   ]
  },
  {
   "cell_type": "markdown",
   "id": "ccaa0a08",
   "metadata": {
    "papermill": {
     "duration": 0.017414,
     "end_time": "2022-05-08T14:06:12.911756",
     "exception": false,
     "start_time": "2022-05-08T14:06:12.894342",
     "status": "completed"
    },
    "tags": []
   },
   "source": [
    "# CNN MEL SPECTROGRAM APPROACH"
   ]
  },
  {
   "cell_type": "code",
   "execution_count": 3,
   "id": "4fa21f49",
   "metadata": {
    "execution": {
     "iopub.execute_input": "2022-05-08T14:06:12.948587Z",
     "iopub.status.busy": "2022-05-08T14:06:12.947967Z",
     "iopub.status.idle": "2022-05-08T14:06:12.953068Z",
     "shell.execute_reply": "2022-05-08T14:06:12.952341Z"
    },
    "papermill": {
     "duration": 0.025342,
     "end_time": "2022-05-08T14:06:12.954765",
     "exception": false,
     "start_time": "2022-05-08T14:06:12.929423",
     "status": "completed"
    },
    "tags": []
   },
   "outputs": [],
   "source": [
    "import re\n",
    "def sorted_alphanumeric(data):\n",
    "    convert = lambda text: int(text) if text.isdigit() else text.lower()\n",
    "    alphanum_key = lambda key: [ convert(c) for c in re.split('([0-9]+)', key) ] \n",
    "    return sorted(data, key=alphanum_key)"
   ]
  },
  {
   "cell_type": "code",
   "execution_count": 4,
   "id": "8ea83da0",
   "metadata": {
    "execution": {
     "iopub.execute_input": "2022-05-08T14:06:12.991438Z",
     "iopub.status.busy": "2022-05-08T14:06:12.991223Z",
     "iopub.status.idle": "2022-05-08T14:07:18.887205Z",
     "shell.execute_reply": "2022-05-08T14:07:18.886518Z"
    },
    "papermill": {
     "duration": 65.935625,
     "end_time": "2022-05-08T14:07:18.908627",
     "exception": false,
     "start_time": "2022-05-08T14:06:12.973002",
     "status": "completed"
    },
    "tags": []
   },
   "outputs": [
    {
     "data": {
      "text/plain": [
       "(9844, 300, 300, 3)"
      ]
     },
     "execution_count": 4,
     "metadata": {},
     "output_type": "execute_result"
    }
   ],
   "source": [
    "path1 = '../input/mel-pmemo/melspectrogram_dataset/'\n",
    "path2 = '../input/mel-4q/melspectrogram_dataset/'\n",
    "path3 = '../input/mel-emotify/melspectrogram_dataset/'\n",
    "\n",
    "\n",
    "# Load the images and the labels\n",
    "imgs = []\n",
    "dirlist1 = sorted_alphanumeric(os.listdir(path1))\n",
    "dirlist2 = sorted_alphanumeric(os.listdir(path2))\n",
    "dirlist3 = sorted_alphanumeric(os.listdir(path3))\n",
    "\n",
    "\n",
    "for img in dirlist1:\n",
    "    pic = image.load_img((path1 + img))\n",
    "    imgs.append(np.array(pic))\n",
    "    \n",
    "for img in dirlist2:\n",
    "    pic = image.load_img((path2 + img))\n",
    "    imgs.append(np.array(pic))\n",
    "    \n",
    "for img in dirlist3:\n",
    "    pic = image.load_img((path3 + img))\n",
    "    imgs.append(np.array(pic))\n",
    "    \n",
    "\n",
    "imgs = np.array(imgs)\n",
    "imgs.shape"
   ]
  },
  {
   "cell_type": "code",
   "execution_count": 5,
   "id": "3607daad",
   "metadata": {
    "execution": {
     "iopub.execute_input": "2022-05-08T14:07:18.944468Z",
     "iopub.status.busy": "2022-05-08T14:07:18.944266Z",
     "iopub.status.idle": "2022-05-08T14:07:18.984421Z",
     "shell.execute_reply": "2022-05-08T14:07:18.983675Z"
    },
    "papermill": {
     "duration": 0.059957,
     "end_time": "2022-05-08T14:07:18.986135",
     "exception": false,
     "start_time": "2022-05-08T14:07:18.926178",
     "status": "completed"
    },
    "tags": []
   },
   "outputs": [
    {
     "data": {
      "text/html": [
       "<div>\n",
       "<style scoped>\n",
       "    .dataframe tbody tr th:only-of-type {\n",
       "        vertical-align: middle;\n",
       "    }\n",
       "\n",
       "    .dataframe tbody tr th {\n",
       "        vertical-align: top;\n",
       "    }\n",
       "\n",
       "    .dataframe thead th {\n",
       "        text-align: right;\n",
       "    }\n",
       "</style>\n",
       "<table border=\"1\" class=\"dataframe\">\n",
       "  <thead>\n",
       "    <tr style=\"text-align: right;\">\n",
       "      <th></th>\n",
       "      <th>ID</th>\n",
       "      <th>Label</th>\n",
       "    </tr>\n",
       "  </thead>\n",
       "  <tbody>\n",
       "    <tr>\n",
       "      <th>0</th>\n",
       "      <td>1-0</td>\n",
       "      <td>1</td>\n",
       "    </tr>\n",
       "    <tr>\n",
       "      <th>1</th>\n",
       "      <td>1-1</td>\n",
       "      <td>1</td>\n",
       "    </tr>\n",
       "    <tr>\n",
       "      <th>2</th>\n",
       "      <td>1-2</td>\n",
       "      <td>1</td>\n",
       "    </tr>\n",
       "    <tr>\n",
       "      <th>3</th>\n",
       "      <td>1-3</td>\n",
       "      <td>1</td>\n",
       "    </tr>\n",
       "    <tr>\n",
       "      <th>4</th>\n",
       "      <td>1-4</td>\n",
       "      <td>1</td>\n",
       "    </tr>\n",
       "    <tr>\n",
       "      <th>...</th>\n",
       "      <td>...</td>\n",
       "      <td>...</td>\n",
       "    </tr>\n",
       "    <tr>\n",
       "      <th>9839</th>\n",
       "      <td>2400-0</td>\n",
       "      <td>2</td>\n",
       "    </tr>\n",
       "    <tr>\n",
       "      <th>9840</th>\n",
       "      <td>2400-1</td>\n",
       "      <td>2</td>\n",
       "    </tr>\n",
       "    <tr>\n",
       "      <th>9841</th>\n",
       "      <td>2400-2</td>\n",
       "      <td>2</td>\n",
       "    </tr>\n",
       "    <tr>\n",
       "      <th>9842</th>\n",
       "      <td>2400-3</td>\n",
       "      <td>2</td>\n",
       "    </tr>\n",
       "    <tr>\n",
       "      <th>9843</th>\n",
       "      <td>2400-4</td>\n",
       "      <td>2</td>\n",
       "    </tr>\n",
       "  </tbody>\n",
       "</table>\n",
       "<p>9844 rows × 2 columns</p>\n",
       "</div>"
      ],
      "text/plain": [
       "          ID  Label\n",
       "0        1-0      1\n",
       "1        1-1      1\n",
       "2        1-2      1\n",
       "3        1-3      1\n",
       "4        1-4      1\n",
       "...      ...    ...\n",
       "9839  2400-0      2\n",
       "9840  2400-1      2\n",
       "9841  2400-2      2\n",
       "9842  2400-3      2\n",
       "9843  2400-4      2\n",
       "\n",
       "[9844 rows x 2 columns]"
      ]
     },
     "execution_count": 5,
     "metadata": {},
     "output_type": "execute_result"
    }
   ],
   "source": [
    "df1 = pd.read_csv('../input/mel-pmemo/mel.csv')\n",
    "df2 = pd.read_csv('../input/mel-4q/mel.csv')\n",
    "df3 = pd.read_csv('../input/mel-emotify/mel.csv')\n",
    "\n",
    "\n",
    "df = pd.concat([df1, df2, df3], ignore_index=True, sort=False)\n",
    "\n",
    "df"
   ]
  },
  {
   "cell_type": "code",
   "execution_count": 6,
   "id": "dec5d329",
   "metadata": {
    "execution": {
     "iopub.execute_input": "2022-05-08T14:07:19.022506Z",
     "iopub.status.busy": "2022-05-08T14:07:19.022319Z",
     "iopub.status.idle": "2022-05-08T14:07:19.028829Z",
     "shell.execute_reply": "2022-05-08T14:07:19.028192Z"
    },
    "papermill": {
     "duration": 0.026521,
     "end_time": "2022-05-08T14:07:19.030351",
     "exception": false,
     "start_time": "2022-05-08T14:07:19.003830",
     "status": "completed"
    },
    "tags": []
   },
   "outputs": [
    {
     "data": {
      "text/plain": [
       "(9844,)"
      ]
     },
     "execution_count": 6,
     "metadata": {},
     "output_type": "execute_result"
    }
   ],
   "source": [
    "Y = np.array(df['Label'])\n",
    "Y.shape"
   ]
  },
  {
   "cell_type": "code",
   "execution_count": 7,
   "id": "770b04ba",
   "metadata": {
    "execution": {
     "iopub.execute_input": "2022-05-08T14:07:19.067858Z",
     "iopub.status.busy": "2022-05-08T14:07:19.067322Z",
     "iopub.status.idle": "2022-05-08T14:07:19.245296Z",
     "shell.execute_reply": "2022-05-08T14:07:19.244526Z"
    },
    "papermill": {
     "duration": 0.198814,
     "end_time": "2022-05-08T14:07:19.247160",
     "exception": false,
     "start_time": "2022-05-08T14:07:19.048346",
     "status": "completed"
    },
    "tags": []
   },
   "outputs": [
    {
     "name": "stdout",
     "output_type": "stream",
     "text": [
      "[[   0 1798]\n",
      " [   1 2359]\n",
      " [   2 1618]\n",
      " [   3 4069]]\n"
     ]
    },
    {
     "data": {
      "image/png": "[encoded data removed]",
      "text/plain": [
       "<Figure size 432x288 with 1 Axes>"
      ]
     },
     "metadata": {
      "needs_background": "light"
     },
     "output_type": "display_data"
    }
   ],
   "source": [
    "unique, counts = np.unique(Y, return_counts=True)\n",
    "\n",
    "print(np.asarray((unique, counts)).T)\n",
    "\n",
    "\n",
    "pos  = np.arange(len(unique))\n",
    "width = 1.0    \n",
    "ax = plt.axes()\n",
    "ax.set_xticks(pos)\n",
    "ax.set_xticklabels(unique)\n",
    "\n",
    "plt.bar(pos, counts, width, color = ['r','b','g','y'])\n",
    "plt.show()"
   ]
  },
  {
   "cell_type": "code",
   "execution_count": 8,
   "id": "1f8916b8",
   "metadata": {
    "execution": {
     "iopub.execute_input": "2022-05-08T14:07:19.293021Z",
     "iopub.status.busy": "2022-05-08T14:07:19.292801Z",
     "iopub.status.idle": "2022-05-08T14:07:19.820344Z",
     "shell.execute_reply": "2022-05-08T14:07:19.819528Z"
    },
    "papermill": {
     "duration": 0.553291,
     "end_time": "2022-05-08T14:07:19.822464",
     "exception": false,
     "start_time": "2022-05-08T14:07:19.269173",
     "status": "completed"
    },
    "tags": []
   },
   "outputs": [
    {
     "data": {
      "text/plain": [
       "(8367, 300, 300, 3)"
      ]
     },
     "execution_count": 8,
     "metadata": {},
     "output_type": "execute_result"
    }
   ],
   "source": [
    "x_train, x_test, y_train, y_test = train_test_split(imgs, Y, test_size=0.15, shuffle = True ,random_state=1)\n",
    "\n",
    "x_train.shape"
   ]
  },
  {
   "cell_type": "code",
   "execution_count": 9,
   "id": "f31c3d98",
   "metadata": {
    "execution": {
     "iopub.execute_input": "2022-05-08T14:07:19.863184Z",
     "iopub.status.busy": "2022-05-08T14:07:19.862972Z",
     "iopub.status.idle": "2022-05-08T14:07:19.886470Z",
     "shell.execute_reply": "2022-05-08T14:07:19.885717Z"
    },
    "papermill": {
     "duration": 0.046279,
     "end_time": "2022-05-08T14:07:19.888500",
     "exception": false,
     "start_time": "2022-05-08T14:07:19.842221",
     "status": "completed"
    },
    "tags": []
   },
   "outputs": [],
   "source": [
    "from keras.callbacks import LambdaCallback\n",
    "import keras.backend as K\n",
    "\n",
    "class LRFinder:\n",
    "    \"\"\"\n",
    "    Plots the change of the loss function of a Keras model when the learning rate is exponentially increasing.\n",
    "    See for details:\n",
    "    https://towardsdatascience.com/estimating-optimal-learning-rate-for-a-deep-neural-network-ce32f2556ce0\n",
    "    \"\"\"\n",
    "\n",
    "    def __init__(self, model):\n",
    "        self.model = model\n",
    "        self.losses = []\n",
    "        self.lrs = []\n",
    "        self.best_loss = 1e9\n",
    "\n",
    "    def on_batch_end(self, batch, logs):\n",
    "        # Log the learning rate\n",
    "        lr = K.get_value(self.model.optimizer.lr)\n",
    "        self.lrs.append(lr)\n",
    "\n",
    "        # Log the loss\n",
    "        loss = logs['loss']\n",
    "        self.losses.append(loss)\n",
    "\n",
    "        # Check whether the loss got too large or NaN\n",
    "        if batch > 5 and (math.isnan(loss) or loss > self.best_loss * 4):\n",
    "            self.model.stop_training = True\n",
    "            return\n",
    "\n",
    "        if loss < self.best_loss:\n",
    "            self.best_loss = loss\n",
    "\n",
    "        # Increase the learning rate for the next batch\n",
    "        lr *= self.lr_mult\n",
    "        K.set_value(self.model.optimizer.lr, lr)\n",
    "\n",
    "    def find(self, x_train, y_train, start_lr, end_lr, batch_size=64, epochs=1, **kw_fit):\n",
    "        # If x_train contains data for multiple inputs, use length of the first input.\n",
    "        # Assumption: the first element in the list is single input; NOT a list of inputs.\n",
    "        N = x_train[0].shape[0] if isinstance(x_train, list) else x_train.shape[0]\n",
    "\n",
    "        # Compute number of batches and LR multiplier\n",
    "        num_batches = epochs * N / batch_size\n",
    "        self.lr_mult = (float(end_lr) / float(start_lr)) ** (float(1) / float(num_batches))\n",
    "        # Save weights into a file\n",
    "        initial_weights = self.model.get_weights()\n",
    "\n",
    "        # Remember the original learning rate\n",
    "        original_lr = K.get_value(self.model.optimizer.lr)\n",
    "\n",
    "        # Set the initial learning rate\n",
    "        K.set_value(self.model.optimizer.lr, start_lr)\n",
    "\n",
    "        callback = LambdaCallback(on_batch_end=lambda batch, logs: self.on_batch_end(batch, logs))\n",
    "\n",
    "        self.model.fit(x_train, y_train,\n",
    "                       batch_size=batch_size, epochs=epochs,\n",
    "                       callbacks=[callback],\n",
    "                       **kw_fit)\n",
    "\n",
    "        # Restore the weights to the state before model fitting\n",
    "        self.model.set_weights(initial_weights)\n",
    "\n",
    "        # Restore the original learning rate\n",
    "        K.set_value(self.model.optimizer.lr, original_lr)\n",
    "\n",
    "    def find_generator(self, generator, start_lr, end_lr, epochs=1, steps_per_epoch=None, **kw_fit):\n",
    "        if steps_per_epoch is None:\n",
    "            try:\n",
    "                steps_per_epoch = len(generator)\n",
    "            except (ValueError, NotImplementedError) as e:\n",
    "                raise e('`steps_per_epoch=None` is only valid for a'\n",
    "                        ' generator based on the '\n",
    "                        '`keras.utils.Sequence`'\n",
    "                        ' class. Please specify `steps_per_epoch` '\n",
    "                        'or use the `keras.utils.Sequence` class.')\n",
    "        self.lr_mult = (float(end_lr) / float(start_lr)) ** (float(1) / float(epochs * steps_per_epoch))\n",
    "\n",
    "        # Save weights into a file\n",
    "        initial_weights = self.model.get_weights()\n",
    "\n",
    "        # Remember the original learning rate\n",
    "        original_lr = K.get_value(self.model.optimizer.lr)\n",
    "\n",
    "        # Set the initial learning rate\n",
    "        K.set_value(self.model.optimizer.lr, start_lr)\n",
    "\n",
    "        callback = LambdaCallback(on_batch_end=lambda batch,\n",
    "                                                      logs: self.on_batch_end(batch, logs))\n",
    "\n",
    "        self.model.fit_generator(generator=generator,\n",
    "                                 epochs=epochs,\n",
    "                                 steps_per_epoch=steps_per_epoch,\n",
    "                                 callbacks=[callback],\n",
    "                                 **kw_fit)\n",
    "\n",
    "        # Restore the weights to the state before model fitting\n",
    "        self.model.set_weights(initial_weights)\n",
    "\n",
    "        # Restore the original learning rate\n",
    "        K.set_value(self.model.optimizer.lr, original_lr)\n",
    "\n",
    "    def plot_loss(self, n_skip_beginning=10, n_skip_end=5, x_scale='log'):\n",
    "        \"\"\"\n",
    "        Plots the loss.\n",
    "        Parameters:\n",
    "            n_skip_beginning - number of batches to skip on the left.\n",
    "            n_skip_end - number of batches to skip on the right.\n",
    "        \"\"\"\n",
    "        plt.ylabel(\"loss\")\n",
    "        plt.xlabel(\"learning rate (log scale)\")\n",
    "        plt.plot(self.lrs[n_skip_beginning:-n_skip_end], self.losses[n_skip_beginning:-n_skip_end])\n",
    "        plt.xscale(x_scale)\n",
    "        plt.show()\n",
    "\n",
    "    def plot_loss_change(self, sma=1, n_skip_beginning=10, n_skip_end=5, y_lim=(-0.01, 0.01)):\n",
    "        \"\"\"\n",
    "        Plots rate of change of the loss function.\n",
    "        Parameters:\n",
    "            sma - number of batches for simple moving average to smooth out the curve.\n",
    "            n_skip_beginning - number of batches to skip on the left.\n",
    "            n_skip_end - number of batches to skip on the right.\n",
    "            y_lim - limits for the y axis.\n",
    "        \"\"\"\n",
    "        derivatives = self.get_derivatives(sma)[n_skip_beginning:-n_skip_end]\n",
    "        lrs = self.lrs[n_skip_beginning:-n_skip_end]\n",
    "        plt.ylabel(\"rate of loss change\")\n",
    "        plt.xlabel(\"learning rate (log scale)\")\n",
    "        plt.plot(lrs, derivatives)\n",
    "        plt.xscale('log')\n",
    "        plt.ylim(y_lim)\n",
    "        plt.show()\n",
    "\n",
    "    def get_derivatives(self, sma):\n",
    "        assert sma >= 1\n",
    "        derivatives = [0] * sma\n",
    "        for i in range(sma, len(self.lrs)):\n",
    "            derivatives.append((self.losses[i] - self.losses[i - sma]) / sma)\n",
    "        return derivatives\n",
    "\n",
    "    def get_best_lr(self, sma, n_skip_beginning=10, n_skip_end=5):\n",
    "        derivatives = self.get_derivatives(sma)\n",
    "        best_der_idx = np.argmin(derivatives[n_skip_beginning:-n_skip_end])\n",
    "        return self.lrs[n_skip_beginning:-n_skip_end][best_der_idx]"
   ]
  },
  {
   "cell_type": "code",
   "execution_count": 10,
   "id": "6429693c",
   "metadata": {
    "execution": {
     "iopub.execute_input": "2022-05-08T14:07:19.928436Z",
     "iopub.status.busy": "2022-05-08T14:07:19.928235Z",
     "iopub.status.idle": "2022-05-08T14:07:25.868943Z",
     "shell.execute_reply": "2022-05-08T14:07:25.868174Z"
    },
    "papermill": {
     "duration": 5.962727,
     "end_time": "2022-05-08T14:07:25.870874",
     "exception": false,
     "start_time": "2022-05-08T14:07:19.908147",
     "status": "completed"
    },
    "tags": []
   },
   "outputs": [
    {
     "name": "stderr",
     "output_type": "stream",
     "text": [
      "2022-05-08 14:07:20.045915: I tensorflow/stream_executor/cuda/cuda_gpu_executor.cc:937] successful NUMA node read from SysFS had negative value (-1), but there must be at least one NUMA node, so returning NUMA node zero\n",
      "2022-05-08 14:07:20.153630: I tensorflow/stream_executor/cuda/cuda_gpu_executor.cc:937] successful NUMA node read from SysFS had negative value (-1), but there must be at least one NUMA node, so returning NUMA node zero\n",
      "2022-05-08 14:07:20.154444: I tensorflow/stream_executor/cuda/cuda_gpu_executor.cc:937] successful NUMA node read from SysFS had negative value (-1), but there must be at least one NUMA node, so returning NUMA node zero\n",
      "2022-05-08 14:07:20.155600: I tensorflow/core/platform/cpu_feature_guard.cc:142] This TensorFlow binary is optimized with oneAPI Deep Neural Network Library (oneDNN) to use the following CPU instructions in performance-critical operations:  AVX2 AVX512F FMA\n",
      "To enable them in other operations, rebuild TensorFlow with the appropriate compiler flags.\n",
      "2022-05-08 14:07:20.155940: I tensorflow/stream_executor/cuda/cuda_gpu_executor.cc:937] successful NUMA node read from SysFS had negative value (-1), but there must be at least one NUMA node, so returning NUMA node zero\n",
      "2022-05-08 14:07:20.156633: I tensorflow/stream_executor/cuda/cuda_gpu_executor.cc:937] successful NUMA node read from SysFS had negative value (-1), but there must be at least one NUMA node, so returning NUMA node zero\n",
      "2022-05-08 14:07:20.157309: I tensorflow/stream_executor/cuda/cuda_gpu_executor.cc:937] successful NUMA node read from SysFS had negative value (-1), but there must be at least one NUMA node, so returning NUMA node zero\n",
      "2022-05-08 14:07:21.956237: I tensorflow/stream_executor/cuda/cuda_gpu_executor.cc:937] successful NUMA node read from SysFS had negative value (-1), but there must be at least one NUMA node, so returning NUMA node zero\n",
      "2022-05-08 14:07:21.957183: I tensorflow/stream_executor/cuda/cuda_gpu_executor.cc:937] successful NUMA node read from SysFS had negative value (-1), but there must be at least one NUMA node, so returning NUMA node zero\n",
      "2022-05-08 14:07:21.957862: I tensorflow/stream_executor/cuda/cuda_gpu_executor.cc:937] successful NUMA node read from SysFS had negative value (-1), but there must be at least one NUMA node, so returning NUMA node zero\n",
      "2022-05-08 14:07:21.959077: I tensorflow/core/common_runtime/gpu/gpu_device.cc:1510] Created device /job:localhost/replica:0/task:0/device:GPU:0 with 15403 MB memory:  -> device: 0, name: Tesla P100-PCIE-16GB, pci bus id: 0000:00:04.0, compute capability: 6.0\n"
     ]
    }
   ],
   "source": [
    "# Load a pre-trained neural network to use for transfer learning\n",
    "base_net = keras.applications.EfficientNetB3(\n",
    "    input_shape=(300,300,3),\n",
    "    weights='../input/noisystudentkeras/noisystudent_efficientnetb3_notop.h5',\n",
    "    include_top=False,\n",
    "    drop_connect_rate=0.5,\n",
    "    pooling='avg'\n",
    ")\n",
    "\n",
    "# Set the layers of the base net to not be trained\n",
    "for layer in base_net.layers:\n",
    "  layer.trainable=True"
   ]
  },
  {
   "cell_type": "code",
   "execution_count": 11,
   "id": "f31bfc19",
   "metadata": {
    "execution": {
     "iopub.execute_input": "2022-05-08T14:07:25.913115Z",
     "iopub.status.busy": "2022-05-08T14:07:25.912562Z",
     "iopub.status.idle": "2022-05-08T14:07:25.991150Z",
     "shell.execute_reply": "2022-05-08T14:07:25.990512Z"
    },
    "papermill": {
     "duration": 0.100899,
     "end_time": "2022-05-08T14:07:25.992832",
     "exception": false,
     "start_time": "2022-05-08T14:07:25.891933",
     "status": "completed"
    },
    "tags": []
   },
   "outputs": [],
   "source": [
    "x = Flatten()(base_net.layers[-1].output)\n",
    "x = keras.layers.Dense(1024, activation='relu', kernel_regularizer=l2(0.1), bias_regularizer=l2(0.1))(x)\n",
    "x = keras.layers.Dropout(0.5)(x)\n",
    "x = keras.layers.Dense(512, activation='relu', kernel_regularizer=l2(0.1), bias_regularizer=l2(0.1))(x)\n",
    "x = keras.layers.Dropout(0.4)(x)\n",
    "x = keras.layers.Dense(128, activation='relu', kernel_regularizer=l2(0.1), bias_regularizer=l2(0.1))(x)\n",
    "x = keras.layers.Dropout(0.3)(x)\n",
    "x = keras.layers.Dense(4, activation='softmax')(x)\n",
    "outputs = x\n",
    "\n",
    "OPT = tf.keras.optimizers.Adam()\n",
    "\n",
    "cnn = keras.Model(inputs=base_net.inputs, outputs=outputs)\n",
    "cnn.compile(loss='sparse_categorical_crossentropy', optimizer=OPT, metrics=['accuracy'])\n",
    "\n",
    "#cnn.summary()"
   ]
  },
  {
   "cell_type": "code",
   "execution_count": 12,
   "id": "57f8a3d5",
   "metadata": {
    "execution": {
     "iopub.execute_input": "2022-05-08T14:07:26.033827Z",
     "iopub.status.busy": "2022-05-08T14:07:26.033593Z",
     "iopub.status.idle": "2022-05-08T14:19:19.949496Z",
     "shell.execute_reply": "2022-05-08T14:19:19.948785Z"
    },
    "papermill": {
     "duration": 713.938426,
     "end_time": "2022-05-08T14:19:19.951401",
     "exception": false,
     "start_time": "2022-05-08T14:07:26.012975",
     "status": "completed"
    },
    "tags": []
   },
   "outputs": [
    {
     "name": "stderr",
     "output_type": "stream",
     "text": [
      "2022-05-08 14:07:26.181207: W tensorflow/core/framework/cpu_allocator_impl.cc:80] Allocation of 2259090000 exceeds 10% of free system memory.\n",
      "2022-05-08 14:07:28.474362: W tensorflow/core/framework/cpu_allocator_impl.cc:80] Allocation of 2259090000 exceeds 10% of free system memory.\n",
      "2022-05-08 14:07:30.121653: I tensorflow/compiler/mlir/mlir_graph_optimization_pass.cc:185] None of the MLIR Optimization Passes are enabled (registered 2)\n"
     ]
    },
    {
     "name": "stdout",
     "output_type": "stream",
     "text": [
      "Epoch 1/5\n"
     ]
    },
    {
     "name": "stderr",
     "output_type": "stream",
     "text": [
      "2022-05-08 14:07:43.224728: I tensorflow/stream_executor/cuda/cuda_dnn.cc:369] Loaded cuDNN version 8005\n",
      "2022-05-08 14:07:50.130165: W tensorflow/core/common_runtime/bfc_allocator.cc:272] Allocator (GPU_0_bfc) ran out of memory trying to allocate 3.98GiB with freed_by_count=0. The caller indicates that this is not a failure, but may mean that there could be performance gains if more memory were available.\n"
     ]
    },
    {
     "name": "stdout",
     "output_type": "stream",
     "text": [
      "262/262 [==============================] - 211s 731ms/step - loss: 81.2565 - accuracy: 0.4852\n",
      "Epoch 2/5\n",
      "262/262 [==============================] - 191s 728ms/step - loss: 1.5560 - accuracy: 0.5638\n",
      "Epoch 3/5\n",
      "262/262 [==============================] - 191s 727ms/step - loss: 1.6201 - accuracy: 0.4572\n",
      "Epoch 4/5\n",
      "262/262 [==============================] - 117s 446ms/step - loss: 4.8610 - accuracy: 0.4006\n"
     ]
    }
   ],
   "source": [
    "# model is a Keras model\n",
    "lr_finder = LRFinder(cnn)\n",
    "\n",
    "# Train a model with learning rate growing exponentially from 0.0001 to 1\n",
    "lr_finder.find(x_train, y_train, start_lr=0.0001, end_lr=1, batch_size=32, epochs=5)"
   ]
  },
  {
   "cell_type": "code",
   "execution_count": 13,
   "id": "bf00fbf3",
   "metadata": {
    "execution": {
     "iopub.execute_input": "2022-05-08T14:19:20.835062Z",
     "iopub.status.busy": "2022-05-08T14:19:20.834811Z",
     "iopub.status.idle": "2022-05-08T14:20:04.872144Z",
     "shell.execute_reply": "2022-05-08T14:20:04.871484Z"
    },
    "papermill": {
     "duration": 44.810519,
     "end_time": "2022-05-08T14:20:05.187239",
     "exception": false,
     "start_time": "2022-05-08T14:19:20.376720",
     "status": "completed"
    },
    "tags": []
   },
   "outputs": [
    {
     "data": {
      "image/png": "[encoded data removed]",
      "text/plain": [
       "<Figure size 432x288 with 1 Axes>"
      ]
     },
     "metadata": {
      "needs_background": "light"
     },
     "output_type": "display_data"
    }
   ],
   "source": [
    "# Plot the loss, ignore 20 batches in the beginning and 5 in the end\n",
    "lr_finder.plot_loss(n_skip_beginning=20, n_skip_end=5)\n",
    "plt.show()"
   ]
  },
  {
   "cell_type": "code",
   "execution_count": 14,
   "id": "e05825a2",
   "metadata": {
    "execution": {
     "iopub.execute_input": "2022-05-08T14:20:05.823741Z",
     "iopub.status.busy": "2022-05-08T14:20:05.823067Z",
     "iopub.status.idle": "2022-05-08T14:20:05.828395Z",
     "shell.execute_reply": "2022-05-08T14:20:05.827716Z"
    },
    "papermill": {
     "duration": 0.335242,
     "end_time": "2022-05-08T14:20:05.830958",
     "exception": false,
     "start_time": "2022-05-08T14:20:05.495716",
     "status": "completed"
    },
    "tags": []
   },
   "outputs": [
    {
     "name": "stdout",
     "output_type": "stream",
     "text": [
      "0.0006333234\n"
     ]
    }
   ],
   "source": [
    "optimal_lr = lr_finder.get_best_lr(sma=1)\n",
    "print(optimal_lr)\n",
    "OPT = tf.keras.optimizers.Adam(learning_rate=optimal_lr)"
   ]
  },
  {
   "cell_type": "code",
   "execution_count": 15,
   "id": "31f6da9b",
   "metadata": {
    "execution": {
     "iopub.execute_input": "2022-05-08T14:20:06.464251Z",
     "iopub.status.busy": "2022-05-08T14:20:06.464005Z",
     "iopub.status.idle": "2022-05-08T14:20:06.467837Z",
     "shell.execute_reply": "2022-05-08T14:20:06.467159Z"
    },
    "papermill": {
     "duration": 0.321353,
     "end_time": "2022-05-08T14:20:06.469544",
     "exception": false,
     "start_time": "2022-05-08T14:20:06.148191",
     "status": "completed"
    },
    "tags": []
   },
   "outputs": [],
   "source": [
    "filepath_cnn=\"weights.cnn.hdf5\"\n",
    "checkpoint = ModelCheckpoint(filepath_cnn, monitor='val_accuracy', verbose=1, save_best_only=True, mode='max')"
   ]
  },
  {
   "cell_type": "code",
   "execution_count": 16,
   "id": "02170f52",
   "metadata": {
    "execution": {
     "iopub.execute_input": "2022-05-08T14:20:07.092129Z",
     "iopub.status.busy": "2022-05-08T14:20:07.091884Z",
     "iopub.status.idle": "2022-05-08T16:38:44.307708Z",
     "shell.execute_reply": "2022-05-08T16:38:44.306924Z"
    },
    "papermill": {
     "duration": 8317.530641,
     "end_time": "2022-05-08T16:38:44.310367",
     "exception": false,
     "start_time": "2022-05-08T14:20:06.779726",
     "status": "completed"
    },
    "tags": []
   },
   "outputs": [
    {
     "name": "stderr",
     "output_type": "stream",
     "text": [
      "2022-05-08 14:20:07.134038: W tensorflow/core/framework/cpu_allocator_impl.cc:80] Allocation of 1919970000 exceeds 10% of free system memory.\n",
      "2022-05-08 14:20:09.307198: W tensorflow/core/framework/cpu_allocator_impl.cc:80] Allocation of 1919970000 exceeds 10% of free system memory.\n"
     ]
    },
    {
     "name": "stdout",
     "output_type": "stream",
     "text": [
      "Epoch 1/50\n",
      "223/223 [==============================] - 179s 752ms/step - loss: 26.1981 - accuracy: 0.5101 - val_loss: 1.2618 - val_accuracy: 0.5494\n",
      "\n",
      "Epoch 00001: val_accuracy improved from -inf to 0.54936, saving model to weights.cnn.hdf5\n",
      "Epoch 2/50\n",
      "223/223 [==============================] - 164s 737ms/step - loss: 1.1313 - accuracy: 0.5463 - val_loss: 1.1336 - val_accuracy: 0.5629\n",
      "\n",
      "Epoch 00002: val_accuracy improved from 0.54936 to 0.56290, saving model to weights.cnn.hdf5\n",
      "Epoch 3/50\n",
      "223/223 [==============================] - 165s 738ms/step - loss: 1.0641 - accuracy: 0.6096 - val_loss: 1.1431 - val_accuracy: 0.6306\n",
      "\n",
      "Epoch 00003: val_accuracy improved from 0.56290 to 0.63057, saving model to weights.cnn.hdf5\n",
      "Epoch 4/50\n",
      "223/223 [==============================] - 165s 739ms/step - loss: 1.0118 - accuracy: 0.6408 - val_loss: 1.0498 - val_accuracy: 0.6051\n",
      "\n",
      "Epoch 00004: val_accuracy did not improve from 0.63057\n",
      "Epoch 5/50\n",
      "223/223 [==============================] - 164s 736ms/step - loss: 0.9850 - accuracy: 0.6541 - val_loss: 1.3325 - val_accuracy: 0.5955\n",
      "\n",
      "Epoch 00005: val_accuracy did not improve from 0.63057\n",
      "Epoch 6/50\n",
      "223/223 [==============================] - 165s 738ms/step - loss: 0.9374 - accuracy: 0.6649 - val_loss: 1.0078 - val_accuracy: 0.6202\n",
      "\n",
      "Epoch 00006: val_accuracy did not improve from 0.63057\n",
      "Epoch 7/50\n",
      "223/223 [==============================] - 165s 740ms/step - loss: 0.8855 - accuracy: 0.6905 - val_loss: 0.9758 - val_accuracy: 0.6553\n",
      "\n",
      "Epoch 00007: val_accuracy improved from 0.63057 to 0.65525, saving model to weights.cnn.hdf5\n",
      "Epoch 8/50\n",
      "223/223 [==============================] - 163s 732ms/step - loss: 0.8403 - accuracy: 0.7031 - val_loss: 1.0367 - val_accuracy: 0.6561\n",
      "\n",
      "Epoch 00008: val_accuracy improved from 0.65525 to 0.65605, saving model to weights.cnn.hdf5\n",
      "Epoch 9/50\n",
      "223/223 [==============================] - 164s 737ms/step - loss: 0.8192 - accuracy: 0.7142 - val_loss: 0.9684 - val_accuracy: 0.6632\n",
      "\n",
      "Epoch 00009: val_accuracy improved from 0.65605 to 0.66322, saving model to weights.cnn.hdf5\n",
      "Epoch 10/50\n",
      "223/223 [==============================] - 165s 739ms/step - loss: 0.7828 - accuracy: 0.7237 - val_loss: 1.1305 - val_accuracy: 0.5717\n",
      "\n",
      "Epoch 00010: val_accuracy did not improve from 0.66322\n",
      "Epoch 11/50\n",
      "223/223 [==============================] - 165s 739ms/step - loss: 0.7532 - accuracy: 0.7414 - val_loss: 1.1235 - val_accuracy: 0.6115\n",
      "\n",
      "Epoch 00011: val_accuracy did not improve from 0.66322\n",
      "Epoch 12/50\n",
      "223/223 [==============================] - 167s 749ms/step - loss: 0.7464 - accuracy: 0.7472 - val_loss: 1.0610 - val_accuracy: 0.6664\n",
      "\n",
      "Epoch 00012: val_accuracy improved from 0.66322 to 0.66640, saving model to weights.cnn.hdf5\n",
      "Epoch 13/50\n",
      "223/223 [==============================] - 166s 743ms/step - loss: 0.7261 - accuracy: 0.7618 - val_loss: 1.3003 - val_accuracy: 0.6322\n",
      "\n",
      "Epoch 00013: val_accuracy did not improve from 0.66640\n",
      "Epoch 14/50\n",
      "223/223 [==============================] - 164s 737ms/step - loss: 0.6768 - accuracy: 0.7698 - val_loss: 1.0657 - val_accuracy: 0.6346\n",
      "\n",
      "Epoch 00014: val_accuracy did not improve from 0.66640\n",
      "Epoch 15/50\n",
      "223/223 [==============================] - 164s 736ms/step - loss: 0.6760 - accuracy: 0.7802 - val_loss: 1.1562 - val_accuracy: 0.6736\n",
      "\n",
      "Epoch 00015: val_accuracy improved from 0.66640 to 0.67357, saving model to weights.cnn.hdf5\n",
      "Epoch 16/50\n",
      "223/223 [==============================] - 167s 747ms/step - loss: 0.6687 - accuracy: 0.7770 - val_loss: 1.0701 - val_accuracy: 0.6752\n",
      "\n",
      "Epoch 00016: val_accuracy improved from 0.67357 to 0.67516, saving model to weights.cnn.hdf5\n",
      "Epoch 17/50\n",
      "223/223 [==============================] - 166s 745ms/step - loss: 0.6840 - accuracy: 0.7809 - val_loss: 1.2854 - val_accuracy: 0.6600\n",
      "\n",
      "Epoch 00017: val_accuracy did not improve from 0.67516\n",
      "Epoch 18/50\n",
      "223/223 [==============================] - 165s 739ms/step - loss: 0.6200 - accuracy: 0.8002 - val_loss: 1.1052 - val_accuracy: 0.6616\n",
      "\n",
      "Epoch 00018: val_accuracy did not improve from 0.67516\n",
      "Epoch 19/50\n",
      "223/223 [==============================] - 165s 739ms/step - loss: 0.5837 - accuracy: 0.8069 - val_loss: 1.2321 - val_accuracy: 0.6807\n",
      "\n",
      "Epoch 00019: val_accuracy improved from 0.67516 to 0.68073, saving model to weights.cnn.hdf5\n",
      "Epoch 20/50\n",
      "223/223 [==============================] - 164s 737ms/step - loss: 0.5956 - accuracy: 0.8151 - val_loss: 1.2720 - val_accuracy: 0.6887\n",
      "\n",
      "Epoch 00020: val_accuracy improved from 0.68073 to 0.68869, saving model to weights.cnn.hdf5\n",
      "Epoch 21/50\n",
      "223/223 [==============================] - 164s 737ms/step - loss: 0.6006 - accuracy: 0.8210 - val_loss: 1.1149 - val_accuracy: 0.6863\n",
      "\n",
      "Epoch 00021: val_accuracy did not improve from 0.68869\n",
      "Epoch 22/50\n",
      "223/223 [==============================] - 165s 740ms/step - loss: 0.5945 - accuracy: 0.8321 - val_loss: 0.9860 - val_accuracy: 0.7126\n",
      "\n",
      "Epoch 00022: val_accuracy improved from 0.68869 to 0.71258, saving model to weights.cnn.hdf5\n",
      "Epoch 23/50\n",
      "223/223 [==============================] - 165s 740ms/step - loss: 0.5676 - accuracy: 0.8419 - val_loss: 1.1570 - val_accuracy: 0.6170\n",
      "\n",
      "Epoch 00023: val_accuracy did not improve from 0.71258\n",
      "Epoch 24/50\n",
      "223/223 [==============================] - 164s 737ms/step - loss: 0.5906 - accuracy: 0.8469 - val_loss: 1.0259 - val_accuracy: 0.7054\n",
      "\n",
      "Epoch 00024: val_accuracy did not improve from 0.71258\n",
      "Epoch 25/50\n",
      "223/223 [==============================] - 165s 740ms/step - loss: 0.6754 - accuracy: 0.8485 - val_loss: 2.3936 - val_accuracy: 0.7006\n",
      "\n",
      "Epoch 00025: val_accuracy did not improve from 0.71258\n",
      "Epoch 26/50\n",
      "223/223 [==============================] - 165s 742ms/step - loss: 0.6641 - accuracy: 0.8568 - val_loss: 1.0917 - val_accuracy: 0.6680\n",
      "\n",
      "Epoch 00026: val_accuracy did not improve from 0.71258\n",
      "Epoch 27/50\n",
      "223/223 [==============================] - 164s 738ms/step - loss: 0.5896 - accuracy: 0.8613 - val_loss: 1.1466 - val_accuracy: 0.7086\n",
      "\n",
      "Epoch 00027: val_accuracy did not improve from 0.71258\n",
      "Epoch 28/50\n",
      "223/223 [==============================] - 165s 738ms/step - loss: 0.5445 - accuracy: 0.8837 - val_loss: 1.7534 - val_accuracy: 0.6656\n",
      "\n",
      "Epoch 00028: val_accuracy did not improve from 0.71258\n",
      "Epoch 29/50\n",
      "223/223 [==============================] - 166s 746ms/step - loss: 0.7163 - accuracy: 0.8197 - val_loss: 1.1716 - val_accuracy: 0.6967\n",
      "\n",
      "Epoch 00029: val_accuracy did not improve from 0.71258\n",
      "Epoch 30/50\n",
      "223/223 [==============================] - 164s 737ms/step - loss: 0.5351 - accuracy: 0.8681 - val_loss: 1.1538 - val_accuracy: 0.6497\n",
      "\n",
      "Epoch 00030: val_accuracy did not improve from 0.71258\n",
      "Epoch 31/50\n",
      "223/223 [==============================] - 164s 734ms/step - loss: 0.4960 - accuracy: 0.8876 - val_loss: 1.0820 - val_accuracy: 0.6927\n",
      "\n",
      "Epoch 00031: val_accuracy did not improve from 0.71258\n",
      "Epoch 32/50\n",
      "223/223 [==============================] - 165s 738ms/step - loss: 0.4568 - accuracy: 0.9041 - val_loss: 1.1307 - val_accuracy: 0.7293\n",
      "\n",
      "Epoch 00032: val_accuracy improved from 0.71258 to 0.72930, saving model to weights.cnn.hdf5\n",
      "Epoch 33/50\n",
      "223/223 [==============================] - 164s 738ms/step - loss: 0.4938 - accuracy: 0.9115 - val_loss: 1.3779 - val_accuracy: 0.6775\n",
      "\n",
      "Epoch 00033: val_accuracy did not improve from 0.72930\n",
      "Epoch 34/50\n",
      "223/223 [==============================] - 165s 739ms/step - loss: 0.5124 - accuracy: 0.9086 - val_loss: 1.4820 - val_accuracy: 0.6083\n",
      "\n",
      "Epoch 00034: val_accuracy did not improve from 0.72930\n",
      "Epoch 35/50\n",
      "223/223 [==============================] - 165s 739ms/step - loss: 0.4509 - accuracy: 0.9187 - val_loss: 1.4364 - val_accuracy: 0.6720\n",
      "\n",
      "Epoch 00035: val_accuracy did not improve from 0.72930\n",
      "Epoch 36/50\n",
      "223/223 [==============================] - 164s 737ms/step - loss: 0.5427 - accuracy: 0.9184 - val_loss: 1.3389 - val_accuracy: 0.7006\n",
      "\n",
      "Epoch 00036: val_accuracy did not improve from 0.72930\n",
      "Epoch 37/50\n",
      "223/223 [==============================] - 166s 746ms/step - loss: 0.4373 - accuracy: 0.9257 - val_loss: 1.2544 - val_accuracy: 0.7213\n",
      "\n",
      "Epoch 00037: val_accuracy did not improve from 0.72930\n",
      "Epoch 38/50\n",
      "223/223 [==============================] - 167s 747ms/step - loss: 0.4286 - accuracy: 0.9390 - val_loss: 1.2700 - val_accuracy: 0.6871\n",
      "\n",
      "Epoch 00038: val_accuracy did not improve from 0.72930\n",
      "Epoch 39/50\n",
      "223/223 [==============================] - 165s 739ms/step - loss: 0.5185 - accuracy: 0.9329 - val_loss: 2.5210 - val_accuracy: 0.6720\n",
      "\n",
      "Epoch 00039: val_accuracy did not improve from 0.72930\n",
      "Epoch 40/50\n",
      "223/223 [==============================] - 165s 739ms/step - loss: 0.5244 - accuracy: 0.9291 - val_loss: 1.3274 - val_accuracy: 0.6529\n",
      "\n",
      "Epoch 00040: val_accuracy did not improve from 0.72930\n",
      "Epoch 41/50\n",
      "223/223 [==============================] - 164s 737ms/step - loss: 0.4234 - accuracy: 0.9452 - val_loss: 1.1501 - val_accuracy: 0.7062\n",
      "\n",
      "Epoch 00041: val_accuracy did not improve from 0.72930\n",
      "Epoch 42/50\n",
      "223/223 [==============================] - 165s 738ms/step - loss: 0.4303 - accuracy: 0.9502 - val_loss: 1.3134 - val_accuracy: 0.7389\n",
      "\n",
      "Epoch 00042: val_accuracy improved from 0.72930 to 0.73885, saving model to weights.cnn.hdf5\n",
      "Epoch 43/50\n",
      "223/223 [==============================] - 165s 738ms/step - loss: 0.4017 - accuracy: 0.9430 - val_loss: 1.9645 - val_accuracy: 0.7221\n",
      "\n",
      "Epoch 00043: val_accuracy did not improve from 0.73885\n",
      "Epoch 44/50\n",
      "223/223 [==============================] - 165s 740ms/step - loss: 0.5058 - accuracy: 0.9312 - val_loss: 1.6918 - val_accuracy: 0.7086\n",
      "\n",
      "Epoch 00044: val_accuracy did not improve from 0.73885\n",
      "Epoch 45/50\n",
      "223/223 [==============================] - 165s 740ms/step - loss: 0.4313 - accuracy: 0.9450 - val_loss: 1.5726 - val_accuracy: 0.7420\n",
      "\n",
      "Epoch 00045: val_accuracy improved from 0.73885 to 0.74204, saving model to weights.cnn.hdf5\n",
      "Epoch 46/50\n",
      "223/223 [==============================] - 165s 741ms/step - loss: 0.4862 - accuracy: 0.9467 - val_loss: 1.2500 - val_accuracy: 0.7293\n",
      "\n",
      "Epoch 00046: val_accuracy did not improve from 0.74204\n",
      "Epoch 47/50\n",
      "223/223 [==============================] - 165s 738ms/step - loss: 0.3471 - accuracy: 0.9677 - val_loss: 1.2935 - val_accuracy: 0.7532\n",
      "\n",
      "Epoch 00047: val_accuracy improved from 0.74204 to 0.75318, saving model to weights.cnn.hdf5\n",
      "Epoch 48/50\n",
      "223/223 [==============================] - 165s 740ms/step - loss: 0.4626 - accuracy: 0.9407 - val_loss: 2.0261 - val_accuracy: 0.6871\n",
      "\n",
      "Epoch 00048: val_accuracy did not improve from 0.75318\n",
      "Epoch 49/50\n",
      "223/223 [==============================] - 165s 738ms/step - loss: 0.4082 - accuracy: 0.9537 - val_loss: 1.1104 - val_accuracy: 0.7197\n",
      "\n",
      "Epoch 00049: val_accuracy did not improve from 0.75318\n",
      "Epoch 50/50\n",
      "223/223 [==============================] - 165s 740ms/step - loss: 0.3049 - accuracy: 0.9664 - val_loss: 1.4880 - val_accuracy: 0.7564\n",
      "\n",
      "Epoch 00050: val_accuracy improved from 0.75318 to 0.75637, saving model to weights.cnn.hdf5\n"
     ]
    }
   ],
   "source": [
    "cnn.compile(loss='sparse_categorical_crossentropy', optimizer=OPT, metrics=['accuracy'])\n",
    "hist_cnn = cnn.fit(x_train, y_train, batch_size=32, epochs=50, validation_split = 0.15, callbacks=[checkpoint])"
   ]
  },
  {
   "cell_type": "code",
   "execution_count": 17,
   "id": "6b11e8cb",
   "metadata": {
    "execution": {
     "iopub.execute_input": "2022-05-08T16:38:52.504847Z",
     "iopub.status.busy": "2022-05-08T16:38:52.504582Z",
     "iopub.status.idle": "2022-05-08T16:38:52.844872Z",
     "shell.execute_reply": "2022-05-08T16:38:52.844200Z"
    },
    "papermill": {
     "duration": 4.606872,
     "end_time": "2022-05-08T16:38:52.846900",
     "exception": false,
     "start_time": "2022-05-08T16:38:48.240028",
     "status": "completed"
    },
    "tags": []
   },
   "outputs": [
    {
     "data": {
      "image/png": "[encoded data removed]",
      "text/plain": [
       "<Figure size 432x288 with 1 Axes>"
      ]
     },
     "metadata": {
      "needs_background": "light"
     },
     "output_type": "display_data"
    },
    {
     "data": {
      "image/png": "[encoded data removed]",
      "text/plain": [
       "<Figure size 432x288 with 1 Axes>"
      ]
     },
     "metadata": {
      "needs_background": "light"
     },
     "output_type": "display_data"
    }
   ],
   "source": [
    "def plot_hist(hist, title):\n",
    "    plt.plot(hist.history[\"accuracy\"])\n",
    "    plt.plot(hist.history[\"val_accuracy\"])\n",
    "    plt.title(\"Accuracy \" + title)\n",
    "    plt.ylabel(\"accuracy\")\n",
    "    plt.xlabel(\"epoch\")\n",
    "    plt.legend([\"train\", \"validation\"], loc=\"upper left\")\n",
    "    plt.show()\n",
    "    \n",
    "    # summarize history for loss\n",
    "    plt.plot(hist.history['loss'])\n",
    "    plt.plot(hist.history['val_loss'])\n",
    "    plt.title(\"LOSS \" + title)\n",
    "    plt.ylabel('loss')\n",
    "    plt.xlabel('epoch')\n",
    "    plt.legend(['train', 'validation'], loc='upper left')\n",
    "    plt.show()\n",
    "\n",
    "\n",
    "plot_hist(hist_cnn, title=\"Efficient-Net B3\")"
   ]
  },
  {
   "cell_type": "code",
   "execution_count": 18,
   "id": "63137b26",
   "metadata": {
    "execution": {
     "iopub.execute_input": "2022-05-08T16:39:01.107095Z",
     "iopub.status.busy": "2022-05-08T16:39:01.106523Z",
     "iopub.status.idle": "2022-05-08T16:39:01.115429Z",
     "shell.execute_reply": "2022-05-08T16:39:01.114711Z"
    },
    "papermill": {
     "duration": 4.416772,
     "end_time": "2022-05-08T16:39:01.117079",
     "exception": false,
     "start_time": "2022-05-08T16:38:56.700307",
     "status": "completed"
    },
    "tags": []
   },
   "outputs": [],
   "source": [
    "def plot_confusion_matrix(cm, classes,\n",
    "                          normalize=False,\n",
    "                          title='Confusion matrix',\n",
    "                          cmap=plt.cm.Blues):\n",
    "    \"\"\"\n",
    "    This function prints and plots the confusion matrix.\n",
    "    Normalization can be applied by setting `normalize=True`.\n",
    "    \"\"\"\n",
    "    plt.figure(figsize = (5,5))\n",
    "    plt.imshow(cm, interpolation='nearest', cmap=cmap)\n",
    "    plt.title(title)\n",
    "    plt.colorbar()\n",
    "    tick_marks = np.arange(len(classes))\n",
    "    plt.xticks(tick_marks, classes, rotation=90)\n",
    "    plt.yticks(tick_marks, classes)\n",
    "    if normalize:\n",
    "        cm = cm.astype('float') / cm.sum(axis=1)[:, np.newaxis]\n",
    "\n",
    "    thresh = cm.max() / 2.\n",
    "    for i, j in itertools.product(range(cm.shape[0]), range(cm.shape[1])):\n",
    "        plt.text(j, i, cm[i, j],\n",
    "                 horizontalalignment=\"center\",\n",
    "                 color=\"white\" if cm[i, j] > thresh else \"black\")\n",
    "    plt.tight_layout()\n",
    "    plt.ylabel('True label')\n",
    "    plt.xlabel('Predicted label')"
   ]
  },
  {
   "cell_type": "code",
   "execution_count": 19,
   "id": "9ab294c0",
   "metadata": {
    "execution": {
     "iopub.execute_input": "2022-05-08T16:39:08.987680Z",
     "iopub.status.busy": "2022-05-08T16:39:08.987409Z",
     "iopub.status.idle": "2022-05-08T16:39:27.163003Z",
     "shell.execute_reply": "2022-05-08T16:39:27.162312Z"
    },
    "papermill": {
     "duration": 21.920512,
     "end_time": "2022-05-08T16:39:27.164854",
     "exception": false,
     "start_time": "2022-05-08T16:39:05.244342",
     "status": "completed"
    },
    "tags": []
   },
   "outputs": [
    {
     "name": "stderr",
     "output_type": "stream",
     "text": [
      "2022-05-08 16:39:09.095714: W tensorflow/core/framework/cpu_allocator_impl.cc:80] Allocation of 398790000 exceeds 10% of free system memory.\n"
     ]
    },
    {
     "name": "stdout",
     "output_type": "stream",
     "text": [
      "Convolutional Neural Network - accuracy: 0.7413676381111145 \n",
      "\n"
     ]
    },
    {
     "data": {
      "image/png": "[encoded data removed]",
      "text/plain": [
       "<Figure size 360x360 with 2 Axes>"
      ]
     },
     "metadata": {
      "needs_background": "light"
     },
     "output_type": "display_data"
    }
   ],
   "source": [
    "score = cnn.evaluate(x_test, y_test, verbose=0)\n",
    "print('Convolutional Neural Network - accuracy:', score[1],\"\\n\")\n",
    "Y_pred = cnn.predict(x_test)\n",
    "Y_pred_classes = np.argmax(Y_pred,axis = 1) \n",
    "confusion_mtx = confusion_matrix(y_test, Y_pred_classes)\n",
    "plot_confusion_matrix(confusion_mtx, classes = ['A-V-','A-V+','A+V-','A+V+']) \n",
    "plt.show()"
   ]
  }
 ],
 "metadata": {
  "kernelspec": {
   "display_name": "Python 3",
   "language": "python",
   "name": "python3"
  },
  "language_info": {
   "codemirror_mode": {
    "name": "ipython",
    "version": 3
   },
   "file_extension": ".py",
   "mimetype": "text/x-python",
   "name": "python",
   "nbconvert_exporter": "python",
   "pygments_lexer": "ipython3",
   "version": "3.8.7"
  },
  "papermill": {
   "default_parameters": {},
   "duration": 9216.462776,
   "end_time": "2022-05-08T16:39:34.920161",
   "environment_variables": {},
   "exception": null,
   "input_path": "__notebook__.ipynb",
   "output_path": "__notebook__.ipynb",
   "parameters": {},
   "start_time": "2022-05-08T14:05:58.457385",
   "version": "2.3.4"
  }
 },
 "nbformat": 4,
 "nbformat_minor": 5
}
