{
 "cells": [
  {
   "cell_type": "code",
   "execution_count": 1,
   "id": "34c823c7",
   "metadata": {
    "_cell_guid": "b1076dfc-b9ad-4769-8c92-a6c4dae69d19",
    "_uuid": "8f2839f25d086af736a60e9eeb907d3b93b6e0e5",
    "execution": {
     "iopub.execute_input": "2022-04-30T16:08:42.221794Z",
     "iopub.status.busy": "2022-04-30T16:08:42.219895Z",
     "iopub.status.idle": "2022-04-30T16:08:49.197929Z",
     "shell.execute_reply": "2022-04-30T16:08:49.196893Z"
    },
    "papermill": {
     "duration": 7.001959,
     "end_time": "2022-04-30T16:08:49.198108",
     "exception": false,
     "start_time": "2022-04-30T16:08:42.196149",
     "status": "completed"
    },
    "tags": []
   },
   "outputs": [],
   "source": [
    "import zipfile\n",
    "import os\n",
    "import pandas as pd\n",
    "import tensorflow as tf\n",
    "from tensorflow import keras\n",
    "from keras import optimizers\n",
    "from keras import layers\n",
    "from keras.regularizers import l1\n",
    "from tensorflow.keras.preprocessing.image import ImageDataGenerator\n",
    "from tensorflow.keras.applications.vgg16 import preprocess_input\n",
    "from tensorflow.keras.preprocessing import image\n",
    "from tensorflow.keras.models import Model\n",
    "from keras.models import Sequential\n",
    "from keras.layers import Dense, GlobalAveragePooling2D, Dropout, Flatten, concatenate\n",
    "from tensorflow.keras import regularizers\n",
    "from keras.callbacks import EarlyStopping\n",
    "from keras.callbacks import ModelCheckpoint\n",
    "from keras.utils.vis_utils import plot_model\n",
    "import pylab as pl\n",
    "import numpy as np\n",
    "import matplotlib.image as mpimg\n",
    "import matplotlib.pyplot as plt\n",
    "import seaborn as sns\n",
    "from sklearn.model_selection import train_test_split\n",
    "from keras.utils import np_utils\n",
    "from sklearn import preprocessing\n",
    "import math\n",
    "\n",
    "\n",
    "# audio lib\n",
    "import librosa\n",
    "import librosa.display\n",
    "from librosa.util import fix_length\n",
    "\n",
    "import IPython.display as ipd\n",
    "from PIL import Image"
   ]
  },
  {
   "cell_type": "code",
   "execution_count": 2,
   "id": "a995aca3",
   "metadata": {
    "execution": {
     "iopub.execute_input": "2022-04-30T16:08:49.225209Z",
     "iopub.status.busy": "2022-04-30T16:08:49.224404Z",
     "iopub.status.idle": "2022-04-30T16:08:49.226647Z",
     "shell.execute_reply": "2022-04-30T16:08:49.226157Z"
    },
    "papermill": {
     "duration": 0.016771,
     "end_time": "2022-04-30T16:08:49.226760",
     "exception": false,
     "start_time": "2022-04-30T16:08:49.209989",
     "status": "completed"
    },
    "tags": []
   },
   "outputs": [],
   "source": [
    "import warnings\n",
    "warnings.filterwarnings(\"ignore\")"
   ]
  },
  {
   "cell_type": "markdown",
   "id": "e3077a56",
   "metadata": {
    "papermill": {
     "duration": 0.010804,
     "end_time": "2022-04-30T16:08:49.248750",
     "exception": false,
     "start_time": "2022-04-30T16:08:49.237946",
     "status": "completed"
    },
    "tags": []
   },
   "source": [
    "# CNN MEL SPECTROGRAM APPROACH\n",
    "\n",
    "Dato il risultato non soddisfacente attraverso le features di opensmile si verifica un secondo approccio, ovvero addestrare una rete convoluzionale attraverso le immagini 300x300 di spettrogramma di Mel. Ogni spectrogramma fa riferimento a 6 secondi di canzone. Gli spettrogrammi sono stati generati in precedenza."
   ]
  },
  {
   "cell_type": "code",
   "execution_count": 3,
   "id": "3266c792",
   "metadata": {
    "execution": {
     "iopub.execute_input": "2022-04-30T16:08:49.275844Z",
     "iopub.status.busy": "2022-04-30T16:08:49.275105Z",
     "iopub.status.idle": "2022-04-30T16:08:49.277493Z",
     "shell.execute_reply": "2022-04-30T16:08:49.277013Z"
    },
    "papermill": {
     "duration": 0.017896,
     "end_time": "2022-04-30T16:08:49.277591",
     "exception": false,
     "start_time": "2022-04-30T16:08:49.259695",
     "status": "completed"
    },
    "tags": []
   },
   "outputs": [],
   "source": [
    "import re\n",
    "def sorted_alphanumeric(data):\n",
    "    convert = lambda text: int(text) if text.isdigit() else text.lower()\n",
    "    alphanum_key = lambda key: [ convert(c) for c in re.split('([0-9]+)', key) ] \n",
    "    return sorted(data, key=alphanum_key)"
   ]
  },
  {
   "cell_type": "code",
   "execution_count": 4,
   "id": "8ecb9849",
   "metadata": {
    "execution": {
     "iopub.execute_input": "2022-04-30T16:08:49.304273Z",
     "iopub.status.busy": "2022-04-30T16:08:49.303730Z",
     "iopub.status.idle": "2022-04-30T16:09:14.184340Z",
     "shell.execute_reply": "2022-04-30T16:09:14.183270Z"
    },
    "papermill": {
     "duration": 24.895599,
     "end_time": "2022-04-30T16:09:14.184486",
     "exception": false,
     "start_time": "2022-04-30T16:08:49.288887",
     "status": "completed"
    },
    "tags": []
   },
   "outputs": [],
   "source": [
    "path = '../input/mel-pmemo/melspectrogram_dataset/'\n",
    "\n",
    "# Load the images and the labels\n",
    "imgs = []\n",
    "dirlist = sorted_alphanumeric(os.listdir(path))\n",
    "\n",
    "for img in dirlist:\n",
    "    pic = image.load_img((path + img))\n",
    "    imgs.append(np.array(pic))\n",
    "    "
   ]
  },
  {
   "cell_type": "code",
   "execution_count": 5,
   "id": "f3916c07",
   "metadata": {
    "execution": {
     "iopub.execute_input": "2022-04-30T16:09:14.213550Z",
     "iopub.status.busy": "2022-04-30T16:09:14.212359Z",
     "iopub.status.idle": "2022-04-30T16:09:14.527783Z",
     "shell.execute_reply": "2022-04-30T16:09:14.528297Z"
    },
    "papermill": {
     "duration": 0.331608,
     "end_time": "2022-04-30T16:09:14.528455",
     "exception": false,
     "start_time": "2022-04-30T16:09:14.196847",
     "status": "completed"
    },
    "tags": []
   },
   "outputs": [
    {
     "data": {
      "text/plain": [
       "(3743, 300, 300, 3)"
      ]
     },
     "execution_count": 5,
     "metadata": {},
     "output_type": "execute_result"
    }
   ],
   "source": [
    "imgs = np.array(imgs)\n",
    "imgs.shape"
   ]
  },
  {
   "cell_type": "code",
   "execution_count": 6,
   "id": "da3bec32",
   "metadata": {
    "execution": {
     "iopub.execute_input": "2022-04-30T16:09:14.558206Z",
     "iopub.status.busy": "2022-04-30T16:09:14.557230Z",
     "iopub.status.idle": "2022-04-30T16:09:14.577469Z",
     "shell.execute_reply": "2022-04-30T16:09:14.577892Z"
    },
    "papermill": {
     "duration": 0.036917,
     "end_time": "2022-04-30T16:09:14.578029",
     "exception": false,
     "start_time": "2022-04-30T16:09:14.541112",
     "status": "completed"
    },
    "tags": []
   },
   "outputs": [
    {
     "data": {
      "text/html": [
       "<div>\n",
       "<style scoped>\n",
       "    .dataframe tbody tr th:only-of-type {\n",
       "        vertical-align: middle;\n",
       "    }\n",
       "\n",
       "    .dataframe tbody tr th {\n",
       "        vertical-align: top;\n",
       "    }\n",
       "\n",
       "    .dataframe thead th {\n",
       "        text-align: right;\n",
       "    }\n",
       "</style>\n",
       "<table border=\"1\" class=\"dataframe\">\n",
       "  <thead>\n",
       "    <tr style=\"text-align: right;\">\n",
       "      <th></th>\n",
       "      <th>ID</th>\n",
       "      <th>Label</th>\n",
       "    </tr>\n",
       "  </thead>\n",
       "  <tbody>\n",
       "    <tr>\n",
       "      <th>0</th>\n",
       "      <td>1-0</td>\n",
       "      <td>1</td>\n",
       "    </tr>\n",
       "    <tr>\n",
       "      <th>1</th>\n",
       "      <td>1-1</td>\n",
       "      <td>1</td>\n",
       "    </tr>\n",
       "    <tr>\n",
       "      <th>2</th>\n",
       "      <td>1-2</td>\n",
       "      <td>1</td>\n",
       "    </tr>\n",
       "    <tr>\n",
       "      <th>3</th>\n",
       "      <td>1-3</td>\n",
       "      <td>1</td>\n",
       "    </tr>\n",
       "    <tr>\n",
       "      <th>4</th>\n",
       "      <td>1-4</td>\n",
       "      <td>1</td>\n",
       "    </tr>\n",
       "    <tr>\n",
       "      <th>5</th>\n",
       "      <td>4-0</td>\n",
       "      <td>0</td>\n",
       "    </tr>\n",
       "    <tr>\n",
       "      <th>6</th>\n",
       "      <td>4-1</td>\n",
       "      <td>0</td>\n",
       "    </tr>\n",
       "    <tr>\n",
       "      <th>7</th>\n",
       "      <td>4-2</td>\n",
       "      <td>0</td>\n",
       "    </tr>\n",
       "  </tbody>\n",
       "</table>\n",
       "</div>"
      ],
      "text/plain": [
       "    ID  Label\n",
       "0  1-0      1\n",
       "1  1-1      1\n",
       "2  1-2      1\n",
       "3  1-3      1\n",
       "4  1-4      1\n",
       "5  4-0      0\n",
       "6  4-1      0\n",
       "7  4-2      0"
      ]
     },
     "execution_count": 6,
     "metadata": {},
     "output_type": "execute_result"
    }
   ],
   "source": [
    "df = pd.read_csv('../input/mel-pmemo/mel.csv')\n",
    "df.head(8)"
   ]
  },
  {
   "cell_type": "code",
   "execution_count": 7,
   "id": "bc348b12",
   "metadata": {
    "execution": {
     "iopub.execute_input": "2022-04-30T16:09:14.609890Z",
     "iopub.status.busy": "2022-04-30T16:09:14.609110Z",
     "iopub.status.idle": "2022-04-30T16:09:14.612117Z",
     "shell.execute_reply": "2022-04-30T16:09:14.612518Z"
    },
    "papermill": {
     "duration": 0.021871,
     "end_time": "2022-04-30T16:09:14.612631",
     "exception": false,
     "start_time": "2022-04-30T16:09:14.590760",
     "status": "completed"
    },
    "tags": []
   },
   "outputs": [
    {
     "data": {
      "text/plain": [
       "(3743,)"
      ]
     },
     "execution_count": 7,
     "metadata": {},
     "output_type": "execute_result"
    }
   ],
   "source": [
    "Y = np.array(df['Label'])\n",
    "Y.shape"
   ]
  },
  {
   "cell_type": "code",
   "execution_count": 8,
   "id": "44cc82e7",
   "metadata": {
    "execution": {
     "iopub.execute_input": "2022-04-30T16:09:14.643397Z",
     "iopub.status.busy": "2022-04-30T16:09:14.642327Z",
     "iopub.status.idle": "2022-04-30T16:09:14.912093Z",
     "shell.execute_reply": "2022-04-30T16:09:14.912515Z"
    },
    "papermill": {
     "duration": 0.287378,
     "end_time": "2022-04-30T16:09:14.912677",
     "exception": false,
     "start_time": "2022-04-30T16:09:14.625299",
     "status": "completed"
    },
    "tags": []
   },
   "outputs": [],
   "source": [
    "x_train, x_test, y_train, y_test = train_test_split(imgs, Y, test_size=0.2)"
   ]
  },
  {
   "cell_type": "markdown",
   "id": "immediate-document",
   "metadata": {},
   "source": [
    "Si procede a costruire il modello della rete neurale convoluzionale.\n",
    "si utilizzano i seguenti iperparametri:\n",
    "\n",
    "\n",
    "*   Tipo di modello: CNN\n",
    "*   Modello di partenza: EfficientNetB3\n",
    "*   Numero di epoche 50;\n",
    "*   Activation Output Layer Softmax: funzione più usata per la classificazione multiclasse;\n",
    "*   Activation Hidden Layer ReLU: è la funzione di \"deafult\" grazie alla sua versatilità per la maggior parte degli utilizzi;\n",
    "*   Loss Function Sparse Categorical Crossentropy: funzione usata nella classificazione multiclasse usando varibili categoriche;\n",
    "*   Optimizer adam;\n",
    "*   Regolarizzazione tramite L2 con alpha = 0.1: si limitano le unità con pesi troppo grossi per evitare overfitting e tramite dropout decrescente.\n",
    "*   Per evitare overfitting si utilizzeranno i pesi che ottengono il miglior valore di accuracy sul validation set."
   ]
  },
  {
   "cell_type": "code",
   "execution_count": 9,
   "id": "c78b33f2",
   "metadata": {
    "execution": {
     "iopub.execute_input": "2022-04-30T16:09:14.946988Z",
     "iopub.status.busy": "2022-04-30T16:09:14.946453Z",
     "iopub.status.idle": "2022-04-30T16:09:20.594317Z",
     "shell.execute_reply": "2022-04-30T16:09:20.593394Z"
    },
    "papermill": {
     "duration": 5.668512,
     "end_time": "2022-04-30T16:09:20.594469",
     "exception": false,
     "start_time": "2022-04-30T16:09:14.925957",
     "status": "completed"
    },
    "tags": []
   },
   "outputs": [
    {
     "name": "stderr",
     "output_type": "stream",
     "text": [
      "2022-04-30 16:09:15.051102: I tensorflow/stream_executor/cuda/cuda_gpu_executor.cc:937] successful NUMA node read from SysFS had negative value (-1), but there must be at least one NUMA node, so returning NUMA node zero\n",
      "2022-04-30 16:09:15.161846: I tensorflow/stream_executor/cuda/cuda_gpu_executor.cc:937] successful NUMA node read from SysFS had negative value (-1), but there must be at least one NUMA node, so returning NUMA node zero\n",
      "2022-04-30 16:09:15.162657: I tensorflow/stream_executor/cuda/cuda_gpu_executor.cc:937] successful NUMA node read from SysFS had negative value (-1), but there must be at least one NUMA node, so returning NUMA node zero\n",
      "2022-04-30 16:09:15.164133: I tensorflow/core/platform/cpu_feature_guard.cc:142] This TensorFlow binary is optimized with oneAPI Deep Neural Network Library (oneDNN) to use the following CPU instructions in performance-critical operations:  AVX2 AVX512F FMA\n",
      "To enable them in other operations, rebuild TensorFlow with the appropriate compiler flags.\n",
      "2022-04-30 16:09:15.165330: I tensorflow/stream_executor/cuda/cuda_gpu_executor.cc:937] successful NUMA node read from SysFS had negative value (-1), but there must be at least one NUMA node, so returning NUMA node zero\n",
      "2022-04-30 16:09:15.166042: I tensorflow/stream_executor/cuda/cuda_gpu_executor.cc:937] successful NUMA node read from SysFS had negative value (-1), but there must be at least one NUMA node, so returning NUMA node zero\n",
      "2022-04-30 16:09:15.166664: I tensorflow/stream_executor/cuda/cuda_gpu_executor.cc:937] successful NUMA node read from SysFS had negative value (-1), but there must be at least one NUMA node, so returning NUMA node zero\n",
      "2022-04-30 16:09:16.796957: I tensorflow/stream_executor/cuda/cuda_gpu_executor.cc:937] successful NUMA node read from SysFS had negative value (-1), but there must be at least one NUMA node, so returning NUMA node zero\n",
      "2022-04-30 16:09:16.797977: I tensorflow/stream_executor/cuda/cuda_gpu_executor.cc:937] successful NUMA node read from SysFS had negative value (-1), but there must be at least one NUMA node, so returning NUMA node zero\n",
      "2022-04-30 16:09:16.798678: I tensorflow/stream_executor/cuda/cuda_gpu_executor.cc:937] successful NUMA node read from SysFS had negative value (-1), but there must be at least one NUMA node, so returning NUMA node zero\n",
      "2022-04-30 16:09:16.799301: I tensorflow/core/common_runtime/gpu/gpu_device.cc:1510] Created device /job:localhost/replica:0/task:0/device:GPU:0 with 15403 MB memory:  -> device: 0, name: Tesla P100-PCIE-16GB, pci bus id: 0000:00:04.0, compute capability: 6.0\n"
     ]
    },
    {
     "name": "stdout",
     "output_type": "stream",
     "text": [
      "Downloading data from https://storage.googleapis.com/keras-applications/efficientnetb3_notop.h5\n",
      "43941888/43941136 [==============================] - 0s 0us/step\n",
      "43950080/43941136 [==============================] - 0s 0us/step\n"
     ]
    }
   ],
   "source": [
    "# Load a pre-trained neural network to use for transfer learning\n",
    "base_net = keras.applications.EfficientNetB3(\n",
    "    input_shape=(300,300,3),\n",
    "    weights='imagenet',\n",
    "    include_top=False,\n",
    "    drop_connect_rate=0.4,\n",
    "    pooling='avg'\n",
    ")\n",
    "\n",
    "# Set the layers of the base net to not be trained\n",
    "for layer in base_net.layers:\n",
    "  layer.trainable=True"
   ]
  },
  {
   "cell_type": "code",
   "execution_count": 10,
   "id": "d73ac86e",
   "metadata": {
    "execution": {
     "iopub.execute_input": "2022-04-30T16:09:20.635994Z",
     "iopub.status.busy": "2022-04-30T16:09:20.635388Z",
     "iopub.status.idle": "2022-04-30T16:09:20.711329Z",
     "shell.execute_reply": "2022-04-30T16:09:20.710898Z"
    },
    "papermill": {
     "duration": 0.100501,
     "end_time": "2022-04-30T16:09:20.711448",
     "exception": false,
     "start_time": "2022-04-30T16:09:20.610947",
     "status": "completed"
    },
    "tags": []
   },
   "outputs": [],
   "source": [
    "x = Flatten()(base_net.layers[-1].output)\n",
    "x = keras.layers.Dense(1024, activation='relu')(x)\n",
    "x = keras.layers.Dropout(0.5)(x)\n",
    "x = keras.layers.Dense(512, activation='relu')(x)\n",
    "x = keras.layers.Dropout(0.3)(x)\n",
    "x = keras.layers.Dense(128, activation='relu')(x)\n",
    "x = keras.layers.Dropout(0.1)(x)\n",
    "x = keras.layers.Dense(4, activation='softmax')(x)\n",
    "outputs = x\n",
    "\n",
    "OPT = tf.keras.optimizers.Adam()\n",
    "\n",
    "cnn = keras.Model(inputs=base_net.inputs, outputs=outputs)\n",
    "cnn.compile(loss='sparse_categorical_crossentropy', optimizer=OPT, metrics=['accuracy'])\n",
    "\n",
    "#cnn.summary()"
   ]
  },
  {
   "cell_type": "code",
   "execution_count": 11,
   "id": "25ced9b2",
   "metadata": {
    "execution": {
     "iopub.execute_input": "2022-04-30T16:09:20.748935Z",
     "iopub.status.busy": "2022-04-30T16:09:20.748221Z",
     "iopub.status.idle": "2022-04-30T16:09:20.750450Z",
     "shell.execute_reply": "2022-04-30T16:09:20.750828Z"
    },
    "papermill": {
     "duration": 0.022799,
     "end_time": "2022-04-30T16:09:20.750968",
     "exception": false,
     "start_time": "2022-04-30T16:09:20.728169",
     "status": "completed"
    },
    "tags": []
   },
   "outputs": [],
   "source": [
    "filepath_cnn=\"weights.cnn.hdf5\"\n",
    "checkpoint = ModelCheckpoint(filepath_cnn, monitor='val_loss', verbose=1, save_best_only=True, mode='min')"
   ]
  },
  {
   "cell_type": "code",
   "execution_count": 12,
   "id": "ce0011a2",
   "metadata": {
    "execution": {
     "iopub.execute_input": "2022-04-30T16:09:20.791463Z",
     "iopub.status.busy": "2022-04-30T16:09:20.790695Z",
     "iopub.status.idle": "2022-04-30T17:01:55.776028Z",
     "shell.execute_reply": "2022-04-30T17:01:55.775523Z"
    },
    "papermill": {
     "duration": 3155.008318,
     "end_time": "2022-04-30T17:01:55.776171",
     "exception": false,
     "start_time": "2022-04-30T16:09:20.767853",
     "status": "completed"
    },
    "tags": []
   },
   "outputs": [
    {
     "name": "stderr",
     "output_type": "stream",
     "text": [
      "2022-04-30 16:09:22.079001: I tensorflow/compiler/mlir/mlir_graph_optimization_pass.cc:185] None of the MLIR Optimization Passes are enabled (registered 2)\n"
     ]
    },
    {
     "name": "stdout",
     "output_type": "stream",
     "text": [
      "Epoch 1/50\n"
     ]
    },
    {
     "name": "stderr",
     "output_type": "stream",
     "text": [
      "2022-04-30 16:09:34.803858: I tensorflow/stream_executor/cuda/cuda_dnn.cc:369] Loaded cuDNN version 8005\n"
     ]
    },
    {
     "name": "stdout",
     "output_type": "stream",
     "text": [
      "85/85 [==============================] - 84s 766ms/step - loss: 0.9460 - accuracy: 0.6570 - val_loss: 0.8474 - val_accuracy: 0.6733\n",
      "\n",
      "Epoch 00001: val_loss improved from inf to 0.84744, saving model to weights.cnn.hdf5\n",
      "Epoch 2/50\n",
      "85/85 [==============================] - 62s 735ms/step - loss: 0.8536 - accuracy: 0.6804 - val_loss: 6.6222 - val_accuracy: 0.6733\n",
      "\n",
      "Epoch 00002: val_loss did not improve from 0.84744\n",
      "Epoch 3/50\n",
      "85/85 [==============================] - 62s 735ms/step - loss: 0.7696 - accuracy: 0.7261 - val_loss: 1.1206 - val_accuracy: 0.5600\n",
      "\n",
      "Epoch 00003: val_loss did not improve from 0.84744\n",
      "Epoch 4/50\n",
      "85/85 [==============================] - 63s 736ms/step - loss: 0.7433 - accuracy: 0.7357 - val_loss: 1.2885 - val_accuracy: 0.6833\n",
      "\n",
      "Epoch 00004: val_loss did not improve from 0.84744\n",
      "Epoch 5/50\n",
      "85/85 [==============================] - 62s 733ms/step - loss: 0.6733 - accuracy: 0.7535 - val_loss: 0.9163 - val_accuracy: 0.7400\n",
      "\n",
      "Epoch 00005: val_loss did not improve from 0.84744\n",
      "Epoch 6/50\n",
      "85/85 [==============================] - 62s 733ms/step - loss: 0.6147 - accuracy: 0.7791 - val_loss: 0.7591 - val_accuracy: 0.7100\n",
      "\n",
      "Epoch 00006: val_loss improved from 0.84744 to 0.75912, saving model to weights.cnn.hdf5\n",
      "Epoch 7/50\n",
      "85/85 [==============================] - 62s 733ms/step - loss: 0.5201 - accuracy: 0.8081 - val_loss: 0.7361 - val_accuracy: 0.7700\n",
      "\n",
      "Epoch 00007: val_loss improved from 0.75912 to 0.73612, saving model to weights.cnn.hdf5\n",
      "Epoch 8/50\n",
      "85/85 [==============================] - 62s 733ms/step - loss: 0.5190 - accuracy: 0.8155 - val_loss: 4.6561 - val_accuracy: 0.7533\n",
      "\n",
      "Epoch 00008: val_loss did not improve from 0.73612\n",
      "Epoch 9/50\n",
      "85/85 [==============================] - 62s 731ms/step - loss: 0.4415 - accuracy: 0.8330 - val_loss: 0.9273 - val_accuracy: 0.6567\n",
      "\n",
      "Epoch 00009: val_loss did not improve from 0.73612\n",
      "Epoch 10/50\n",
      "85/85 [==============================] - 62s 735ms/step - loss: 0.5433 - accuracy: 0.8048 - val_loss: 0.9465 - val_accuracy: 0.7367\n",
      "\n",
      "Epoch 00010: val_loss did not improve from 0.73612\n",
      "Epoch 11/50\n",
      "85/85 [==============================] - 62s 734ms/step - loss: 0.4086 - accuracy: 0.8549 - val_loss: 0.7249 - val_accuracy: 0.7700\n",
      "\n",
      "Epoch 00011: val_loss improved from 0.73612 to 0.72486, saving model to weights.cnn.hdf5\n",
      "Epoch 12/50\n",
      "85/85 [==============================] - 62s 732ms/step - loss: 0.4177 - accuracy: 0.8482 - val_loss: 1.2941 - val_accuracy: 0.5933\n",
      "\n",
      "Epoch 00012: val_loss did not improve from 0.72486\n",
      "Epoch 13/50\n",
      "85/85 [==============================] - 62s 735ms/step - loss: 0.2846 - accuracy: 0.8998 - val_loss: 0.8666 - val_accuracy: 0.7233\n",
      "\n",
      "Epoch 00013: val_loss did not improve from 0.72486\n",
      "Epoch 14/50\n",
      "85/85 [==============================] - 62s 735ms/step - loss: 0.2898 - accuracy: 0.9046 - val_loss: 0.5857 - val_accuracy: 0.7667\n",
      "\n",
      "Epoch 00014: val_loss improved from 0.72486 to 0.58569, saving model to weights.cnn.hdf5\n",
      "Epoch 15/50\n",
      "85/85 [==============================] - 62s 734ms/step - loss: 0.2382 - accuracy: 0.9284 - val_loss: 1.0069 - val_accuracy: 0.6333\n",
      "\n",
      "Epoch 00015: val_loss did not improve from 0.58569\n",
      "Epoch 16/50\n",
      "85/85 [==============================] - 62s 734ms/step - loss: 0.1974 - accuracy: 0.9310 - val_loss: 0.6359 - val_accuracy: 0.7867\n",
      "\n",
      "Epoch 00016: val_loss did not improve from 0.58569\n",
      "Epoch 17/50\n",
      "85/85 [==============================] - 62s 733ms/step - loss: 0.1608 - accuracy: 0.9451 - val_loss: 2.5442 - val_accuracy: 0.6267\n",
      "\n",
      "Epoch 00017: val_loss did not improve from 0.58569\n",
      "Epoch 18/50\n",
      "85/85 [==============================] - 62s 734ms/step - loss: 0.1876 - accuracy: 0.9317 - val_loss: 0.8636 - val_accuracy: 0.7600\n",
      "\n",
      "Epoch 00018: val_loss did not improve from 0.58569\n",
      "Epoch 19/50\n",
      "85/85 [==============================] - 62s 733ms/step - loss: 0.1849 - accuracy: 0.9406 - val_loss: 0.8516 - val_accuracy: 0.7500\n",
      "\n",
      "Epoch 00019: val_loss did not improve from 0.58569\n",
      "Epoch 20/50\n",
      "85/85 [==============================] - 62s 732ms/step - loss: 0.1415 - accuracy: 0.9540 - val_loss: 1.2515 - val_accuracy: 0.6833\n",
      "\n",
      "Epoch 00020: val_loss did not improve from 0.58569\n",
      "Epoch 21/50\n",
      "85/85 [==============================] - 62s 732ms/step - loss: 0.1217 - accuracy: 0.9625 - val_loss: 1.0078 - val_accuracy: 0.7867\n",
      "\n",
      "Epoch 00021: val_loss did not improve from 0.58569\n",
      "Epoch 22/50\n",
      "85/85 [==============================] - 62s 735ms/step - loss: 0.1131 - accuracy: 0.9659 - val_loss: 1.1660 - val_accuracy: 0.7267\n",
      "\n",
      "Epoch 00022: val_loss did not improve from 0.58569\n",
      "Epoch 23/50\n",
      "85/85 [==============================] - 62s 731ms/step - loss: 0.1107 - accuracy: 0.9670 - val_loss: 0.7694 - val_accuracy: 0.7933\n",
      "\n",
      "Epoch 00023: val_loss did not improve from 0.58569\n",
      "Epoch 24/50\n",
      "85/85 [==============================] - 63s 736ms/step - loss: 0.1013 - accuracy: 0.9692 - val_loss: 1.2529 - val_accuracy: 0.7967\n",
      "\n",
      "Epoch 00024: val_loss did not improve from 0.58569\n",
      "Epoch 25/50\n",
      "85/85 [==============================] - 62s 735ms/step - loss: 0.0825 - accuracy: 0.9729 - val_loss: 1.3035 - val_accuracy: 0.7467\n",
      "\n",
      "Epoch 00025: val_loss did not improve from 0.58569\n",
      "Epoch 26/50\n",
      "85/85 [==============================] - 62s 733ms/step - loss: 0.1140 - accuracy: 0.9684 - val_loss: 0.9401 - val_accuracy: 0.7700\n",
      "\n",
      "Epoch 00026: val_loss did not improve from 0.58569\n",
      "Epoch 27/50\n",
      "85/85 [==============================] - 62s 733ms/step - loss: 0.1518 - accuracy: 0.9584 - val_loss: 1.1443 - val_accuracy: 0.6633\n",
      "\n",
      "Epoch 00027: val_loss did not improve from 0.58569\n",
      "Epoch 28/50\n",
      "85/85 [==============================] - 62s 735ms/step - loss: 0.1022 - accuracy: 0.9722 - val_loss: 1.0373 - val_accuracy: 0.7900\n",
      "\n",
      "Epoch 00028: val_loss did not improve from 0.58569\n",
      "Epoch 29/50\n",
      "85/85 [==============================] - 62s 735ms/step - loss: 0.1712 - accuracy: 0.9484 - val_loss: 1.1749 - val_accuracy: 0.7433\n",
      "\n",
      "Epoch 00029: val_loss did not improve from 0.58569\n",
      "Epoch 30/50\n",
      "85/85 [==============================] - 62s 734ms/step - loss: 0.0912 - accuracy: 0.9725 - val_loss: 1.5441 - val_accuracy: 0.7367\n",
      "\n",
      "Epoch 00030: val_loss did not improve from 0.58569\n",
      "Epoch 31/50\n",
      "85/85 [==============================] - 62s 730ms/step - loss: 0.0879 - accuracy: 0.9688 - val_loss: 1.5096 - val_accuracy: 0.7467\n",
      "\n",
      "Epoch 00031: val_loss did not improve from 0.58569\n",
      "Epoch 32/50\n",
      "85/85 [==============================] - 62s 735ms/step - loss: 0.1494 - accuracy: 0.9558 - val_loss: 1.0347 - val_accuracy: 0.7100\n",
      "\n",
      "Epoch 00032: val_loss did not improve from 0.58569\n",
      "Epoch 33/50\n",
      "85/85 [==============================] - 62s 733ms/step - loss: 0.0905 - accuracy: 0.9714 - val_loss: 0.8972 - val_accuracy: 0.7633\n",
      "\n",
      "Epoch 00033: val_loss did not improve from 0.58569\n",
      "Epoch 34/50\n",
      "85/85 [==============================] - 62s 735ms/step - loss: 0.1511 - accuracy: 0.9547 - val_loss: 0.8715 - val_accuracy: 0.7600\n",
      "\n",
      "Epoch 00034: val_loss did not improve from 0.58569\n",
      "Epoch 35/50\n",
      "85/85 [==============================] - 62s 735ms/step - loss: 0.0749 - accuracy: 0.9744 - val_loss: 0.9708 - val_accuracy: 0.7733\n",
      "\n",
      "Epoch 00035: val_loss did not improve from 0.58569\n",
      "Epoch 36/50\n",
      "85/85 [==============================] - 63s 737ms/step - loss: 0.0515 - accuracy: 0.9866 - val_loss: 0.8553 - val_accuracy: 0.7800\n",
      "\n",
      "Epoch 00036: val_loss did not improve from 0.58569\n",
      "Epoch 37/50\n",
      "85/85 [==============================] - 63s 735ms/step - loss: 0.0434 - accuracy: 0.9874 - val_loss: 1.4876 - val_accuracy: 0.7867\n",
      "\n",
      "Epoch 00037: val_loss did not improve from 0.58569\n",
      "Epoch 38/50\n",
      "85/85 [==============================] - 63s 737ms/step - loss: 0.1781 - accuracy: 0.9491 - val_loss: 1.2212 - val_accuracy: 0.7767\n",
      "\n",
      "Epoch 00038: val_loss did not improve from 0.58569\n",
      "Epoch 39/50\n",
      "85/85 [==============================] - 62s 735ms/step - loss: 0.0952 - accuracy: 0.9688 - val_loss: 0.9608 - val_accuracy: 0.7233\n",
      "\n",
      "Epoch 00039: val_loss did not improve from 0.58569\n",
      "Epoch 40/50\n",
      "85/85 [==============================] - 62s 734ms/step - loss: 0.0900 - accuracy: 0.9729 - val_loss: 0.8869 - val_accuracy: 0.7500\n",
      "\n",
      "Epoch 00040: val_loss did not improve from 0.58569\n",
      "Epoch 41/50\n",
      "85/85 [==============================] - 62s 735ms/step - loss: 0.0737 - accuracy: 0.9781 - val_loss: 1.3181 - val_accuracy: 0.7167\n",
      "\n",
      "Epoch 00041: val_loss did not improve from 0.58569\n",
      "Epoch 42/50\n",
      "85/85 [==============================] - 62s 734ms/step - loss: 0.0731 - accuracy: 0.9751 - val_loss: 1.2269 - val_accuracy: 0.7900\n",
      "\n",
      "Epoch 00042: val_loss did not improve from 0.58569\n",
      "Epoch 43/50\n",
      "85/85 [==============================] - 62s 733ms/step - loss: 0.1058 - accuracy: 0.9707 - val_loss: 1.4080 - val_accuracy: 0.6967\n",
      "\n",
      "Epoch 00043: val_loss did not improve from 0.58569\n",
      "Epoch 44/50\n",
      "85/85 [==============================] - 62s 735ms/step - loss: 0.1001 - accuracy: 0.9692 - val_loss: 0.9860 - val_accuracy: 0.7933\n",
      "\n",
      "Epoch 00044: val_loss did not improve from 0.58569\n",
      "Epoch 45/50\n",
      "85/85 [==============================] - 63s 736ms/step - loss: 0.0675 - accuracy: 0.9788 - val_loss: 0.9411 - val_accuracy: 0.7900\n",
      "\n",
      "Epoch 00045: val_loss did not improve from 0.58569\n",
      "Epoch 46/50\n",
      "85/85 [==============================] - 62s 731ms/step - loss: 0.0673 - accuracy: 0.9800 - val_loss: 0.8553 - val_accuracy: 0.8000\n",
      "\n",
      "Epoch 00046: val_loss did not improve from 0.58569\n",
      "Epoch 47/50\n",
      "85/85 [==============================] - 62s 735ms/step - loss: 0.0682 - accuracy: 0.9807 - val_loss: 1.0338 - val_accuracy: 0.7767\n",
      "\n",
      "Epoch 00047: val_loss did not improve from 0.58569\n",
      "Epoch 48/50\n",
      "85/85 [==============================] - 62s 736ms/step - loss: 0.1172 - accuracy: 0.9684 - val_loss: 0.9035 - val_accuracy: 0.6967\n",
      "\n",
      "Epoch 00048: val_loss did not improve from 0.58569\n",
      "Epoch 49/50\n",
      "85/85 [==============================] - 62s 729ms/step - loss: 0.0806 - accuracy: 0.9755 - val_loss: 0.9591 - val_accuracy: 0.7867\n",
      "\n",
      "Epoch 00049: val_loss did not improve from 0.58569\n",
      "Epoch 50/50\n",
      "85/85 [==============================] - 62s 731ms/step - loss: 0.0440 - accuracy: 0.9852 - val_loss: 1.7799 - val_accuracy: 0.7567\n",
      "\n",
      "Epoch 00050: val_loss did not improve from 0.58569\n"
     ]
    }
   ],
   "source": [
    "hist_cnn = cnn.fit(x_train, y_train, epochs=50, validation_split = 0.1,\n",
    "                   callbacks=[checkpoint])"
   ]
  },
  {
   "cell_type": "code",
   "execution_count": 13,
   "id": "0c2bd8c0",
   "metadata": {
    "execution": {
     "iopub.execute_input": "2022-04-30T17:01:58.506921Z",
     "iopub.status.busy": "2022-04-30T17:01:58.506231Z",
     "iopub.status.idle": "2022-04-30T17:01:58.863497Z",
     "shell.execute_reply": "2022-04-30T17:01:58.864040Z"
    },
    "papermill": {
     "duration": 1.760041,
     "end_time": "2022-04-30T17:01:58.864193",
     "exception": false,
     "start_time": "2022-04-30T17:01:57.104152",
     "status": "completed"
    },
    "tags": []
   },
   "outputs": [
    {
     "data": {
      "image/png": "[encoded data removed]",
      "text/plain": [
       "<Figure size 432x288 with 1 Axes>"
      ]
     },
     "metadata": {
      "needs_background": "light"
     },
     "output_type": "display_data"
    },
    {
     "data": {
      "image/png": "[encoded data removed]",
      "text/plain": [
       "<Figure size 432x288 with 1 Axes>"
      ]
     },
     "metadata": {
      "needs_background": "light"
     },
     "output_type": "display_data"
    }
   ],
   "source": [
    "def plot_hist(hist, title):\n",
    "    plt.plot(hist.history[\"accuracy\"])\n",
    "    plt.plot(hist.history[\"val_accuracy\"])\n",
    "    plt.title(\"Accuracy \" + title)\n",
    "    plt.ylabel(\"accuracy\")\n",
    "    plt.xlabel(\"epoch\")\n",
    "    plt.legend([\"train\", \"validation\"], loc=\"upper left\")\n",
    "    plt.show()\n",
    "    \n",
    "    # summarize history for loss\n",
    "    plt.plot(hist.history['loss'])\n",
    "    plt.plot(hist.history['val_loss'])\n",
    "    plt.title(\"LOSS \" + title)\n",
    "    plt.ylabel('loss')\n",
    "    plt.xlabel('epoch')\n",
    "    plt.legend(['train', 'validation'], loc='upper left')\n",
    "    plt.show()\n",
    "\n",
    "\n",
    "plot_hist(hist_cnn, title=\"Efficient-Net B3\")"
   ]
  },
  {
   "cell_type": "code",
   "execution_count": 14,
   "id": "920203e2",
   "metadata": {
    "execution": {
     "iopub.execute_input": "2022-04-30T17:02:01.545123Z",
     "iopub.status.busy": "2022-04-30T17:02:01.544222Z",
     "iopub.status.idle": "2022-04-30T17:02:04.875524Z",
     "shell.execute_reply": "2022-04-30T17:02:04.876077Z"
    },
    "papermill": {
     "duration": 4.675807,
     "end_time": "2022-04-30T17:02:04.876295",
     "exception": false,
     "start_time": "2022-04-30T17:02:00.200488",
     "status": "completed"
    },
    "tags": []
   },
   "outputs": [
    {
     "name": "stdout",
     "output_type": "stream",
     "text": [
      "24/24 - 3s - loss: 2.1461 - accuracy: 0.7583\n",
      "\n",
      "Test accuracy: 0.7583444714546204\n"
     ]
    }
   ],
   "source": [
    "test_loss, test_acc = cnn.evaluate(x_test, y_test, verbose=2)\n",
    "print('\\nTest accuracy:', test_acc)"
   ]
  },
  {
   "cell_type": "markdown",
   "id": "stylish-assist",
   "metadata": {},
   "source": [
    "I risultati ottenuti sono nettamente migliori, si utilizzerà questo approccio."
   ]
  }
 ],
 "metadata": {
  "kernelspec": {
   "display_name": "Python 3",
   "language": "python",
   "name": "python3"
  },
  "language_info": {
   "codemirror_mode": {
    "name": "ipython",
    "version": 3
   },
   "file_extension": ".py",
   "mimetype": "text/x-python",
   "name": "python",
   "nbconvert_exporter": "python",
   "pygments_lexer": "ipython3",
   "version": "3.8.7"
  },
  "papermill": {
   "default_parameters": {},
   "duration": 3215.320983,
   "end_time": "2022-04-30T17:02:09.672312",
   "environment_variables": {},
   "exception": null,
   "input_path": "__notebook__.ipynb",
   "output_path": "__notebook__.ipynb",
   "parameters": {},
   "start_time": "2022-04-30T16:08:34.351329",
   "version": "2.3.3"
  }
 },
 "nbformat": 4,
 "nbformat_minor": 5
}
