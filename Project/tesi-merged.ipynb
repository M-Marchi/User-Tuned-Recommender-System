{
 "cells": [
  {
   "cell_type": "code",
   "execution_count": 1,
   "id": "6d91728e",
   "metadata": {
    "_cell_guid": "b1076dfc-b9ad-4769-8c92-a6c4dae69d19",
    "_uuid": "8f2839f25d086af736a60e9eeb907d3b93b6e0e5",
    "execution": {
     "iopub.execute_input": "2022-05-26T23:02:28.152331Z",
     "iopub.status.busy": "2022-05-26T23:02:28.151933Z",
     "iopub.status.idle": "2022-05-26T23:02:35.689277Z",
     "shell.execute_reply": "2022-05-26T23:02:35.688412Z"
    },
    "papermill": {
     "duration": 7.561673,
     "end_time": "2022-05-26T23:02:35.691782",
     "exception": false,
     "start_time": "2022-05-26T23:02:28.130109",
     "status": "completed"
    },
    "tags": []
   },
   "outputs": [],
   "source": [
    "import zipfile\n",
    "import os\n",
    "import pandas as pd\n",
    "import tensorflow as tf\n",
    "from tensorflow import keras\n",
    "from keras import optimizers\n",
    "from keras import layers\n",
    "from keras.regularizers import l2\n",
    "from tensorflow.keras.preprocessing import image\n",
    "from tensorflow.keras.models import Model\n",
    "from keras.models import Sequential\n",
    "from keras.layers import Dense, GlobalAveragePooling2D, Dropout, Flatten, concatenate\n",
    "from tensorflow.keras import regularizers\n",
    "from keras.callbacks import EarlyStopping\n",
    "from keras.callbacks import ModelCheckpoint\n",
    "from keras.utils.vis_utils import plot_model\n",
    "import pylab as pl\n",
    "import numpy as np\n",
    "import matplotlib.image as mpimg\n",
    "import matplotlib.pyplot as plt\n",
    "import seaborn as sns\n",
    "from sklearn.model_selection import train_test_split\n",
    "from keras.utils import np_utils\n",
    "from sklearn.metrics import confusion_matrix\n",
    "from sklearn import preprocessing\n",
    "import itertools\n",
    "import math\n",
    "\n",
    "\n",
    "# audio lib\n",
    "import librosa\n",
    "import librosa.display\n",
    "from librosa.util import fix_length\n",
    "\n",
    "import IPython.display as ipd\n",
    "from PIL import Image\n"
   ]
  },
  {
   "cell_type": "code",
   "execution_count": 2,
   "id": "35fdb877",
   "metadata": {
    "execution": {
     "iopub.execute_input": "2022-05-26T23:02:35.730500Z",
     "iopub.status.busy": "2022-05-26T23:02:35.730270Z",
     "iopub.status.idle": "2022-05-26T23:02:35.733906Z",
     "shell.execute_reply": "2022-05-26T23:02:35.733235Z"
    },
    "papermill": {
     "duration": 0.024891,
     "end_time": "2022-05-26T23:02:35.735541",
     "exception": false,
     "start_time": "2022-05-26T23:02:35.710650",
     "status": "completed"
    },
    "tags": []
   },
   "outputs": [],
   "source": [
    "import warnings\n",
    "warnings.filterwarnings(\"ignore\")"
   ]
  },
  {
   "cell_type": "markdown",
   "id": "80dd7c32",
   "metadata": {
    "papermill": {
     "duration": 0.018035,
     "end_time": "2022-05-26T23:02:35.772494",
     "exception": false,
     "start_time": "2022-05-26T23:02:35.754459",
     "status": "completed"
    },
    "tags": []
   },
   "source": [
    "# CNN MEL SPECTROGRAM APPROACH - MERGED DATASET\n",
    "\n",
    "Una volta capito che il modello migliore era quello ottenuto tramite CNN sono stati generati spettrogrammi di Mel corrispondenti i dataset: \"PMEmo\", \"4Q\", \"Emotify\".\n",
    "Al fine di ottenere un dataset finale più bilanciato del dataset \"PMEmo\" sono stati presi solo 600 campioni."
   ]
  },
  {
   "cell_type": "code",
   "execution_count": 3,
   "id": "45dc4958",
   "metadata": {
    "execution": {
     "iopub.execute_input": "2022-05-26T23:02:35.810025Z",
     "iopub.status.busy": "2022-05-26T23:02:35.809810Z",
     "iopub.status.idle": "2022-05-26T23:02:35.814506Z",
     "shell.execute_reply": "2022-05-26T23:02:35.813815Z"
    },
    "papermill": {
     "duration": 0.025462,
     "end_time": "2022-05-26T23:02:35.816161",
     "exception": false,
     "start_time": "2022-05-26T23:02:35.790699",
     "status": "completed"
    },
    "tags": []
   },
   "outputs": [],
   "source": [
    "import re\n",
    "def sorted_alphanumeric(data):\n",
    "    convert = lambda text: int(text) if text.isdigit() else text.lower()\n",
    "    alphanum_key = lambda key: [ convert(c) for c in re.split('([0-9]+)', key) ] \n",
    "    return sorted(data, key=alphanum_key)"
   ]
  },
  {
   "cell_type": "code",
   "execution_count": 4,
   "id": "eea6f354",
   "metadata": {
    "execution": {
     "iopub.execute_input": "2022-05-26T23:02:35.854719Z",
     "iopub.status.busy": "2022-05-26T23:02:35.854159Z",
     "iopub.status.idle": "2022-05-26T23:03:17.606369Z",
     "shell.execute_reply": "2022-05-26T23:03:17.605684Z"
    },
    "papermill": {
     "duration": 41.794589,
     "end_time": "2022-05-26T23:03:17.629547",
     "exception": false,
     "start_time": "2022-05-26T23:02:35.834958",
     "status": "completed"
    },
    "tags": []
   },
   "outputs": [
    {
     "data": {
      "text/plain": [
       "(5111, 300, 300, 3)"
      ]
     },
     "execution_count": 4,
     "metadata": {},
     "output_type": "execute_result"
    }
   ],
   "source": [
    "path1 = '../input/mel-pmemo/melspectrogram_dataset/'\n",
    "path2 = '../input/mel-4q/melspectrogram_dataset/'\n",
    "path3 = '../input/mel-emotify/melspectrogram_dataset/'\n",
    "\n",
    "\n",
    "# Load the images and the labels\n",
    "imgs = []\n",
    "dirlist1 = sorted_alphanumeric(os.listdir(path1))\n",
    "dirlist2 = sorted_alphanumeric(os.listdir(path2))\n",
    "dirlist3 = sorted_alphanumeric(os.listdir(path3))\n",
    "\n",
    "count_PMEmo = 0\n",
    "count_Emotify = 0\n",
    "for img in dirlist1:\n",
    "    \n",
    "    if count_PMEmo < 500:\n",
    "        pic = image.load_img((path1 + img))\n",
    "        imgs.append(np.array(pic))\n",
    "    \n",
    "    count_PMEmo = count_PMEmo + 1\n",
    "    \n",
    "for img in dirlist2:\n",
    "    pic = image.load_img((path2 + img))\n",
    "    imgs.append(np.array(pic))\n",
    "    \n",
    "for img in dirlist3:\n",
    "    if count_Emotify < 500:\n",
    "        pic = image.load_img((path3 + img))\n",
    "        imgs.append(np.array(pic))\n",
    "    \n",
    "    count_Emotify = count_Emotify + 1\n",
    "    \n",
    "\n",
    "imgs = np.array(imgs)\n",
    "imgs.shape"
   ]
  },
  {
   "cell_type": "code",
   "execution_count": 5,
   "id": "f2323f09",
   "metadata": {
    "execution": {
     "iopub.execute_input": "2022-05-26T23:03:17.668274Z",
     "iopub.status.busy": "2022-05-26T23:03:17.667966Z",
     "iopub.status.idle": "2022-05-26T23:03:17.745003Z",
     "shell.execute_reply": "2022-05-26T23:03:17.744377Z"
    },
    "papermill": {
     "duration": 0.098161,
     "end_time": "2022-05-26T23:03:17.746699",
     "exception": false,
     "start_time": "2022-05-26T23:03:17.648538",
     "status": "completed"
    },
    "tags": []
   },
   "outputs": [
    {
     "data": {
      "text/html": [
       "<div>\n",
       "<style scoped>\n",
       "    .dataframe tbody tr th:only-of-type {\n",
       "        vertical-align: middle;\n",
       "    }\n",
       "\n",
       "    .dataframe tbody tr th {\n",
       "        vertical-align: top;\n",
       "    }\n",
       "\n",
       "    .dataframe thead th {\n",
       "        text-align: right;\n",
       "    }\n",
       "</style>\n",
       "<table border=\"1\" class=\"dataframe\">\n",
       "  <thead>\n",
       "    <tr style=\"text-align: right;\">\n",
       "      <th></th>\n",
       "      <th>ID</th>\n",
       "      <th>Label</th>\n",
       "    </tr>\n",
       "  </thead>\n",
       "  <tbody>\n",
       "    <tr>\n",
       "      <th>0</th>\n",
       "      <td>1-0</td>\n",
       "      <td>1</td>\n",
       "    </tr>\n",
       "    <tr>\n",
       "      <th>1</th>\n",
       "      <td>1-1</td>\n",
       "      <td>1</td>\n",
       "    </tr>\n",
       "    <tr>\n",
       "      <th>2</th>\n",
       "      <td>1-2</td>\n",
       "      <td>1</td>\n",
       "    </tr>\n",
       "    <tr>\n",
       "      <th>3</th>\n",
       "      <td>1-3</td>\n",
       "      <td>1</td>\n",
       "    </tr>\n",
       "    <tr>\n",
       "      <th>4</th>\n",
       "      <td>1-4</td>\n",
       "      <td>1</td>\n",
       "    </tr>\n",
       "    <tr>\n",
       "      <th>...</th>\n",
       "      <td>...</td>\n",
       "      <td>...</td>\n",
       "    </tr>\n",
       "    <tr>\n",
       "      <th>5106</th>\n",
       "      <td>2102-0</td>\n",
       "      <td>1</td>\n",
       "    </tr>\n",
       "    <tr>\n",
       "      <th>5107</th>\n",
       "      <td>2102-1</td>\n",
       "      <td>1</td>\n",
       "    </tr>\n",
       "    <tr>\n",
       "      <th>5108</th>\n",
       "      <td>2102-2</td>\n",
       "      <td>1</td>\n",
       "    </tr>\n",
       "    <tr>\n",
       "      <th>5109</th>\n",
       "      <td>2102-3</td>\n",
       "      <td>1</td>\n",
       "    </tr>\n",
       "    <tr>\n",
       "      <th>5110</th>\n",
       "      <td>2102-4</td>\n",
       "      <td>1</td>\n",
       "    </tr>\n",
       "  </tbody>\n",
       "</table>\n",
       "<p>5111 rows × 2 columns</p>\n",
       "</div>"
      ],
      "text/plain": [
       "          ID  Label\n",
       "0        1-0      1\n",
       "1        1-1      1\n",
       "2        1-2      1\n",
       "3        1-3      1\n",
       "4        1-4      1\n",
       "...      ...    ...\n",
       "5106  2102-0      1\n",
       "5107  2102-1      1\n",
       "5108  2102-2      1\n",
       "5109  2102-3      1\n",
       "5110  2102-4      1\n",
       "\n",
       "[5111 rows x 2 columns]"
      ]
     },
     "execution_count": 5,
     "metadata": {},
     "output_type": "execute_result"
    }
   ],
   "source": [
    "df1 = pd.read_csv('../input/mel-pmemo/mel.csv')\n",
    "df2 = pd.read_csv('../input/mel-4q/mel.csv')\n",
    "df3 = pd.read_csv('../input/mel-emotify/mel.csv')\n",
    "\n",
    "\n",
    "df = pd.concat([df1[:500], df2, df3[:500]], ignore_index=True, sort=False)\n",
    "\n",
    "df"
   ]
  },
  {
   "cell_type": "code",
   "execution_count": 6,
   "id": "0998e46a",
   "metadata": {
    "execution": {
     "iopub.execute_input": "2022-05-26T23:03:17.787629Z",
     "iopub.status.busy": "2022-05-26T23:03:17.787099Z",
     "iopub.status.idle": "2022-05-26T23:03:17.794417Z",
     "shell.execute_reply": "2022-05-26T23:03:17.793768Z"
    },
    "papermill": {
     "duration": 0.029423,
     "end_time": "2022-05-26T23:03:17.796179",
     "exception": false,
     "start_time": "2022-05-26T23:03:17.766756",
     "status": "completed"
    },
    "tags": []
   },
   "outputs": [
    {
     "data": {
      "text/plain": [
       "(5111,)"
      ]
     },
     "execution_count": 6,
     "metadata": {},
     "output_type": "execute_result"
    }
   ],
   "source": [
    "Y = np.array(df['Label'])\n",
    "Y.shape"
   ]
  },
  {
   "cell_type": "code",
   "execution_count": 7,
   "id": "210d90ed",
   "metadata": {
    "execution": {
     "iopub.execute_input": "2022-05-26T23:03:17.836941Z",
     "iopub.status.busy": "2022-05-26T23:03:17.836283Z",
     "iopub.status.idle": "2022-05-26T23:03:18.015128Z",
     "shell.execute_reply": "2022-05-26T23:03:18.014309Z"
    },
    "papermill": {
     "duration": 0.201228,
     "end_time": "2022-05-26T23:03:18.016937",
     "exception": false,
     "start_time": "2022-05-26T23:03:17.815709",
     "status": "completed"
    },
    "tags": []
   },
   "outputs": [
    {
     "name": "stdout",
     "output_type": "stream",
     "text": [
      "[[   0 1116]\n",
      " [   1 1348]\n",
      " [   2 1091]\n",
      " [   3 1556]]\n"
     ]
    },
    {
     "data": {
      "image/png": "[encoded data removed]",
      "text/plain": [
       "<Figure size 432x288 with 1 Axes>"
      ]
     },
     "metadata": {
      "needs_background": "light"
     },
     "output_type": "display_data"
    }
   ],
   "source": [
    "unique, counts = np.unique(Y, return_counts=True)\n",
    "\n",
    "print(np.asarray((unique, counts)).T)\n",
    "\n",
    "\n",
    "pos  = np.arange(len(unique))\n",
    "width = 1.0    \n",
    "ax = plt.axes()\n",
    "ax.set_xticks(pos)\n",
    "ax.set_xticklabels(unique)\n",
    "\n",
    "plt.bar(pos, counts, width, color = ['r','b','g','y'])\n",
    "plt.show()"
   ]
  },
  {
   "cell_type": "code",
   "execution_count": 8,
   "id": "0062669e",
   "metadata": {
    "execution": {
     "iopub.execute_input": "2022-05-26T23:03:18.063848Z",
     "iopub.status.busy": "2022-05-26T23:03:18.063216Z",
     "iopub.status.idle": "2022-05-26T23:03:18.440673Z",
     "shell.execute_reply": "2022-05-26T23:03:18.439928Z"
    },
    "papermill": {
     "duration": 0.402944,
     "end_time": "2022-05-26T23:03:18.442564",
     "exception": false,
     "start_time": "2022-05-26T23:03:18.039620",
     "status": "completed"
    },
    "tags": []
   },
   "outputs": [
    {
     "data": {
      "text/plain": [
       "(4344, 300, 300, 3)"
      ]
     },
     "execution_count": 8,
     "metadata": {},
     "output_type": "execute_result"
    }
   ],
   "source": [
    "x_train, x_test, y_train, y_test = train_test_split(imgs, Y, test_size=0.15, shuffle = True,  random_state=1)\n",
    "\n",
    "x_train.shape"
   ]
  },
  {
   "cell_type": "markdown",
   "id": "9fce3866",
   "metadata": {
    "papermill": {
     "duration": 0.020768,
     "end_time": "2022-05-26T23:03:18.484368",
     "exception": false,
     "start_time": "2022-05-26T23:03:18.463600",
     "status": "completed"
    },
    "tags": []
   },
   "source": [
    "Si effettua uno studio sul learning rate al fine di ottenere il learning rate ottimale per il modello sulla base del dataset utilizzato."
   ]
  },
  {
   "cell_type": "code",
   "execution_count": 9,
   "id": "467677ef",
   "metadata": {
    "execution": {
     "iopub.execute_input": "2022-05-26T23:03:18.539048Z",
     "iopub.status.busy": "2022-05-26T23:03:18.538464Z",
     "iopub.status.idle": "2022-05-26T23:03:18.582881Z",
     "shell.execute_reply": "2022-05-26T23:03:18.582202Z"
    },
    "papermill": {
     "duration": 0.079739,
     "end_time": "2022-05-26T23:03:18.584685",
     "exception": false,
     "start_time": "2022-05-26T23:03:18.504946",
     "status": "completed"
    },
    "tags": []
   },
   "outputs": [],
   "source": [
    "from keras.callbacks import LambdaCallback\n",
    "import keras.backend as K\n",
    "\n",
    "class LRFinder:\n",
    "    \"\"\"\n",
    "    Plots the change of the loss function of a Keras model when the learning rate is exponentially increasing.\n",
    "    See for details:\n",
    "    https://towardsdatascience.com/estimating-optimal-learning-rate-for-a-deep-neural-network-ce32f2556ce0\n",
    "    \"\"\"\n",
    "\n",
    "    def __init__(self, model):\n",
    "        self.model = model\n",
    "        self.losses = []\n",
    "        self.lrs = []\n",
    "        self.best_loss = 1e9\n",
    "\n",
    "    def on_batch_end(self, batch, logs):\n",
    "        # Log the learning rate\n",
    "        lr = K.get_value(self.model.optimizer.lr)\n",
    "        self.lrs.append(lr)\n",
    "\n",
    "        # Log the loss\n",
    "        loss = logs['loss']\n",
    "        self.losses.append(loss)\n",
    "\n",
    "        # Check whether the loss got too large or NaN\n",
    "        if batch > 5 and (math.isnan(loss) or loss > self.best_loss * 4):\n",
    "            self.model.stop_training = True\n",
    "            return\n",
    "\n",
    "        if loss < self.best_loss:\n",
    "            self.best_loss = loss\n",
    "\n",
    "        # Increase the learning rate for the next batch\n",
    "        lr *= self.lr_mult\n",
    "        K.set_value(self.model.optimizer.lr, lr)\n",
    "\n",
    "    def find(self, x_train, y_train, start_lr, end_lr, batch_size=64, epochs=1, **kw_fit):\n",
    "        # If x_train contains data for multiple inputs, use length of the first input.\n",
    "        # Assumption: the first element in the list is single input; NOT a list of inputs.\n",
    "        N = x_train[0].shape[0] if isinstance(x_train, list) else x_train.shape[0]\n",
    "\n",
    "        # Compute number of batches and LR multiplier\n",
    "        num_batches = epochs * N / batch_size\n",
    "        self.lr_mult = (float(end_lr) / float(start_lr)) ** (float(1) / float(num_batches))\n",
    "        # Save weights into a file\n",
    "        initial_weights = self.model.get_weights()\n",
    "\n",
    "        # Remember the original learning rate\n",
    "        original_lr = K.get_value(self.model.optimizer.lr)\n",
    "\n",
    "        # Set the initial learning rate\n",
    "        K.set_value(self.model.optimizer.lr, start_lr)\n",
    "\n",
    "        callback = LambdaCallback(on_batch_end=lambda batch, logs: self.on_batch_end(batch, logs))\n",
    "\n",
    "        self.model.fit(x_train, y_train,\n",
    "                       batch_size=batch_size, epochs=epochs,\n",
    "                       callbacks=[callback],\n",
    "                       **kw_fit)\n",
    "\n",
    "        # Restore the weights to the state before model fitting\n",
    "        self.model.set_weights(initial_weights)\n",
    "\n",
    "        # Restore the original learning rate\n",
    "        K.set_value(self.model.optimizer.lr, original_lr)\n",
    "\n",
    "    def find_generator(self, generator, start_lr, end_lr, epochs=1, steps_per_epoch=None, **kw_fit):\n",
    "        if steps_per_epoch is None:\n",
    "            try:\n",
    "                steps_per_epoch = len(generator)\n",
    "            except (ValueError, NotImplementedError) as e:\n",
    "                raise e('`steps_per_epoch=None` is only valid for a'\n",
    "                        ' generator based on the '\n",
    "                        '`keras.utils.Sequence`'\n",
    "                        ' class. Please specify `steps_per_epoch` '\n",
    "                        'or use the `keras.utils.Sequence` class.')\n",
    "        self.lr_mult = (float(end_lr) / float(start_lr)) ** (float(1) / float(epochs * steps_per_epoch))\n",
    "\n",
    "        # Save weights into a file\n",
    "        initial_weights = self.model.get_weights()\n",
    "\n",
    "        # Remember the original learning rate\n",
    "        original_lr = K.get_value(self.model.optimizer.lr)\n",
    "\n",
    "        # Set the initial learning rate\n",
    "        K.set_value(self.model.optimizer.lr, start_lr)\n",
    "\n",
    "        callback = LambdaCallback(on_batch_end=lambda batch,\n",
    "                                                      logs: self.on_batch_end(batch, logs))\n",
    "\n",
    "        self.model.fit_generator(generator=generator,\n",
    "                                 epochs=epochs,\n",
    "                                 steps_per_epoch=steps_per_epoch,\n",
    "                                 callbacks=[callback],\n",
    "                                 **kw_fit)\n",
    "\n",
    "        # Restore the weights to the state before model fitting\n",
    "        self.model.set_weights(initial_weights)\n",
    "\n",
    "        # Restore the original learning rate\n",
    "        K.set_value(self.model.optimizer.lr, original_lr)\n",
    "\n",
    "    def plot_loss(self, n_skip_beginning=10, n_skip_end=5, x_scale='log'):\n",
    "        \"\"\"\n",
    "        Plots the loss.\n",
    "        Parameters:\n",
    "            n_skip_beginning - number of batches to skip on the left.\n",
    "            n_skip_end - number of batches to skip on the right.\n",
    "        \"\"\"\n",
    "        plt.ylabel(\"loss\")\n",
    "        plt.xlabel(\"learning rate (log scale)\")\n",
    "        plt.plot(self.lrs[n_skip_beginning:-n_skip_end], self.losses[n_skip_beginning:-n_skip_end])\n",
    "        plt.xscale(x_scale)\n",
    "        plt.show()\n",
    "\n",
    "    def plot_loss_change(self, sma=1, n_skip_beginning=10, n_skip_end=5, y_lim=(-0.01, 0.01)):\n",
    "        \"\"\"\n",
    "        Plots rate of change of the loss function.\n",
    "        Parameters:\n",
    "            sma - number of batches for simple moving average to smooth out the curve.\n",
    "            n_skip_beginning - number of batches to skip on the left.\n",
    "            n_skip_end - number of batches to skip on the right.\n",
    "            y_lim - limits for the y axis.\n",
    "        \"\"\"\n",
    "        derivatives = self.get_derivatives(sma)[n_skip_beginning:-n_skip_end]\n",
    "        lrs = self.lrs[n_skip_beginning:-n_skip_end]\n",
    "        plt.ylabel(\"rate of loss change\")\n",
    "        plt.xlabel(\"learning rate (log scale)\")\n",
    "        plt.plot(lrs, derivatives)\n",
    "        plt.xscale('log')\n",
    "        plt.ylim(y_lim)\n",
    "        plt.show()\n",
    "\n",
    "    def get_derivatives(self, sma):\n",
    "        assert sma >= 1\n",
    "        derivatives = [0] * sma\n",
    "        for i in range(sma, len(self.lrs)):\n",
    "            derivatives.append((self.losses[i] - self.losses[i - sma]) / sma)\n",
    "        return derivatives\n",
    "\n",
    "    def get_best_lr(self, sma, n_skip_beginning=10, n_skip_end=5):\n",
    "        derivatives = self.get_derivatives(sma)\n",
    "        best_der_idx = np.argmin(derivatives[n_skip_beginning:-n_skip_end])\n",
    "        return self.lrs[n_skip_beginning:-n_skip_end][best_der_idx]"
   ]
  },
  {
   "cell_type": "markdown",
   "id": "7a9d2fc0",
   "metadata": {
    "papermill": {
     "duration": 0.020451,
     "end_time": "2022-05-26T23:03:18.627121",
     "exception": false,
     "start_time": "2022-05-26T23:03:18.606670",
     "status": "completed"
    },
    "tags": []
   },
   "source": [
    "Si procede a costruire il modello della rete neurale convoluzionale.\n",
    "si utilizzano i seguenti iperparametri:\n",
    "\n",
    "\n",
    "*   Tipo di modello: CNN\n",
    "*   Modello di partenza: EfficientNetB3\n",
    "*   Numero di epoche 50;\n",
    "*   Activation Output Layer Softmax: funzione più usata per la classificazione multiclasse;\n",
    "*   Activation Hidden Layer ReLU: è la funzione di \"deafult\" grazie alla sua versatilità per la maggior parte degli utilizzi;\n",
    "*   Loss Function Sparse Categorical Crossentropy: funzione usata nella classificazione multiclasse usando varibili categoriche;\n",
    "*   Optimizer adam con learning rate ottimale;\n",
    "*   Regolarizzazione tramite L2 con alpha = 0.1: si limitano le unità con pesi troppo grossi per evitare overfitting e tramite dropout decrescente.\n",
    "*   Per evitare overfitting si utilizzeranno i pesi che ottengono il miglior valore di accuracy sul validation set."
   ]
  },
  {
   "cell_type": "code",
   "execution_count": 10,
   "id": "596d374e",
   "metadata": {
    "execution": {
     "iopub.execute_input": "2022-05-26T23:03:18.670299Z",
     "iopub.status.busy": "2022-05-26T23:03:18.669641Z",
     "iopub.status.idle": "2022-05-26T23:03:24.302911Z",
     "shell.execute_reply": "2022-05-26T23:03:24.302164Z"
    },
    "papermill": {
     "duration": 5.656961,
     "end_time": "2022-05-26T23:03:24.305022",
     "exception": false,
     "start_time": "2022-05-26T23:03:18.648061",
     "status": "completed"
    },
    "tags": []
   },
   "outputs": [
    {
     "name": "stderr",
     "output_type": "stream",
     "text": [
      "2022-05-26 23:03:18.772323: I tensorflow/stream_executor/cuda/cuda_gpu_executor.cc:937] successful NUMA node read from SysFS had negative value (-1), but there must be at least one NUMA node, so returning NUMA node zero\n",
      "2022-05-26 23:03:18.902995: I tensorflow/stream_executor/cuda/cuda_gpu_executor.cc:937] successful NUMA node read from SysFS had negative value (-1), but there must be at least one NUMA node, so returning NUMA node zero\n",
      "2022-05-26 23:03:18.903747: I tensorflow/stream_executor/cuda/cuda_gpu_executor.cc:937] successful NUMA node read from SysFS had negative value (-1), but there must be at least one NUMA node, so returning NUMA node zero\n",
      "2022-05-26 23:03:18.904936: I tensorflow/core/platform/cpu_feature_guard.cc:142] This TensorFlow binary is optimized with oneAPI Deep Neural Network Library (oneDNN) to use the following CPU instructions in performance-critical operations:  AVX2 AVX512F FMA\n",
      "To enable them in other operations, rebuild TensorFlow with the appropriate compiler flags.\n",
      "2022-05-26 23:03:18.905238: I tensorflow/stream_executor/cuda/cuda_gpu_executor.cc:937] successful NUMA node read from SysFS had negative value (-1), but there must be at least one NUMA node, so returning NUMA node zero\n",
      "2022-05-26 23:03:18.905926: I tensorflow/stream_executor/cuda/cuda_gpu_executor.cc:937] successful NUMA node read from SysFS had negative value (-1), but there must be at least one NUMA node, so returning NUMA node zero\n",
      "2022-05-26 23:03:18.906556: I tensorflow/stream_executor/cuda/cuda_gpu_executor.cc:937] successful NUMA node read from SysFS had negative value (-1), but there must be at least one NUMA node, so returning NUMA node zero\n",
      "2022-05-26 23:03:20.787118: I tensorflow/stream_executor/cuda/cuda_gpu_executor.cc:937] successful NUMA node read from SysFS had negative value (-1), but there must be at least one NUMA node, so returning NUMA node zero\n",
      "2022-05-26 23:03:20.787960: I tensorflow/stream_executor/cuda/cuda_gpu_executor.cc:937] successful NUMA node read from SysFS had negative value (-1), but there must be at least one NUMA node, so returning NUMA node zero\n",
      "2022-05-26 23:03:20.788645: I tensorflow/stream_executor/cuda/cuda_gpu_executor.cc:937] successful NUMA node read from SysFS had negative value (-1), but there must be at least one NUMA node, so returning NUMA node zero\n",
      "2022-05-26 23:03:20.790116: I tensorflow/core/common_runtime/gpu/gpu_device.cc:1510] Created device /job:localhost/replica:0/task:0/device:GPU:0 with 15403 MB memory:  -> device: 0, name: Tesla P100-PCIE-16GB, pci bus id: 0000:00:04.0, compute capability: 6.0\n"
     ]
    }
   ],
   "source": [
    "# Load a pre-trained neural network to use for transfer learning\n",
    "base_net = keras.applications.EfficientNetB3(\n",
    "    input_shape=(300,300,3),\n",
    "    weights='../input/noisystudentkeras/noisystudent_efficientnetb3_notop.h5',\n",
    "    include_top=False,\n",
    "    drop_connect_rate=0.5,\n",
    "    pooling='avg'\n",
    ")\n",
    "\n",
    "# Set the layers of the base net to not be trained\n",
    "for layer in base_net.layers:\n",
    "  layer.trainable=True"
   ]
  },
  {
   "cell_type": "code",
   "execution_count": 11,
   "id": "58390357",
   "metadata": {
    "execution": {
     "iopub.execute_input": "2022-05-26T23:03:24.350528Z",
     "iopub.status.busy": "2022-05-26T23:03:24.349990Z",
     "iopub.status.idle": "2022-05-26T23:03:24.430894Z",
     "shell.execute_reply": "2022-05-26T23:03:24.430227Z"
    },
    "papermill": {
     "duration": 0.10545,
     "end_time": "2022-05-26T23:03:24.432988",
     "exception": false,
     "start_time": "2022-05-26T23:03:24.327538",
     "status": "completed"
    },
    "tags": []
   },
   "outputs": [],
   "source": [
    "x = Flatten()(base_net.layers[-1].output)\n",
    "x = keras.layers.Dense(1024, activation='relu', kernel_regularizer=l2(0.1), bias_regularizer=l2(0.1))(x)\n",
    "x = keras.layers.Dropout(0.5)(x)\n",
    "x = keras.layers.Dense(512, activation='relu', kernel_regularizer=l2(0.1), bias_regularizer=l2(0.1))(x)\n",
    "x = keras.layers.Dropout(0.4)(x)\n",
    "x = keras.layers.Dense(128, activation='relu', kernel_regularizer=l2(0.1), bias_regularizer=l2(0.1))(x)\n",
    "x = keras.layers.Dropout(0.3)(x)\n",
    "x = keras.layers.Dense(4, activation='softmax')(x)\n",
    "outputs = x\n",
    "\n",
    "OPT = tf.keras.optimizers.Adam()\n",
    "\n",
    "cnn = keras.Model(inputs=base_net.inputs, outputs=outputs)\n",
    "cnn.compile(loss='sparse_categorical_crossentropy', optimizer=OPT, metrics=['accuracy'])\n",
    "\n",
    "#cnn.summary()"
   ]
  },
  {
   "cell_type": "code",
   "execution_count": 12,
   "id": "543a46d0",
   "metadata": {
    "execution": {
     "iopub.execute_input": "2022-05-26T23:03:24.476669Z",
     "iopub.status.busy": "2022-05-26T23:03:24.476127Z",
     "iopub.status.idle": "2022-05-26T23:10:09.305726Z",
     "shell.execute_reply": "2022-05-26T23:10:09.305000Z"
    },
    "papermill": {
     "duration": 404.853742,
     "end_time": "2022-05-26T23:10:09.307962",
     "exception": false,
     "start_time": "2022-05-26T23:03:24.454220",
     "status": "completed"
    },
    "tags": []
   },
   "outputs": [
    {
     "name": "stderr",
     "output_type": "stream",
     "text": [
      "2022-05-26 23:03:24.611238: W tensorflow/core/framework/cpu_allocator_impl.cc:80] Allocation of 1172880000 exceeds 10% of free system memory.\n",
      "2022-05-26 23:03:25.941068: W tensorflow/core/framework/cpu_allocator_impl.cc:80] Allocation of 1172880000 exceeds 10% of free system memory.\n",
      "2022-05-26 23:03:26.840146: I tensorflow/compiler/mlir/mlir_graph_optimization_pass.cc:185] None of the MLIR Optimization Passes are enabled (registered 2)\n"
     ]
    },
    {
     "name": "stdout",
     "output_type": "stream",
     "text": [
      "Epoch 1/5\n"
     ]
    },
    {
     "name": "stderr",
     "output_type": "stream",
     "text": [
      "2022-05-26 23:03:40.520221: I tensorflow/stream_executor/cuda/cuda_dnn.cc:369] Loaded cuDNN version 8005\n"
     ]
    },
    {
     "name": "stdout",
     "output_type": "stream",
     "text": [
      "136/136 [==============================] - 120s 736ms/step - loss: 117.0224 - accuracy: 0.3978\n",
      "Epoch 2/5\n",
      "136/136 [==============================] - 99s 728ms/step - loss: 4.7307 - accuracy: 0.5536\n",
      "Epoch 3/5\n",
      "136/136 [==============================] - 99s 729ms/step - loss: 1.8372 - accuracy: 0.4178\n",
      "Epoch 4/5\n",
      "136/136 [==============================] - 84s 615ms/step - loss: 7.0731 - accuracy: 0.2965\n"
     ]
    }
   ],
   "source": [
    "# model is a Keras model\n",
    "lr_finder = LRFinder(cnn)\n",
    "\n",
    "# Train a model with learning rate growing exponentially from 0.0001 to 1\n",
    "lr_finder.find(x_train, y_train, start_lr=0.0001, end_lr=1, batch_size=32, epochs=5)"
   ]
  },
  {
   "cell_type": "code",
   "execution_count": 13,
   "id": "64fd89f8",
   "metadata": {
    "execution": {
     "iopub.execute_input": "2022-05-26T23:10:09.692815Z",
     "iopub.status.busy": "2022-05-26T23:10:09.692542Z",
     "iopub.status.idle": "2022-05-26T23:11:01.951325Z",
     "shell.execute_reply": "2022-05-26T23:11:01.950638Z"
    },
    "papermill": {
     "duration": 52.644116,
     "end_time": "2022-05-26T23:11:02.141261",
     "exception": false,
     "start_time": "2022-05-26T23:10:09.497145",
     "status": "completed"
    },
    "tags": []
   },
   "outputs": [
    {
     "data": {
      "image/png": "[encoded data removed]",
      "text/plain": [
       "<Figure size 432x288 with 1 Axes>"
      ]
     },
     "metadata": {
      "needs_background": "light"
     },
     "output_type": "display_data"
    }
   ],
   "source": [
    "# Plot the loss, ignore 20 batches in the beginning and 5 in the end\n",
    "lr_finder.plot_loss(n_skip_beginning=20, n_skip_end=5)\n",
    "plt.show()"
   ]
  },
  {
   "cell_type": "code",
   "execution_count": 14,
   "id": "177e8602",
   "metadata": {
    "execution": {
     "iopub.execute_input": "2022-05-26T23:11:02.518873Z",
     "iopub.status.busy": "2022-05-26T23:11:02.518590Z",
     "iopub.status.idle": "2022-05-26T23:11:02.524085Z",
     "shell.execute_reply": "2022-05-26T23:11:02.523348Z"
    },
    "papermill": {
     "duration": 0.197159,
     "end_time": "2022-05-26T23:11:02.526372",
     "exception": false,
     "start_time": "2022-05-26T23:11:02.329213",
     "status": "completed"
    },
    "tags": []
   },
   "outputs": [
    {
     "name": "stdout",
     "output_type": "stream",
     "text": [
      "0.00063310104\n"
     ]
    }
   ],
   "source": [
    "optimal_lr = lr_finder.get_best_lr(sma=1)\n",
    "print(optimal_lr)\n",
    "OPT = tf.keras.optimizers.Adam(learning_rate=optimal_lr)"
   ]
  },
  {
   "cell_type": "code",
   "execution_count": 15,
   "id": "dc7cd9d0",
   "metadata": {
    "execution": {
     "iopub.execute_input": "2022-05-26T23:11:02.905444Z",
     "iopub.status.busy": "2022-05-26T23:11:02.905193Z",
     "iopub.status.idle": "2022-05-26T23:11:02.909245Z",
     "shell.execute_reply": "2022-05-26T23:11:02.908542Z"
    },
    "papermill": {
     "duration": 0.194183,
     "end_time": "2022-05-26T23:11:02.910906",
     "exception": false,
     "start_time": "2022-05-26T23:11:02.716723",
     "status": "completed"
    },
    "tags": []
   },
   "outputs": [],
   "source": [
    "filepath_cnn=\"weights.cnn.hdf5\"\n",
    "checkpoint = ModelCheckpoint(filepath_cnn, monitor='val_accuracy', verbose=1, save_best_only=True, mode='max')"
   ]
  },
  {
   "cell_type": "code",
   "execution_count": 16,
   "id": "ad153100",
   "metadata": {
    "execution": {
     "iopub.execute_input": "2022-05-26T23:11:03.289340Z",
     "iopub.status.busy": "2022-05-26T23:11:03.289094Z",
     "iopub.status.idle": "2022-05-27T00:23:13.347321Z",
     "shell.execute_reply": "2022-05-27T00:23:13.346343Z"
    },
    "papermill": {
     "duration": 4330.250349,
     "end_time": "2022-05-27T00:23:13.349634",
     "exception": false,
     "start_time": "2022-05-26T23:11:03.099285",
     "status": "completed"
    },
    "tags": []
   },
   "outputs": [
    {
     "name": "stderr",
     "output_type": "stream",
     "text": [
      "2022-05-26 23:11:03.329625: W tensorflow/core/framework/cpu_allocator_impl.cc:80] Allocation of 996840000 exceeds 10% of free system memory.\n",
      "2022-05-26 23:11:04.334965: W tensorflow/core/framework/cpu_allocator_impl.cc:80] Allocation of 996840000 exceeds 10% of free system memory.\n"
     ]
    },
    {
     "name": "stdout",
     "output_type": "stream",
     "text": [
      "Epoch 1/50\n",
      "116/116 [==============================] - 101s 765ms/step - loss: 48.8760 - accuracy: 0.4615 - val_loss: 3.1509 - val_accuracy: 0.5491\n",
      "\n",
      "Epoch 00001: val_accuracy improved from -inf to 0.54908, saving model to weights.cnn.hdf5\n",
      "Epoch 2/50\n",
      "116/116 [==============================] - 85s 737ms/step - loss: 1.6184 - accuracy: 0.5948 - val_loss: 1.3302 - val_accuracy: 0.5583\n",
      "\n",
      "Epoch 00002: val_accuracy improved from 0.54908 to 0.55828, saving model to weights.cnn.hdf5\n",
      "Epoch 3/50\n",
      "116/116 [==============================] - 86s 738ms/step - loss: 1.0609 - accuracy: 0.6192 - val_loss: 1.1517 - val_accuracy: 0.5675\n",
      "\n",
      "Epoch 00003: val_accuracy improved from 0.55828 to 0.56748, saving model to weights.cnn.hdf5\n",
      "Epoch 4/50\n",
      "116/116 [==============================] - 85s 737ms/step - loss: 0.9721 - accuracy: 0.6495 - val_loss: 1.0020 - val_accuracy: 0.6227\n",
      "\n",
      "Epoch 00004: val_accuracy improved from 0.56748 to 0.62270, saving model to weights.cnn.hdf5\n",
      "Epoch 5/50\n",
      "116/116 [==============================] - 86s 745ms/step - loss: 0.9237 - accuracy: 0.6614 - val_loss: 0.9920 - val_accuracy: 0.6166\n",
      "\n",
      "Epoch 00005: val_accuracy did not improve from 0.62270\n",
      "Epoch 6/50\n",
      "116/116 [==============================] - 85s 733ms/step - loss: 0.8562 - accuracy: 0.6874 - val_loss: 1.0181 - val_accuracy: 0.6196\n",
      "\n",
      "Epoch 00006: val_accuracy did not improve from 0.62270\n",
      "Epoch 7/50\n",
      "116/116 [==============================] - 85s 736ms/step - loss: 0.8307 - accuracy: 0.6939 - val_loss: 0.9654 - val_accuracy: 0.6258\n",
      "\n",
      "Epoch 00007: val_accuracy improved from 0.62270 to 0.62577, saving model to weights.cnn.hdf5\n",
      "Epoch 8/50\n",
      "116/116 [==============================] - 86s 742ms/step - loss: 0.8050 - accuracy: 0.7004 - val_loss: 0.9602 - val_accuracy: 0.6334\n",
      "\n",
      "Epoch 00008: val_accuracy improved from 0.62577 to 0.63344, saving model to weights.cnn.hdf5\n",
      "Epoch 9/50\n",
      "116/116 [==============================] - 86s 738ms/step - loss: 0.7828 - accuracy: 0.7105 - val_loss: 1.0634 - val_accuracy: 0.6273\n",
      "\n",
      "Epoch 00009: val_accuracy did not improve from 0.63344\n",
      "Epoch 10/50\n",
      "116/116 [==============================] - 86s 739ms/step - loss: 0.7250 - accuracy: 0.7259 - val_loss: 1.2227 - val_accuracy: 0.5905\n",
      "\n",
      "Epoch 00010: val_accuracy did not improve from 0.63344\n",
      "Epoch 11/50\n",
      "116/116 [==============================] - 86s 738ms/step - loss: 0.7292 - accuracy: 0.7272 - val_loss: 0.9388 - val_accuracy: 0.6380\n",
      "\n",
      "Epoch 00011: val_accuracy improved from 0.63344 to 0.63804, saving model to weights.cnn.hdf5\n",
      "Epoch 12/50\n",
      "116/116 [==============================] - 86s 740ms/step - loss: 0.6905 - accuracy: 0.7370 - val_loss: 1.0649 - val_accuracy: 0.6135\n",
      "\n",
      "Epoch 00012: val_accuracy did not improve from 0.63804\n",
      "Epoch 13/50\n",
      "116/116 [==============================] - 86s 740ms/step - loss: 0.6982 - accuracy: 0.7346 - val_loss: 0.9924 - val_accuracy: 0.6058\n",
      "\n",
      "Epoch 00013: val_accuracy did not improve from 0.63804\n",
      "Epoch 14/50\n",
      "116/116 [==============================] - 86s 737ms/step - loss: 0.6241 - accuracy: 0.7538 - val_loss: 1.5120 - val_accuracy: 0.5890\n",
      "\n",
      "Epoch 00014: val_accuracy did not improve from 0.63804\n",
      "Epoch 15/50\n",
      "116/116 [==============================] - 86s 739ms/step - loss: 0.6336 - accuracy: 0.7560 - val_loss: 1.0141 - val_accuracy: 0.6227\n",
      "\n",
      "Epoch 00015: val_accuracy did not improve from 0.63804\n",
      "Epoch 16/50\n",
      "116/116 [==============================] - 86s 738ms/step - loss: 0.6140 - accuracy: 0.7608 - val_loss: 1.1136 - val_accuracy: 0.6135\n",
      "\n",
      "Epoch 00016: val_accuracy did not improve from 0.63804\n",
      "Epoch 17/50\n",
      "116/116 [==============================] - 85s 736ms/step - loss: 0.6109 - accuracy: 0.7646 - val_loss: 0.9517 - val_accuracy: 0.6396\n",
      "\n",
      "Epoch 00017: val_accuracy improved from 0.63804 to 0.63957, saving model to weights.cnn.hdf5\n",
      "Epoch 18/50\n",
      "116/116 [==============================] - 86s 739ms/step - loss: 0.5823 - accuracy: 0.7719 - val_loss: 1.0653 - val_accuracy: 0.6365\n",
      "\n",
      "Epoch 00018: val_accuracy did not improve from 0.63957\n",
      "Epoch 19/50\n",
      "116/116 [==============================] - 86s 742ms/step - loss: 0.5954 - accuracy: 0.7706 - val_loss: 0.9895 - val_accuracy: 0.6718\n",
      "\n",
      "Epoch 00019: val_accuracy improved from 0.63957 to 0.67178, saving model to weights.cnn.hdf5\n",
      "Epoch 20/50\n",
      "116/116 [==============================] - 85s 736ms/step - loss: 0.5990 - accuracy: 0.7690 - val_loss: 1.0004 - val_accuracy: 0.6058\n",
      "\n",
      "Epoch 00020: val_accuracy did not improve from 0.67178\n",
      "Epoch 21/50\n",
      "116/116 [==============================] - 86s 738ms/step - loss: 0.5266 - accuracy: 0.7893 - val_loss: 0.9824 - val_accuracy: 0.6580\n",
      "\n",
      "Epoch 00021: val_accuracy did not improve from 0.67178\n",
      "Epoch 22/50\n",
      "116/116 [==============================] - 86s 740ms/step - loss: 0.5382 - accuracy: 0.8036 - val_loss: 0.9741 - val_accuracy: 0.6764\n",
      "\n",
      "Epoch 00022: val_accuracy improved from 0.67178 to 0.67638, saving model to weights.cnn.hdf5\n",
      "Epoch 23/50\n",
      "116/116 [==============================] - 86s 741ms/step - loss: 0.5959 - accuracy: 0.8042 - val_loss: 1.1354 - val_accuracy: 0.6748\n",
      "\n",
      "Epoch 00023: val_accuracy did not improve from 0.67638\n",
      "Epoch 24/50\n",
      "116/116 [==============================] - 86s 740ms/step - loss: 0.5814 - accuracy: 0.8090 - val_loss: 1.1894 - val_accuracy: 0.6181\n",
      "\n",
      "Epoch 00024: val_accuracy did not improve from 0.67638\n",
      "Epoch 25/50\n",
      "116/116 [==============================] - 86s 739ms/step - loss: 0.5344 - accuracy: 0.8321 - val_loss: 1.1160 - val_accuracy: 0.6426\n",
      "\n",
      "Epoch 00025: val_accuracy did not improve from 0.67638\n",
      "Epoch 26/50\n",
      "116/116 [==============================] - 86s 743ms/step - loss: 0.5555 - accuracy: 0.8299 - val_loss: 0.9692 - val_accuracy: 0.6472\n",
      "\n",
      "Epoch 00026: val_accuracy did not improve from 0.67638\n",
      "Epoch 27/50\n",
      "116/116 [==============================] - 86s 739ms/step - loss: 0.5694 - accuracy: 0.8418 - val_loss: 1.1052 - val_accuracy: 0.7285\n",
      "\n",
      "Epoch 00027: val_accuracy improved from 0.67638 to 0.72853, saving model to weights.cnn.hdf5\n",
      "Epoch 28/50\n",
      "116/116 [==============================] - 86s 741ms/step - loss: 0.5269 - accuracy: 0.8751 - val_loss: 1.1318 - val_accuracy: 0.7147\n",
      "\n",
      "Epoch 00028: val_accuracy did not improve from 0.72853\n",
      "Epoch 29/50\n",
      "116/116 [==============================] - 86s 740ms/step - loss: 0.4741 - accuracy: 0.8933 - val_loss: 1.0411 - val_accuracy: 0.6227\n",
      "\n",
      "Epoch 00029: val_accuracy did not improve from 0.72853\n",
      "Epoch 30/50\n",
      "116/116 [==============================] - 86s 738ms/step - loss: 0.6234 - accuracy: 0.8342 - val_loss: 1.2406 - val_accuracy: 0.7132\n",
      "\n",
      "Epoch 00030: val_accuracy did not improve from 0.72853\n",
      "Epoch 31/50\n",
      "116/116 [==============================] - 85s 737ms/step - loss: 0.5386 - accuracy: 0.8876 - val_loss: 1.2950 - val_accuracy: 0.7086\n",
      "\n",
      "Epoch 00031: val_accuracy did not improve from 0.72853\n",
      "Epoch 32/50\n",
      "116/116 [==============================] - 86s 739ms/step - loss: 0.4511 - accuracy: 0.9217 - val_loss: 1.1404 - val_accuracy: 0.7147\n",
      "\n",
      "Epoch 00032: val_accuracy did not improve from 0.72853\n",
      "Epoch 33/50\n",
      "116/116 [==============================] - 86s 741ms/step - loss: 0.6299 - accuracy: 0.8873 - val_loss: 1.1684 - val_accuracy: 0.6887\n",
      "\n",
      "Epoch 00033: val_accuracy did not improve from 0.72853\n",
      "Epoch 34/50\n",
      "116/116 [==============================] - 85s 736ms/step - loss: 0.5337 - accuracy: 0.8998 - val_loss: 1.2349 - val_accuracy: 0.7193\n",
      "\n",
      "Epoch 00034: val_accuracy did not improve from 0.72853\n",
      "Epoch 35/50\n",
      "116/116 [==============================] - 85s 735ms/step - loss: 0.4747 - accuracy: 0.9328 - val_loss: 1.4420 - val_accuracy: 0.7224\n",
      "\n",
      "Epoch 00035: val_accuracy did not improve from 0.72853\n",
      "Epoch 36/50\n",
      "116/116 [==============================] - 86s 740ms/step - loss: 0.4584 - accuracy: 0.9350 - val_loss: 1.1128 - val_accuracy: 0.7454\n",
      "\n",
      "Epoch 00036: val_accuracy improved from 0.72853 to 0.74540, saving model to weights.cnn.hdf5\n",
      "Epoch 37/50\n",
      "116/116 [==============================] - 85s 734ms/step - loss: 0.4145 - accuracy: 0.9469 - val_loss: 1.5410 - val_accuracy: 0.7178\n",
      "\n",
      "Epoch 00037: val_accuracy did not improve from 0.74540\n",
      "Epoch 38/50\n",
      "116/116 [==============================] - 86s 739ms/step - loss: 0.3972 - accuracy: 0.9613 - val_loss: 1.5106 - val_accuracy: 0.6887\n",
      "\n",
      "Epoch 00038: val_accuracy did not improve from 0.74540\n",
      "Epoch 39/50\n",
      "116/116 [==============================] - 86s 739ms/step - loss: 0.5480 - accuracy: 0.9475 - val_loss: 1.1032 - val_accuracy: 0.7163\n",
      "\n",
      "Epoch 00039: val_accuracy did not improve from 0.74540\n",
      "Epoch 40/50\n",
      "116/116 [==============================] - 86s 740ms/step - loss: 0.4570 - accuracy: 0.9548 - val_loss: 1.3677 - val_accuracy: 0.7086\n",
      "\n",
      "Epoch 00040: val_accuracy did not improve from 0.74540\n",
      "Epoch 41/50\n",
      "116/116 [==============================] - 87s 747ms/step - loss: 0.6627 - accuracy: 0.9418 - val_loss: 1.6364 - val_accuracy: 0.7163\n",
      "\n",
      "Epoch 00041: val_accuracy did not improve from 0.74540\n",
      "Epoch 42/50\n",
      "116/116 [==============================] - 87s 750ms/step - loss: 0.3903 - accuracy: 0.9683 - val_loss: 1.3326 - val_accuracy: 0.7623\n",
      "\n",
      "Epoch 00042: val_accuracy improved from 0.74540 to 0.76227, saving model to weights.cnn.hdf5\n",
      "Epoch 43/50\n",
      "116/116 [==============================] - 87s 746ms/step - loss: 0.3781 - accuracy: 0.9699 - val_loss: 1.0377 - val_accuracy: 0.7546\n",
      "\n",
      "Epoch 00043: val_accuracy did not improve from 0.76227\n",
      "Epoch 44/50\n",
      "116/116 [==============================] - 87s 749ms/step - loss: 0.3765 - accuracy: 0.9702 - val_loss: 1.1230 - val_accuracy: 0.7623\n",
      "\n",
      "Epoch 00044: val_accuracy did not improve from 0.76227\n",
      "Epoch 45/50\n",
      "116/116 [==============================] - 87s 746ms/step - loss: 0.3095 - accuracy: 0.9767 - val_loss: 1.3533 - val_accuracy: 0.7393\n",
      "\n",
      "Epoch 00045: val_accuracy did not improve from 0.76227\n",
      "Epoch 46/50\n",
      "116/116 [==============================] - 87s 747ms/step - loss: 0.3212 - accuracy: 0.9689 - val_loss: 1.8557 - val_accuracy: 0.6150\n",
      "\n",
      "Epoch 00046: val_accuracy did not improve from 0.76227\n",
      "Epoch 47/50\n",
      "116/116 [==============================] - 87s 749ms/step - loss: 0.3584 - accuracy: 0.9683 - val_loss: 1.5206 - val_accuracy: 0.6933\n",
      "\n",
      "Epoch 00047: val_accuracy did not improve from 0.76227\n",
      "Epoch 48/50\n",
      "116/116 [==============================] - 87s 748ms/step - loss: 0.2701 - accuracy: 0.9786 - val_loss: 1.5908 - val_accuracy: 0.7147\n",
      "\n",
      "Epoch 00048: val_accuracy did not improve from 0.76227\n",
      "Epoch 49/50\n",
      "116/116 [==============================] - 87s 749ms/step - loss: 0.3210 - accuracy: 0.9767 - val_loss: 1.8390 - val_accuracy: 0.6656\n",
      "\n",
      "Epoch 00049: val_accuracy did not improve from 0.76227\n",
      "Epoch 50/50\n",
      "116/116 [==============================] - 86s 744ms/step - loss: 0.4875 - accuracy: 0.9586 - val_loss: 1.2980 - val_accuracy: 0.7224\n",
      "\n",
      "Epoch 00050: val_accuracy did not improve from 0.76227\n"
     ]
    }
   ],
   "source": [
    "cnn.compile(loss='sparse_categorical_crossentropy', optimizer=OPT, metrics=['accuracy'])\n",
    "hist_cnn = cnn.fit(x_train, y_train, batch_size=32, epochs=50, validation_split = 0.15, callbacks=[checkpoint])"
   ]
  },
  {
   "cell_type": "code",
   "execution_count": 17,
   "id": "7359f3f6",
   "metadata": {
    "execution": {
     "iopub.execute_input": "2022-05-27T00:23:17.469174Z",
     "iopub.status.busy": "2022-05-27T00:23:17.468891Z",
     "iopub.status.idle": "2022-05-27T00:23:17.846145Z",
     "shell.execute_reply": "2022-05-27T00:23:17.845413Z"
    },
    "papermill": {
     "duration": 2.423122,
     "end_time": "2022-05-27T00:23:17.848001",
     "exception": false,
     "start_time": "2022-05-27T00:23:15.424879",
     "status": "completed"
    },
    "tags": []
   },
   "outputs": [
    {
     "data": {
      "image/png": "[encoded data removed]",
      "text/plain": [
       "<Figure size 432x288 with 1 Axes>"
      ]
     },
     "metadata": {
      "needs_background": "light"
     },
     "output_type": "display_data"
    },
    {
     "data": {
      "image/png": "[encoded data removed]",
      "text/plain": [
       "<Figure size 432x288 with 1 Axes>"
      ]
     },
     "metadata": {
      "needs_background": "light"
     },
     "output_type": "display_data"
    }
   ],
   "source": [
    "def plot_hist(hist, title):\n",
    "    plt.plot(hist.history[\"accuracy\"])\n",
    "    plt.plot(hist.history[\"val_accuracy\"])\n",
    "    plt.title(\"Accuracy \" + title)\n",
    "    plt.ylabel(\"accuracy\")\n",
    "    plt.xlabel(\"epoch\")\n",
    "    plt.legend([\"train\", \"validation\"], loc=\"upper left\")\n",
    "    plt.show()\n",
    "    \n",
    "    # summarize history for loss\n",
    "    plt.plot(hist.history['loss'])\n",
    "    plt.plot(hist.history['val_loss'])\n",
    "    plt.title(\"LOSS \" + title)\n",
    "    plt.ylabel('loss')\n",
    "    plt.xlabel('epoch')\n",
    "    plt.legend(['train', 'validation'], loc='upper left')\n",
    "    plt.show()\n",
    "\n",
    "\n",
    "plot_hist(hist_cnn, title=\"Efficient-Net B3\")"
   ]
  },
  {
   "cell_type": "code",
   "execution_count": 18,
   "id": "b81f864e",
   "metadata": {
    "execution": {
     "iopub.execute_input": "2022-05-27T00:23:22.327326Z",
     "iopub.status.busy": "2022-05-27T00:23:22.327071Z",
     "iopub.status.idle": "2022-05-27T00:23:22.335863Z",
     "shell.execute_reply": "2022-05-27T00:23:22.335159Z"
    },
    "papermill": {
     "duration": 2.336368,
     "end_time": "2022-05-27T00:23:22.337460",
     "exception": false,
     "start_time": "2022-05-27T00:23:20.001092",
     "status": "completed"
    },
    "tags": []
   },
   "outputs": [],
   "source": [
    "def plot_confusion_matrix(cm, classes,\n",
    "                          normalize=False,\n",
    "                          title='Confusion matrix',\n",
    "                          cmap=plt.cm.Blues):\n",
    "    \"\"\"\n",
    "    This function prints and plots the confusion matrix.\n",
    "    Normalization can be applied by setting `normalize=True`.\n",
    "    \"\"\"\n",
    "    plt.figure(figsize = (5,5))\n",
    "    plt.imshow(cm, interpolation='nearest', cmap=cmap)\n",
    "    plt.title(title)\n",
    "    plt.colorbar()\n",
    "    tick_marks = np.arange(len(classes))\n",
    "    plt.xticks(tick_marks, classes, rotation=90)\n",
    "    plt.yticks(tick_marks, classes)\n",
    "    if normalize:\n",
    "        cm = cm.astype('float') / cm.sum(axis=1)[:, np.newaxis]\n",
    "\n",
    "    thresh = cm.max() / 2.\n",
    "    for i, j in itertools.product(range(cm.shape[0]), range(cm.shape[1])):\n",
    "        plt.text(j, i, cm[i, j],\n",
    "                 horizontalalignment=\"center\",\n",
    "                 color=\"white\" if cm[i, j] > thresh else \"black\")\n",
    "    plt.tight_layout()\n",
    "    plt.ylabel('True label')\n",
    "    plt.xlabel('Predicted label')"
   ]
  },
  {
   "cell_type": "code",
   "execution_count": 19,
   "id": "f9a3ad00",
   "metadata": {
    "execution": {
     "iopub.execute_input": "2022-05-27T00:23:26.486192Z",
     "iopub.status.busy": "2022-05-27T00:23:26.485929Z",
     "iopub.status.idle": "2022-05-27T00:23:37.335906Z",
     "shell.execute_reply": "2022-05-27T00:23:37.335197Z"
    },
    "papermill": {
     "duration": 12.934898,
     "end_time": "2022-05-27T00:23:37.338202",
     "exception": false,
     "start_time": "2022-05-27T00:23:24.403304",
     "status": "completed"
    },
    "tags": []
   },
   "outputs": [
    {
     "name": "stdout",
     "output_type": "stream",
     "text": [
      "Convolutional Neural Network - accuracy: 0.7705345749855042 \n",
      "\n"
     ]
    },
    {
     "data": {
      "image/png": "[encoded data removed]",
      "text/plain": [
       "<Figure size 360x360 with 2 Axes>"
      ]
     },
     "metadata": {
      "needs_background": "light"
     },
     "output_type": "display_data"
    }
   ],
   "source": [
    "score = cnn.evaluate(x_test, y_test, verbose=0)\n",
    "print('Convolutional Neural Network - accuracy:', score[1],\"\\n\")\n",
    "Y_pred = cnn.predict(x_test)\n",
    "Y_pred_classes = np.argmax(Y_pred,axis = 1) \n",
    "confusion_mtx = confusion_matrix(y_test, Y_pred_classes)\n",
    "plot_confusion_matrix(confusion_mtx, classes = ['A-V-','A-V+','A+V-','A+V+']) \n",
    "plt.show()"
   ]
  }
 ],
 "metadata": {
  "kernelspec": {
   "display_name": "Python 3",
   "language": "python",
   "name": "python3"
  },
  "language_info": {
   "codemirror_mode": {
    "name": "ipython",
    "version": 3
   },
   "file_extension": ".py",
   "mimetype": "text/x-python",
   "name": "python",
   "nbconvert_exporter": "python",
   "pygments_lexer": "ipython3",
   "version": "3.8.7"
  },
  "papermill": {
   "default_parameters": {},
   "duration": 4882.947918,
   "end_time": "2022-05-27T00:23:43.031577",
   "environment_variables": {},
   "exception": null,
   "input_path": "__notebook__.ipynb",
   "output_path": "__notebook__.ipynb",
   "parameters": {},
   "start_time": "2022-05-26T23:02:20.083659",
   "version": "2.3.4"
  }
 },
 "nbformat": 4,
 "nbformat_minor": 5
}
