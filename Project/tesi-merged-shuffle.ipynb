{
 "cells": [
  {
   "cell_type": "code",
   "execution_count": 1,
   "id": "f6e1e1fa",
   "metadata": {
    "_cell_guid": "b1076dfc-b9ad-4769-8c92-a6c4dae69d19",
    "_uuid": "8f2839f25d086af736a60e9eeb907d3b93b6e0e5",
    "execution": {
     "iopub.execute_input": "2022-06-20T14:20:48.508384Z",
     "iopub.status.busy": "2022-06-20T14:20:48.507402Z",
     "iopub.status.idle": "2022-06-20T14:20:56.263134Z",
     "shell.execute_reply": "2022-06-20T14:20:56.262173Z"
    },
    "papermill": {
     "duration": 7.78019,
     "end_time": "2022-06-20T14:20:56.266155",
     "exception": false,
     "start_time": "2022-06-20T14:20:48.485965",
     "status": "completed"
    },
    "tags": []
   },
   "outputs": [],
   "source": [
    "import zipfile\n",
    "import os\n",
    "import pandas as pd\n",
    "import tensorflow as tf\n",
    "from tensorflow import keras\n",
    "from keras import optimizers\n",
    "from keras import layers\n",
    "from keras.regularizers import l2\n",
    "from tensorflow.keras.preprocessing import image\n",
    "from tensorflow.keras.models import Model\n",
    "from keras.models import Sequential\n",
    "from keras.layers import Dense, GlobalAveragePooling2D, Dropout, Flatten, concatenate\n",
    "from tensorflow.keras import regularizers\n",
    "from keras.callbacks import EarlyStopping\n",
    "from keras.callbacks import ModelCheckpoint\n",
    "from keras.utils.vis_utils import plot_model\n",
    "import pylab as pl\n",
    "import numpy as np\n",
    "import matplotlib.image as mpimg\n",
    "import matplotlib.pyplot as plt\n",
    "import seaborn as sns\n",
    "from sklearn.model_selection import train_test_split\n",
    "from keras.utils import np_utils\n",
    "from sklearn.utils import shuffle\n",
    "from sklearn.metrics import confusion_matrix\n",
    "from sklearn import preprocessing\n",
    "import itertools\n",
    "import math\n",
    "\n",
    "\n",
    "# audio lib\n",
    "import librosa\n",
    "import librosa.display\n",
    "from librosa.util import fix_length\n",
    "\n",
    "import IPython.display as ipd\n",
    "from PIL import Image\n"
   ]
  },
  {
   "cell_type": "code",
   "execution_count": 2,
   "id": "00c01355",
   "metadata": {
    "execution": {
     "iopub.execute_input": "2022-06-20T14:20:56.306826Z",
     "iopub.status.busy": "2022-06-20T14:20:56.305897Z",
     "iopub.status.idle": "2022-06-20T14:20:56.310229Z",
     "shell.execute_reply": "2022-06-20T14:20:56.309593Z"
    },
    "papermill": {
     "duration": 0.026397,
     "end_time": "2022-06-20T14:20:56.312224",
     "exception": false,
     "start_time": "2022-06-20T14:20:56.285827",
     "status": "completed"
    },
    "tags": []
   },
   "outputs": [],
   "source": [
    "import warnings\n",
    "warnings.filterwarnings(\"ignore\")"
   ]
  },
  {
   "cell_type": "markdown",
   "id": "6274e75c",
   "metadata": {
    "papermill": {
     "duration": 0.018557,
     "end_time": "2022-06-20T14:20:56.349296",
     "exception": false,
     "start_time": "2022-06-20T14:20:56.330739",
     "status": "completed"
    },
    "tags": []
   },
   "source": [
    "# CNN MEL SPECTROGRAM APPROACH - MERGED DATASET\n",
    "\n",
    "Una volta capito che il modello migliore era quello ottenuto tramite CNN sono stati generati spectrogrammi di Mel corrispondenti i dataset: \"PMEmo\", \"4Q\", \"Emotify\".\n",
    "Al fine di ottenere un dataset finale più bilanciato del dataset \"PMEmo\" sono stati presi solo 600 campioni."
   ]
  },
  {
   "cell_type": "code",
   "execution_count": 3,
   "id": "5b5b1bb8",
   "metadata": {
    "execution": {
     "iopub.execute_input": "2022-06-20T14:20:56.387519Z",
     "iopub.status.busy": "2022-06-20T14:20:56.387303Z",
     "iopub.status.idle": "2022-06-20T14:20:56.456012Z",
     "shell.execute_reply": "2022-06-20T14:20:56.455289Z"
    },
    "papermill": {
     "duration": 0.089774,
     "end_time": "2022-06-20T14:20:56.457913",
     "exception": false,
     "start_time": "2022-06-20T14:20:56.368139",
     "status": "completed"
    },
    "tags": []
   },
   "outputs": [
    {
     "data": {
      "text/html": [
       "<div>\n",
       "<style scoped>\n",
       "    .dataframe tbody tr th:only-of-type {\n",
       "        vertical-align: middle;\n",
       "    }\n",
       "\n",
       "    .dataframe tbody tr th {\n",
       "        vertical-align: top;\n",
       "    }\n",
       "\n",
       "    .dataframe thead th {\n",
       "        text-align: right;\n",
       "    }\n",
       "</style>\n",
       "<table border=\"1\" class=\"dataframe\">\n",
       "  <thead>\n",
       "    <tr style=\"text-align: right;\">\n",
       "      <th></th>\n",
       "      <th>ID_song</th>\n",
       "    </tr>\n",
       "  </thead>\n",
       "  <tbody>\n",
       "    <tr>\n",
       "      <th>0</th>\n",
       "      <td>3001</td>\n",
       "    </tr>\n",
       "    <tr>\n",
       "      <th>5</th>\n",
       "      <td>3004</td>\n",
       "    </tr>\n",
       "    <tr>\n",
       "      <th>10</th>\n",
       "      <td>3005</td>\n",
       "    </tr>\n",
       "    <tr>\n",
       "      <th>15</th>\n",
       "      <td>3006</td>\n",
       "    </tr>\n",
       "    <tr>\n",
       "      <th>20</th>\n",
       "      <td>3007</td>\n",
       "    </tr>\n",
       "    <tr>\n",
       "      <th>...</th>\n",
       "      <td>...</td>\n",
       "    </tr>\n",
       "    <tr>\n",
       "      <th>3718</th>\n",
       "      <td>3993</td>\n",
       "    </tr>\n",
       "    <tr>\n",
       "      <th>3723</th>\n",
       "      <td>3996</td>\n",
       "    </tr>\n",
       "    <tr>\n",
       "      <th>3728</th>\n",
       "      <td>3997</td>\n",
       "    </tr>\n",
       "    <tr>\n",
       "      <th>3733</th>\n",
       "      <td>3999</td>\n",
       "    </tr>\n",
       "    <tr>\n",
       "      <th>3738</th>\n",
       "      <td>4000</td>\n",
       "    </tr>\n",
       "  </tbody>\n",
       "</table>\n",
       "<p>767 rows × 1 columns</p>\n",
       "</div>"
      ],
      "text/plain": [
       "     ID_song\n",
       "0       3001\n",
       "5       3004\n",
       "10      3005\n",
       "15      3006\n",
       "20      3007\n",
       "...      ...\n",
       "3718    3993\n",
       "3723    3996\n",
       "3728    3997\n",
       "3733    3999\n",
       "3738    4000\n",
       "\n",
       "[767 rows x 1 columns]"
      ]
     },
     "execution_count": 3,
     "metadata": {},
     "output_type": "execute_result"
    }
   ],
   "source": [
    "df1 = pd.read_csv('../input/mel-pmemo/mel.csv')\n",
    "df2 = pd.read_csv('../input/mel-4q/mel.csv')\n",
    "df3 = pd.read_csv('../input/mel-emotify/mel.csv')\n",
    "\n",
    "df1['ID_song'] = df1['ID'].astype(str).str[0:4]\n",
    "df2['ID_song'] = df2['ID'].astype(str).str[0:4]\n",
    "df3['ID_song'] = df3['ID'].astype(str).str[0:4]\n",
    "\n",
    "df1_ID = pd.DataFrame()\n",
    "df1_ID['ID_song'] = df1['ID_song'].drop_duplicates()\n",
    "\n",
    "df2_ID = pd.DataFrame()\n",
    "df2_ID['ID_song'] = df2['ID_song'].drop_duplicates()\n",
    "\n",
    "df3_ID = pd.DataFrame()\n",
    "df3_ID['ID_song'] = df3['ID_song'].drop_duplicates()\n",
    "\n",
    "\n",
    "df1_ID"
   ]
  },
  {
   "cell_type": "code",
   "execution_count": 4,
   "id": "baec1fc3",
   "metadata": {
    "execution": {
     "iopub.execute_input": "2022-06-20T14:20:56.497663Z",
     "iopub.status.busy": "2022-06-20T14:20:56.497116Z",
     "iopub.status.idle": "2022-06-20T14:20:56.507524Z",
     "shell.execute_reply": "2022-06-20T14:20:56.506646Z"
    },
    "papermill": {
     "duration": 0.032436,
     "end_time": "2022-06-20T14:20:56.509779",
     "exception": false,
     "start_time": "2022-06-20T14:20:56.477343",
     "status": "completed"
    },
    "tags": []
   },
   "outputs": [
    {
     "name": "stdout",
     "output_type": "stream",
     "text": [
      "(1200, 1)\n",
      "(9844, 3)\n"
     ]
    }
   ],
   "source": [
    "df_ID = pd.concat([df1_ID[:150], df2_ID, df3_ID[:150]], ignore_index=True, sort=False)\n",
    "df = pd.concat([df1, df2, df3], ignore_index=True, sort=False)\n",
    "\n",
    "print(df_ID.shape)\n",
    "print(df.shape)\n"
   ]
  },
  {
   "cell_type": "code",
   "execution_count": 5,
   "id": "17cd54f4",
   "metadata": {
    "execution": {
     "iopub.execute_input": "2022-06-20T14:20:56.550710Z",
     "iopub.status.busy": "2022-06-20T14:20:56.550097Z",
     "iopub.status.idle": "2022-06-20T14:20:56.561480Z",
     "shell.execute_reply": "2022-06-20T14:20:56.560695Z"
    },
    "papermill": {
     "duration": 0.033938,
     "end_time": "2022-06-20T14:20:56.563372",
     "exception": false,
     "start_time": "2022-06-20T14:20:56.529434",
     "status": "completed"
    },
    "tags": []
   },
   "outputs": [
    {
     "name": "stdout",
     "output_type": "stream",
     "text": [
      "(840,)\n",
      "(180,)\n",
      "(180,)\n"
     ]
    },
    {
     "data": {
      "text/plain": [
       "array(['1474', '1763', '1113', '3171', '3005', '1470', '1889', '1440',\n",
       "       '1046', '2011', '3058', '1548', '1656', '1281', '1157', '1455',\n",
       "       '3139', '2027', '1099', '3008', '1872', '1071', '3021', '1714',\n",
       "       '1226', '1082', '1690', '2020', '1045', '2004', '1695', '1771',\n",
       "       '1614', '1398', '1131', '2150', '1254', '1180', '1444', '2078',\n",
       "       '1748', '2101', '3109', '1200', '1806', '1445', '1862', '1830',\n",
       "       '1826', '3145', '1174', '1286', '1514', '1664', '1790', '1187',\n",
       "       '2060', '3091', '1705', '2114', '1448', '3073', '1504', '1685',\n",
       "       '1152', '1881', '1623', '1704', '1687', '1523', '3165', '1536',\n",
       "       '2074', '1418', '3097', '3075', '1616', '1427', '1805', '1524',\n",
       "       '1090', '3136', '1241', '2135', '1259', '1843', '1399', '1389',\n",
       "       '1857', '1838', '1874', '3092', '1139', '1652', '2025', '1829',\n",
       "       '1255', '1884', '1490', '1666', '1581', '1379', '2075', '1323',\n",
       "       '1173', '1827', '3034', '1438', '1839', '1739', '1239', '1859',\n",
       "       '1743', '1598', '1702', '3025', '1347', '1324', '1458', '1031',\n",
       "       '1087', '1553', '1218', '2118', '1303', '1433', '1681', '1378',\n",
       "       '1682', '2123', '3184', '1172', '1677', '1855', '2117', '1432',\n",
       "       '3175', '3098', '1042', '1041', '1634', '1198', '1410', '2105',\n",
       "       '3115', '3106', '1346', '2026', '3132', '1644', '1344', '1534',\n",
       "       '1840', '2043', '2121', '3017', '1165', '1435', '1501', '1622',\n",
       "       '3044', '1781', '1868', '3051', '3166', '1562', '1016', '3094',\n",
       "       '1149', '2087', '1670', '1679', '3126', '1844', '3148', '1125',\n",
       "       '1095', '1385', '3012', '2015'], dtype=object)"
      ]
     },
     "execution_count": 5,
     "metadata": {},
     "output_type": "execute_result"
    }
   ],
   "source": [
    "ID_train, ID_test = train_test_split( np.array(df_ID['ID_song']), test_size=0.30, shuffle = True,  random_state=1)\n",
    "ID_test, ID_validation = train_test_split( ID_test, test_size=0.5, shuffle = True,  random_state=1)\n",
    "\n",
    "print(ID_train.shape)\n",
    "print(ID_test.shape)\n",
    "print(ID_validation.shape)\n",
    "ID_test"
   ]
  },
  {
   "cell_type": "code",
   "execution_count": 6,
   "id": "1d4fff17",
   "metadata": {
    "execution": {
     "iopub.execute_input": "2022-06-20T14:20:56.606074Z",
     "iopub.status.busy": "2022-06-20T14:20:56.605547Z",
     "iopub.status.idle": "2022-06-20T14:20:59.373521Z",
     "shell.execute_reply": "2022-06-20T14:20:59.372089Z"
    },
    "papermill": {
     "duration": 2.791207,
     "end_time": "2022-06-20T14:20:59.376107",
     "exception": false,
     "start_time": "2022-06-20T14:20:56.584900",
     "status": "completed"
    },
    "tags": []
   },
   "outputs": [
    {
     "name": "stdout",
     "output_type": "stream",
     "text": [
      "(3911,)\n",
      "(837,)\n",
      "(832,)\n"
     ]
    },
    {
     "data": {
      "text/plain": [
       "array(['1474-0', '1474-1', '1474-2', '1474-3', '1474-4', '1763-0',\n",
       "       '1763-1', '1763-2', '1763-3', '1113-0', '1113-1', '1113-2',\n",
       "       '1113-3', '1113-4', '3171-0', '3171-1', '3171-2', '3171-3',\n",
       "       '3171-4', '3005-0', '3005-1', '3005-2', '3005-3', '3005-4',\n",
       "       '1470-0', '1470-1', '1470-2', '1470-3', '1889-0', '1889-1',\n",
       "       '1889-2', '1889-3', '1440-0', '1440-1', '1440-2', '1440-3',\n",
       "       '1440-4', '1046-0', '1046-1', '1046-2', '1046-3', '1046-4',\n",
       "       '2011-0', '2011-1', '2011-2', '2011-3', '2011-4', '3058-0',\n",
       "       '3058-1', '3058-2', '3058-3', '3058-4', '1548-0', '1548-1',\n",
       "       '1548-2', '1548-3', '1656-0', '1656-1', '1656-2', '1656-3',\n",
       "       '1281-0', '1281-1', '1281-2', '1281-3', '1281-4', '1157-0',\n",
       "       '1157-1', '1157-2', '1157-3', '1157-4', '1455-0', '1455-1',\n",
       "       '1455-2', '1455-3', '1455-4', '3139-0', '3139-1', '3139-2',\n",
       "       '3139-3', '3139-4', '2027-0', '2027-1', '2027-2', '2027-3',\n",
       "       '2027-4', '1099-0', '1099-1', '1099-2', '1099-3', '1099-4',\n",
       "       '3008-0', '3008-1', '3008-2', '3008-3', '3008-4', '1872-0',\n",
       "       '1872-1', '1872-2', '1872-3', '1071-0'], dtype='<U6')"
      ]
     },
     "execution_count": 6,
     "metadata": {},
     "output_type": "execute_result"
    }
   ],
   "source": [
    "y_train_ID = []\n",
    "y_test_ID = []\n",
    "y_validation_ID = []\n",
    "\n",
    "for i in ID_train:\n",
    "    if (i + '-0') in df['ID'].values:\n",
    "        y_train_ID.append(i + '-0')\n",
    "    if (i + '-1') in df['ID'].values:\n",
    "        y_train_ID.append(i + '-1')\n",
    "    if (i + '-2') in df['ID'].values:\n",
    "        y_train_ID.append(i + '-2')\n",
    "    if (i + '-3') in df['ID'].values:\n",
    "        y_train_ID.append(i + '-3')\n",
    "    if (i + '-4') in df['ID'].values:\n",
    "        y_train_ID.append(i + '-4')\n",
    "\n",
    "for i in ID_test:\n",
    "    if (i + '-0') in df['ID'].values:\n",
    "        y_test_ID.append(i + '-0')\n",
    "    if (i + '-1') in df['ID'].values:\n",
    "        y_test_ID.append(i + '-1')\n",
    "    if (i + '-2') in df['ID'].values:\n",
    "        y_test_ID.append(i + '-2')\n",
    "    if (i + '-3') in df['ID'].values:\n",
    "        y_test_ID.append(i + '-3')\n",
    "    if (i + '-4') in df['ID'].values:\n",
    "        y_test_ID.append(i + '-4')\n",
    "        \n",
    "for i in ID_validation:\n",
    "    if (i + '-0') in df['ID'].values:\n",
    "        y_validation_ID.append(i + '-0')\n",
    "    if (i + '-1') in df['ID'].values:\n",
    "        y_validation_ID.append(i + '-1')\n",
    "    if (i + '-2') in df['ID'].values:\n",
    "        y_validation_ID.append(i + '-2')\n",
    "    if (i + '-3') in df['ID'].values:\n",
    "        y_validation_ID.append(i + '-3')\n",
    "    if (i + '-4') in df['ID'].values:\n",
    "        y_validation_ID.append(i + '-4')\n",
    "        \n",
    "y_train_ID = np.array(y_train_ID)\n",
    "y_test_ID = np.array(y_test_ID)\n",
    "y_validation_ID = np.array(y_validation_ID)\n",
    "\n",
    "print(y_train_ID.shape)\n",
    "print(y_test_ID.shape)\n",
    "print(y_validation_ID.shape)\n",
    "y_test_ID[:100]"
   ]
  },
  {
   "cell_type": "code",
   "execution_count": 7,
   "id": "2e314a54",
   "metadata": {
    "execution": {
     "iopub.execute_input": "2022-06-20T14:20:59.419814Z",
     "iopub.status.busy": "2022-06-20T14:20:59.419613Z",
     "iopub.status.idle": "2022-06-20T14:21:41.404856Z",
     "shell.execute_reply": "2022-06-20T14:21:41.404129Z"
    },
    "papermill": {
     "duration": 42.031972,
     "end_time": "2022-06-20T14:21:41.428933",
     "exception": false,
     "start_time": "2022-06-20T14:20:59.396961",
     "status": "completed"
    },
    "tags": []
   },
   "outputs": [
    {
     "name": "stdout",
     "output_type": "stream",
     "text": [
      "(3911, 300, 300, 3)\n",
      "(837, 300, 300, 3)\n",
      "(832, 300, 300, 3)\n"
     ]
    }
   ],
   "source": [
    "path1 = '../input/mel-pmemo/melspectrogram_dataset/'\n",
    "path2 = '../input/mel-4q/melspectrogram_dataset/'\n",
    "path3 = '../input/mel-emotify/melspectrogram_dataset/'\n",
    "\n",
    "\n",
    "# Load the images and the labels\n",
    "x_train = []\n",
    "x_test = []\n",
    "x_validation = []\n",
    "\n",
    "for img in y_train_ID:\n",
    "    if img[0] == '3':\n",
    "        pic = image.load_img((path1 + img + '.png'))\n",
    "        x_train.append(np.array(pic))\n",
    "    elif img[0] == '1':\n",
    "        pic = image.load_img((path2 + img + '.png'))\n",
    "        x_train.append(np.array(pic))\n",
    "    elif img[0] == '2':\n",
    "        pic = image.load_img((path3 + img + '.png'))\n",
    "        x_train.append(np.array(pic))\n",
    "\n",
    "for img in y_test_ID:\n",
    "    if img[0] == '3':\n",
    "        pic = image.load_img((path1 + img + '.png'))\n",
    "        x_test.append(np.array(pic))\n",
    "    elif img[0] == '1':\n",
    "        pic = image.load_img((path2 + img + '.png'))\n",
    "        x_test.append(np.array(pic))\n",
    "    elif img[0] == '2':\n",
    "        pic = image.load_img((path3 + img + '.png'))\n",
    "        x_test.append(np.array(pic))\n",
    "        \n",
    "for img in y_validation_ID:\n",
    "    if img[0] == '3':\n",
    "        pic = image.load_img((path1 + img + '.png'))\n",
    "        x_validation.append(np.array(pic))\n",
    "    elif img[0] == '1':\n",
    "        pic = image.load_img((path2 + img + '.png'))\n",
    "        x_validation.append(np.array(pic))\n",
    "    elif img[0] == '2':\n",
    "        pic = image.load_img((path3 + img + '.png'))\n",
    "        x_validation.append(np.array(pic))\n",
    "    \n",
    "x_train = np.array(x_train)\n",
    "x_test = np.array(x_test)\n",
    "x_validation = np.array(x_validation)\n",
    "\n",
    "print(x_train.shape)\n",
    "print(x_test.shape)\n",
    "print(x_validation.shape)"
   ]
  },
  {
   "cell_type": "code",
   "execution_count": 8,
   "id": "cbca5b48",
   "metadata": {
    "execution": {
     "iopub.execute_input": "2022-06-20T14:21:41.473975Z",
     "iopub.status.busy": "2022-06-20T14:21:41.473744Z",
     "iopub.status.idle": "2022-06-20T14:21:52.560967Z",
     "shell.execute_reply": "2022-06-20T14:21:52.560116Z"
    },
    "papermill": {
     "duration": 11.111141,
     "end_time": "2022-06-20T14:21:52.562793",
     "exception": false,
     "start_time": "2022-06-20T14:21:41.451652",
     "status": "completed"
    },
    "tags": []
   },
   "outputs": [
    {
     "name": "stdout",
     "output_type": "stream",
     "text": [
      "(3911,)\n",
      "(837,)\n",
      "(832,)\n"
     ]
    }
   ],
   "source": [
    "y_train = []\n",
    "y_test = []\n",
    "y_validation = []\n",
    "\n",
    "for i in y_train_ID:\n",
    "    \n",
    "    row = df.loc[df['ID'] == i]\n",
    "    y_train.append(row['Label'].iloc[0])\n",
    "\n",
    "for i in y_test_ID:\n",
    "    \n",
    "    row = df.loc[df['ID'] == i]\n",
    "    y_test.append(row['Label'].iloc[0])\n",
    "\n",
    "\n",
    "for i in y_validation_ID:\n",
    "    \n",
    "    row = df.loc[df['ID'] == i]\n",
    "    y_validation.append(row['Label'].iloc[0])\n",
    "    \n",
    "    \n",
    "    \n",
    "y_train = np.array(y_train)\n",
    "y_test = np.array(y_test)\n",
    "y_validation = np.array(y_validation)\n",
    "\n",
    "print(y_train.shape)\n",
    "print(y_test.shape)\n",
    "print(y_validation.shape)"
   ]
  },
  {
   "cell_type": "code",
   "execution_count": 9,
   "id": "07a0dec6",
   "metadata": {
    "execution": {
     "iopub.execute_input": "2022-06-20T14:21:52.608035Z",
     "iopub.status.busy": "2022-06-20T14:21:52.607818Z",
     "iopub.status.idle": "2022-06-20T14:21:53.017196Z",
     "shell.execute_reply": "2022-06-20T14:21:53.016354Z"
    },
    "papermill": {
     "duration": 0.43496,
     "end_time": "2022-06-20T14:21:53.019617",
     "exception": false,
     "start_time": "2022-06-20T14:21:52.584657",
     "status": "completed"
    },
    "tags": []
   },
   "outputs": [],
   "source": [
    "x_train, y_train = shuffle(x_train, y_train)\n",
    "x_test, y_test = shuffle(x_test, y_test)\n",
    "x_validation, y_validation = shuffle(x_validation, y_validation)"
   ]
  },
  {
   "cell_type": "markdown",
   "id": "97e15c6a",
   "metadata": {
    "papermill": {
     "duration": 0.023953,
     "end_time": "2022-06-20T14:21:53.065520",
     "exception": false,
     "start_time": "2022-06-20T14:21:53.041567",
     "status": "completed"
    },
    "tags": []
   },
   "source": [
    "Si effettua uno studio sul learning rate al fine di ottenere il learning rate ottimale per il modello sulla base del dataset utilizzato."
   ]
  },
  {
   "cell_type": "code",
   "execution_count": 10,
   "id": "7bef4668",
   "metadata": {
    "execution": {
     "iopub.execute_input": "2022-06-20T14:21:53.114146Z",
     "iopub.status.busy": "2022-06-20T14:21:53.113906Z",
     "iopub.status.idle": "2022-06-20T14:21:53.141299Z",
     "shell.execute_reply": "2022-06-20T14:21:53.140522Z"
    },
    "papermill": {
     "duration": 0.053838,
     "end_time": "2022-06-20T14:21:53.143260",
     "exception": false,
     "start_time": "2022-06-20T14:21:53.089422",
     "status": "completed"
    },
    "tags": []
   },
   "outputs": [],
   "source": [
    "from keras.callbacks import LambdaCallback\n",
    "import keras.backend as K\n",
    "\n",
    "class LRFinder:\n",
    "    \"\"\"\n",
    "    Plots the change of the loss function of a Keras model when the learning rate is exponentially increasing.\n",
    "    See for details:\n",
    "    https://towardsdatascience.com/estimating-optimal-learning-rate-for-a-deep-neural-network-ce32f2556ce0\n",
    "    \"\"\"\n",
    "\n",
    "    def __init__(self, model):\n",
    "        self.model = model\n",
    "        self.losses = []\n",
    "        self.lrs = []\n",
    "        self.best_loss = 1e9\n",
    "\n",
    "    def on_batch_end(self, batch, logs):\n",
    "        # Log the learning rate\n",
    "        lr = K.get_value(self.model.optimizer.lr)\n",
    "        self.lrs.append(lr)\n",
    "\n",
    "        # Log the loss\n",
    "        loss = logs['loss']\n",
    "        self.losses.append(loss)\n",
    "\n",
    "        # Check whether the loss got too large or NaN\n",
    "        if batch > 5 and (math.isnan(loss) or loss > self.best_loss * 4):\n",
    "            self.model.stop_training = True\n",
    "            return\n",
    "\n",
    "        if loss < self.best_loss:\n",
    "            self.best_loss = loss\n",
    "\n",
    "        # Increase the learning rate for the next batch\n",
    "        lr *= self.lr_mult\n",
    "        K.set_value(self.model.optimizer.lr, lr)\n",
    "\n",
    "    def find(self, x_train, y_train, start_lr, end_lr, batch_size=64, epochs=1, **kw_fit):\n",
    "        # If x_train contains data for multiple inputs, use length of the first input.\n",
    "        # Assumption: the first element in the list is single input; NOT a list of inputs.\n",
    "        N = x_train[0].shape[0] if isinstance(x_train, list) else x_train.shape[0]\n",
    "\n",
    "        # Compute number of batches and LR multiplier\n",
    "        num_batches = epochs * N / batch_size\n",
    "        self.lr_mult = (float(end_lr) / float(start_lr)) ** (float(1) / float(num_batches))\n",
    "        # Save weights into a file\n",
    "        initial_weights = self.model.get_weights()\n",
    "\n",
    "        # Remember the original learning rate\n",
    "        original_lr = K.get_value(self.model.optimizer.lr)\n",
    "\n",
    "        # Set the initial learning rate\n",
    "        K.set_value(self.model.optimizer.lr, start_lr)\n",
    "\n",
    "        callback = LambdaCallback(on_batch_end=lambda batch, logs: self.on_batch_end(batch, logs))\n",
    "\n",
    "        self.model.fit(x_train, y_train,\n",
    "                       batch_size=batch_size, epochs=epochs,\n",
    "                       callbacks=[callback],\n",
    "                       **kw_fit)\n",
    "\n",
    "        # Restore the weights to the state before model fitting\n",
    "        self.model.set_weights(initial_weights)\n",
    "\n",
    "        # Restore the original learning rate\n",
    "        K.set_value(self.model.optimizer.lr, original_lr)\n",
    "\n",
    "    def find_generator(self, generator, start_lr, end_lr, epochs=1, steps_per_epoch=None, **kw_fit):\n",
    "        if steps_per_epoch is None:\n",
    "            try:\n",
    "                steps_per_epoch = len(generator)\n",
    "            except (ValueError, NotImplementedError) as e:\n",
    "                raise e('`steps_per_epoch=None` is only valid for a'\n",
    "                        ' generator based on the '\n",
    "                        '`keras.utils.Sequence`'\n",
    "                        ' class. Please specify `steps_per_epoch` '\n",
    "                        'or use the `keras.utils.Sequence` class.')\n",
    "        self.lr_mult = (float(end_lr) / float(start_lr)) ** (float(1) / float(epochs * steps_per_epoch))\n",
    "\n",
    "        # Save weights into a file\n",
    "        initial_weights = self.model.get_weights()\n",
    "\n",
    "        # Remember the original learning rate\n",
    "        original_lr = K.get_value(self.model.optimizer.lr)\n",
    "\n",
    "        # Set the initial learning rate\n",
    "        K.set_value(self.model.optimizer.lr, start_lr)\n",
    "\n",
    "        callback = LambdaCallback(on_batch_end=lambda batch,\n",
    "                                                      logs: self.on_batch_end(batch, logs))\n",
    "\n",
    "        self.model.fit_generator(generator=generator,\n",
    "                                 epochs=epochs,\n",
    "                                 steps_per_epoch=steps_per_epoch,\n",
    "                                 callbacks=[callback],\n",
    "                                 **kw_fit)\n",
    "\n",
    "        # Restore the weights to the state before model fitting\n",
    "        self.model.set_weights(initial_weights)\n",
    "\n",
    "        # Restore the original learning rate\n",
    "        K.set_value(self.model.optimizer.lr, original_lr)\n",
    "\n",
    "    def plot_loss(self, n_skip_beginning=10, n_skip_end=5, x_scale='log'):\n",
    "        \"\"\"\n",
    "        Plots the loss.\n",
    "        Parameters:\n",
    "            n_skip_beginning - number of batches to skip on the left.\n",
    "            n_skip_end - number of batches to skip on the right.\n",
    "        \"\"\"\n",
    "        plt.ylabel(\"loss\")\n",
    "        plt.xlabel(\"learning rate (log scale)\")\n",
    "        plt.plot(self.lrs[n_skip_beginning:-n_skip_end], self.losses[n_skip_beginning:-n_skip_end])\n",
    "        plt.xscale(x_scale)\n",
    "        plt.show()\n",
    "\n",
    "    def plot_loss_change(self, sma=1, n_skip_beginning=10, n_skip_end=5, y_lim=(-0.01, 0.01)):\n",
    "        \"\"\"\n",
    "        Plots rate of change of the loss function.\n",
    "        Parameters:\n",
    "            sma - number of batches for simple moving average to smooth out the curve.\n",
    "            n_skip_beginning - number of batches to skip on the left.\n",
    "            n_skip_end - number of batches to skip on the right.\n",
    "            y_lim - limits for the y axis.\n",
    "        \"\"\"\n",
    "        derivatives = self.get_derivatives(sma)[n_skip_beginning:-n_skip_end]\n",
    "        lrs = self.lrs[n_skip_beginning:-n_skip_end]\n",
    "        plt.ylabel(\"rate of loss change\")\n",
    "        plt.xlabel(\"learning rate (log scale)\")\n",
    "        plt.plot(lrs, derivatives)\n",
    "        plt.xscale('log')\n",
    "        plt.ylim(y_lim)\n",
    "        plt.show()\n",
    "\n",
    "    def get_derivatives(self, sma):\n",
    "        assert sma >= 1\n",
    "        derivatives = [0] * sma\n",
    "        for i in range(sma, len(self.lrs)):\n",
    "            derivatives.append((self.losses[i] - self.losses[i - sma]) / sma)\n",
    "        return derivatives\n",
    "\n",
    "    def get_best_lr(self, sma, n_skip_beginning=10, n_skip_end=5):\n",
    "        derivatives = self.get_derivatives(sma)\n",
    "        best_der_idx = np.argmin(derivatives[n_skip_beginning:-n_skip_end])\n",
    "        return self.lrs[n_skip_beginning:-n_skip_end][best_der_idx]"
   ]
  },
  {
   "cell_type": "markdown",
   "id": "f1812933",
   "metadata": {
    "papermill": {
     "duration": 0.023202,
     "end_time": "2022-06-20T14:21:53.190873",
     "exception": false,
     "start_time": "2022-06-20T14:21:53.167671",
     "status": "completed"
    },
    "tags": []
   },
   "source": [
    "Si procede a costruire il modello della rete neurale convoluzionale.\n",
    "si utilizzano i seguenti iperparametri:\n",
    "\n",
    "\n",
    "*   Tipo di modello: CNN\n",
    "*   Modello di partenza: EfficientNetB3\n",
    "*   Numero di epoche 50;\n",
    "*   Activation Output Layer Softmax: funzione più usata per la classificazione multiclasse;\n",
    "*   Activation Hidden Layer ReLU: è la funzione di \"deafult\" grazie alla sua versatilità per la maggior parte degli utilizzi;\n",
    "*   Loss Function Sparse Categorical Crossentropy: funzione usata nella classificazione multiclasse usando varibili categoriche;\n",
    "*   Optimizer adam con learning rate ottimale;\n",
    "*   Regolarizzazione tramite L2 con alpha = 0.1: si limitano le unità con pesi troppo grossi per evitare overfitting e tramite dropout decrescente.\n",
    "*   Per evitare overfitting si utilizzeranno i pesi che ottengono il miglior valore di loss sul validation set."
   ]
  },
  {
   "cell_type": "code",
   "execution_count": 11,
   "id": "f0027923",
   "metadata": {
    "execution": {
     "iopub.execute_input": "2022-06-20T14:21:53.237837Z",
     "iopub.status.busy": "2022-06-20T14:21:53.237361Z",
     "iopub.status.idle": "2022-06-20T14:21:59.035950Z",
     "shell.execute_reply": "2022-06-20T14:21:59.035033Z"
    },
    "papermill": {
     "duration": 5.825253,
     "end_time": "2022-06-20T14:21:59.038550",
     "exception": false,
     "start_time": "2022-06-20T14:21:53.213297",
     "status": "completed"
    },
    "tags": []
   },
   "outputs": [
    {
     "name": "stderr",
     "output_type": "stream",
     "text": [
      "2022-06-20 14:21:53.364546: I tensorflow/stream_executor/cuda/cuda_gpu_executor.cc:937] successful NUMA node read from SysFS had negative value (-1), but there must be at least one NUMA node, so returning NUMA node zero\n",
      "2022-06-20 14:21:53.456964: I tensorflow/stream_executor/cuda/cuda_gpu_executor.cc:937] successful NUMA node read from SysFS had negative value (-1), but there must be at least one NUMA node, so returning NUMA node zero\n",
      "2022-06-20 14:21:53.457832: I tensorflow/stream_executor/cuda/cuda_gpu_executor.cc:937] successful NUMA node read from SysFS had negative value (-1), but there must be at least one NUMA node, so returning NUMA node zero\n",
      "2022-06-20 14:21:53.459307: I tensorflow/core/platform/cpu_feature_guard.cc:142] This TensorFlow binary is optimized with oneAPI Deep Neural Network Library (oneDNN) to use the following CPU instructions in performance-critical operations:  AVX2 AVX512F FMA\n",
      "To enable them in other operations, rebuild TensorFlow with the appropriate compiler flags.\n",
      "2022-06-20 14:21:53.459676: I tensorflow/stream_executor/cuda/cuda_gpu_executor.cc:937] successful NUMA node read from SysFS had negative value (-1), but there must be at least one NUMA node, so returning NUMA node zero\n",
      "2022-06-20 14:21:53.460629: I tensorflow/stream_executor/cuda/cuda_gpu_executor.cc:937] successful NUMA node read from SysFS had negative value (-1), but there must be at least one NUMA node, so returning NUMA node zero\n",
      "2022-06-20 14:21:53.461532: I tensorflow/stream_executor/cuda/cuda_gpu_executor.cc:937] successful NUMA node read from SysFS had negative value (-1), but there must be at least one NUMA node, so returning NUMA node zero\n",
      "2022-06-20 14:21:55.434423: I tensorflow/stream_executor/cuda/cuda_gpu_executor.cc:937] successful NUMA node read from SysFS had negative value (-1), but there must be at least one NUMA node, so returning NUMA node zero\n",
      "2022-06-20 14:21:55.435309: I tensorflow/stream_executor/cuda/cuda_gpu_executor.cc:937] successful NUMA node read from SysFS had negative value (-1), but there must be at least one NUMA node, so returning NUMA node zero\n",
      "2022-06-20 14:21:55.436167: I tensorflow/stream_executor/cuda/cuda_gpu_executor.cc:937] successful NUMA node read from SysFS had negative value (-1), but there must be at least one NUMA node, so returning NUMA node zero\n",
      "2022-06-20 14:21:55.437517: I tensorflow/core/common_runtime/gpu/gpu_device.cc:1510] Created device /job:localhost/replica:0/task:0/device:GPU:0 with 15403 MB memory:  -> device: 0, name: Tesla P100-PCIE-16GB, pci bus id: 0000:00:04.0, compute capability: 6.0\n"
     ]
    }
   ],
   "source": [
    "# Load a pre-trained neural network to use for transfer learning\n",
    "base_net = keras.applications.EfficientNetB3(\n",
    "    input_shape=(300,300,3),\n",
    "    weights='../input/noisystudentkeras/noisystudent_efficientnetb3_notop.h5',\n",
    "    include_top=False,\n",
    "    drop_connect_rate=0.5,\n",
    "    pooling='avg'\n",
    ")\n",
    "\n",
    "# Set the layers of the base net to not be trained\n",
    "for layer in base_net.layers:\n",
    "  layer.trainable=True"
   ]
  },
  {
   "cell_type": "code",
   "execution_count": 12,
   "id": "baab940e",
   "metadata": {
    "execution": {
     "iopub.execute_input": "2022-06-20T14:21:59.112417Z",
     "iopub.status.busy": "2022-06-20T14:21:59.112176Z",
     "iopub.status.idle": "2022-06-20T14:21:59.227865Z",
     "shell.execute_reply": "2022-06-20T14:21:59.227070Z"
    },
    "papermill": {
     "duration": 0.156035,
     "end_time": "2022-06-20T14:21:59.230308",
     "exception": false,
     "start_time": "2022-06-20T14:21:59.074273",
     "status": "completed"
    },
    "tags": []
   },
   "outputs": [],
   "source": [
    "x = Flatten()(base_net.layers[-1].output)\n",
    "x = keras.layers.Dense(1024, activation='relu', kernel_regularizer=l2(0.1), bias_regularizer=l2(0.1))(x)\n",
    "x = keras.layers.Dropout(0.5)(x)\n",
    "x = keras.layers.Dense(512, activation='relu', kernel_regularizer=l2(0.1), bias_regularizer=l2(0.1))(x)\n",
    "x = keras.layers.Dropout(0.4)(x)\n",
    "x = keras.layers.Dense(128, activation='relu', kernel_regularizer=l2(0.1), bias_regularizer=l2(0.1))(x)\n",
    "x = keras.layers.Dropout(0.3)(x)\n",
    "x = keras.layers.Dense(4, activation='softmax')(x)\n",
    "outputs = x\n",
    "\n",
    "OPT = tf.keras.optimizers.Adam()\n",
    "\n",
    "cnn = keras.Model(inputs=base_net.inputs, outputs=outputs)\n",
    "cnn.compile(loss='sparse_categorical_crossentropy', optimizer=OPT, metrics=['accuracy'])\n",
    "\n",
    "#cnn.summary()"
   ]
  },
  {
   "cell_type": "code",
   "execution_count": 13,
   "id": "221cafac",
   "metadata": {
    "execution": {
     "iopub.execute_input": "2022-06-20T14:21:59.309805Z",
     "iopub.status.busy": "2022-06-20T14:21:59.308102Z",
     "iopub.status.idle": "2022-06-20T14:28:04.119508Z",
     "shell.execute_reply": "2022-06-20T14:28:04.118744Z"
    },
    "papermill": {
     "duration": 364.851774,
     "end_time": "2022-06-20T14:28:04.121762",
     "exception": false,
     "start_time": "2022-06-20T14:21:59.269988",
     "status": "completed"
    },
    "tags": []
   },
   "outputs": [
    {
     "name": "stderr",
     "output_type": "stream",
     "text": [
      "2022-06-20 14:21:59.460283: W tensorflow/core/framework/cpu_allocator_impl.cc:80] Allocation of 1055970000 exceeds 10% of free system memory.\n",
      "2022-06-20 14:22:00.587921: W tensorflow/core/framework/cpu_allocator_impl.cc:80] Allocation of 1055970000 exceeds 10% of free system memory.\n",
      "2022-06-20 14:22:01.418292: I tensorflow/compiler/mlir/mlir_graph_optimization_pass.cc:185] None of the MLIR Optimization Passes are enabled (registered 2)\n"
     ]
    },
    {
     "name": "stdout",
     "output_type": "stream",
     "text": [
      "Epoch 1/5\n"
     ]
    },
    {
     "name": "stderr",
     "output_type": "stream",
     "text": [
      "2022-06-20 14:22:14.627889: I tensorflow/stream_executor/cuda/cuda_dnn.cc:369] Loaded cuDNN version 8005\n"
     ]
    },
    {
     "name": "stdout",
     "output_type": "stream",
     "text": [
      "123/123 [==============================] - 110s 731ms/step - loss: 123.0130 - accuracy: 0.4186\n",
      "Epoch 2/5\n",
      "123/123 [==============================] - 89s 724ms/step - loss: 5.9106 - accuracy: 0.5485\n",
      "Epoch 3/5\n",
      "123/123 [==============================] - 89s 725ms/step - loss: 1.9779 - accuracy: 0.3958\n",
      "Epoch 4/5\n",
      "123/123 [==============================] - 74s 603ms/step - loss: 5.7475 - accuracy: 0.3358\n"
     ]
    }
   ],
   "source": [
    "# model is a Keras model\n",
    "lr_finder = LRFinder(cnn)\n",
    "\n",
    "# Train a model with learning rate growing exponentially from 0.0001 to 1\n",
    "lr_finder.find(x_train, y_train, start_lr=0.0001, end_lr=1, batch_size=32, epochs=5)"
   ]
  },
  {
   "cell_type": "code",
   "execution_count": 14,
   "id": "e123702c",
   "metadata": {
    "execution": {
     "iopub.execute_input": "2022-06-20T14:28:04.467243Z",
     "iopub.status.busy": "2022-06-20T14:28:04.466553Z",
     "iopub.status.idle": "2022-06-20T14:28:36.029089Z",
     "shell.execute_reply": "2022-06-20T14:28:36.028337Z"
    },
    "papermill": {
     "duration": 31.909651,
     "end_time": "2022-06-20T14:28:36.204480",
     "exception": false,
     "start_time": "2022-06-20T14:28:04.294829",
     "status": "completed"
    },
    "tags": []
   },
   "outputs": [
    {
     "data": {
      "image/png": "[encoded data removed]",
      "text/plain": [
       "<Figure size 432x288 with 1 Axes>"
      ]
     },
     "metadata": {
      "needs_background": "light"
     },
     "output_type": "display_data"
    }
   ],
   "source": [
    "# Plot the loss, ignore 20 batches in the beginning and 5 in the end\n",
    "lr_finder.plot_loss(n_skip_beginning=20, n_skip_end=5)\n",
    "plt.show()"
   ]
  },
  {
   "cell_type": "code",
   "execution_count": 15,
   "id": "c4b2797e",
   "metadata": {
    "execution": {
     "iopub.execute_input": "2022-06-20T14:28:36.556034Z",
     "iopub.status.busy": "2022-06-20T14:28:36.555780Z",
     "iopub.status.idle": "2022-06-20T14:28:36.561756Z",
     "shell.execute_reply": "2022-06-20T14:28:36.560792Z"
    },
    "papermill": {
     "duration": 0.18764,
     "end_time": "2022-06-20T14:28:36.565041",
     "exception": false,
     "start_time": "2022-06-20T14:28:36.377401",
     "status": "completed"
    },
    "tags": []
   },
   "outputs": [
    {
     "name": "stdout",
     "output_type": "stream",
     "text": [
      "0.0006384304\n"
     ]
    }
   ],
   "source": [
    "optimal_lr = lr_finder.get_best_lr(sma=1)\n",
    "print(optimal_lr)\n",
    "OPT = tf.keras.optimizers.Adam(learning_rate=optimal_lr)"
   ]
  },
  {
   "cell_type": "code",
   "execution_count": 16,
   "id": "2c282a9b",
   "metadata": {
    "execution": {
     "iopub.execute_input": "2022-06-20T14:28:36.912766Z",
     "iopub.status.busy": "2022-06-20T14:28:36.912526Z",
     "iopub.status.idle": "2022-06-20T14:28:36.916708Z",
     "shell.execute_reply": "2022-06-20T14:28:36.915884Z"
    },
    "papermill": {
     "duration": 0.18071,
     "end_time": "2022-06-20T14:28:36.918965",
     "exception": false,
     "start_time": "2022-06-20T14:28:36.738255",
     "status": "completed"
    },
    "tags": []
   },
   "outputs": [],
   "source": [
    "filepath_cnn=\"weights.cnn.hdf5\"\n",
    "checkpoint = ModelCheckpoint(filepath_cnn, monitor='val_accuracy', verbose=1, save_best_only=True, mode='max')"
   ]
  },
  {
   "cell_type": "code",
   "execution_count": 17,
   "id": "be41a147",
   "metadata": {
    "execution": {
     "iopub.execute_input": "2022-06-20T14:28:37.266571Z",
     "iopub.status.busy": "2022-06-20T14:28:37.266271Z",
     "iopub.status.idle": "2022-06-20T15:46:13.664308Z",
     "shell.execute_reply": "2022-06-20T15:46:13.663505Z"
    },
    "papermill": {
     "duration": 4656.575044,
     "end_time": "2022-06-20T15:46:13.666854",
     "exception": false,
     "start_time": "2022-06-20T14:28:37.091810",
     "status": "completed"
    },
    "tags": []
   },
   "outputs": [
    {
     "name": "stderr",
     "output_type": "stream",
     "text": [
      "2022-06-20 14:28:37.306709: W tensorflow/core/framework/cpu_allocator_impl.cc:80] Allocation of 1055970000 exceeds 10% of free system memory.\n",
      "2022-06-20 14:28:38.395763: W tensorflow/core/framework/cpu_allocator_impl.cc:80] Allocation of 1055970000 exceeds 10% of free system memory.\n"
     ]
    },
    {
     "name": "stdout",
     "output_type": "stream",
     "text": [
      "Epoch 1/50\n",
      "123/123 [==============================] - 105s 754ms/step - loss: 46.0720 - accuracy: 0.5055 - val_loss: 2.6429 - val_accuracy: 0.5721\n",
      "\n",
      "Epoch 00001: val_accuracy improved from -inf to 0.57212, saving model to weights.cnn.hdf5\n",
      "Epoch 2/50\n",
      "123/123 [==============================] - 93s 755ms/step - loss: 1.5137 - accuracy: 0.5935 - val_loss: 1.0159 - val_accuracy: 0.6358\n",
      "\n",
      "Epoch 00002: val_accuracy improved from 0.57212 to 0.63582, saving model to weights.cnn.hdf5\n",
      "Epoch 3/50\n",
      "123/123 [==============================] - 93s 756ms/step - loss: 1.0838 - accuracy: 0.6190 - val_loss: 1.0779 - val_accuracy: 0.6130\n",
      "\n",
      "Epoch 00003: val_accuracy did not improve from 0.63582\n",
      "Epoch 4/50\n",
      "123/123 [==============================] - 93s 757ms/step - loss: 1.0074 - accuracy: 0.6487 - val_loss: 0.9770 - val_accuracy: 0.6262\n",
      "\n",
      "Epoch 00004: val_accuracy did not improve from 0.63582\n",
      "Epoch 5/50\n",
      "123/123 [==============================] - 91s 738ms/step - loss: 0.9770 - accuracy: 0.6666 - val_loss: 1.2649 - val_accuracy: 0.5962\n",
      "\n",
      "Epoch 00005: val_accuracy did not improve from 0.63582\n",
      "Epoch 6/50\n",
      "123/123 [==============================] - 91s 740ms/step - loss: 0.9126 - accuracy: 0.6763 - val_loss: 1.3845 - val_accuracy: 0.4736\n",
      "\n",
      "Epoch 00006: val_accuracy did not improve from 0.63582\n",
      "Epoch 7/50\n",
      "123/123 [==============================] - 90s 735ms/step - loss: 0.8576 - accuracy: 0.7019 - val_loss: 1.0236 - val_accuracy: 0.6058\n",
      "\n",
      "Epoch 00007: val_accuracy did not improve from 0.63582\n",
      "Epoch 8/50\n",
      "123/123 [==============================] - 91s 738ms/step - loss: 0.8037 - accuracy: 0.7177 - val_loss: 1.2368 - val_accuracy: 0.6010\n",
      "\n",
      "Epoch 00008: val_accuracy did not improve from 0.63582\n",
      "Epoch 9/50\n",
      "123/123 [==============================] - 93s 755ms/step - loss: 0.7772 - accuracy: 0.7264 - val_loss: 1.0388 - val_accuracy: 0.6094\n",
      "\n",
      "Epoch 00009: val_accuracy did not improve from 0.63582\n",
      "Epoch 10/50\n",
      "123/123 [==============================] - 93s 756ms/step - loss: 0.7527 - accuracy: 0.7364 - val_loss: 1.1024 - val_accuracy: 0.6058\n",
      "\n",
      "Epoch 00010: val_accuracy did not improve from 0.63582\n",
      "Epoch 11/50\n",
      "123/123 [==============================] - 91s 737ms/step - loss: 0.6879 - accuracy: 0.7451 - val_loss: 1.3289 - val_accuracy: 0.6010\n",
      "\n",
      "Epoch 00011: val_accuracy did not improve from 0.63582\n",
      "Epoch 12/50\n",
      "123/123 [==============================] - 93s 755ms/step - loss: 0.6792 - accuracy: 0.7520 - val_loss: 1.2341 - val_accuracy: 0.5829\n",
      "\n",
      "Epoch 00012: val_accuracy did not improve from 0.63582\n",
      "Epoch 13/50\n",
      "123/123 [==============================] - 91s 739ms/step - loss: 0.7027 - accuracy: 0.7458 - val_loss: 1.1073 - val_accuracy: 0.6538\n",
      "\n",
      "Epoch 00013: val_accuracy improved from 0.63582 to 0.65385, saving model to weights.cnn.hdf5\n",
      "Epoch 14/50\n",
      "123/123 [==============================] - 93s 757ms/step - loss: 0.6407 - accuracy: 0.7663 - val_loss: 1.0020 - val_accuracy: 0.6478\n",
      "\n",
      "Epoch 00014: val_accuracy did not improve from 0.65385\n",
      "Epoch 15/50\n",
      "123/123 [==============================] - 90s 734ms/step - loss: 0.6240 - accuracy: 0.7676 - val_loss: 1.0934 - val_accuracy: 0.6274\n",
      "\n",
      "Epoch 00015: val_accuracy did not improve from 0.65385\n",
      "Epoch 16/50\n",
      "123/123 [==============================] - 91s 736ms/step - loss: 0.6314 - accuracy: 0.7653 - val_loss: 1.1034 - val_accuracy: 0.6418\n",
      "\n",
      "Epoch 00016: val_accuracy did not improve from 0.65385\n",
      "Epoch 17/50\n",
      "123/123 [==============================] - 93s 755ms/step - loss: 0.5949 - accuracy: 0.7760 - val_loss: 1.4175 - val_accuracy: 0.5950\n",
      "\n",
      "Epoch 00017: val_accuracy did not improve from 0.65385\n",
      "Epoch 18/50\n",
      "123/123 [==============================] - 93s 757ms/step - loss: 0.5842 - accuracy: 0.7724 - val_loss: 1.0211 - val_accuracy: 0.6526\n",
      "\n",
      "Epoch 00018: val_accuracy did not improve from 0.65385\n",
      "Epoch 19/50\n",
      "123/123 [==============================] - 90s 736ms/step - loss: 0.7097 - accuracy: 0.7553 - val_loss: 1.2150 - val_accuracy: 0.6238\n",
      "\n",
      "Epoch 00019: val_accuracy did not improve from 0.65385\n",
      "Epoch 20/50\n",
      "123/123 [==============================] - 90s 736ms/step - loss: 0.6202 - accuracy: 0.7724 - val_loss: 1.1662 - val_accuracy: 0.6478\n",
      "\n",
      "Epoch 00020: val_accuracy did not improve from 0.65385\n",
      "Epoch 21/50\n",
      "123/123 [==============================] - 91s 736ms/step - loss: 0.6136 - accuracy: 0.7781 - val_loss: 1.1310 - val_accuracy: 0.5829\n",
      "\n",
      "Epoch 00021: val_accuracy did not improve from 0.65385\n",
      "Epoch 22/50\n",
      "123/123 [==============================] - 93s 756ms/step - loss: 0.6818 - accuracy: 0.7724 - val_loss: 1.1163 - val_accuracy: 0.6142\n",
      "\n",
      "Epoch 00022: val_accuracy did not improve from 0.65385\n",
      "Epoch 23/50\n",
      "123/123 [==============================] - 91s 737ms/step - loss: 0.5461 - accuracy: 0.7898 - val_loss: 1.1121 - val_accuracy: 0.6178\n",
      "\n",
      "Epoch 00023: val_accuracy did not improve from 0.65385\n",
      "Epoch 24/50\n",
      "123/123 [==============================] - 91s 738ms/step - loss: 0.5507 - accuracy: 0.8016 - val_loss: 1.4605 - val_accuracy: 0.5529\n",
      "\n",
      "Epoch 00024: val_accuracy did not improve from 0.65385\n",
      "Epoch 25/50\n",
      "123/123 [==============================] - 90s 735ms/step - loss: 0.7408 - accuracy: 0.7832 - val_loss: 1.3361 - val_accuracy: 0.5817\n",
      "\n",
      "Epoch 00025: val_accuracy did not improve from 0.65385\n",
      "Epoch 26/50\n",
      "123/123 [==============================] - 93s 754ms/step - loss: 0.5599 - accuracy: 0.8110 - val_loss: 2.6251 - val_accuracy: 0.6418\n",
      "\n",
      "Epoch 00026: val_accuracy did not improve from 0.65385\n",
      "Epoch 27/50\n",
      "123/123 [==============================] - 90s 736ms/step - loss: 0.5522 - accuracy: 0.8231 - val_loss: 1.0744 - val_accuracy: 0.6611\n",
      "\n",
      "Epoch 00027: val_accuracy improved from 0.65385 to 0.66106, saving model to weights.cnn.hdf5\n",
      "Epoch 28/50\n",
      "123/123 [==============================] - 93s 755ms/step - loss: 0.5871 - accuracy: 0.8218 - val_loss: 1.4610 - val_accuracy: 0.6623\n",
      "\n",
      "Epoch 00028: val_accuracy improved from 0.66106 to 0.66226, saving model to weights.cnn.hdf5\n",
      "Epoch 29/50\n",
      "123/123 [==============================] - 90s 735ms/step - loss: 0.5351 - accuracy: 0.8289 - val_loss: 1.7820 - val_accuracy: 0.6731\n",
      "\n",
      "Epoch 00029: val_accuracy improved from 0.66226 to 0.67308, saving model to weights.cnn.hdf5\n",
      "Epoch 30/50\n",
      "123/123 [==============================] - 91s 738ms/step - loss: 0.6315 - accuracy: 0.8397 - val_loss: 1.5465 - val_accuracy: 0.6382\n",
      "\n",
      "Epoch 00030: val_accuracy did not improve from 0.67308\n",
      "Epoch 31/50\n",
      "123/123 [==============================] - 93s 756ms/step - loss: 0.5697 - accuracy: 0.8622 - val_loss: 1.3560 - val_accuracy: 0.6575\n",
      "\n",
      "Epoch 00031: val_accuracy did not improve from 0.67308\n",
      "Epoch 32/50\n",
      "123/123 [==============================] - 93s 759ms/step - loss: 0.5774 - accuracy: 0.8415 - val_loss: 1.3395 - val_accuracy: 0.6442\n",
      "\n",
      "Epoch 00032: val_accuracy did not improve from 0.67308\n",
      "Epoch 33/50\n",
      "123/123 [==============================] - 91s 739ms/step - loss: 0.4770 - accuracy: 0.8849 - val_loss: 1.7401 - val_accuracy: 0.6731\n",
      "\n",
      "Epoch 00033: val_accuracy did not improve from 0.67308\n",
      "Epoch 34/50\n",
      "123/123 [==============================] - 91s 744ms/step - loss: 0.6807 - accuracy: 0.8548 - val_loss: 1.6356 - val_accuracy: 0.6118\n",
      "\n",
      "Epoch 00034: val_accuracy did not improve from 0.67308\n",
      "Epoch 35/50\n",
      "123/123 [==============================] - 91s 736ms/step - loss: 0.5115 - accuracy: 0.8941 - val_loss: 1.3697 - val_accuracy: 0.5998\n",
      "\n",
      "Epoch 00035: val_accuracy did not improve from 0.67308\n",
      "Epoch 36/50\n",
      "123/123 [==============================] - 93s 757ms/step - loss: 0.8221 - accuracy: 0.8617 - val_loss: 1.2549 - val_accuracy: 0.5986\n",
      "\n",
      "Epoch 00036: val_accuracy did not improve from 0.67308\n",
      "Epoch 37/50\n",
      "123/123 [==============================] - 93s 756ms/step - loss: 0.7644 - accuracy: 0.8179 - val_loss: 1.2753 - val_accuracy: 0.6502\n",
      "\n",
      "Epoch 00037: val_accuracy did not improve from 0.67308\n",
      "Epoch 38/50\n",
      "123/123 [==============================] - 91s 737ms/step - loss: 0.5754 - accuracy: 0.8785 - val_loss: 1.5356 - val_accuracy: 0.6346\n",
      "\n",
      "Epoch 00038: val_accuracy did not improve from 0.67308\n",
      "Epoch 39/50\n",
      "123/123 [==============================] - 93s 755ms/step - loss: 0.5541 - accuracy: 0.8906 - val_loss: 1.3346 - val_accuracy: 0.6983\n",
      "\n",
      "Epoch 00039: val_accuracy improved from 0.67308 to 0.69832, saving model to weights.cnn.hdf5\n",
      "Epoch 40/50\n",
      "123/123 [==============================] - 91s 737ms/step - loss: 0.4870 - accuracy: 0.9069 - val_loss: 1.3976 - val_accuracy: 0.6719\n",
      "\n",
      "Epoch 00040: val_accuracy did not improve from 0.69832\n",
      "Epoch 41/50\n",
      "123/123 [==============================] - 94s 763ms/step - loss: 0.4958 - accuracy: 0.9225 - val_loss: 1.2786 - val_accuracy: 0.5469\n",
      "\n",
      "Epoch 00041: val_accuracy did not improve from 0.69832\n",
      "Epoch 42/50\n",
      "123/123 [==============================] - 91s 739ms/step - loss: 0.6040 - accuracy: 0.9143 - val_loss: 1.6500 - val_accuracy: 0.6719\n",
      "\n",
      "Epoch 00042: val_accuracy did not improve from 0.69832\n",
      "Epoch 43/50\n",
      "123/123 [==============================] - 93s 756ms/step - loss: 0.6766 - accuracy: 0.9218 - val_loss: 1.3044 - val_accuracy: 0.6767\n",
      "\n",
      "Epoch 00043: val_accuracy did not improve from 0.69832\n",
      "Epoch 44/50\n",
      "123/123 [==============================] - 93s 756ms/step - loss: 0.4940 - accuracy: 0.9340 - val_loss: 1.2003 - val_accuracy: 0.6022\n",
      "\n",
      "Epoch 00044: val_accuracy did not improve from 0.69832\n",
      "Epoch 45/50\n",
      "123/123 [==============================] - 91s 736ms/step - loss: 0.4302 - accuracy: 0.9448 - val_loss: 1.2905 - val_accuracy: 0.6575\n",
      "\n",
      "Epoch 00045: val_accuracy did not improve from 0.69832\n",
      "Epoch 46/50\n",
      "123/123 [==============================] - 91s 737ms/step - loss: 0.3739 - accuracy: 0.9545 - val_loss: 1.9585 - val_accuracy: 0.6803\n",
      "\n",
      "Epoch 00046: val_accuracy did not improve from 0.69832\n",
      "Epoch 47/50\n",
      "123/123 [==============================] - 93s 756ms/step - loss: 0.3714 - accuracy: 0.9647 - val_loss: 1.7707 - val_accuracy: 0.6647\n",
      "\n",
      "Epoch 00047: val_accuracy did not improve from 0.69832\n",
      "Epoch 48/50\n",
      "123/123 [==============================] - 93s 756ms/step - loss: 0.3994 - accuracy: 0.9491 - val_loss: 1.7609 - val_accuracy: 0.6358\n",
      "\n",
      "Epoch 00048: val_accuracy did not improve from 0.69832\n",
      "Epoch 49/50\n",
      "123/123 [==============================] - 93s 754ms/step - loss: 0.3451 - accuracy: 0.9675 - val_loss: 1.2944 - val_accuracy: 0.6466\n",
      "\n",
      "Epoch 00049: val_accuracy did not improve from 0.69832\n",
      "Epoch 50/50\n",
      "123/123 [==============================] - 91s 740ms/step - loss: 0.4146 - accuracy: 0.9532 - val_loss: 1.5399 - val_accuracy: 0.6659\n",
      "\n",
      "Epoch 00050: val_accuracy did not improve from 0.69832\n"
     ]
    }
   ],
   "source": [
    "cnn.compile(loss='sparse_categorical_crossentropy', optimizer=OPT, metrics=['accuracy'])\n",
    "hist_cnn = cnn.fit(x_train, y_train, batch_size=32, epochs=50,  validation_data=(x_validation, y_validation), callbacks=[checkpoint])"
   ]
  },
  {
   "cell_type": "code",
   "execution_count": 18,
   "id": "3b2e1886",
   "metadata": {
    "execution": {
     "iopub.execute_input": "2022-06-20T15:46:18.238075Z",
     "iopub.status.busy": "2022-06-20T15:46:18.237788Z",
     "iopub.status.idle": "2022-06-20T15:46:18.584542Z",
     "shell.execute_reply": "2022-06-20T15:46:18.583894Z"
    },
    "papermill": {
     "duration": 2.773291,
     "end_time": "2022-06-20T15:46:18.586199",
     "exception": false,
     "start_time": "2022-06-20T15:46:15.812908",
     "status": "completed"
    },
    "tags": []
   },
   "outputs": [
    {
     "data": {
      "image/png": "[encoded data removed]",
      "text/plain": [
       "<Figure size 432x288 with 1 Axes>"
      ]
     },
     "metadata": {
      "needs_background": "light"
     },
     "output_type": "display_data"
    },
    {
     "data": {
      "image/png": "[encoded data removed]",
      "text/plain": [
       "<Figure size 432x288 with 1 Axes>"
      ]
     },
     "metadata": {
      "needs_background": "light"
     },
     "output_type": "display_data"
    }
   ],
   "source": [
    "def plot_hist(hist, title):\n",
    "    plt.plot(hist.history[\"accuracy\"])\n",
    "    plt.plot(hist.history[\"val_accuracy\"])\n",
    "    plt.title(\"Accuracy \" + title)\n",
    "    plt.ylabel(\"accuracy\")\n",
    "    plt.xlabel(\"epoch\")\n",
    "    plt.legend([\"train\", \"validation\"], loc=\"upper left\")\n",
    "    plt.show()\n",
    "    \n",
    "    # summarize history for loss\n",
    "    plt.plot(hist.history['loss'])\n",
    "    plt.plot(hist.history['val_loss'])\n",
    "    plt.title(\"LOSS \" + title)\n",
    "    plt.ylabel('loss')\n",
    "    plt.xlabel('epoch')\n",
    "    plt.legend(['train', 'validation'], loc='upper left')\n",
    "    plt.show()\n",
    "\n",
    "\n",
    "plot_hist(hist_cnn, title=\"Efficient-Net B3\")"
   ]
  },
  {
   "cell_type": "code",
   "execution_count": 19,
   "id": "d17f8947",
   "metadata": {
    "execution": {
     "iopub.execute_input": "2022-06-20T15:46:22.878675Z",
     "iopub.status.busy": "2022-06-20T15:46:22.878129Z",
     "iopub.status.idle": "2022-06-20T15:46:22.888723Z",
     "shell.execute_reply": "2022-06-20T15:46:22.888032Z"
    },
    "papermill": {
     "duration": 2.160662,
     "end_time": "2022-06-20T15:46:22.890606",
     "exception": false,
     "start_time": "2022-06-20T15:46:20.729944",
     "status": "completed"
    },
    "tags": []
   },
   "outputs": [],
   "source": [
    "def plot_confusion_matrix(cm, classes,\n",
    "                          normalize=False,\n",
    "                          title='Confusion matrix',\n",
    "                          cmap=plt.cm.Blues):\n",
    "    \"\"\"\n",
    "    This function prints and plots the confusion matrix.\n",
    "    Normalization can be applied by setting `normalize=True`.\n",
    "    \"\"\"\n",
    "    plt.figure(figsize = (5,5))\n",
    "    plt.imshow(cm, interpolation='nearest', cmap=cmap)\n",
    "    plt.title(title)\n",
    "    plt.colorbar()\n",
    "    tick_marks = np.arange(len(classes))\n",
    "    plt.xticks(tick_marks, classes, rotation=90)\n",
    "    plt.yticks(tick_marks, classes)\n",
    "    if normalize:\n",
    "        cm = cm.astype('float') / cm.sum(axis=1)[:, np.newaxis]\n",
    "\n",
    "    thresh = cm.max() / 2.\n",
    "    for i, j in itertools.product(range(cm.shape[0]), range(cm.shape[1])):\n",
    "        plt.text(j, i, cm[i, j],\n",
    "                 horizontalalignment=\"center\",\n",
    "                 color=\"white\" if cm[i, j] > thresh else \"black\")\n",
    "    plt.tight_layout()\n",
    "    plt.ylabel('True label')\n",
    "    plt.xlabel('Predicted label')"
   ]
  },
  {
   "cell_type": "code",
   "execution_count": 20,
   "id": "4be75766",
   "metadata": {
    "execution": {
     "iopub.execute_input": "2022-06-20T15:46:27.480149Z",
     "iopub.status.busy": "2022-06-20T15:46:27.479871Z",
     "iopub.status.idle": "2022-06-20T15:46:40.583927Z",
     "shell.execute_reply": "2022-06-20T15:46:40.583264Z"
    },
    "papermill": {
     "duration": 15.522701,
     "end_time": "2022-06-20T15:46:40.586103",
     "exception": false,
     "start_time": "2022-06-20T15:46:25.063402",
     "status": "completed"
    },
    "tags": []
   },
   "outputs": [
    {
     "name": "stdout",
     "output_type": "stream",
     "text": [
      "Convolutional Neural Network - accuracy: 0.6690561771392822 \n",
      "\n"
     ]
    },
    {
     "data": {
      "image/png": "[encoded data removed]",
      "text/plain": [
       "<Figure size 360x360 with 2 Axes>"
      ]
     },
     "metadata": {
      "needs_background": "light"
     },
     "output_type": "display_data"
    }
   ],
   "source": [
    "score = cnn.evaluate(x_test, y_test, verbose=0)\n",
    "print('Convolutional Neural Network - accuracy:', score[1],\"\\n\")\n",
    "Y_pred = cnn.predict(x_test)\n",
    "Y_pred_classes = np.argmax(Y_pred,axis = 1) \n",
    "confusion_mtx = confusion_matrix(y_test, Y_pred_classes)\n",
    "plot_confusion_matrix(confusion_mtx, classes = ['A-V-','A-V+','A+V-','A+V+']) \n",
    "plt.show()"
   ]
  }
 ],
 "metadata": {
  "kernelspec": {
   "display_name": "Python 3",
   "language": "python",
   "name": "python3"
  },
  "language_info": {
   "codemirror_mode": {
    "name": "ipython",
    "version": 3
   },
   "file_extension": ".py",
   "mimetype": "text/x-python",
   "name": "python",
   "nbconvert_exporter": "python",
   "pygments_lexer": "ipython3",
   "version": "3.7.12"
  },
  "papermill": {
   "default_parameters": {},
   "duration": 5165.583491,
   "end_time": "2022-06-20T15:46:45.661673",
   "environment_variables": {},
   "exception": null,
   "input_path": "__notebook__.ipynb",
   "output_path": "__notebook__.ipynb",
   "parameters": {},
   "start_time": "2022-06-20T14:20:40.078182",
   "version": "2.3.4"
  }
 },
 "nbformat": 4,
 "nbformat_minor": 5
}
