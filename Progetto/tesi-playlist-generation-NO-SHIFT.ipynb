{
 "cells": [
  {
   "cell_type": "markdown",
   "id": "c5f42b85",
   "metadata": {
    "papermill": {
     "duration": 0.004581,
     "end_time": "2022-07-28T16:33:56.946070",
     "exception": false,
     "start_time": "2022-07-28T16:33:56.941489",
     "status": "completed"
    },
    "tags": []
   },
   "source": [
    "# Generazione Playlist personalizzata in base all'umore"
   ]
  },
  {
   "cell_type": "code",
   "execution_count": 1,
   "id": "462e8a07",
   "metadata": {
    "_cell_guid": "b1076dfc-b9ad-4769-8c92-a6c4dae69d19",
    "_uuid": "8f2839f25d086af736a60e9eeb907d3b93b6e0e5",
    "execution": {
     "iopub.execute_input": "2022-07-28T16:33:56.957302Z",
     "iopub.status.busy": "2022-07-28T16:33:56.956299Z",
     "iopub.status.idle": "2022-07-28T16:34:10.917313Z",
     "shell.execute_reply": "2022-07-28T16:34:10.916369Z"
    },
    "papermill": {
     "duration": 13.970147,
     "end_time": "2022-07-28T16:34:10.920030",
     "exception": false,
     "start_time": "2022-07-28T16:33:56.949883",
     "status": "completed"
    },
    "tags": []
   },
   "outputs": [],
   "source": [
    "import os\n",
    "import collections\n",
    "from pathlib import Path\n",
    "import pandas as pd\n",
    "import numpy as np\n",
    "\n",
    "\n",
    "# audio lib\n",
    "import librosa\n",
    "import librosa.display\n",
    "from librosa.util import fix_length\n",
    "\n",
    "import IPython.display as ipd\n",
    "from PIL import Image"
   ]
  },
  {
   "cell_type": "markdown",
   "id": "39d44a74",
   "metadata": {
    "papermill": {
     "duration": 0.003388,
     "end_time": "2022-07-28T16:34:10.927170",
     "exception": false,
     "start_time": "2022-07-28T16:34:10.923782",
     "status": "completed"
    },
    "tags": []
   },
   "source": [
    "Si importa il file .csv contenente le informazioni prodotte dal modello MER"
   ]
  },
  {
   "cell_type": "code",
   "execution_count": 2,
   "id": "aff4f4fb",
   "metadata": {
    "execution": {
     "iopub.execute_input": "2022-07-28T16:34:10.936558Z",
     "iopub.status.busy": "2022-07-28T16:34:10.935855Z",
     "iopub.status.idle": "2022-07-28T16:34:10.958872Z",
     "shell.execute_reply": "2022-07-28T16:34:10.958028Z"
    },
    "papermill": {
     "duration": 0.030891,
     "end_time": "2022-07-28T16:34:10.961538",
     "exception": false,
     "start_time": "2022-07-28T16:34:10.930647",
     "status": "completed"
    },
    "tags": []
   },
   "outputs": [],
   "source": [
    "df = pd.read_csv('../input/tesi-finetuning/finetuned.csv')\n",
    "\n",
    "# dati relativi alla creazione playlist, personalizzabili dall'utente\n",
    "playlist_length = 10\n",
    "starting_mood = 'A-V-'\n",
    "expected_mood = 'A-V-'"
   ]
  },
  {
   "cell_type": "markdown",
   "id": "03dd384f",
   "metadata": {
    "papermill": {
     "duration": 0.003372,
     "end_time": "2022-07-28T16:34:10.968600",
     "exception": false,
     "start_time": "2022-07-28T16:34:10.965228",
     "status": "completed"
    },
    "tags": []
   },
   "source": [
    "L'algoritmo ideato funziona nel seguente modo:\n",
    "* Si parte da una stima di 100 per il mood iniziale e di 0 per il mood da raggiungere\n",
    "* Si calcola quanto si dovranno shiftare i due mood ogni iterazione, incrementando il target e decrescendo quello di partenza\n",
    "* Si trovano le canzoni che hanno il mood di partenza e quello target più vicini ai valori ottenuti.\n",
    "\n",
    "Es. playlist di 5 canzoni:\n",
    "* 1° iterazione: valore_partenza = 100, valore_target = 0;\n",
    "* 2° iterazione: valore_partenza = 75, valore_target = 25;\n",
    "* 3° iterazione: valore_partenza = 50, valore_target = 50;\n",
    "* 4° iterazione: valore_partenza = 25, valore_target = 75;\n",
    "* 5° iterazione: valore_partenza = 0, valore_target = 100;\n",
    "\n",
    "Se l'utente invece non vuole cambiare umore si prendono le canzoni con stima di quell'emozione più alta."
   ]
  },
  {
   "cell_type": "code",
   "execution_count": 3,
   "id": "a41552a8",
   "metadata": {
    "execution": {
     "iopub.execute_input": "2022-07-28T16:34:10.978425Z",
     "iopub.status.busy": "2022-07-28T16:34:10.977561Z",
     "iopub.status.idle": "2022-07-28T16:34:10.984127Z",
     "shell.execute_reply": "2022-07-28T16:34:10.983272Z"
    },
    "papermill": {
     "duration": 0.014017,
     "end_time": "2022-07-28T16:34:10.986262",
     "exception": false,
     "start_time": "2022-07-28T16:34:10.972245",
     "status": "completed"
    },
    "tags": []
   },
   "outputs": [],
   "source": [
    "# funzione che prende in input le colonne relative alla stima del mood e il valore atteso a cui esse devono avvicinarsi\n",
    "def find_nearest(array_starting, value_starting, array_target, value_target):\n",
    "    \n",
    "    # gli array contengono la differenza tra il valore reale e quello atteso\n",
    "    starting = np.abs(array_starting - value_starting)\n",
    "    target = np.abs(array_target - value_target)\n",
    "    \n",
    "    # si sommano i valori degli array\n",
    "    nearest_array = starting + target\n",
    "    \n",
    "    # l'elemento minore sarà quello con i due mood combinati che più si avvicinano all'obiettivo\n",
    "    return nearest_array.argmin()"
   ]
  },
  {
   "cell_type": "code",
   "execution_count": 4,
   "id": "0d4aad91",
   "metadata": {
    "execution": {
     "iopub.execute_input": "2022-07-28T16:34:10.995749Z",
     "iopub.status.busy": "2022-07-28T16:34:10.995024Z",
     "iopub.status.idle": "2022-07-28T16:34:11.001415Z",
     "shell.execute_reply": "2022-07-28T16:34:11.000596Z"
    },
    "papermill": {
     "duration": 0.013858,
     "end_time": "2022-07-28T16:34:11.003867",
     "exception": false,
     "start_time": "2022-07-28T16:34:10.990009",
     "status": "completed"
    },
    "tags": []
   },
   "outputs": [],
   "source": [
    "def show_playlist(title_array):\n",
    "    \n",
    "    original_df = pd.read_csv('../input/tesi-finetuning/finetuned.csv')\n",
    "    \n",
    "    del original_df['Max_Overall_Emotion']\n",
    "    del original_df['True_Emotion']\n",
    "    del original_df['Wrong_Inferences']\n",
    "    del original_df['diff_abs']\n",
    "    \n",
    "    my_playlist = original_df.iloc[:0,:].copy()\n",
    "    for i in title_array:\n",
    "        my_playlist = my_playlist.append(original_df.loc[original_df['ID'] == i], ignore_index=True)\n",
    "    \n",
    "    return my_playlist"
   ]
  },
  {
   "cell_type": "code",
   "execution_count": 5,
   "id": "7f4f37c5",
   "metadata": {
    "execution": {
     "iopub.execute_input": "2022-07-28T16:34:11.013136Z",
     "iopub.status.busy": "2022-07-28T16:34:11.012491Z",
     "iopub.status.idle": "2022-07-28T16:34:11.030177Z",
     "shell.execute_reply": "2022-07-28T16:34:11.029131Z"
    },
    "papermill": {
     "duration": 0.025005,
     "end_time": "2022-07-28T16:34:11.032694",
     "exception": false,
     "start_time": "2022-07-28T16:34:11.007689",
     "status": "completed"
    },
    "tags": []
   },
   "outputs": [],
   "source": [
    "song_list = []\n",
    "\n",
    "if starting_mood != expected_mood: \n",
    "    # caso nel quale l'utente vuole shiftare mood\n",
    "    jump = (100/(playlist_length-1))\n",
    "    starting_value = 100\n",
    "    expected_value = 0\n",
    "\n",
    "\n",
    "    for i in range(playlist_length):\n",
    "\n",
    "        idx = find_nearest(df[starting_mood].to_numpy(), starting_value, df[expected_mood].to_numpy(), expected_value)\n",
    "        song_list.append(df.iloc[idx]['ID'])\n",
    "        df = df.drop(idx)\n",
    "        df = df.reset_index(drop=True)\n",
    "        starting_value = starting_value - jump\n",
    "        expected_value = expected_value + jump\n",
    "        \n",
    "else: # il mood dell'utente non deve cambiare\n",
    "    df = df.sort_values(by=[starting_mood])\n",
    "    df = df[len(df)-playlist_length:]\n",
    "    song_list = df['ID'].to_numpy()\n"
   ]
  },
  {
   "cell_type": "code",
   "execution_count": 6,
   "id": "02b688cc",
   "metadata": {
    "execution": {
     "iopub.execute_input": "2022-07-28T16:34:11.041972Z",
     "iopub.status.busy": "2022-07-28T16:34:11.041536Z",
     "iopub.status.idle": "2022-07-28T16:34:11.080069Z",
     "shell.execute_reply": "2022-07-28T16:34:11.079246Z"
    },
    "papermill": {
     "duration": 0.046449,
     "end_time": "2022-07-28T16:34:11.082899",
     "exception": false,
     "start_time": "2022-07-28T16:34:11.036450",
     "status": "completed"
    },
    "tags": []
   },
   "outputs": [
    {
     "data": {
      "text/html": [
       "<div>\n",
       "<style scoped>\n",
       "    .dataframe tbody tr th:only-of-type {\n",
       "        vertical-align: middle;\n",
       "    }\n",
       "\n",
       "    .dataframe tbody tr th {\n",
       "        vertical-align: top;\n",
       "    }\n",
       "\n",
       "    .dataframe thead th {\n",
       "        text-align: right;\n",
       "    }\n",
       "</style>\n",
       "<table border=\"1\" class=\"dataframe\">\n",
       "  <thead>\n",
       "    <tr style=\"text-align: right;\">\n",
       "      <th></th>\n",
       "      <th>ID</th>\n",
       "      <th>A-V-</th>\n",
       "      <th>A-V+</th>\n",
       "      <th>A+V-</th>\n",
       "      <th>A+V+</th>\n",
       "    </tr>\n",
       "  </thead>\n",
       "  <tbody>\n",
       "    <tr>\n",
       "      <th>0</th>\n",
       "      <td>Radiohead - Karma Police</td>\n",
       "      <td>30.0</td>\n",
       "      <td>50.0</td>\n",
       "      <td>0.0</td>\n",
       "      <td>20.0</td>\n",
       "    </tr>\n",
       "    <tr>\n",
       "      <th>1</th>\n",
       "      <td>Eagles - Hotel California</td>\n",
       "      <td>31.2</td>\n",
       "      <td>50.0</td>\n",
       "      <td>6.2</td>\n",
       "      <td>12.5</td>\n",
       "    </tr>\n",
       "    <tr>\n",
       "      <th>2</th>\n",
       "      <td>Machine Gun Kelly - Home</td>\n",
       "      <td>33.3</td>\n",
       "      <td>0.0</td>\n",
       "      <td>22.2</td>\n",
       "      <td>44.4</td>\n",
       "    </tr>\n",
       "    <tr>\n",
       "      <th>3</th>\n",
       "      <td>Dire Straits - Brothers In Arms</td>\n",
       "      <td>36.4</td>\n",
       "      <td>63.6</td>\n",
       "      <td>0.0</td>\n",
       "      <td>0.0</td>\n",
       "    </tr>\n",
       "    <tr>\n",
       "      <th>4</th>\n",
       "      <td>David Bowie - Space Oddity</td>\n",
       "      <td>38.5</td>\n",
       "      <td>30.8</td>\n",
       "      <td>0.0</td>\n",
       "      <td>30.8</td>\n",
       "    </tr>\n",
       "    <tr>\n",
       "      <th>5</th>\n",
       "      <td>Pink Floyd - Shine On You Crazy Diamond</td>\n",
       "      <td>45.0</td>\n",
       "      <td>45.0</td>\n",
       "      <td>0.0</td>\n",
       "      <td>10.0</td>\n",
       "    </tr>\n",
       "    <tr>\n",
       "      <th>6</th>\n",
       "      <td>Muse - Feeling Good</td>\n",
       "      <td>50.0</td>\n",
       "      <td>12.5</td>\n",
       "      <td>12.5</td>\n",
       "      <td>25.0</td>\n",
       "    </tr>\n",
       "    <tr>\n",
       "      <th>7</th>\n",
       "      <td>Radiohead - Fake Plastic Trees</td>\n",
       "      <td>58.3</td>\n",
       "      <td>25.0</td>\n",
       "      <td>0.0</td>\n",
       "      <td>16.7</td>\n",
       "    </tr>\n",
       "    <tr>\n",
       "      <th>8</th>\n",
       "      <td>John Coltrane - Naima</td>\n",
       "      <td>60.0</td>\n",
       "      <td>40.0</td>\n",
       "      <td>0.0</td>\n",
       "      <td>0.0</td>\n",
       "    </tr>\n",
       "    <tr>\n",
       "      <th>9</th>\n",
       "      <td>Nirvana - All Apologies</td>\n",
       "      <td>75.0</td>\n",
       "      <td>12.5</td>\n",
       "      <td>0.0</td>\n",
       "      <td>12.5</td>\n",
       "    </tr>\n",
       "  </tbody>\n",
       "</table>\n",
       "</div>"
      ],
      "text/plain": [
       "                                        ID  A-V-  A-V+  A+V-  A+V+\n",
       "0                 Radiohead - Karma Police  30.0  50.0   0.0  20.0\n",
       "1                Eagles - Hotel California  31.2  50.0   6.2  12.5\n",
       "2                 Machine Gun Kelly - Home  33.3   0.0  22.2  44.4\n",
       "3          Dire Straits - Brothers In Arms  36.4  63.6   0.0   0.0\n",
       "4               David Bowie - Space Oddity  38.5  30.8   0.0  30.8\n",
       "5  Pink Floyd - Shine On You Crazy Diamond  45.0  45.0   0.0  10.0\n",
       "6                      Muse - Feeling Good  50.0  12.5  12.5  25.0\n",
       "7           Radiohead - Fake Plastic Trees  58.3  25.0   0.0  16.7\n",
       "8                    John Coltrane - Naima  60.0  40.0   0.0   0.0\n",
       "9                  Nirvana - All Apologies  75.0  12.5   0.0  12.5"
      ]
     },
     "execution_count": 6,
     "metadata": {},
     "output_type": "execute_result"
    }
   ],
   "source": [
    "show_playlist(song_list)"
   ]
  },
  {
   "cell_type": "markdown",
   "id": "fb9010d8",
   "metadata": {
    "papermill": {
     "duration": 0.003746,
     "end_time": "2022-07-28T16:34:11.090714",
     "exception": false,
     "start_time": "2022-07-28T16:34:11.086968",
     "status": "completed"
    },
    "tags": []
   },
   "source": [
    "## Playlist generata:"
   ]
  },
  {
   "cell_type": "code",
   "execution_count": 7,
   "id": "fa43d1a7",
   "metadata": {
    "execution": {
     "iopub.execute_input": "2022-07-28T16:34:11.101031Z",
     "iopub.status.busy": "2022-07-28T16:34:11.100346Z",
     "iopub.status.idle": "2022-07-28T16:34:11.106365Z",
     "shell.execute_reply": "2022-07-28T16:34:11.105274Z"
    },
    "papermill": {
     "duration": 0.014022,
     "end_time": "2022-07-28T16:34:11.108568",
     "exception": false,
     "start_time": "2022-07-28T16:34:11.094546",
     "status": "completed"
    },
    "tags": []
   },
   "outputs": [
    {
     "name": "stdout",
     "output_type": "stream",
     "text": [
      "Riproducendo:../input/my-playlist/Playlist/Radiohead - Karma Police.mp3\n",
      "Riproducendo:../input/my-playlist/Playlist/Eagles - Hotel California.mp3\n",
      "Riproducendo:../input/my-playlist/Playlist/Machine Gun Kelly - Home.mp3\n",
      "Riproducendo:../input/my-playlist/Playlist/Dire Straits - Brothers In Arms.mp3\n",
      "Riproducendo:../input/my-playlist/Playlist/David Bowie - Space Oddity.mp3\n",
      "Riproducendo:../input/my-playlist/Playlist/Pink Floyd - Shine On You Crazy Diamond.mp3\n",
      "Riproducendo:../input/my-playlist/Playlist/Muse - Feeling Good.mp3\n",
      "Riproducendo:../input/my-playlist/Playlist/Radiohead - Fake Plastic Trees.mp3\n",
      "Riproducendo:../input/my-playlist/Playlist/John Coltrane - Naima.mp3\n",
      "Riproducendo:../input/my-playlist/Playlist/Nirvana - All Apologies.mp3\n"
     ]
    }
   ],
   "source": [
    "for song in song_list:\n",
    "    song_path = '../input/my-playlist/Playlist/' + song + '.mp3'\n",
    "    print(\"Riproducendo:\"+ song_path)\n",
    "    # ipd.display(ipd.Audio(song_path)) "
   ]
  }
 ],
 "metadata": {
  "kernelspec": {
   "display_name": "Python 3",
   "language": "python",
   "name": "python3"
  },
  "language_info": {
   "codemirror_mode": {
    "name": "ipython",
    "version": 3
   },
   "file_extension": ".py",
   "mimetype": "text/x-python",
   "name": "python",
   "nbconvert_exporter": "python",
   "pygments_lexer": "ipython3",
   "version": "3.7.12"
  },
  "papermill": {
   "default_parameters": {},
   "duration": 25.051221,
   "end_time": "2022-07-28T16:34:12.235540",
   "environment_variables": {},
   "exception": null,
   "input_path": "__notebook__.ipynb",
   "output_path": "__notebook__.ipynb",
   "parameters": {},
   "start_time": "2022-07-28T16:33:47.184319",
   "version": "2.3.4"
  }
 },
 "nbformat": 4,
 "nbformat_minor": 5
}
