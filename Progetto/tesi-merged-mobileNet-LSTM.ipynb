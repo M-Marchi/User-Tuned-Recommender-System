{
 "cells": [
  {
   "cell_type": "code",
   "execution_count": 1,
   "id": "6fd07655",
   "metadata": {
    "_cell_guid": "b1076dfc-b9ad-4769-8c92-a6c4dae69d19",
    "_uuid": "8f2839f25d086af736a60e9eeb907d3b93b6e0e5",
    "execution": {
     "iopub.execute_input": "2022-07-19T15:54:00.991841Z",
     "iopub.status.busy": "2022-07-19T15:54:00.991214Z",
     "iopub.status.idle": "2022-07-19T15:54:08.538814Z",
     "shell.execute_reply": "2022-07-19T15:54:08.537941Z"
    },
    "papermill": {
     "duration": 7.572121,
     "end_time": "2022-07-19T15:54:08.541329",
     "exception": false,
     "start_time": "2022-07-19T15:54:00.969208",
     "status": "completed"
    },
    "tags": []
   },
   "outputs": [],
   "source": [
    "import zipfile\n",
    "import os\n",
    "import pandas as pd\n",
    "import tensorflow as tf\n",
    "from tensorflow import keras\n",
    "from keras import optimizers\n",
    "from keras import layers\n",
    "from keras.regularizers import l2\n",
    "from tensorflow.keras.preprocessing import image\n",
    "from tensorflow.keras.models import Model\n",
    "from keras.models import Sequential\n",
    "from keras.layers import Dense, GlobalAveragePooling2D, Dropout, Flatten, concatenate\n",
    "from tensorflow.keras import regularizers\n",
    "from keras.callbacks import EarlyStopping\n",
    "from keras.callbacks import ModelCheckpoint\n",
    "from keras.utils.vis_utils import plot_model\n",
    "import pylab as pl\n",
    "import numpy as np\n",
    "import matplotlib.image as mpimg\n",
    "import matplotlib.pyplot as plt\n",
    "import seaborn as sns\n",
    "from sklearn.model_selection import train_test_split\n",
    "from keras.models import load_model\n",
    "from keras.utils import np_utils\n",
    "from sklearn.utils import shuffle\n",
    "from sklearn.metrics import confusion_matrix\n",
    "from sklearn.metrics import classification_report\n",
    "from sklearn import preprocessing\n",
    "import itertools\n",
    "import math\n",
    "from keras.layers.recurrent import LSTM\n",
    "\n",
    "# audio lib\n",
    "import librosa\n",
    "import librosa.display\n",
    "from librosa.util import fix_length\n",
    "\n",
    "import IPython.display as ipd\n",
    "from PIL import Image\n"
   ]
  },
  {
   "cell_type": "code",
   "execution_count": 2,
   "id": "6c3ee018",
   "metadata": {
    "execution": {
     "iopub.execute_input": "2022-07-19T15:54:08.581423Z",
     "iopub.status.busy": "2022-07-19T15:54:08.581210Z",
     "iopub.status.idle": "2022-07-19T15:54:08.584658Z",
     "shell.execute_reply": "2022-07-19T15:54:08.583992Z"
    },
    "papermill": {
     "duration": 0.024968,
     "end_time": "2022-07-19T15:54:08.586267",
     "exception": false,
     "start_time": "2022-07-19T15:54:08.561299",
     "status": "completed"
    },
    "tags": []
   },
   "outputs": [],
   "source": [
    "import warnings\n",
    "warnings.filterwarnings(\"ignore\")"
   ]
  },
  {
   "cell_type": "markdown",
   "id": "1d08671c",
   "metadata": {
    "papermill": {
     "duration": 0.019593,
     "end_time": "2022-07-19T15:54:08.624554",
     "exception": false,
     "start_time": "2022-07-19T15:54:08.604961",
     "status": "completed"
    },
    "tags": []
   },
   "source": [
    "# CNN MEL SPECTROGRAM APPROACH - MERGED DATASET\n",
    "\n",
    "Una volta capito che il modello migliore era quello ottenuto tramite CNN sono stati generati spectrogrammi di Mel corrispondenti i dataset: \"PMEmo\", \"4Q\", \"Emotify\".\n",
    "Al fine di ottenere un dataset finale più bilanciato del dataset \"PMEmo\" sono stati presi solo 600 campioni."
   ]
  },
  {
   "cell_type": "code",
   "execution_count": 3,
   "id": "c9b20bdd",
   "metadata": {
    "execution": {
     "iopub.execute_input": "2022-07-19T15:54:08.664972Z",
     "iopub.status.busy": "2022-07-19T15:54:08.664313Z",
     "iopub.status.idle": "2022-07-19T15:54:08.728076Z",
     "shell.execute_reply": "2022-07-19T15:54:08.727435Z"
    },
    "papermill": {
     "duration": 0.08625,
     "end_time": "2022-07-19T15:54:08.730009",
     "exception": false,
     "start_time": "2022-07-19T15:54:08.643759",
     "status": "completed"
    },
    "tags": []
   },
   "outputs": [
    {
     "data": {
      "text/html": [
       "<div>\n",
       "<style scoped>\n",
       "    .dataframe tbody tr th:only-of-type {\n",
       "        vertical-align: middle;\n",
       "    }\n",
       "\n",
       "    .dataframe tbody tr th {\n",
       "        vertical-align: top;\n",
       "    }\n",
       "\n",
       "    .dataframe thead th {\n",
       "        text-align: right;\n",
       "    }\n",
       "</style>\n",
       "<table border=\"1\" class=\"dataframe\">\n",
       "  <thead>\n",
       "    <tr style=\"text-align: right;\">\n",
       "      <th></th>\n",
       "      <th>ID_song</th>\n",
       "    </tr>\n",
       "  </thead>\n",
       "  <tbody>\n",
       "    <tr>\n",
       "      <th>0</th>\n",
       "      <td>3001</td>\n",
       "    </tr>\n",
       "    <tr>\n",
       "      <th>5</th>\n",
       "      <td>3004</td>\n",
       "    </tr>\n",
       "    <tr>\n",
       "      <th>10</th>\n",
       "      <td>3005</td>\n",
       "    </tr>\n",
       "    <tr>\n",
       "      <th>15</th>\n",
       "      <td>3006</td>\n",
       "    </tr>\n",
       "    <tr>\n",
       "      <th>20</th>\n",
       "      <td>3007</td>\n",
       "    </tr>\n",
       "    <tr>\n",
       "      <th>...</th>\n",
       "      <td>...</td>\n",
       "    </tr>\n",
       "    <tr>\n",
       "      <th>3718</th>\n",
       "      <td>3993</td>\n",
       "    </tr>\n",
       "    <tr>\n",
       "      <th>3723</th>\n",
       "      <td>3996</td>\n",
       "    </tr>\n",
       "    <tr>\n",
       "      <th>3728</th>\n",
       "      <td>3997</td>\n",
       "    </tr>\n",
       "    <tr>\n",
       "      <th>3733</th>\n",
       "      <td>3999</td>\n",
       "    </tr>\n",
       "    <tr>\n",
       "      <th>3738</th>\n",
       "      <td>4000</td>\n",
       "    </tr>\n",
       "  </tbody>\n",
       "</table>\n",
       "<p>767 rows × 1 columns</p>\n",
       "</div>"
      ],
      "text/plain": [
       "     ID_song\n",
       "0       3001\n",
       "5       3004\n",
       "10      3005\n",
       "15      3006\n",
       "20      3007\n",
       "...      ...\n",
       "3718    3993\n",
       "3723    3996\n",
       "3728    3997\n",
       "3733    3999\n",
       "3738    4000\n",
       "\n",
       "[767 rows x 1 columns]"
      ]
     },
     "execution_count": 3,
     "metadata": {},
     "output_type": "execute_result"
    }
   ],
   "source": [
    "df1 = pd.read_csv('../input/mel-pmemo/mel.csv')\n",
    "df2 = pd.read_csv('../input/mel-4q/mel.csv')\n",
    "df3 = pd.read_csv('../input/mel-emotify/mel.csv')\n",
    "\n",
    "df1['ID_song'] = df1['ID'].astype(str).str[0:4]\n",
    "df2['ID_song'] = df2['ID'].astype(str).str[0:4]\n",
    "df3['ID_song'] = df3['ID'].astype(str).str[0:4]\n",
    "\n",
    "df1_ID = pd.DataFrame()\n",
    "df1_ID['ID_song'] = df1['ID_song'].drop_duplicates()\n",
    "\n",
    "df2_ID = pd.DataFrame()\n",
    "df2_ID['ID_song'] = df2['ID_song'].drop_duplicates()\n",
    "\n",
    "df3_ID = pd.DataFrame()\n",
    "df3_ID['ID_song'] = df3['ID_song'].drop_duplicates()\n",
    "\n",
    "\n",
    "df1_ID"
   ]
  },
  {
   "cell_type": "code",
   "execution_count": 4,
   "id": "b7cc219e",
   "metadata": {
    "execution": {
     "iopub.execute_input": "2022-07-19T15:54:08.770948Z",
     "iopub.status.busy": "2022-07-19T15:54:08.770631Z",
     "iopub.status.idle": "2022-07-19T15:54:08.779702Z",
     "shell.execute_reply": "2022-07-19T15:54:08.778610Z"
    },
    "papermill": {
     "duration": 0.031415,
     "end_time": "2022-07-19T15:54:08.781886",
     "exception": false,
     "start_time": "2022-07-19T15:54:08.750471",
     "status": "completed"
    },
    "tags": []
   },
   "outputs": [
    {
     "name": "stdout",
     "output_type": "stream",
     "text": [
      "(1200, 1)\n",
      "(9844, 3)\n"
     ]
    }
   ],
   "source": [
    "df_ID = pd.concat([df1_ID[:150], df2_ID, df3_ID[:150]], ignore_index=True, sort=False)\n",
    "df = pd.concat([df1, df2, df3], ignore_index=True, sort=False)\n",
    "\n",
    "print(df_ID.shape)\n",
    "print(df.shape)\n"
   ]
  },
  {
   "cell_type": "code",
   "execution_count": 5,
   "id": "a63afdfd",
   "metadata": {
    "execution": {
     "iopub.execute_input": "2022-07-19T15:54:08.824392Z",
     "iopub.status.busy": "2022-07-19T15:54:08.823652Z",
     "iopub.status.idle": "2022-07-19T15:54:11.083016Z",
     "shell.execute_reply": "2022-07-19T15:54:11.081979Z"
    },
    "papermill": {
     "duration": 2.282437,
     "end_time": "2022-07-19T15:54:11.085457",
     "exception": false,
     "start_time": "2022-07-19T15:54:08.803020",
     "status": "completed"
    },
    "tags": []
   },
   "outputs": [
    {
     "name": "stdout",
     "output_type": "stream",
     "text": [
      "Rimosso ID: 3069\n",
      "Rimosso ID: 3084\n",
      "Rimosso ID: 1678\n",
      "Rimosso ID: 1687\n",
      "Rimosso ID: 2040\n",
      "Rimosso ID: 2066\n",
      "Rimosso ID: 2073\n"
     ]
    }
   ],
   "source": [
    "for i in np.array(df_ID['ID_song']):\n",
    "    miss = False\n",
    "    \n",
    "    if (i + '-0') not in df['ID'].values:\n",
    "        miss = True\n",
    "    if (i + '-1') not in df['ID'].values:\n",
    "        miss = True\n",
    "    if (i + '-2') not in df['ID'].values:\n",
    "        miss = True\n",
    "    if (i + '-3') not in df['ID'].values:\n",
    "        miss = True\n",
    "    if miss:\n",
    "        df_ID = df_ID[df_ID.ID_song != i] # riga con solo un'immagine\n",
    "        print(\"Rimosso ID: \" +i)"
   ]
  },
  {
   "cell_type": "code",
   "execution_count": 6,
   "id": "a71974e8",
   "metadata": {
    "execution": {
     "iopub.execute_input": "2022-07-19T15:54:11.130490Z",
     "iopub.status.busy": "2022-07-19T15:54:11.130286Z",
     "iopub.status.idle": "2022-07-19T15:54:11.141876Z",
     "shell.execute_reply": "2022-07-19T15:54:11.140728Z"
    },
    "papermill": {
     "duration": 0.035365,
     "end_time": "2022-07-19T15:54:11.144044",
     "exception": false,
     "start_time": "2022-07-19T15:54:11.108679",
     "status": "completed"
    },
    "tags": []
   },
   "outputs": [
    {
     "name": "stdout",
     "output_type": "stream",
     "text": [
      "(835,)\n",
      "(179,)\n",
      "(179,)\n"
     ]
    },
    {
     "data": {
      "text/plain": [
       "array(['3093', '3043', '1442', '1688', '1730', '3167', '1064', '1108',\n",
       "       '1671', '1243', '1018', '1174', '1317', '3058', '1503', '1778',\n",
       "       '1814', '1617', '1465', '1865', '1670', '1365', '1120', '1628',\n",
       "       '1732', '2053', '1781', '1420', '1267', '1176', '1033', '1057',\n",
       "       '1831', '1068', '3168', '1625', '3099', '1672', '1555', '1225',\n",
       "       '1833', '2133', '2039', '1374', '1478', '3097', '1425', '2096',\n",
       "       '3073', '1681', '1333', '1246', '1305', '1335', '1638', '1531',\n",
       "       '3014', '1286', '1822', '3134', '1589', '2135', '1633', '2124',\n",
       "       '3025', '1202', '1437', '3149', '1614', '1431', '1699', '1773',\n",
       "       '1345', '1650', '1127', '1184', '1198', '3105', '1042', '3100',\n",
       "       '3009', '1808', '1583', '1758', '1079', '1646', '3006', '1324',\n",
       "       '1835', '1053', '1810', '1336', '1200', '1183', '3051', '1348',\n",
       "       '1325', '1677', '2018', '3072', '1775', '1669', '1012', '1839',\n",
       "       '1723', '1506', '1466', '1706', '1485', '1497', '1384', '3017',\n",
       "       '1248', '1060', '1039', '1661', '2145', '1285', '1533', '1717',\n",
       "       '1362', '1281', '1254', '1101', '1472', '1095', '1272', '1001',\n",
       "       '2101', '3034', '2059', '1028', '3117', '2121', '1493', '1560',\n",
       "       '1178', '1747', '1870', '3090', '1173', '3008', '1598', '1081',\n",
       "       '1055', '1469', '1642', '1241', '1860', '1516', '1616', '1296',\n",
       "       '1337', '3114', '1331', '2087', '2012', '1872', '1599', '1624',\n",
       "       '1308', '2141', '1089', '3108', '1684', '1802', '1339', '1887',\n",
       "       '1344', '2008', '1136', '1482', '2119', '2077', '1009', '1552',\n",
       "       '1157', '1600', '1668'], dtype=object)"
      ]
     },
     "execution_count": 6,
     "metadata": {},
     "output_type": "execute_result"
    }
   ],
   "source": [
    "ID_train, ID_test = train_test_split( np.array(df_ID['ID_song']), test_size=0.30, shuffle = True,  random_state=1)\n",
    "ID_test, ID_validation = train_test_split( ID_test, test_size=0.5, shuffle = True,  random_state=1)\n",
    "\n",
    "print(ID_train.shape)\n",
    "print(ID_test.shape)\n",
    "print(ID_validation.shape)\n",
    "ID_test"
   ]
  },
  {
   "cell_type": "code",
   "execution_count": 7,
   "id": "579b37f5",
   "metadata": {
    "execution": {
     "iopub.execute_input": "2022-07-19T15:54:11.189282Z",
     "iopub.status.busy": "2022-07-19T15:54:11.188793Z",
     "iopub.status.idle": "2022-07-19T15:54:13.507684Z",
     "shell.execute_reply": "2022-07-19T15:54:13.506944Z"
    },
    "papermill": {
     "duration": 2.344626,
     "end_time": "2022-07-19T15:54:13.510466",
     "exception": false,
     "start_time": "2022-07-19T15:54:11.165840",
     "status": "completed"
    },
    "tags": []
   },
   "outputs": [
    {
     "name": "stdout",
     "output_type": "stream",
     "text": [
      "(3340,)\n",
      "(716,)\n",
      "(716,)\n"
     ]
    },
    {
     "data": {
      "text/plain": [
       "array(['3093-0', '3093-1', '3093-2', '3093-3', '3043-0', '3043-1',\n",
       "       '3043-2', '3043-3', '1442-0', '1442-1', '1442-2', '1442-3',\n",
       "       '1688-0', '1688-1', '1688-2', '1688-3', '1730-0', '1730-1',\n",
       "       '1730-2', '1730-3', '3167-0', '3167-1', '3167-2', '3167-3',\n",
       "       '1064-0', '1064-1', '1064-2', '1064-3', '1108-0', '1108-1',\n",
       "       '1108-2', '1108-3', '1671-0', '1671-1', '1671-2', '1671-3',\n",
       "       '1243-0', '1243-1', '1243-2', '1243-3', '1018-0', '1018-1',\n",
       "       '1018-2', '1018-3', '1174-0', '1174-1', '1174-2', '1174-3',\n",
       "       '1317-0', '1317-1', '1317-2', '1317-3', '3058-0', '3058-1',\n",
       "       '3058-2', '3058-3', '1503-0', '1503-1', '1503-2', '1503-3',\n",
       "       '1778-0', '1778-1', '1778-2', '1778-3', '1814-0', '1814-1',\n",
       "       '1814-2', '1814-3', '1617-0', '1617-1', '1617-2', '1617-3',\n",
       "       '1465-0', '1465-1', '1465-2', '1465-3', '1865-0', '1865-1',\n",
       "       '1865-2', '1865-3', '1670-0', '1670-1', '1670-2', '1670-3',\n",
       "       '1365-0', '1365-1', '1365-2', '1365-3', '1120-0', '1120-1',\n",
       "       '1120-2', '1120-3', '1628-0', '1628-1', '1628-2', '1628-3',\n",
       "       '1732-0', '1732-1', '1732-2', '1732-3'], dtype='<U6')"
      ]
     },
     "execution_count": 7,
     "metadata": {},
     "output_type": "execute_result"
    }
   ],
   "source": [
    "y_train_ID = []\n",
    "y_test_ID = []\n",
    "y_validation_ID = []\n",
    "\n",
    "for i in ID_train:\n",
    "    if (i + '-0') in df['ID'].values:\n",
    "        y_train_ID.append(i + '-0')\n",
    "    if (i + '-1') in df['ID'].values:\n",
    "        y_train_ID.append(i + '-1')\n",
    "    if (i + '-2') in df['ID'].values:\n",
    "        y_train_ID.append(i + '-2')\n",
    "    if (i + '-3') in df['ID'].values:\n",
    "        y_train_ID.append(i + '-3')\n",
    "\n",
    "\n",
    "for i in ID_test:\n",
    "    if (i + '-0') in df['ID'].values:\n",
    "        y_test_ID.append(i + '-0')\n",
    "    if (i + '-1') in df['ID'].values:\n",
    "        y_test_ID.append(i + '-1')\n",
    "    if (i + '-2') in df['ID'].values:\n",
    "        y_test_ID.append(i + '-2')\n",
    "    if (i + '-3') in df['ID'].values:\n",
    "        y_test_ID.append(i + '-3')\n",
    "\n",
    "        \n",
    "for i in ID_validation:\n",
    "    if (i + '-0') in df['ID'].values:\n",
    "        y_validation_ID.append(i + '-0')\n",
    "    if (i + '-1') in df['ID'].values:\n",
    "        y_validation_ID.append(i + '-1')\n",
    "    if (i + '-2') in df['ID'].values:\n",
    "        y_validation_ID.append(i + '-2')\n",
    "    if (i + '-3') in df['ID'].values:\n",
    "        y_validation_ID.append(i + '-3')\n",
    "\n",
    "        \n",
    "y_train_ID = np.array(y_train_ID)\n",
    "y_test_ID = np.array(y_test_ID)\n",
    "y_validation_ID = np.array(y_validation_ID)\n",
    "\n",
    "print(y_train_ID.shape)\n",
    "print(y_test_ID.shape)\n",
    "print(y_validation_ID.shape)\n",
    "y_test_ID[:100]"
   ]
  },
  {
   "cell_type": "code",
   "execution_count": 8,
   "id": "1576d21b",
   "metadata": {
    "execution": {
     "iopub.execute_input": "2022-07-19T15:54:13.596536Z",
     "iopub.status.busy": "2022-07-19T15:54:13.596147Z",
     "iopub.status.idle": "2022-07-19T15:54:47.267980Z",
     "shell.execute_reply": "2022-07-19T15:54:47.267238Z"
    },
    "papermill": {
     "duration": 33.736737,
     "end_time": "2022-07-19T15:54:47.291316",
     "exception": false,
     "start_time": "2022-07-19T15:54:13.554579",
     "status": "completed"
    },
    "tags": []
   },
   "outputs": [
    {
     "name": "stdout",
     "output_type": "stream",
     "text": [
      "(3340, 300, 300, 3)\n",
      "(716, 300, 300, 3)\n",
      "(716, 300, 300, 3)\n"
     ]
    }
   ],
   "source": [
    "path1 = '../input/mel-pmemo/melspectrogram_dataset/'\n",
    "path2 = '../input/mel-4q/melspectrogram_dataset/'\n",
    "path3 = '../input/mel-emotify/melspectrogram_dataset/'\n",
    "\n",
    "\n",
    "# Load the images and the labels\n",
    "x_train = []\n",
    "x_test = []\n",
    "x_validation = []\n",
    "\n",
    "for img in y_train_ID:\n",
    "    if img[0] == '3':\n",
    "        pic = image.load_img((path1 + img + '.png'))\n",
    "        x_train.append(np.array(pic))\n",
    "    elif img[0] == '1':\n",
    "        pic = image.load_img((path2 + img + '.png'))\n",
    "        x_train.append(np.array(pic))\n",
    "    elif img[0] == '2':\n",
    "        pic = image.load_img((path3 + img + '.png'))\n",
    "        x_train.append(np.array(pic))\n",
    "\n",
    "for img in y_test_ID:\n",
    "    if img[0] == '3':\n",
    "        pic = image.load_img((path1 + img + '.png'))\n",
    "        x_test.append(np.array(pic))\n",
    "    elif img[0] == '1':\n",
    "        pic = image.load_img((path2 + img + '.png'))\n",
    "        x_test.append(np.array(pic))\n",
    "    elif img[0] == '2':\n",
    "        pic = image.load_img((path3 + img + '.png'))\n",
    "        x_test.append(np.array(pic))\n",
    "        \n",
    "for img in y_validation_ID:\n",
    "    if img[0] == '3':\n",
    "        pic = image.load_img((path1 + img + '.png'))\n",
    "        x_validation.append(np.array(pic))\n",
    "    elif img[0] == '1':\n",
    "        pic = image.load_img((path2 + img + '.png'))\n",
    "        x_validation.append(np.array(pic))\n",
    "    elif img[0] == '2':\n",
    "        pic = image.load_img((path3 + img + '.png'))\n",
    "        x_validation.append(np.array(pic))\n",
    "    \n",
    "x_train = np.array(x_train)\n",
    "x_test = np.array(x_test)\n",
    "x_validation = np.array(x_validation)\n",
    "\n",
    "print(x_train.shape)\n",
    "print(x_test.shape)\n",
    "print(x_validation.shape)"
   ]
  },
  {
   "cell_type": "code",
   "execution_count": 9,
   "id": "d4ec7a3a",
   "metadata": {
    "execution": {
     "iopub.execute_input": "2022-07-19T15:54:47.338607Z",
     "iopub.status.busy": "2022-07-19T15:54:47.337873Z",
     "iopub.status.idle": "2022-07-19T15:54:49.445554Z",
     "shell.execute_reply": "2022-07-19T15:54:49.444775Z"
    },
    "papermill": {
     "duration": 2.132954,
     "end_time": "2022-07-19T15:54:49.447431",
     "exception": false,
     "start_time": "2022-07-19T15:54:47.314477",
     "status": "completed"
    },
    "tags": []
   },
   "outputs": [
    {
     "name": "stdout",
     "output_type": "stream",
     "text": [
      "(835,)\n",
      "(179,)\n",
      "(179,)\n"
     ]
    }
   ],
   "source": [
    "y_train = []\n",
    "y_test = []\n",
    "y_validation = []\n",
    "\n",
    "for i in ID_train:\n",
    "    \n",
    "    row = df.loc[df['ID'] == (i + '-0')]\n",
    "    y_train.append(row['Label'].iloc[0])\n",
    "\n",
    "for i in ID_test:\n",
    "    \n",
    "    row = df.loc[df['ID'] == (i + '-0')]\n",
    "    y_test.append(row['Label'].iloc[0])\n",
    "\n",
    "\n",
    "for i in ID_validation:\n",
    "    \n",
    "    row = df.loc[df['ID'] == (i + '-0')]\n",
    "    y_validation.append(row['Label'].iloc[0])\n",
    "    \n",
    "    \n",
    "    \n",
    "y_train = np.array(y_train)\n",
    "y_test = np.array(y_test)\n",
    "y_validation = np.array(y_validation)\n",
    "\n",
    "print(y_train.shape)\n",
    "print(y_test.shape)\n",
    "print(y_validation.shape)"
   ]
  },
  {
   "cell_type": "markdown",
   "id": "20050429",
   "metadata": {
    "papermill": {
     "duration": 0.024432,
     "end_time": "2022-07-19T15:54:49.495510",
     "exception": false,
     "start_time": "2022-07-19T15:54:49.471078",
     "status": "completed"
    },
    "tags": []
   },
   "source": [
    "Si procede a costruire il modello della rete ricorrente.\n",
    "si utilizzano i seguenti iperparametri:\n",
    "\n",
    "\n",
    "*   Tipo di modello: LSTM\n",
    "*   Modello di partenza: MobileNetV3\n",
    "*   Numero di epoche 20;\n",
    "*   Activation Output Layer Softmax: funzione più usata per la classificazione multiclasse;\n",
    "*   Activation Hidden Layer ReLU: è la funzione di \"deafult\" grazie alla sua versatilità per la maggior parte degli utilizzi;\n",
    "*   Loss Function Sparse Categorical Crossentropy: funzione usata nella classificazione multiclasse usando varibili categoriche;\n",
    "*   Optimizer RMSprop;\n",
    "*   Regolarizzazione tramite dropout.\n",
    "*   Per evitare overfitting si utilizzeranno i pesi che ottengono il miglior valore di loss sul validation set."
   ]
  },
  {
   "cell_type": "code",
   "execution_count": 10,
   "id": "3a8ca3fa",
   "metadata": {
    "execution": {
     "iopub.execute_input": "2022-07-19T15:54:49.550619Z",
     "iopub.status.busy": "2022-07-19T15:54:49.550348Z",
     "iopub.status.idle": "2022-07-19T15:54:55.843671Z",
     "shell.execute_reply": "2022-07-19T15:54:55.842942Z"
    },
    "papermill": {
     "duration": 6.323715,
     "end_time": "2022-07-19T15:54:55.845942",
     "exception": false,
     "start_time": "2022-07-19T15:54:49.522227",
     "status": "completed"
    },
    "tags": []
   },
   "outputs": [
    {
     "name": "stderr",
     "output_type": "stream",
     "text": [
      "2022-07-19 15:54:50.059526: I tensorflow/stream_executor/cuda/cuda_gpu_executor.cc:937] successful NUMA node read from SysFS had negative value (-1), but there must be at least one NUMA node, so returning NUMA node zero\n",
      "2022-07-19 15:54:50.194200: I tensorflow/stream_executor/cuda/cuda_gpu_executor.cc:937] successful NUMA node read from SysFS had negative value (-1), but there must be at least one NUMA node, so returning NUMA node zero\n",
      "2022-07-19 15:54:50.195073: I tensorflow/stream_executor/cuda/cuda_gpu_executor.cc:937] successful NUMA node read from SysFS had negative value (-1), but there must be at least one NUMA node, so returning NUMA node zero\n",
      "2022-07-19 15:54:50.196482: I tensorflow/core/platform/cpu_feature_guard.cc:142] This TensorFlow binary is optimized with oneAPI Deep Neural Network Library (oneDNN) to use the following CPU instructions in performance-critical operations:  AVX2 AVX512F FMA\n",
      "To enable them in other operations, rebuild TensorFlow with the appropriate compiler flags.\n",
      "2022-07-19 15:54:50.196832: I tensorflow/stream_executor/cuda/cuda_gpu_executor.cc:937] successful NUMA node read from SysFS had negative value (-1), but there must be at least one NUMA node, so returning NUMA node zero\n",
      "2022-07-19 15:54:50.197781: I tensorflow/stream_executor/cuda/cuda_gpu_executor.cc:937] successful NUMA node read from SysFS had negative value (-1), but there must be at least one NUMA node, so returning NUMA node zero\n",
      "2022-07-19 15:54:50.198670: I tensorflow/stream_executor/cuda/cuda_gpu_executor.cc:937] successful NUMA node read from SysFS had negative value (-1), but there must be at least one NUMA node, so returning NUMA node zero\n",
      "2022-07-19 15:54:52.289085: I tensorflow/stream_executor/cuda/cuda_gpu_executor.cc:937] successful NUMA node read from SysFS had negative value (-1), but there must be at least one NUMA node, so returning NUMA node zero\n",
      "2022-07-19 15:54:52.290014: I tensorflow/stream_executor/cuda/cuda_gpu_executor.cc:937] successful NUMA node read from SysFS had negative value (-1), but there must be at least one NUMA node, so returning NUMA node zero\n",
      "2022-07-19 15:54:52.290731: I tensorflow/stream_executor/cuda/cuda_gpu_executor.cc:937] successful NUMA node read from SysFS had negative value (-1), but there must be at least one NUMA node, so returning NUMA node zero\n",
      "2022-07-19 15:54:52.292176: I tensorflow/core/common_runtime/gpu/gpu_device.cc:1510] Created device /job:localhost/replica:0/task:0/device:GPU:0 with 15403 MB memory:  -> device: 0, name: Tesla P100-PCIE-16GB, pci bus id: 0000:00:04.0, compute capability: 6.0\n"
     ]
    }
   ],
   "source": [
    "# Load a pre-trained neural network to use for feature extractor\n",
    "base_net = load_model('../input/effnetb3spectrogram/weights.cnn.hdf5')"
   ]
  },
  {
   "cell_type": "code",
   "execution_count": 11,
   "id": "5fa17ded",
   "metadata": {
    "execution": {
     "iopub.execute_input": "2022-07-19T15:54:55.894460Z",
     "iopub.status.busy": "2022-07-19T15:54:55.894217Z",
     "iopub.status.idle": "2022-07-19T15:54:55.913928Z",
     "shell.execute_reply": "2022-07-19T15:54:55.913284Z"
    },
    "papermill": {
     "duration": 0.04587,
     "end_time": "2022-07-19T15:54:55.915757",
     "exception": false,
     "start_time": "2022-07-19T15:54:55.869887",
     "status": "completed"
    },
    "tags": []
   },
   "outputs": [],
   "source": [
    "layer_name = 'flatten'\n",
    "feature_extractor = Model(inputs=base_net.input, outputs=base_net.get_layer(layer_name).output)"
   ]
  },
  {
   "cell_type": "code",
   "execution_count": 12,
   "id": "9c284648",
   "metadata": {
    "execution": {
     "iopub.execute_input": "2022-07-19T15:54:55.964107Z",
     "iopub.status.busy": "2022-07-19T15:54:55.963680Z",
     "iopub.status.idle": "2022-07-19T15:55:22.077383Z",
     "shell.execute_reply": "2022-07-19T15:55:22.076725Z"
    },
    "papermill": {
     "duration": 26.139636,
     "end_time": "2022-07-19T15:55:22.079140",
     "exception": false,
     "start_time": "2022-07-19T15:54:55.939504",
     "status": "completed"
    },
    "tags": []
   },
   "outputs": [
    {
     "name": "stderr",
     "output_type": "stream",
     "text": [
      "2022-07-19 15:54:55.965961: W tensorflow/core/framework/cpu_allocator_impl.cc:80] Allocation of 901800000 exceeds 10% of free system memory.\n",
      "2022-07-19 15:54:56.909006: W tensorflow/core/framework/cpu_allocator_impl.cc:80] Allocation of 901800000 exceeds 10% of free system memory.\n",
      "2022-07-19 15:54:57.662737: I tensorflow/compiler/mlir/mlir_graph_optimization_pass.cc:185] None of the MLIR Optimization Passes are enabled (registered 2)\n",
      "2022-07-19 15:54:59.660460: I tensorflow/stream_executor/cuda/cuda_dnn.cc:369] Loaded cuDNN version 8005\n"
     ]
    },
    {
     "name": "stdout",
     "output_type": "stream",
     "text": [
      "105/105 [==============================] - 12s 37ms/step\n",
      "23/23 [==============================] - 1s 35ms/step\n",
      "23/23 [==============================] - 1s 35ms/step\n"
     ]
    }
   ],
   "source": [
    "feature_train = feature_extractor.predict(x_train, verbose=1)\n",
    "feature_test = feature_extractor.predict(x_test, verbose=1)\n",
    "feature_val = feature_extractor.predict(x_validation, verbose=1)"
   ]
  },
  {
   "cell_type": "code",
   "execution_count": 13,
   "id": "5cfea0f1",
   "metadata": {
    "execution": {
     "iopub.execute_input": "2022-07-19T15:55:22.177954Z",
     "iopub.status.busy": "2022-07-19T15:55:22.177440Z",
     "iopub.status.idle": "2022-07-19T15:55:22.182570Z",
     "shell.execute_reply": "2022-07-19T15:55:22.181855Z"
    },
    "papermill": {
     "duration": 0.057795,
     "end_time": "2022-07-19T15:55:22.184969",
     "exception": false,
     "start_time": "2022-07-19T15:55:22.127174",
     "status": "completed"
    },
    "tags": []
   },
   "outputs": [
    {
     "name": "stdout",
     "output_type": "stream",
     "text": [
      "(3340, 1280)\n",
      "(716, 1280)\n",
      "(716, 1280)\n"
     ]
    }
   ],
   "source": [
    "print(feature_train.shape)\n",
    "print(feature_test.shape)\n",
    "print(feature_val.shape)"
   ]
  },
  {
   "cell_type": "code",
   "execution_count": 14,
   "id": "774c105b",
   "metadata": {
    "execution": {
     "iopub.execute_input": "2022-07-19T15:55:22.284577Z",
     "iopub.status.busy": "2022-07-19T15:55:22.283900Z",
     "iopub.status.idle": "2022-07-19T15:55:22.290397Z",
     "shell.execute_reply": "2022-07-19T15:55:22.289713Z"
    },
    "papermill": {
     "duration": 0.057664,
     "end_time": "2022-07-19T15:55:22.292393",
     "exception": false,
     "start_time": "2022-07-19T15:55:22.234729",
     "status": "completed"
    },
    "tags": []
   },
   "outputs": [
    {
     "name": "stdout",
     "output_type": "stream",
     "text": [
      "(835, 4, 1280)\n",
      "(179, 4, 1280)\n",
      "(179, 4, 1280)\n"
     ]
    }
   ],
   "source": [
    "reshaped_train = np.reshape(feature_train, (int(feature_train.shape[0] / 4), 4, -1))\n",
    "print(reshaped_train.shape)\n",
    "\n",
    "reshaped_test = np.reshape(feature_test, (int(feature_test.shape[0] / 4), 4, -1))\n",
    "print(reshaped_test.shape)\n",
    "\n",
    "reshaped_val = np.reshape(feature_val, (int(feature_val.shape[0] / 4), 4, -1))\n",
    "print(reshaped_val.shape)"
   ]
  },
  {
   "cell_type": "code",
   "execution_count": 15,
   "id": "9ce595fd",
   "metadata": {
    "execution": {
     "iopub.execute_input": "2022-07-19T15:55:22.391540Z",
     "iopub.status.busy": "2022-07-19T15:55:22.391295Z",
     "iopub.status.idle": "2022-07-19T15:55:22.555471Z",
     "shell.execute_reply": "2022-07-19T15:55:22.554769Z"
    },
    "papermill": {
     "duration": 0.216269,
     "end_time": "2022-07-19T15:55:22.557545",
     "exception": false,
     "start_time": "2022-07-19T15:55:22.341276",
     "status": "completed"
    },
    "tags": []
   },
   "outputs": [],
   "source": [
    "model = Sequential()\n",
    "model.add(LSTM(128, activation='relu', input_shape= reshaped_train.shape[1:]))\n",
    "model.add(Dropout(0.2))\n",
    "model.add(Dense(4, activation='softmax'))\n",
    "\n",
    "\n",
    "model.compile(loss='sparse_categorical_crossentropy', optimizer='RMSprop', metrics=['accuracy'])\n",
    "\n"
   ]
  },
  {
   "cell_type": "code",
   "execution_count": 16,
   "id": "c4d0c7ff",
   "metadata": {
    "execution": {
     "iopub.execute_input": "2022-07-19T15:55:22.657602Z",
     "iopub.status.busy": "2022-07-19T15:55:22.657353Z",
     "iopub.status.idle": "2022-07-19T15:55:22.661388Z",
     "shell.execute_reply": "2022-07-19T15:55:22.660608Z"
    },
    "papermill": {
     "duration": 0.056029,
     "end_time": "2022-07-19T15:55:22.663357",
     "exception": false,
     "start_time": "2022-07-19T15:55:22.607328",
     "status": "completed"
    },
    "tags": []
   },
   "outputs": [],
   "source": [
    "filepath_cnn=\"weights.cnn.hdf5\"\n",
    "checkpoint = ModelCheckpoint(filepath_cnn, monitor='val_accuracy', verbose=1, save_best_only=True, mode='max')"
   ]
  },
  {
   "cell_type": "code",
   "execution_count": 17,
   "id": "a1941c6a",
   "metadata": {
    "execution": {
     "iopub.execute_input": "2022-07-19T15:55:22.761436Z",
     "iopub.status.busy": "2022-07-19T15:55:22.761224Z",
     "iopub.status.idle": "2022-07-19T15:55:45.116574Z",
     "shell.execute_reply": "2022-07-19T15:55:45.115768Z"
    },
    "papermill": {
     "duration": 22.407444,
     "end_time": "2022-07-19T15:55:45.119128",
     "exception": false,
     "start_time": "2022-07-19T15:55:22.711684",
     "status": "completed"
    },
    "tags": []
   },
   "outputs": [
    {
     "name": "stdout",
     "output_type": "stream",
     "text": [
      "Epoch 1/20\n",
      "27/27 [==============================] - 3s 33ms/step - loss: 2.8393 - accuracy: 0.8395 - val_loss: 0.9253 - val_accuracy: 0.9218\n",
      "\n",
      "Epoch 00001: val_accuracy improved from -inf to 0.92179, saving model to weights.cnn.hdf5\n",
      "Epoch 2/20\n",
      "27/27 [==============================] - 1s 22ms/step - loss: 1.0587 - accuracy: 0.8874 - val_loss: 1.0492 - val_accuracy: 0.9106\n",
      "\n",
      "Epoch 00002: val_accuracy did not improve from 0.92179\n",
      "Epoch 3/20\n",
      "27/27 [==============================] - 1s 22ms/step - loss: 0.8123 - accuracy: 0.8826 - val_loss: 0.9299 - val_accuracy: 0.9050\n",
      "\n",
      "Epoch 00003: val_accuracy did not improve from 0.92179\n",
      "Epoch 4/20\n",
      "27/27 [==============================] - 1s 21ms/step - loss: 0.6370 - accuracy: 0.9030 - val_loss: 0.8261 - val_accuracy: 0.9106\n",
      "\n",
      "Epoch 00004: val_accuracy did not improve from 0.92179\n",
      "Epoch 5/20\n",
      "27/27 [==============================] - 1s 22ms/step - loss: 0.6307 - accuracy: 0.8982 - val_loss: 1.0366 - val_accuracy: 0.9050\n",
      "\n",
      "Epoch 00005: val_accuracy did not improve from 0.92179\n",
      "Epoch 6/20\n",
      "27/27 [==============================] - 1s 22ms/step - loss: 0.8713 - accuracy: 0.8970 - val_loss: 1.0000 - val_accuracy: 0.8994\n",
      "\n",
      "Epoch 00006: val_accuracy did not improve from 0.92179\n",
      "Epoch 7/20\n",
      "27/27 [==============================] - 1s 23ms/step - loss: 0.5215 - accuracy: 0.9018 - val_loss: 1.0086 - val_accuracy: 0.9050\n",
      "\n",
      "Epoch 00007: val_accuracy did not improve from 0.92179\n",
      "Epoch 8/20\n",
      "27/27 [==============================] - 1s 22ms/step - loss: 0.4952 - accuracy: 0.9054 - val_loss: 0.8547 - val_accuracy: 0.9274\n",
      "\n",
      "Epoch 00008: val_accuracy improved from 0.92179 to 0.92737, saving model to weights.cnn.hdf5\n",
      "Epoch 9/20\n",
      "27/27 [==============================] - 1s 28ms/step - loss: 0.4820 - accuracy: 0.9066 - val_loss: 0.8651 - val_accuracy: 0.9218\n",
      "\n",
      "Epoch 00009: val_accuracy did not improve from 0.92737\n",
      "Epoch 10/20\n",
      "27/27 [==============================] - 1s 30ms/step - loss: 0.4482 - accuracy: 0.9377 - val_loss: 0.8381 - val_accuracy: 0.9106\n",
      "\n",
      "Epoch 00010: val_accuracy did not improve from 0.92737\n",
      "Epoch 11/20\n",
      "27/27 [==============================] - 1s 22ms/step - loss: 0.4377 - accuracy: 0.9305 - val_loss: 1.0732 - val_accuracy: 0.8939\n",
      "\n",
      "Epoch 00011: val_accuracy did not improve from 0.92737\n",
      "Epoch 12/20\n",
      "27/27 [==============================] - 1s 22ms/step - loss: 0.4645 - accuracy: 0.9210 - val_loss: 1.7745 - val_accuracy: 0.8827\n",
      "\n",
      "Epoch 00012: val_accuracy did not improve from 0.92737\n",
      "Epoch 13/20\n",
      "27/27 [==============================] - 1s 22ms/step - loss: 0.5115 - accuracy: 0.9269 - val_loss: 0.9252 - val_accuracy: 0.9274\n",
      "\n",
      "Epoch 00013: val_accuracy did not improve from 0.92737\n",
      "Epoch 14/20\n",
      "27/27 [==============================] - 1s 23ms/step - loss: 0.5358 - accuracy: 0.9449 - val_loss: 1.2626 - val_accuracy: 0.9162\n",
      "\n",
      "Epoch 00014: val_accuracy did not improve from 0.92737\n",
      "Epoch 15/20\n",
      "27/27 [==============================] - 1s 22ms/step - loss: 0.5643 - accuracy: 0.9246 - val_loss: 1.1726 - val_accuracy: 0.9218\n",
      "\n",
      "Epoch 00015: val_accuracy did not improve from 0.92737\n",
      "Epoch 16/20\n",
      "27/27 [==============================] - 1s 23ms/step - loss: 0.3826 - accuracy: 0.9377 - val_loss: 1.8756 - val_accuracy: 0.9218\n",
      "\n",
      "Epoch 00016: val_accuracy did not improve from 0.92737\n",
      "Epoch 17/20\n",
      "27/27 [==============================] - 1s 22ms/step - loss: 0.8295 - accuracy: 0.9222 - val_loss: 1.4448 - val_accuracy: 0.9274\n",
      "\n",
      "Epoch 00017: val_accuracy did not improve from 0.92737\n",
      "Epoch 18/20\n",
      "27/27 [==============================] - 1s 22ms/step - loss: 0.5928 - accuracy: 0.9353 - val_loss: 1.3203 - val_accuracy: 0.9162\n",
      "\n",
      "Epoch 00018: val_accuracy did not improve from 0.92737\n",
      "Epoch 19/20\n",
      "27/27 [==============================] - 1s 22ms/step - loss: 0.4636 - accuracy: 0.9389 - val_loss: 1.6512 - val_accuracy: 0.9218\n",
      "\n",
      "Epoch 00019: val_accuracy did not improve from 0.92737\n",
      "Epoch 20/20\n",
      "27/27 [==============================] - 1s 22ms/step - loss: 0.6729 - accuracy: 0.9521 - val_loss: 1.2006 - val_accuracy: 0.9162\n",
      "\n",
      "Epoch 00020: val_accuracy did not improve from 0.92737\n"
     ]
    }
   ],
   "source": [
    "hist_lstm = model.fit(reshaped_train, y_train, batch_size=32, epochs=20, validation_data=(reshaped_val, y_validation), callbacks=[checkpoint])"
   ]
  },
  {
   "cell_type": "code",
   "execution_count": 18,
   "id": "610227da",
   "metadata": {
    "execution": {
     "iopub.execute_input": "2022-07-19T15:55:45.350336Z",
     "iopub.status.busy": "2022-07-19T15:55:45.350080Z",
     "iopub.status.idle": "2022-07-19T15:55:45.790326Z",
     "shell.execute_reply": "2022-07-19T15:55:45.789523Z"
    },
    "papermill": {
     "duration": 0.559196,
     "end_time": "2022-07-19T15:55:45.793092",
     "exception": false,
     "start_time": "2022-07-19T15:55:45.233896",
     "status": "completed"
    },
    "tags": []
   },
   "outputs": [
    {
     "data": {
      "image/png": "[encoded data removed]",
      "text/plain": [
       "<Figure size 432x288 with 1 Axes>"
      ]
     },
     "metadata": {
      "needs_background": "light"
     },
     "output_type": "display_data"
    },
    {
     "data": {
      "image/png": "[encoded data removed]",
      "text/plain": [
       "<Figure size 432x288 with 1 Axes>"
      ]
     },
     "metadata": {
      "needs_background": "light"
     },
     "output_type": "display_data"
    }
   ],
   "source": [
    "def plot_hist(hist, title):\n",
    "    plt.plot(hist.history[\"accuracy\"])\n",
    "    plt.plot(hist.history[\"val_accuracy\"])\n",
    "    plt.title(\"Accuracy \" + title)\n",
    "    plt.ylabel(\"accuracy\")\n",
    "    plt.xlabel(\"epoch\")\n",
    "    plt.legend([\"train\", \"validation\"], loc=\"upper left\")\n",
    "    plt.show()\n",
    "    \n",
    "    # summarize history for loss\n",
    "    plt.plot(hist.history['loss'])\n",
    "    plt.plot(hist.history['val_loss'])\n",
    "    plt.title(\"LOSS \" + title)\n",
    "    plt.ylabel('loss')\n",
    "    plt.xlabel('epoch')\n",
    "    plt.legend(['train', 'validation'], loc='upper left')\n",
    "    plt.show()\n",
    "\n",
    "\n",
    "plot_hist(hist_lstm, title=\"Efficient-Net B3 + LSTM\")"
   ]
  },
  {
   "cell_type": "code",
   "execution_count": 19,
   "id": "f8c39d51",
   "metadata": {
    "execution": {
     "iopub.execute_input": "2022-07-19T15:55:46.173978Z",
     "iopub.status.busy": "2022-07-19T15:55:46.173477Z",
     "iopub.status.idle": "2022-07-19T15:55:46.190715Z",
     "shell.execute_reply": "2022-07-19T15:55:46.189062Z"
    },
    "papermill": {
     "duration": 0.212434,
     "end_time": "2022-07-19T15:55:46.193120",
     "exception": false,
     "start_time": "2022-07-19T15:55:45.980686",
     "status": "completed"
    },
    "tags": []
   },
   "outputs": [],
   "source": [
    "def plot_confusion_matrix(cm, classes,\n",
    "                          normalize=False,\n",
    "                          title='Confusion matrix',\n",
    "                          cmap=plt.cm.Blues):\n",
    "    \"\"\"\n",
    "    This function prints and plots the confusion matrix.\n",
    "    Normalization can be applied by setting `normalize=True`.\n",
    "    \"\"\"\n",
    "    plt.figure(figsize = (5,5))\n",
    "    plt.imshow(cm, interpolation='nearest', cmap=cmap)\n",
    "    plt.title(title)\n",
    "    plt.colorbar()\n",
    "    tick_marks = np.arange(len(classes))\n",
    "    plt.xticks(tick_marks, classes, rotation=90)\n",
    "    plt.yticks(tick_marks, classes)\n",
    "    if normalize:\n",
    "        cm = cm.astype('float') / cm.sum(axis=1)[:, np.newaxis]\n",
    "\n",
    "    thresh = cm.max() / 2.\n",
    "    for i, j in itertools.product(range(cm.shape[0]), range(cm.shape[1])):\n",
    "        plt.text(j, i, cm[i, j],\n",
    "                 horizontalalignment=\"center\",\n",
    "                 color=\"white\" if cm[i, j] > thresh else \"black\")\n",
    "    plt.tight_layout()\n",
    "    plt.ylabel('True label')\n",
    "    plt.xlabel('Predicted label')"
   ]
  },
  {
   "cell_type": "code",
   "execution_count": 20,
   "id": "2ee77b44",
   "metadata": {
    "execution": {
     "iopub.execute_input": "2022-07-19T15:55:46.625477Z",
     "iopub.status.busy": "2022-07-19T15:55:46.625012Z",
     "iopub.status.idle": "2022-07-19T15:55:47.335072Z",
     "shell.execute_reply": "2022-07-19T15:55:47.334371Z"
    },
    "papermill": {
     "duration": 0.939505,
     "end_time": "2022-07-19T15:55:47.336913",
     "exception": false,
     "start_time": "2022-07-19T15:55:46.397408",
     "status": "completed"
    },
    "tags": []
   },
   "outputs": [
    {
     "name": "stdout",
     "output_type": "stream",
     "text": [
      "Convolutional Neural Network - accuracy: 0.9050279259681702 \n",
      "\n"
     ]
    },
    {
     "data": {
      "image/png": "[encoded data removed]",
      "text/plain": [
       "<Figure size 360x360 with 2 Axes>"
      ]
     },
     "metadata": {
      "needs_background": "light"
     },
     "output_type": "display_data"
    }
   ],
   "source": [
    "score = model.evaluate(reshaped_test, y_test, verbose=0)\n",
    "print('Convolutional Neural Network - accuracy:', score[1],\"\\n\")\n",
    "Y_pred = model.predict(reshaped_test)\n",
    "Y_pred_classes = np.argmax(Y_pred,axis = 1) \n",
    "confusion_mtx = confusion_matrix(y_test, Y_pred_classes)\n",
    "plot_confusion_matrix(confusion_mtx, classes = ['A-V-','A-V+','A+V-','A+V+']) \n",
    "plt.show()"
   ]
  },
  {
   "cell_type": "code",
   "execution_count": 21,
   "id": "979e620c",
   "metadata": {
    "execution": {
     "iopub.execute_input": "2022-07-19T15:55:47.572122Z",
     "iopub.status.busy": "2022-07-19T15:55:47.571463Z",
     "iopub.status.idle": "2022-07-19T15:55:47.580654Z",
     "shell.execute_reply": "2022-07-19T15:55:47.579451Z"
    },
    "papermill": {
     "duration": 0.128883,
     "end_time": "2022-07-19T15:55:47.582800",
     "exception": false,
     "start_time": "2022-07-19T15:55:47.453917",
     "status": "completed"
    },
    "tags": []
   },
   "outputs": [
    {
     "name": "stdout",
     "output_type": "stream",
     "text": [
      "              precision    recall  f1-score   support\n",
      "\n",
      "           0       0.92      0.89      0.90        37\n",
      "           1       0.85      0.89      0.87        44\n",
      "           2       0.95      0.97      0.96        38\n",
      "           3       0.91      0.88      0.90        60\n",
      "\n",
      "    accuracy                           0.91       179\n",
      "   macro avg       0.91      0.91      0.91       179\n",
      "weighted avg       0.91      0.91      0.91       179\n",
      "\n"
     ]
    }
   ],
   "source": [
    "print(classification_report(y_test, Y_pred_classes))"
   ]
  }
 ],
 "metadata": {
  "kernelspec": {
   "display_name": "Python 3",
   "language": "python",
   "name": "python3"
  },
  "language_info": {
   "codemirror_mode": {
    "name": "ipython",
    "version": 3
   },
   "file_extension": ".py",
   "mimetype": "text/x-python",
   "name": "python",
   "nbconvert_exporter": "python",
   "pygments_lexer": "ipython3",
   "version": "3.7.12"
  },
  "papermill": {
   "default_parameters": {},
   "duration": 118.405663,
   "end_time": "2022-07-19T15:55:51.172681",
   "environment_variables": {},
   "exception": null,
   "input_path": "__notebook__.ipynb",
   "output_path": "__notebook__.ipynb",
   "parameters": {},
   "start_time": "2022-07-19T15:53:52.767018",
   "version": "2.3.4"
  }
 },
 "nbformat": 4,
 "nbformat_minor": 5
}
