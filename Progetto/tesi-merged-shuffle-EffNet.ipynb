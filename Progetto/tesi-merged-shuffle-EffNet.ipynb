{
 "cells": [
  {
   "cell_type": "code",
   "execution_count": 1,
   "id": "c6fb2aa4",
   "metadata": {
    "_cell_guid": "b1076dfc-b9ad-4769-8c92-a6c4dae69d19",
    "_uuid": "8f2839f25d086af736a60e9eeb907d3b93b6e0e5",
    "execution": {
     "iopub.execute_input": "2022-07-18T14:37:58.463709Z",
     "iopub.status.busy": "2022-07-18T14:37:58.462953Z",
     "iopub.status.idle": "2022-07-18T14:38:05.096624Z",
     "shell.execute_reply": "2022-07-18T14:38:05.095736Z"
    },
    "papermill": {
     "duration": 6.663977,
     "end_time": "2022-07-18T14:38:05.098882",
     "exception": false,
     "start_time": "2022-07-18T14:37:58.434905",
     "status": "completed"
    },
    "tags": []
   },
   "outputs": [],
   "source": [
    "import zipfile\n",
    "import os\n",
    "import pandas as pd\n",
    "import tensorflow as tf\n",
    "from tensorflow import keras\n",
    "from keras import optimizers\n",
    "from keras import layers\n",
    "from keras.regularizers import l2\n",
    "from tensorflow.keras.preprocessing import image\n",
    "from tensorflow.keras.models import Model\n",
    "from keras.models import Sequential\n",
    "from keras.layers import Dense, GlobalAveragePooling2D, Dropout, Flatten, concatenate\n",
    "from tensorflow.keras import regularizers\n",
    "from keras.callbacks import EarlyStopping\n",
    "from keras.callbacks import ModelCheckpoint\n",
    "from keras.utils.vis_utils import plot_model\n",
    "import pylab as pl\n",
    "import numpy as np\n",
    "import matplotlib.image as mpimg\n",
    "import matplotlib.pyplot as plt\n",
    "import seaborn as sns\n",
    "from sklearn.model_selection import train_test_split\n",
    "from keras.utils import np_utils\n",
    "from sklearn.utils import shuffle\n",
    "from sklearn.metrics import confusion_matrix\n",
    "from sklearn.metrics import classification_report\n",
    "from sklearn import preprocessing\n",
    "import itertools\n",
    "import math\n",
    "\n",
    "\n",
    "# audio lib\n",
    "import librosa\n",
    "import librosa.display\n",
    "from librosa.util import fix_length\n",
    "\n",
    "import IPython.display as ipd\n",
    "from PIL import Image\n"
   ]
  },
  {
   "cell_type": "code",
   "execution_count": 2,
   "id": "767c1185",
   "metadata": {
    "execution": {
     "iopub.execute_input": "2022-07-18T14:38:05.141072Z",
     "iopub.status.busy": "2022-07-18T14:38:05.140394Z",
     "iopub.status.idle": "2022-07-18T14:38:05.144289Z",
     "shell.execute_reply": "2022-07-18T14:38:05.143474Z"
    },
    "papermill": {
     "duration": 0.027412,
     "end_time": "2022-07-18T14:38:05.146351",
     "exception": false,
     "start_time": "2022-07-18T14:38:05.118939",
     "status": "completed"
    },
    "tags": []
   },
   "outputs": [],
   "source": [
    "import warnings\n",
    "warnings.filterwarnings(\"ignore\")"
   ]
  },
  {
   "cell_type": "markdown",
   "id": "f96267f3",
   "metadata": {
    "papermill": {
     "duration": 0.020076,
     "end_time": "2022-07-18T14:38:05.186227",
     "exception": false,
     "start_time": "2022-07-18T14:38:05.166151",
     "status": "completed"
    },
    "tags": []
   },
   "source": [
    "# CNN MEL SPECTROGRAM APPROACH - MERGED DATASET\n",
    "\n",
    "Una volta capito che il modello migliore era quello ottenuto tramite CNN sono stati generati spectrogrammi di Mel corrispondenti i dataset: \"PMEmo\", \"4Q\", \"Emotify\".\n",
    "Al fine di ottenere un dataset finale più bilanciato del dataset \"PMEmo\" sono stati presi solo 600 campioni."
   ]
  },
  {
   "cell_type": "code",
   "execution_count": 3,
   "id": "515cc9ca",
   "metadata": {
    "execution": {
     "iopub.execute_input": "2022-07-18T14:38:05.227595Z",
     "iopub.status.busy": "2022-07-18T14:38:05.226920Z",
     "iopub.status.idle": "2022-07-18T14:38:05.293176Z",
     "shell.execute_reply": "2022-07-18T14:38:05.292529Z"
    },
    "papermill": {
     "duration": 0.088931,
     "end_time": "2022-07-18T14:38:05.294915",
     "exception": false,
     "start_time": "2022-07-18T14:38:05.205984",
     "status": "completed"
    },
    "tags": []
   },
   "outputs": [
    {
     "data": {
      "text/html": [
       "<div>\n",
       "<style scoped>\n",
       "    .dataframe tbody tr th:only-of-type {\n",
       "        vertical-align: middle;\n",
       "    }\n",
       "\n",
       "    .dataframe tbody tr th {\n",
       "        vertical-align: top;\n",
       "    }\n",
       "\n",
       "    .dataframe thead th {\n",
       "        text-align: right;\n",
       "    }\n",
       "</style>\n",
       "<table border=\"1\" class=\"dataframe\">\n",
       "  <thead>\n",
       "    <tr style=\"text-align: right;\">\n",
       "      <th></th>\n",
       "      <th>ID_song</th>\n",
       "    </tr>\n",
       "  </thead>\n",
       "  <tbody>\n",
       "    <tr>\n",
       "      <th>0</th>\n",
       "      <td>3001</td>\n",
       "    </tr>\n",
       "    <tr>\n",
       "      <th>5</th>\n",
       "      <td>3004</td>\n",
       "    </tr>\n",
       "    <tr>\n",
       "      <th>10</th>\n",
       "      <td>3005</td>\n",
       "    </tr>\n",
       "    <tr>\n",
       "      <th>15</th>\n",
       "      <td>3006</td>\n",
       "    </tr>\n",
       "    <tr>\n",
       "      <th>20</th>\n",
       "      <td>3007</td>\n",
       "    </tr>\n",
       "    <tr>\n",
       "      <th>...</th>\n",
       "      <td>...</td>\n",
       "    </tr>\n",
       "    <tr>\n",
       "      <th>3718</th>\n",
       "      <td>3993</td>\n",
       "    </tr>\n",
       "    <tr>\n",
       "      <th>3723</th>\n",
       "      <td>3996</td>\n",
       "    </tr>\n",
       "    <tr>\n",
       "      <th>3728</th>\n",
       "      <td>3997</td>\n",
       "    </tr>\n",
       "    <tr>\n",
       "      <th>3733</th>\n",
       "      <td>3999</td>\n",
       "    </tr>\n",
       "    <tr>\n",
       "      <th>3738</th>\n",
       "      <td>4000</td>\n",
       "    </tr>\n",
       "  </tbody>\n",
       "</table>\n",
       "<p>767 rows × 1 columns</p>\n",
       "</div>"
      ],
      "text/plain": [
       "     ID_song\n",
       "0       3001\n",
       "5       3004\n",
       "10      3005\n",
       "15      3006\n",
       "20      3007\n",
       "...      ...\n",
       "3718    3993\n",
       "3723    3996\n",
       "3728    3997\n",
       "3733    3999\n",
       "3738    4000\n",
       "\n",
       "[767 rows x 1 columns]"
      ]
     },
     "execution_count": 3,
     "metadata": {},
     "output_type": "execute_result"
    }
   ],
   "source": [
    "df1 = pd.read_csv('../input/mel-pmemo/mel.csv')\n",
    "df2 = pd.read_csv('../input/mel-4q/mel.csv')\n",
    "df3 = pd.read_csv('../input/mel-emotify/mel.csv')\n",
    "\n",
    "df1['ID_song'] = df1['ID'].astype(str).str[0:4]\n",
    "df2['ID_song'] = df2['ID'].astype(str).str[0:4]\n",
    "df3['ID_song'] = df3['ID'].astype(str).str[0:4]\n",
    "\n",
    "df1_ID = pd.DataFrame()\n",
    "df1_ID['ID_song'] = df1['ID_song'].drop_duplicates()\n",
    "\n",
    "df2_ID = pd.DataFrame()\n",
    "df2_ID['ID_song'] = df2['ID_song'].drop_duplicates()\n",
    "\n",
    "df3_ID = pd.DataFrame()\n",
    "df3_ID['ID_song'] = df3['ID_song'].drop_duplicates()\n",
    "\n",
    "\n",
    "df1_ID"
   ]
  },
  {
   "cell_type": "code",
   "execution_count": 4,
   "id": "f50ce8cb",
   "metadata": {
    "execution": {
     "iopub.execute_input": "2022-07-18T14:38:05.337486Z",
     "iopub.status.busy": "2022-07-18T14:38:05.336872Z",
     "iopub.status.idle": "2022-07-18T14:38:05.347437Z",
     "shell.execute_reply": "2022-07-18T14:38:05.346794Z"
    },
    "papermill": {
     "duration": 0.033695,
     "end_time": "2022-07-18T14:38:05.349299",
     "exception": false,
     "start_time": "2022-07-18T14:38:05.315604",
     "status": "completed"
    },
    "tags": []
   },
   "outputs": [
    {
     "name": "stdout",
     "output_type": "stream",
     "text": [
      "(1200, 1)\n",
      "(9844, 3)\n"
     ]
    }
   ],
   "source": [
    "df_ID = pd.concat([df1_ID[:150], df2_ID, df3_ID[:150]], ignore_index=True, sort=False)\n",
    "df = pd.concat([df1, df2, df3], ignore_index=True, sort=False)\n",
    "\n",
    "print(df_ID.shape)\n",
    "print(df.shape)\n"
   ]
  },
  {
   "cell_type": "code",
   "execution_count": 5,
   "id": "b299c4ef",
   "metadata": {
    "execution": {
     "iopub.execute_input": "2022-07-18T14:38:05.392372Z",
     "iopub.status.busy": "2022-07-18T14:38:05.391761Z",
     "iopub.status.idle": "2022-07-18T14:38:05.405206Z",
     "shell.execute_reply": "2022-07-18T14:38:05.404565Z"
    },
    "papermill": {
     "duration": 0.03708,
     "end_time": "2022-07-18T14:38:05.406791",
     "exception": false,
     "start_time": "2022-07-18T14:38:05.369711",
     "status": "completed"
    },
    "tags": []
   },
   "outputs": [
    {
     "name": "stdout",
     "output_type": "stream",
     "text": [
      "(840,)\n",
      "(180,)\n",
      "(180,)\n"
     ]
    },
    {
     "data": {
      "text/plain": [
       "array(['1474', '1763', '1113', '3171', '3005', '1470', '1889', '1440',\n",
       "       '1046', '2011', '3058', '1548', '1656', '1281', '1157', '1455',\n",
       "       '3139', '2027', '1099', '3008', '1872', '1071', '3021', '1714',\n",
       "       '1226', '1082', '1690', '2020', '1045', '2004', '1695', '1771',\n",
       "       '1614', '1398', '1131', '2150', '1254', '1180', '1444', '2078',\n",
       "       '1748', '2101', '3109', '1200', '1806', '1445', '1862', '1830',\n",
       "       '1826', '3145', '1174', '1286', '1514', '1664', '1790', '1187',\n",
       "       '2060', '3091', '1705', '2114', '1448', '3073', '1504', '1685',\n",
       "       '1152', '1881', '1623', '1704', '1687', '1523', '3165', '1536',\n",
       "       '2074', '1418', '3097', '3075', '1616', '1427', '1805', '1524',\n",
       "       '1090', '3136', '1241', '2135', '1259', '1843', '1399', '1389',\n",
       "       '1857', '1838', '1874', '3092', '1139', '1652', '2025', '1829',\n",
       "       '1255', '1884', '1490', '1666', '1581', '1379', '2075', '1323',\n",
       "       '1173', '1827', '3034', '1438', '1839', '1739', '1239', '1859',\n",
       "       '1743', '1598', '1702', '3025', '1347', '1324', '1458', '1031',\n",
       "       '1087', '1553', '1218', '2118', '1303', '1433', '1681', '1378',\n",
       "       '1682', '2123', '3184', '1172', '1677', '1855', '2117', '1432',\n",
       "       '3175', '3098', '1042', '1041', '1634', '1198', '1410', '2105',\n",
       "       '3115', '3106', '1346', '2026', '3132', '1644', '1344', '1534',\n",
       "       '1840', '2043', '2121', '3017', '1165', '1435', '1501', '1622',\n",
       "       '3044', '1781', '1868', '3051', '3166', '1562', '1016', '3094',\n",
       "       '1149', '2087', '1670', '1679', '3126', '1844', '3148', '1125',\n",
       "       '1095', '1385', '3012', '2015'], dtype=object)"
      ]
     },
     "execution_count": 5,
     "metadata": {},
     "output_type": "execute_result"
    }
   ],
   "source": [
    "ID_train, ID_test = train_test_split( np.array(df_ID['ID_song']), test_size=0.30, shuffle = True,  random_state=1)\n",
    "ID_test, ID_validation = train_test_split( ID_test, test_size=0.5, shuffle = True,  random_state=1)\n",
    "\n",
    "print(ID_train.shape)\n",
    "print(ID_test.shape)\n",
    "print(ID_validation.shape)\n",
    "ID_test"
   ]
  },
  {
   "cell_type": "code",
   "execution_count": 6,
   "id": "00abea2f",
   "metadata": {
    "execution": {
     "iopub.execute_input": "2022-07-18T14:38:05.451616Z",
     "iopub.status.busy": "2022-07-18T14:38:05.451054Z",
     "iopub.status.idle": "2022-07-18T14:38:08.247702Z",
     "shell.execute_reply": "2022-07-18T14:38:08.246845Z"
    },
    "papermill": {
     "duration": 2.820585,
     "end_time": "2022-07-18T14:38:08.249943",
     "exception": false,
     "start_time": "2022-07-18T14:38:05.429358",
     "status": "completed"
    },
    "tags": []
   },
   "outputs": [
    {
     "name": "stdout",
     "output_type": "stream",
     "text": [
      "(3911,)\n",
      "(837,)\n",
      "(832,)\n"
     ]
    },
    {
     "data": {
      "text/plain": [
       "array(['1474-0', '1474-1', '1474-2', '1474-3', '1474-4', '1763-0',\n",
       "       '1763-1', '1763-2', '1763-3', '1113-0', '1113-1', '1113-2',\n",
       "       '1113-3', '1113-4', '3171-0', '3171-1', '3171-2', '3171-3',\n",
       "       '3171-4', '3005-0', '3005-1', '3005-2', '3005-3', '3005-4',\n",
       "       '1470-0', '1470-1', '1470-2', '1470-3', '1889-0', '1889-1',\n",
       "       '1889-2', '1889-3', '1440-0', '1440-1', '1440-2', '1440-3',\n",
       "       '1440-4', '1046-0', '1046-1', '1046-2', '1046-3', '1046-4',\n",
       "       '2011-0', '2011-1', '2011-2', '2011-3', '2011-4', '3058-0',\n",
       "       '3058-1', '3058-2', '3058-3', '3058-4', '1548-0', '1548-1',\n",
       "       '1548-2', '1548-3', '1656-0', '1656-1', '1656-2', '1656-3',\n",
       "       '1281-0', '1281-1', '1281-2', '1281-3', '1281-4', '1157-0',\n",
       "       '1157-1', '1157-2', '1157-3', '1157-4', '1455-0', '1455-1',\n",
       "       '1455-2', '1455-3', '1455-4', '3139-0', '3139-1', '3139-2',\n",
       "       '3139-3', '3139-4', '2027-0', '2027-1', '2027-2', '2027-3',\n",
       "       '2027-4', '1099-0', '1099-1', '1099-2', '1099-3', '1099-4',\n",
       "       '3008-0', '3008-1', '3008-2', '3008-3', '3008-4', '1872-0',\n",
       "       '1872-1', '1872-2', '1872-3', '1071-0'], dtype='<U6')"
      ]
     },
     "execution_count": 6,
     "metadata": {},
     "output_type": "execute_result"
    }
   ],
   "source": [
    "y_train_ID = []\n",
    "y_test_ID = []\n",
    "y_validation_ID = []\n",
    "\n",
    "for i in ID_train:\n",
    "    if (i + '-0') in df['ID'].values:\n",
    "        y_train_ID.append(i + '-0')\n",
    "    if (i + '-1') in df['ID'].values:\n",
    "        y_train_ID.append(i + '-1')\n",
    "    if (i + '-2') in df['ID'].values:\n",
    "        y_train_ID.append(i + '-2')\n",
    "    if (i + '-3') in df['ID'].values:\n",
    "        y_train_ID.append(i + '-3')\n",
    "    if (i + '-4') in df['ID'].values:\n",
    "        y_train_ID.append(i + '-4')\n",
    "\n",
    "for i in ID_test:\n",
    "    if (i + '-0') in df['ID'].values:\n",
    "        y_test_ID.append(i + '-0')\n",
    "    if (i + '-1') in df['ID'].values:\n",
    "        y_test_ID.append(i + '-1')\n",
    "    if (i + '-2') in df['ID'].values:\n",
    "        y_test_ID.append(i + '-2')\n",
    "    if (i + '-3') in df['ID'].values:\n",
    "        y_test_ID.append(i + '-3')\n",
    "    if (i + '-4') in df['ID'].values:\n",
    "        y_test_ID.append(i + '-4')\n",
    "        \n",
    "for i in ID_validation:\n",
    "    if (i + '-0') in df['ID'].values:\n",
    "        y_validation_ID.append(i + '-0')\n",
    "    if (i + '-1') in df['ID'].values:\n",
    "        y_validation_ID.append(i + '-1')\n",
    "    if (i + '-2') in df['ID'].values:\n",
    "        y_validation_ID.append(i + '-2')\n",
    "    if (i + '-3') in df['ID'].values:\n",
    "        y_validation_ID.append(i + '-3')\n",
    "    if (i + '-4') in df['ID'].values:\n",
    "        y_validation_ID.append(i + '-4')\n",
    "        \n",
    "y_train_ID = np.array(y_train_ID)\n",
    "y_test_ID = np.array(y_test_ID)\n",
    "y_validation_ID = np.array(y_validation_ID)\n",
    "\n",
    "print(y_train_ID.shape)\n",
    "print(y_test_ID.shape)\n",
    "print(y_validation_ID.shape)\n",
    "y_test_ID[:100]"
   ]
  },
  {
   "cell_type": "code",
   "execution_count": 7,
   "id": "343f039b",
   "metadata": {
    "execution": {
     "iopub.execute_input": "2022-07-18T14:38:08.295619Z",
     "iopub.status.busy": "2022-07-18T14:38:08.295392Z",
     "iopub.status.idle": "2022-07-18T14:38:46.566901Z",
     "shell.execute_reply": "2022-07-18T14:38:46.566173Z"
    },
    "papermill": {
     "duration": 38.320503,
     "end_time": "2022-07-18T14:38:46.592568",
     "exception": false,
     "start_time": "2022-07-18T14:38:08.272065",
     "status": "completed"
    },
    "tags": []
   },
   "outputs": [
    {
     "name": "stdout",
     "output_type": "stream",
     "text": [
      "(3911, 300, 300, 3)\n",
      "(837, 300, 300, 3)\n",
      "(832, 300, 300, 3)\n"
     ]
    }
   ],
   "source": [
    "path1 = '../input/mel-pmemo/melspectrogram_dataset/'\n",
    "path2 = '../input/mel-4q/melspectrogram_dataset/'\n",
    "path3 = '../input/mel-emotify/melspectrogram_dataset/'\n",
    "\n",
    "\n",
    "# Load the images and the labels\n",
    "x_train = []\n",
    "x_test = []\n",
    "x_validation = []\n",
    "\n",
    "for img in y_train_ID:\n",
    "    if img[0] == '3':\n",
    "        pic = image.load_img((path1 + img + '.png'))\n",
    "        x_train.append(np.array(pic))\n",
    "    elif img[0] == '1':\n",
    "        pic = image.load_img((path2 + img + '.png'))\n",
    "        x_train.append(np.array(pic))\n",
    "    elif img[0] == '2':\n",
    "        pic = image.load_img((path3 + img + '.png'))\n",
    "        x_train.append(np.array(pic))\n",
    "\n",
    "for img in y_test_ID:\n",
    "    if img[0] == '3':\n",
    "        pic = image.load_img((path1 + img + '.png'))\n",
    "        x_test.append(np.array(pic))\n",
    "    elif img[0] == '1':\n",
    "        pic = image.load_img((path2 + img + '.png'))\n",
    "        x_test.append(np.array(pic))\n",
    "    elif img[0] == '2':\n",
    "        pic = image.load_img((path3 + img + '.png'))\n",
    "        x_test.append(np.array(pic))\n",
    "        \n",
    "for img in y_validation_ID:\n",
    "    if img[0] == '3':\n",
    "        pic = image.load_img((path1 + img + '.png'))\n",
    "        x_validation.append(np.array(pic))\n",
    "    elif img[0] == '1':\n",
    "        pic = image.load_img((path2 + img + '.png'))\n",
    "        x_validation.append(np.array(pic))\n",
    "    elif img[0] == '2':\n",
    "        pic = image.load_img((path3 + img + '.png'))\n",
    "        x_validation.append(np.array(pic))\n",
    "    \n",
    "x_train = np.array(x_train)\n",
    "x_test = np.array(x_test)\n",
    "x_validation = np.array(x_validation)\n",
    "\n",
    "print(x_train.shape)\n",
    "print(x_test.shape)\n",
    "print(x_validation.shape)"
   ]
  },
  {
   "cell_type": "code",
   "execution_count": 8,
   "id": "6dd595a5",
   "metadata": {
    "execution": {
     "iopub.execute_input": "2022-07-18T14:38:46.640714Z",
     "iopub.status.busy": "2022-07-18T14:38:46.640183Z",
     "iopub.status.idle": "2022-07-18T14:38:57.346125Z",
     "shell.execute_reply": "2022-07-18T14:38:57.345375Z"
    },
    "papermill": {
     "duration": 10.731783,
     "end_time": "2022-07-18T14:38:57.347898",
     "exception": false,
     "start_time": "2022-07-18T14:38:46.616115",
     "status": "completed"
    },
    "tags": []
   },
   "outputs": [
    {
     "name": "stdout",
     "output_type": "stream",
     "text": [
      "(3911,)\n",
      "(837,)\n",
      "(832,)\n"
     ]
    }
   ],
   "source": [
    "y_train = []\n",
    "y_test = []\n",
    "y_validation = []\n",
    "\n",
    "for i in y_train_ID:\n",
    "    \n",
    "    row = df.loc[df['ID'] == i]\n",
    "    y_train.append(row['Label'].iloc[0])\n",
    "\n",
    "for i in y_test_ID:\n",
    "    \n",
    "    row = df.loc[df['ID'] == i]\n",
    "    y_test.append(row['Label'].iloc[0])\n",
    "\n",
    "\n",
    "for i in y_validation_ID:\n",
    "    \n",
    "    row = df.loc[df['ID'] == i]\n",
    "    y_validation.append(row['Label'].iloc[0])\n",
    "    \n",
    "    \n",
    "    \n",
    "y_train = np.array(y_train)\n",
    "y_test = np.array(y_test)\n",
    "y_validation = np.array(y_validation)\n",
    "\n",
    "print(y_train.shape)\n",
    "print(y_test.shape)\n",
    "print(y_validation.shape)"
   ]
  },
  {
   "cell_type": "code",
   "execution_count": 9,
   "id": "c3066573",
   "metadata": {
    "execution": {
     "iopub.execute_input": "2022-07-18T14:38:57.396431Z",
     "iopub.status.busy": "2022-07-18T14:38:57.396204Z",
     "iopub.status.idle": "2022-07-18T14:38:57.794029Z",
     "shell.execute_reply": "2022-07-18T14:38:57.793253Z"
    },
    "papermill": {
     "duration": 0.424541,
     "end_time": "2022-07-18T14:38:57.796098",
     "exception": false,
     "start_time": "2022-07-18T14:38:57.371557",
     "status": "completed"
    },
    "tags": []
   },
   "outputs": [],
   "source": [
    "x_train, y_train = shuffle(x_train, y_train)\n",
    "x_test, y_test = shuffle(x_test, y_test)\n",
    "x_validation, y_validation = shuffle(x_validation, y_validation)"
   ]
  },
  {
   "cell_type": "markdown",
   "id": "849ddc7d",
   "metadata": {
    "papermill": {
     "duration": 0.022922,
     "end_time": "2022-07-18T14:38:57.842627",
     "exception": false,
     "start_time": "2022-07-18T14:38:57.819705",
     "status": "completed"
    },
    "tags": []
   },
   "source": [
    "Si effettua uno studio sul learning rate al fine di ottenere il learning rate ottimale per il modello sulla base del dataset utilizzato."
   ]
  },
  {
   "cell_type": "code",
   "execution_count": 10,
   "id": "a0d03c28",
   "metadata": {
    "execution": {
     "iopub.execute_input": "2022-07-18T14:38:57.889788Z",
     "iopub.status.busy": "2022-07-18T14:38:57.889374Z",
     "iopub.status.idle": "2022-07-18T14:38:57.913701Z",
     "shell.execute_reply": "2022-07-18T14:38:57.912828Z"
    },
    "papermill": {
     "duration": 0.050409,
     "end_time": "2022-07-18T14:38:57.915495",
     "exception": false,
     "start_time": "2022-07-18T14:38:57.865086",
     "status": "completed"
    },
    "tags": []
   },
   "outputs": [],
   "source": [
    "from keras.callbacks import LambdaCallback\n",
    "import keras.backend as K\n",
    "\n",
    "class LRFinder:\n",
    "    \"\"\"\n",
    "    Plots the change of the loss function of a Keras model when the learning rate is exponentially increasing.\n",
    "    See for details:\n",
    "    https://towardsdatascience.com/estimating-optimal-learning-rate-for-a-deep-neural-network-ce32f2556ce0\n",
    "    \"\"\"\n",
    "\n",
    "    def __init__(self, model):\n",
    "        self.model = model\n",
    "        self.losses = []\n",
    "        self.lrs = []\n",
    "        self.best_loss = 1e9\n",
    "\n",
    "    def on_batch_end(self, batch, logs):\n",
    "        # Log the learning rate\n",
    "        lr = K.get_value(self.model.optimizer.lr)\n",
    "        self.lrs.append(lr)\n",
    "\n",
    "        # Log the loss\n",
    "        loss = logs['loss']\n",
    "        self.losses.append(loss)\n",
    "\n",
    "        # Check whether the loss got too large or NaN\n",
    "        if batch > 5 and (math.isnan(loss) or loss > self.best_loss * 4):\n",
    "            self.model.stop_training = True\n",
    "            return\n",
    "\n",
    "        if loss < self.best_loss:\n",
    "            self.best_loss = loss\n",
    "\n",
    "        # Increase the learning rate for the next batch\n",
    "        lr *= self.lr_mult\n",
    "        K.set_value(self.model.optimizer.lr, lr)\n",
    "\n",
    "    def find(self, x_train, y_train, start_lr, end_lr, batch_size=64, epochs=1, **kw_fit):\n",
    "        # If x_train contains data for multiple inputs, use length of the first input.\n",
    "        # Assumption: the first element in the list is single input; NOT a list of inputs.\n",
    "        N = x_train[0].shape[0] if isinstance(x_train, list) else x_train.shape[0]\n",
    "\n",
    "        # Compute number of batches and LR multiplier\n",
    "        num_batches = epochs * N / batch_size\n",
    "        self.lr_mult = (float(end_lr) / float(start_lr)) ** (float(1) / float(num_batches))\n",
    "        # Save weights into a file\n",
    "        initial_weights = self.model.get_weights()\n",
    "\n",
    "        # Remember the original learning rate\n",
    "        original_lr = K.get_value(self.model.optimizer.lr)\n",
    "\n",
    "        # Set the initial learning rate\n",
    "        K.set_value(self.model.optimizer.lr, start_lr)\n",
    "\n",
    "        callback = LambdaCallback(on_batch_end=lambda batch, logs: self.on_batch_end(batch, logs))\n",
    "\n",
    "        self.model.fit(x_train, y_train,\n",
    "                       batch_size=batch_size, epochs=epochs,\n",
    "                       callbacks=[callback],\n",
    "                       **kw_fit)\n",
    "\n",
    "        # Restore the weights to the state before model fitting\n",
    "        self.model.set_weights(initial_weights)\n",
    "\n",
    "        # Restore the original learning rate\n",
    "        K.set_value(self.model.optimizer.lr, original_lr)\n",
    "\n",
    "    def find_generator(self, generator, start_lr, end_lr, epochs=1, steps_per_epoch=None, **kw_fit):\n",
    "        if steps_per_epoch is None:\n",
    "            try:\n",
    "                steps_per_epoch = len(generator)\n",
    "            except (ValueError, NotImplementedError) as e:\n",
    "                raise e('`steps_per_epoch=None` is only valid for a'\n",
    "                        ' generator based on the '\n",
    "                        '`keras.utils.Sequence`'\n",
    "                        ' class. Please specify `steps_per_epoch` '\n",
    "                        'or use the `keras.utils.Sequence` class.')\n",
    "        self.lr_mult = (float(end_lr) / float(start_lr)) ** (float(1) / float(epochs * steps_per_epoch))\n",
    "\n",
    "        # Save weights into a file\n",
    "        initial_weights = self.model.get_weights()\n",
    "\n",
    "        # Remember the original learning rate\n",
    "        original_lr = K.get_value(self.model.optimizer.lr)\n",
    "\n",
    "        # Set the initial learning rate\n",
    "        K.set_value(self.model.optimizer.lr, start_lr)\n",
    "\n",
    "        callback = LambdaCallback(on_batch_end=lambda batch,\n",
    "                                                      logs: self.on_batch_end(batch, logs))\n",
    "\n",
    "        self.model.fit_generator(generator=generator,\n",
    "                                 epochs=epochs,\n",
    "                                 steps_per_epoch=steps_per_epoch,\n",
    "                                 callbacks=[callback],\n",
    "                                 **kw_fit)\n",
    "\n",
    "        # Restore the weights to the state before model fitting\n",
    "        self.model.set_weights(initial_weights)\n",
    "\n",
    "        # Restore the original learning rate\n",
    "        K.set_value(self.model.optimizer.lr, original_lr)\n",
    "\n",
    "    def plot_loss(self, n_skip_beginning=10, n_skip_end=5, x_scale='log'):\n",
    "        \"\"\"\n",
    "        Plots the loss.\n",
    "        Parameters:\n",
    "            n_skip_beginning - number of batches to skip on the left.\n",
    "            n_skip_end - number of batches to skip on the right.\n",
    "        \"\"\"\n",
    "        plt.ylabel(\"loss\")\n",
    "        plt.xlabel(\"learning rate (log scale)\")\n",
    "        plt.plot(self.lrs[n_skip_beginning:-n_skip_end], self.losses[n_skip_beginning:-n_skip_end])\n",
    "        plt.xscale(x_scale)\n",
    "        plt.show()\n",
    "\n",
    "    def plot_loss_change(self, sma=1, n_skip_beginning=10, n_skip_end=5, y_lim=(-0.01, 0.01)):\n",
    "        \"\"\"\n",
    "        Plots rate of change of the loss function.\n",
    "        Parameters:\n",
    "            sma - number of batches for simple moving average to smooth out the curve.\n",
    "            n_skip_beginning - number of batches to skip on the left.\n",
    "            n_skip_end - number of batches to skip on the right.\n",
    "            y_lim - limits for the y axis.\n",
    "        \"\"\"\n",
    "        derivatives = self.get_derivatives(sma)[n_skip_beginning:-n_skip_end]\n",
    "        lrs = self.lrs[n_skip_beginning:-n_skip_end]\n",
    "        plt.ylabel(\"rate of loss change\")\n",
    "        plt.xlabel(\"learning rate (log scale)\")\n",
    "        plt.plot(lrs, derivatives)\n",
    "        plt.xscale('log')\n",
    "        plt.ylim(y_lim)\n",
    "        plt.show()\n",
    "\n",
    "    def get_derivatives(self, sma):\n",
    "        assert sma >= 1\n",
    "        derivatives = [0] * sma\n",
    "        for i in range(sma, len(self.lrs)):\n",
    "            derivatives.append((self.losses[i] - self.losses[i - sma]) / sma)\n",
    "        return derivatives\n",
    "\n",
    "    def get_best_lr(self, sma, n_skip_beginning=10, n_skip_end=5):\n",
    "        derivatives = self.get_derivatives(sma)\n",
    "        best_der_idx = np.argmin(derivatives[n_skip_beginning:-n_skip_end])\n",
    "        return self.lrs[n_skip_beginning:-n_skip_end][best_der_idx]"
   ]
  },
  {
   "cell_type": "markdown",
   "id": "6a446aaa",
   "metadata": {
    "papermill": {
     "duration": 0.022175,
     "end_time": "2022-07-18T14:38:57.961025",
     "exception": false,
     "start_time": "2022-07-18T14:38:57.938850",
     "status": "completed"
    },
    "tags": []
   },
   "source": [
    "Si procede a costruire il modello della rete neurale convoluzionale.\n",
    "si utilizzano i seguenti iperparametri:\n",
    "\n",
    "\n",
    "*   Tipo di modello: CNN\n",
    "*   Modello di partenza: EfficientNetB3\n",
    "*   Numero di epoche 50;\n",
    "*   Activation Output Layer Softmax: funzione più usata per la classificazione multiclasse;\n",
    "*   Activation Hidden Layer ReLU: è la funzione di \"deafult\" grazie alla sua versatilità per la maggior parte degli utilizzi;\n",
    "*   Loss Function Sparse Categorical Crossentropy: funzione usata nella classificazione multiclasse usando varibili categoriche;\n",
    "*   Optimizer adam con learning rate ottimale;\n",
    "*   Regolarizzazione tramite L2 con alpha = 0.1: si limitano le unità con pesi troppo grossi per evitare overfitting e tramite dropout decrescente.\n",
    "*   Per evitare overfitting si utilizzeranno i pesi che ottengono il miglior valore di loss sul validation set."
   ]
  },
  {
   "cell_type": "code",
   "execution_count": 11,
   "id": "0d7bcddc",
   "metadata": {
    "execution": {
     "iopub.execute_input": "2022-07-18T14:38:58.007683Z",
     "iopub.status.busy": "2022-07-18T14:38:58.007409Z",
     "iopub.status.idle": "2022-07-18T14:39:03.977571Z",
     "shell.execute_reply": "2022-07-18T14:39:03.976709Z"
    },
    "papermill": {
     "duration": 5.996177,
     "end_time": "2022-07-18T14:39:03.979613",
     "exception": false,
     "start_time": "2022-07-18T14:38:57.983436",
     "status": "completed"
    },
    "tags": []
   },
   "outputs": [
    {
     "name": "stderr",
     "output_type": "stream",
     "text": [
      "2022-07-18 14:38:58.109737: I tensorflow/stream_executor/cuda/cuda_gpu_executor.cc:937] successful NUMA node read from SysFS had negative value (-1), but there must be at least one NUMA node, so returning NUMA node zero\n",
      "2022-07-18 14:38:58.216162: I tensorflow/stream_executor/cuda/cuda_gpu_executor.cc:937] successful NUMA node read from SysFS had negative value (-1), but there must be at least one NUMA node, so returning NUMA node zero\n",
      "2022-07-18 14:38:58.217034: I tensorflow/stream_executor/cuda/cuda_gpu_executor.cc:937] successful NUMA node read from SysFS had negative value (-1), but there must be at least one NUMA node, so returning NUMA node zero\n",
      "2022-07-18 14:38:58.218379: I tensorflow/core/platform/cpu_feature_guard.cc:142] This TensorFlow binary is optimized with oneAPI Deep Neural Network Library (oneDNN) to use the following CPU instructions in performance-critical operations:  AVX2 AVX512F FMA\n",
      "To enable them in other operations, rebuild TensorFlow with the appropriate compiler flags.\n",
      "2022-07-18 14:38:58.218762: I tensorflow/stream_executor/cuda/cuda_gpu_executor.cc:937] successful NUMA node read from SysFS had negative value (-1), but there must be at least one NUMA node, so returning NUMA node zero\n",
      "2022-07-18 14:38:58.219480: I tensorflow/stream_executor/cuda/cuda_gpu_executor.cc:937] successful NUMA node read from SysFS had negative value (-1), but there must be at least one NUMA node, so returning NUMA node zero\n",
      "2022-07-18 14:38:58.220132: I tensorflow/stream_executor/cuda/cuda_gpu_executor.cc:937] successful NUMA node read from SysFS had negative value (-1), but there must be at least one NUMA node, so returning NUMA node zero\n",
      "2022-07-18 14:38:59.973366: I tensorflow/stream_executor/cuda/cuda_gpu_executor.cc:937] successful NUMA node read from SysFS had negative value (-1), but there must be at least one NUMA node, so returning NUMA node zero\n",
      "2022-07-18 14:38:59.974316: I tensorflow/stream_executor/cuda/cuda_gpu_executor.cc:937] successful NUMA node read from SysFS had negative value (-1), but there must be at least one NUMA node, so returning NUMA node zero\n",
      "2022-07-18 14:38:59.975120: I tensorflow/stream_executor/cuda/cuda_gpu_executor.cc:937] successful NUMA node read from SysFS had negative value (-1), but there must be at least one NUMA node, so returning NUMA node zero\n",
      "2022-07-18 14:38:59.976173: I tensorflow/core/common_runtime/gpu/gpu_device.cc:1510] Created device /job:localhost/replica:0/task:0/device:GPU:0 with 15403 MB memory:  -> device: 0, name: Tesla P100-PCIE-16GB, pci bus id: 0000:00:04.0, compute capability: 6.0\n"
     ]
    }
   ],
   "source": [
    "# Load a pre-trained neural network to use for transfer learning\n",
    "base_net = keras.applications.EfficientNetB3(\n",
    "    input_shape=(300,300,3),\n",
    "    weights='../input/noisystudentkeras/noisystudent_efficientnetb3_notop.h5',\n",
    "    include_top=False,\n",
    "    drop_connect_rate=0.5,\n",
    "    pooling='avg'\n",
    ")\n",
    "\n",
    "# Set the layers of the base net to not be trained\n",
    "for layer in base_net.layers:\n",
    "  layer.trainable=True"
   ]
  },
  {
   "cell_type": "code",
   "execution_count": 12,
   "id": "c4c3b499",
   "metadata": {
    "execution": {
     "iopub.execute_input": "2022-07-18T14:39:04.027632Z",
     "iopub.status.busy": "2022-07-18T14:39:04.027397Z",
     "iopub.status.idle": "2022-07-18T14:39:04.106903Z",
     "shell.execute_reply": "2022-07-18T14:39:04.106153Z"
    },
    "papermill": {
     "duration": 0.105667,
     "end_time": "2022-07-18T14:39:04.108968",
     "exception": false,
     "start_time": "2022-07-18T14:39:04.003301",
     "status": "completed"
    },
    "tags": []
   },
   "outputs": [],
   "source": [
    "x = Flatten()(base_net.layers[-1].output)\n",
    "x = keras.layers.Dense(1024, activation='relu', kernel_regularizer=l2(0.1), bias_regularizer=l2(0.1))(x)\n",
    "x = keras.layers.Dropout(0.5)(x)\n",
    "x = keras.layers.Dense(512, activation='relu', kernel_regularizer=l2(0.1), bias_regularizer=l2(0.1))(x)\n",
    "x = keras.layers.Dropout(0.4)(x)\n",
    "x = keras.layers.Dense(128, activation='relu', kernel_regularizer=l2(0.1), bias_regularizer=l2(0.1))(x)\n",
    "x = keras.layers.Dropout(0.3)(x)\n",
    "x = keras.layers.Dense(4, activation='softmax')(x)\n",
    "outputs = x\n",
    "\n",
    "OPT = tf.keras.optimizers.Adam()\n",
    "\n",
    "cnn = keras.Model(inputs=base_net.inputs, outputs=outputs)\n",
    "cnn.compile(loss='sparse_categorical_crossentropy', optimizer=OPT, metrics=['accuracy'])\n",
    "\n",
    "#cnn.summary()"
   ]
  },
  {
   "cell_type": "code",
   "execution_count": 13,
   "id": "84b12955",
   "metadata": {
    "execution": {
     "iopub.execute_input": "2022-07-18T14:39:04.156211Z",
     "iopub.status.busy": "2022-07-18T14:39:04.155792Z",
     "iopub.status.idle": "2022-07-18T14:44:34.205569Z",
     "shell.execute_reply": "2022-07-18T14:44:34.204782Z"
    },
    "papermill": {
     "duration": 330.075607,
     "end_time": "2022-07-18T14:44:34.207759",
     "exception": false,
     "start_time": "2022-07-18T14:39:04.132152",
     "status": "completed"
    },
    "tags": []
   },
   "outputs": [
    {
     "name": "stderr",
     "output_type": "stream",
     "text": [
      "2022-07-18 14:39:04.290321: W tensorflow/core/framework/cpu_allocator_impl.cc:80] Allocation of 1055970000 exceeds 10% of free system memory.\n",
      "2022-07-18 14:39:05.369263: W tensorflow/core/framework/cpu_allocator_impl.cc:80] Allocation of 1055970000 exceeds 10% of free system memory.\n",
      "2022-07-18 14:39:06.156155: I tensorflow/compiler/mlir/mlir_graph_optimization_pass.cc:185] None of the MLIR Optimization Passes are enabled (registered 2)\n"
     ]
    },
    {
     "name": "stdout",
     "output_type": "stream",
     "text": [
      "Epoch 1/5\n"
     ]
    },
    {
     "name": "stderr",
     "output_type": "stream",
     "text": [
      "2022-07-18 14:39:19.171735: I tensorflow/stream_executor/cuda/cuda_dnn.cc:369] Loaded cuDNN version 8005\n"
     ]
    },
    {
     "name": "stdout",
     "output_type": "stream",
     "text": [
      "123/123 [==============================] - 110s 731ms/step - loss: 122.9777 - accuracy: 0.3930\n",
      "Epoch 2/5\n",
      "123/123 [==============================] - 89s 725ms/step - loss: 5.8675 - accuracy: 0.5638\n",
      "Epoch 3/5\n",
      "123/123 [==============================] - 89s 724ms/step - loss: 1.8777 - accuracy: 0.4390\n",
      "Epoch 4/5\n",
      "123/123 [==============================] - 40s 323ms/step - loss: 5.5247 - accuracy: 0.3386\n"
     ]
    }
   ],
   "source": [
    "# model is a Keras model\n",
    "lr_finder = LRFinder(cnn)\n",
    "\n",
    "# Train a model with learning rate growing exponentially from 0.0001 to 1\n",
    "lr_finder.find(x_train, y_train, start_lr=0.0001, end_lr=1, batch_size=32, epochs=5)"
   ]
  },
  {
   "cell_type": "code",
   "execution_count": 14,
   "id": "bb7a63c7",
   "metadata": {
    "execution": {
     "iopub.execute_input": "2022-07-18T14:44:34.528585Z",
     "iopub.status.busy": "2022-07-18T14:44:34.527959Z",
     "iopub.status.idle": "2022-07-18T14:44:40.592574Z",
     "shell.execute_reply": "2022-07-18T14:44:40.591782Z"
    },
    "papermill": {
     "duration": 6.225157,
     "end_time": "2022-07-18T14:44:40.594398",
     "exception": false,
     "start_time": "2022-07-18T14:44:34.369241",
     "status": "completed"
    },
    "tags": []
   },
   "outputs": [
    {
     "data": {
      "image/png": "[encoded data removed]",
      "text/plain": [
       "<Figure size 432x288 with 1 Axes>"
      ]
     },
     "metadata": {
      "needs_background": "light"
     },
     "output_type": "display_data"
    }
   ],
   "source": [
    "# Plot the loss, ignore 20 batches in the beginning and 5 in the end\n",
    "lr_finder.plot_loss(n_skip_beginning=20, n_skip_end=5)\n",
    "plt.show()"
   ]
  },
  {
   "cell_type": "code",
   "execution_count": 15,
   "id": "ebe79b53",
   "metadata": {
    "execution": {
     "iopub.execute_input": "2022-07-18T14:44:40.919875Z",
     "iopub.status.busy": "2022-07-18T14:44:40.919591Z",
     "iopub.status.idle": "2022-07-18T14:44:40.925290Z",
     "shell.execute_reply": "2022-07-18T14:44:40.924327Z"
    },
    "papermill": {
     "duration": 0.172403,
     "end_time": "2022-07-18T14:44:40.929134",
     "exception": false,
     "start_time": "2022-07-18T14:44:40.756731",
     "status": "completed"
    },
    "tags": []
   },
   "outputs": [
    {
     "name": "stdout",
     "output_type": "stream",
     "text": [
      "0.0006384304\n"
     ]
    }
   ],
   "source": [
    "optimal_lr = lr_finder.get_best_lr(sma=1)\n",
    "print(optimal_lr)\n",
    "OPT = tf.keras.optimizers.Adam(learning_rate=optimal_lr)"
   ]
  },
  {
   "cell_type": "code",
   "execution_count": 16,
   "id": "1bf53cfe",
   "metadata": {
    "execution": {
     "iopub.execute_input": "2022-07-18T14:44:41.254602Z",
     "iopub.status.busy": "2022-07-18T14:44:41.254345Z",
     "iopub.status.idle": "2022-07-18T14:44:41.258697Z",
     "shell.execute_reply": "2022-07-18T14:44:41.257736Z"
    },
    "papermill": {
     "duration": 0.167305,
     "end_time": "2022-07-18T14:44:41.260946",
     "exception": false,
     "start_time": "2022-07-18T14:44:41.093641",
     "status": "completed"
    },
    "tags": []
   },
   "outputs": [],
   "source": [
    "filepath_cnn=\"weights.cnn.hdf5\"\n",
    "checkpoint = ModelCheckpoint(filepath_cnn, monitor='val_accuracy', verbose=1, save_best_only=True, mode='max')"
   ]
  },
  {
   "cell_type": "code",
   "execution_count": 17,
   "id": "ee8fa62a",
   "metadata": {
    "execution": {
     "iopub.execute_input": "2022-07-18T14:44:41.594917Z",
     "iopub.status.busy": "2022-07-18T14:44:41.594668Z",
     "iopub.status.idle": "2022-07-18T16:01:17.237438Z",
     "shell.execute_reply": "2022-07-18T16:01:17.236693Z"
    },
    "papermill": {
     "duration": 4595.806425,
     "end_time": "2022-07-18T16:01:17.239902",
     "exception": false,
     "start_time": "2022-07-18T14:44:41.433477",
     "status": "completed"
    },
    "tags": []
   },
   "outputs": [
    {
     "name": "stderr",
     "output_type": "stream",
     "text": [
      "2022-07-18 14:44:41.634444: W tensorflow/core/framework/cpu_allocator_impl.cc:80] Allocation of 1055970000 exceeds 10% of free system memory.\n",
      "2022-07-18 14:44:42.687939: W tensorflow/core/framework/cpu_allocator_impl.cc:80] Allocation of 1055970000 exceeds 10% of free system memory.\n"
     ]
    },
    {
     "name": "stdout",
     "output_type": "stream",
     "text": [
      "Epoch 1/50\n",
      "123/123 [==============================] - 107s 768ms/step - loss: 46.0591 - accuracy: 0.4769 - val_loss: 2.6798 - val_accuracy: 0.5300\n",
      "\n",
      "Epoch 00001: val_accuracy improved from -inf to 0.53005, saving model to weights.cnn.hdf5\n",
      "Epoch 2/50\n",
      "123/123 [==============================] - 90s 732ms/step - loss: 1.5372 - accuracy: 0.5914 - val_loss: 1.0357 - val_accuracy: 0.6238\n",
      "\n",
      "Epoch 00002: val_accuracy improved from 0.53005 to 0.62380, saving model to weights.cnn.hdf5\n",
      "Epoch 3/50\n",
      "123/123 [==============================] - 90s 729ms/step - loss: 1.1030 - accuracy: 0.6111 - val_loss: 0.9884 - val_accuracy: 0.6202\n",
      "\n",
      "Epoch 00003: val_accuracy did not improve from 0.62380\n",
      "Epoch 4/50\n",
      "123/123 [==============================] - 92s 751ms/step - loss: 1.0434 - accuracy: 0.6387 - val_loss: 1.0289 - val_accuracy: 0.6394\n",
      "\n",
      "Epoch 00004: val_accuracy improved from 0.62380 to 0.63942, saving model to weights.cnn.hdf5\n",
      "Epoch 5/50\n",
      "123/123 [==============================] - 90s 733ms/step - loss: 0.9803 - accuracy: 0.6622 - val_loss: 1.0864 - val_accuracy: 0.5998\n",
      "\n",
      "Epoch 00005: val_accuracy did not improve from 0.63942\n",
      "Epoch 6/50\n",
      "123/123 [==============================] - 90s 731ms/step - loss: 0.8947 - accuracy: 0.6883 - val_loss: 1.2078 - val_accuracy: 0.5709\n",
      "\n",
      "Epoch 00006: val_accuracy did not improve from 0.63942\n",
      "Epoch 7/50\n",
      "123/123 [==============================] - 90s 729ms/step - loss: 0.8739 - accuracy: 0.6914 - val_loss: 1.1028 - val_accuracy: 0.5974\n",
      "\n",
      "Epoch 00007: val_accuracy did not improve from 0.63942\n",
      "Epoch 8/50\n",
      "123/123 [==============================] - 90s 732ms/step - loss: 0.8113 - accuracy: 0.7100 - val_loss: 1.1308 - val_accuracy: 0.6166\n",
      "\n",
      "Epoch 00008: val_accuracy did not improve from 0.63942\n",
      "Epoch 9/50\n",
      "123/123 [==============================] - 90s 734ms/step - loss: 0.7740 - accuracy: 0.7259 - val_loss: 1.0271 - val_accuracy: 0.6058\n",
      "\n",
      "Epoch 00009: val_accuracy did not improve from 0.63942\n",
      "Epoch 10/50\n",
      "123/123 [==============================] - 90s 732ms/step - loss: 0.7347 - accuracy: 0.7372 - val_loss: 0.9860 - val_accuracy: 0.6178\n",
      "\n",
      "Epoch 00010: val_accuracy did not improve from 0.63942\n",
      "Epoch 11/50\n",
      "123/123 [==============================] - 92s 750ms/step - loss: 0.7162 - accuracy: 0.7456 - val_loss: 1.2878 - val_accuracy: 0.5577\n",
      "\n",
      "Epoch 00011: val_accuracy did not improve from 0.63942\n",
      "Epoch 12/50\n",
      "123/123 [==============================] - 92s 750ms/step - loss: 0.7081 - accuracy: 0.7458 - val_loss: 1.1966 - val_accuracy: 0.6214\n",
      "\n",
      "Epoch 00012: val_accuracy did not improve from 0.63942\n",
      "Epoch 13/50\n",
      "123/123 [==============================] - 90s 733ms/step - loss: 0.6444 - accuracy: 0.7655 - val_loss: 1.1066 - val_accuracy: 0.5865\n",
      "\n",
      "Epoch 00013: val_accuracy did not improve from 0.63942\n",
      "Epoch 14/50\n",
      "123/123 [==============================] - 92s 752ms/step - loss: 0.6763 - accuracy: 0.7568 - val_loss: 1.0316 - val_accuracy: 0.6454\n",
      "\n",
      "Epoch 00014: val_accuracy improved from 0.63942 to 0.64543, saving model to weights.cnn.hdf5\n",
      "Epoch 15/50\n",
      "123/123 [==============================] - 90s 731ms/step - loss: 0.6436 - accuracy: 0.7671 - val_loss: 1.0954 - val_accuracy: 0.6094\n",
      "\n",
      "Epoch 00015: val_accuracy did not improve from 0.64543\n",
      "Epoch 16/50\n",
      "123/123 [==============================] - 90s 734ms/step - loss: 0.6702 - accuracy: 0.7648 - val_loss: 1.2713 - val_accuracy: 0.6190\n",
      "\n",
      "Epoch 00016: val_accuracy did not improve from 0.64543\n",
      "Epoch 17/50\n",
      "123/123 [==============================] - 90s 733ms/step - loss: 0.6258 - accuracy: 0.7758 - val_loss: 1.0932 - val_accuracy: 0.6226\n",
      "\n",
      "Epoch 00017: val_accuracy did not improve from 0.64543\n",
      "Epoch 18/50\n",
      "123/123 [==============================] - 93s 755ms/step - loss: 0.6188 - accuracy: 0.7778 - val_loss: 1.0272 - val_accuracy: 0.6262\n",
      "\n",
      "Epoch 00018: val_accuracy did not improve from 0.64543\n",
      "Epoch 19/50\n",
      "123/123 [==============================] - 90s 735ms/step - loss: 0.6563 - accuracy: 0.7783 - val_loss: 1.5821 - val_accuracy: 0.5974\n",
      "\n",
      "Epoch 00019: val_accuracy did not improve from 0.64543\n",
      "Epoch 20/50\n",
      "123/123 [==============================] - 93s 753ms/step - loss: 0.5685 - accuracy: 0.7806 - val_loss: 1.6005 - val_accuracy: 0.5901\n",
      "\n",
      "Epoch 00020: val_accuracy did not improve from 0.64543\n",
      "Epoch 21/50\n",
      "123/123 [==============================] - 90s 729ms/step - loss: 0.6104 - accuracy: 0.7924 - val_loss: 1.4126 - val_accuracy: 0.6154\n",
      "\n",
      "Epoch 00021: val_accuracy did not improve from 0.64543\n",
      "Epoch 22/50\n",
      "123/123 [==============================] - 91s 738ms/step - loss: 0.7246 - accuracy: 0.7768 - val_loss: 1.1416 - val_accuracy: 0.6779\n",
      "\n",
      "Epoch 00022: val_accuracy improved from 0.64543 to 0.67788, saving model to weights.cnn.hdf5\n",
      "Epoch 23/50\n",
      "123/123 [==============================] - 90s 732ms/step - loss: 0.5902 - accuracy: 0.7952 - val_loss: 1.3848 - val_accuracy: 0.6166\n",
      "\n",
      "Epoch 00023: val_accuracy did not improve from 0.67788\n",
      "Epoch 24/50\n",
      "123/123 [==============================] - 92s 748ms/step - loss: 0.6212 - accuracy: 0.8128 - val_loss: 1.6402 - val_accuracy: 0.6442\n",
      "\n",
      "Epoch 00024: val_accuracy did not improve from 0.67788\n",
      "Epoch 25/50\n",
      "123/123 [==============================] - 90s 731ms/step - loss: 0.5487 - accuracy: 0.8392 - val_loss: 1.4012 - val_accuracy: 0.6094\n",
      "\n",
      "Epoch 00025: val_accuracy did not improve from 0.67788\n",
      "Epoch 26/50\n",
      "123/123 [==============================] - 92s 749ms/step - loss: 0.5136 - accuracy: 0.8612 - val_loss: 1.3353 - val_accuracy: 0.6538\n",
      "\n",
      "Epoch 00026: val_accuracy did not improve from 0.67788\n",
      "Epoch 27/50\n",
      "123/123 [==============================] - 91s 738ms/step - loss: 0.5325 - accuracy: 0.8808 - val_loss: 1.4103 - val_accuracy: 0.6623\n",
      "\n",
      "Epoch 00027: val_accuracy did not improve from 0.67788\n",
      "Epoch 28/50\n",
      "123/123 [==============================] - 90s 731ms/step - loss: 0.5626 - accuracy: 0.8716 - val_loss: 1.2731 - val_accuracy: 0.6731\n",
      "\n",
      "Epoch 00028: val_accuracy did not improve from 0.67788\n",
      "Epoch 29/50\n",
      "123/123 [==============================] - 92s 749ms/step - loss: 0.5962 - accuracy: 0.8729 - val_loss: 1.2753 - val_accuracy: 0.6346\n",
      "\n",
      "Epoch 00029: val_accuracy did not improve from 0.67788\n",
      "Epoch 30/50\n",
      "123/123 [==============================] - 92s 746ms/step - loss: 0.5209 - accuracy: 0.9028 - val_loss: 1.3138 - val_accuracy: 0.6875\n",
      "\n",
      "Epoch 00030: val_accuracy improved from 0.67788 to 0.68750, saving model to weights.cnn.hdf5\n",
      "Epoch 31/50\n",
      "123/123 [==============================] - 92s 750ms/step - loss: 0.4581 - accuracy: 0.9195 - val_loss: 1.0998 - val_accuracy: 0.6142\n",
      "\n",
      "Epoch 00031: val_accuracy did not improve from 0.68750\n",
      "Epoch 32/50\n",
      "123/123 [==============================] - 90s 731ms/step - loss: 0.7503 - accuracy: 0.8885 - val_loss: 2.0954 - val_accuracy: 0.4495\n",
      "\n",
      "Epoch 00032: val_accuracy did not improve from 0.68750\n",
      "Epoch 33/50\n",
      "123/123 [==============================] - 92s 750ms/step - loss: 0.6738 - accuracy: 0.9113 - val_loss: 1.3837 - val_accuracy: 0.6743\n",
      "\n",
      "Epoch 00033: val_accuracy did not improve from 0.68750\n",
      "Epoch 34/50\n",
      "123/123 [==============================] - 90s 732ms/step - loss: 0.5464 - accuracy: 0.9348 - val_loss: 2.0436 - val_accuracy: 0.6779\n",
      "\n",
      "Epoch 00034: val_accuracy did not improve from 0.68750\n",
      "Epoch 35/50\n",
      "123/123 [==============================] - 90s 732ms/step - loss: 0.4115 - accuracy: 0.9524 - val_loss: 1.5649 - val_accuracy: 0.6154\n",
      "\n",
      "Epoch 00035: val_accuracy did not improve from 0.68750\n",
      "Epoch 36/50\n",
      "123/123 [==============================] - 90s 733ms/step - loss: 0.4664 - accuracy: 0.9507 - val_loss: 1.9079 - val_accuracy: 0.6599\n",
      "\n",
      "Epoch 00036: val_accuracy did not improve from 0.68750\n",
      "Epoch 37/50\n",
      "123/123 [==============================] - 91s 738ms/step - loss: 0.5243 - accuracy: 0.9460 - val_loss: 1.3930 - val_accuracy: 0.6394\n",
      "\n",
      "Epoch 00037: val_accuracy did not improve from 0.68750\n",
      "Epoch 38/50\n",
      "123/123 [==============================] - 90s 732ms/step - loss: 0.3798 - accuracy: 0.9609 - val_loss: 1.4818 - val_accuracy: 0.6731\n",
      "\n",
      "Epoch 00038: val_accuracy did not improve from 0.68750\n",
      "Epoch 39/50\n",
      "123/123 [==============================] - 92s 752ms/step - loss: 0.3869 - accuracy: 0.9655 - val_loss: 1.3627 - val_accuracy: 0.6430\n",
      "\n",
      "Epoch 00039: val_accuracy did not improve from 0.68750\n",
      "Epoch 40/50\n",
      "123/123 [==============================] - 92s 752ms/step - loss: 0.6453 - accuracy: 0.9453 - val_loss: 2.0364 - val_accuracy: 0.6731\n",
      "\n",
      "Epoch 00040: val_accuracy did not improve from 0.68750\n",
      "Epoch 41/50\n",
      "123/123 [==============================] - 90s 732ms/step - loss: 0.5810 - accuracy: 0.9524 - val_loss: 1.5275 - val_accuracy: 0.6971\n",
      "\n",
      "Epoch 00041: val_accuracy improved from 0.68750 to 0.69712, saving model to weights.cnn.hdf5\n",
      "Epoch 42/50\n",
      "123/123 [==============================] - 92s 752ms/step - loss: 0.3548 - accuracy: 0.9673 - val_loss: 1.5476 - val_accuracy: 0.6154\n",
      "\n",
      "Epoch 00042: val_accuracy did not improve from 0.69712\n",
      "Epoch 43/50\n",
      "123/123 [==============================] - 92s 751ms/step - loss: 0.4460 - accuracy: 0.9639 - val_loss: 1.4306 - val_accuracy: 0.6358\n",
      "\n",
      "Epoch 00043: val_accuracy did not improve from 0.69712\n",
      "Epoch 44/50\n",
      "123/123 [==============================] - 90s 732ms/step - loss: 0.2833 - accuracy: 0.9775 - val_loss: 1.5395 - val_accuracy: 0.6202\n",
      "\n",
      "Epoch 00044: val_accuracy did not improve from 0.69712\n",
      "Epoch 45/50\n",
      "123/123 [==============================] - 93s 753ms/step - loss: 0.3195 - accuracy: 0.9688 - val_loss: 1.7335 - val_accuracy: 0.6707\n",
      "\n",
      "Epoch 00045: val_accuracy did not improve from 0.69712\n",
      "Epoch 46/50\n",
      "123/123 [==============================] - 92s 750ms/step - loss: 0.2934 - accuracy: 0.9803 - val_loss: 1.8159 - val_accuracy: 0.6683\n",
      "\n",
      "Epoch 00046: val_accuracy did not improve from 0.69712\n",
      "Epoch 47/50\n",
      "123/123 [==============================] - 90s 735ms/step - loss: 0.4299 - accuracy: 0.9660 - val_loss: 1.3390 - val_accuracy: 0.6514\n",
      "\n",
      "Epoch 00047: val_accuracy did not improve from 0.69712\n",
      "Epoch 48/50\n",
      "123/123 [==============================] - 90s 732ms/step - loss: 0.3776 - accuracy: 0.9693 - val_loss: 2.0225 - val_accuracy: 0.6106\n",
      "\n",
      "Epoch 00048: val_accuracy did not improve from 0.69712\n",
      "Epoch 49/50\n",
      "123/123 [==============================] - 90s 732ms/step - loss: 0.3623 - accuracy: 0.9790 - val_loss: 1.5136 - val_accuracy: 0.6575\n",
      "\n",
      "Epoch 00049: val_accuracy did not improve from 0.69712\n",
      "Epoch 50/50\n",
      "123/123 [==============================] - 90s 734ms/step - loss: 0.2977 - accuracy: 0.9811 - val_loss: 1.8170 - val_accuracy: 0.6623\n",
      "\n",
      "Epoch 00050: val_accuracy did not improve from 0.69712\n"
     ]
    }
   ],
   "source": [
    "cnn.compile(loss='sparse_categorical_crossentropy', optimizer=OPT, metrics=['accuracy'])\n",
    "hist_cnn = cnn.fit(x_train, y_train, batch_size=32, epochs=50,  validation_data=(x_validation, y_validation), callbacks=[checkpoint])"
   ]
  },
  {
   "cell_type": "code",
   "execution_count": 18,
   "id": "f1954561",
   "metadata": {
    "execution": {
     "iopub.execute_input": "2022-07-18T16:01:21.772097Z",
     "iopub.status.busy": "2022-07-18T16:01:21.771822Z",
     "iopub.status.idle": "2022-07-18T16:01:22.132623Z",
     "shell.execute_reply": "2022-07-18T16:01:22.131974Z"
    },
    "papermill": {
     "duration": 2.492633,
     "end_time": "2022-07-18T16:01:22.134382",
     "exception": false,
     "start_time": "2022-07-18T16:01:19.641749",
     "status": "completed"
    },
    "tags": []
   },
   "outputs": [
    {
     "data": {
      "image/png": "[encoded data removed]",
      "text/plain": [
       "<Figure size 432x288 with 1 Axes>"
      ]
     },
     "metadata": {
      "needs_background": "light"
     },
     "output_type": "display_data"
    },
    {
     "data": {
      "image/png": "[encoded data removed]",
      "text/plain": [
       "<Figure size 432x288 with 1 Axes>"
      ]
     },
     "metadata": {
      "needs_background": "light"
     },
     "output_type": "display_data"
    }
   ],
   "source": [
    "def plot_hist(hist, title):\n",
    "    plt.plot(hist.history[\"accuracy\"])\n",
    "    plt.plot(hist.history[\"val_accuracy\"])\n",
    "    plt.title(\"Accuracy \" + title)\n",
    "    plt.ylabel(\"accuracy\")\n",
    "    plt.xlabel(\"epoch\")\n",
    "    plt.legend([\"train\", \"validation\"], loc=\"upper left\")\n",
    "    plt.show()\n",
    "    \n",
    "    # summarize history for loss\n",
    "    plt.plot(hist.history['loss'])\n",
    "    plt.plot(hist.history['val_loss'])\n",
    "    plt.title(\"LOSS \" + title)\n",
    "    plt.ylabel('loss')\n",
    "    plt.xlabel('epoch')\n",
    "    plt.legend(['train', 'validation'], loc='upper left')\n",
    "    plt.show()\n",
    "\n",
    "\n",
    "plot_hist(hist_cnn, title=\"Efficient-Net B3\")"
   ]
  },
  {
   "cell_type": "code",
   "execution_count": 19,
   "id": "6e1e3c5c",
   "metadata": {
    "execution": {
     "iopub.execute_input": "2022-07-18T16:01:26.388386Z",
     "iopub.status.busy": "2022-07-18T16:01:26.388130Z",
     "iopub.status.idle": "2022-07-18T16:01:26.397307Z",
     "shell.execute_reply": "2022-07-18T16:01:26.396558Z"
    },
    "papermill": {
     "duration": 2.114255,
     "end_time": "2022-07-18T16:01:26.399033",
     "exception": false,
     "start_time": "2022-07-18T16:01:24.284778",
     "status": "completed"
    },
    "tags": []
   },
   "outputs": [],
   "source": [
    "def plot_confusion_matrix(cm, classes,\n",
    "                          normalize=False,\n",
    "                          title='Confusion matrix',\n",
    "                          cmap=plt.cm.Blues):\n",
    "    \"\"\"\n",
    "    This function prints and plots the confusion matrix.\n",
    "    Normalization can be applied by setting `normalize=True`.\n",
    "    \"\"\"\n",
    "    plt.figure(figsize = (5,5))\n",
    "    plt.imshow(cm, interpolation='nearest', cmap=cmap)\n",
    "    plt.title(title)\n",
    "    plt.colorbar()\n",
    "    tick_marks = np.arange(len(classes))\n",
    "    plt.xticks(tick_marks, classes, rotation=90)\n",
    "    plt.yticks(tick_marks, classes)\n",
    "    if normalize:\n",
    "        cm = cm.astype('float') / cm.sum(axis=1)[:, np.newaxis]\n",
    "\n",
    "    thresh = cm.max() / 2.\n",
    "    for i, j in itertools.product(range(cm.shape[0]), range(cm.shape[1])):\n",
    "        plt.text(j, i, cm[i, j],\n",
    "                 horizontalalignment=\"center\",\n",
    "                 color=\"white\" if cm[i, j] > thresh else \"black\")\n",
    "    plt.tight_layout()\n",
    "    plt.ylabel('True label')\n",
    "    plt.xlabel('Predicted label')"
   ]
  },
  {
   "cell_type": "code",
   "execution_count": 20,
   "id": "5acf194d",
   "metadata": {
    "execution": {
     "iopub.execute_input": "2022-07-18T16:01:30.842511Z",
     "iopub.status.busy": "2022-07-18T16:01:30.842260Z",
     "iopub.status.idle": "2022-07-18T16:01:41.690344Z",
     "shell.execute_reply": "2022-07-18T16:01:41.689681Z"
    },
    "papermill": {
     "duration": 13.113638,
     "end_time": "2022-07-18T16:01:41.692520",
     "exception": false,
     "start_time": "2022-07-18T16:01:28.578882",
     "status": "completed"
    },
    "tags": []
   },
   "outputs": [
    {
     "name": "stdout",
     "output_type": "stream",
     "text": [
      "Convolutional Neural Network - accuracy: 0.6857825517654419 \n",
      "\n"
     ]
    },
    {
     "data": {
      "image/png": "[encoded data removed]",
      "text/plain": [
       "<Figure size 360x360 with 2 Axes>"
      ]
     },
     "metadata": {
      "needs_background": "light"
     },
     "output_type": "display_data"
    }
   ],
   "source": [
    "score = cnn.evaluate(x_test, y_test, verbose=0)\n",
    "print('Convolutional Neural Network - accuracy:', score[1],\"\\n\")\n",
    "Y_pred = cnn.predict(x_test)\n",
    "Y_pred_classes = np.argmax(Y_pred,axis = 1) \n",
    "confusion_mtx = confusion_matrix(y_test, Y_pred_classes)\n",
    "plot_confusion_matrix(confusion_mtx, classes = ['A-V-','A-V+','A+V-','A+V+']) \n",
    "plt.show()"
   ]
  },
  {
   "cell_type": "code",
   "execution_count": 21,
   "id": "d19b9fa2",
   "metadata": {
    "execution": {
     "iopub.execute_input": "2022-07-18T16:01:45.967987Z",
     "iopub.status.busy": "2022-07-18T16:01:45.967690Z",
     "iopub.status.idle": "2022-07-18T16:01:45.978497Z",
     "shell.execute_reply": "2022-07-18T16:01:45.977666Z"
    },
    "papermill": {
     "duration": 2.192554,
     "end_time": "2022-07-18T16:01:45.980686",
     "exception": false,
     "start_time": "2022-07-18T16:01:43.788132",
     "status": "completed"
    },
    "tags": []
   },
   "outputs": [
    {
     "name": "stdout",
     "output_type": "stream",
     "text": [
      "              precision    recall  f1-score   support\n",
      "\n",
      "           0       0.52      0.82      0.64       188\n",
      "           1       0.72      0.35      0.47       205\n",
      "           2       0.83      0.72      0.77       161\n",
      "           3       0.76      0.82      0.79       283\n",
      "\n",
      "    accuracy                           0.69       837\n",
      "   macro avg       0.71      0.68      0.67       837\n",
      "weighted avg       0.71      0.69      0.67       837\n",
      "\n"
     ]
    }
   ],
   "source": [
    "print(classification_report(y_test, Y_pred_classes))"
   ]
  }
 ],
 "metadata": {
  "kernelspec": {
   "display_name": "Python 3",
   "language": "python",
   "name": "python3"
  },
  "language_info": {
   "codemirror_mode": {
    "name": "ipython",
    "version": 3
   },
   "file_extension": ".py",
   "mimetype": "text/x-python",
   "name": "python",
   "nbconvert_exporter": "python",
   "pygments_lexer": "ipython3",
   "version": "3.7.12"
  },
  "papermill": {
   "default_parameters": {},
   "duration": 5041.279841,
   "end_time": "2022-07-18T16:01:51.910632",
   "environment_variables": {},
   "exception": null,
   "input_path": "__notebook__.ipynb",
   "output_path": "__notebook__.ipynb",
   "parameters": {},
   "start_time": "2022-07-18T14:37:50.630791",
   "version": "2.3.4"
  }
 },
 "nbformat": 4,
 "nbformat_minor": 5
}
