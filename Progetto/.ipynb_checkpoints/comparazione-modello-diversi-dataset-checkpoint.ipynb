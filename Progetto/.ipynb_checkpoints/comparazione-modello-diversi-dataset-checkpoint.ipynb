{
 "cells": [
  {
   "cell_type": "code",
   "execution_count": 1,
   "id": "9c347d6d",
   "metadata": {
    "_cell_guid": "b1076dfc-b9ad-4769-8c92-a6c4dae69d19",
    "_uuid": "8f2839f25d086af736a60e9eeb907d3b93b6e0e5",
    "execution": {
     "iopub.execute_input": "2022-06-22T14:43:48.395483Z",
     "iopub.status.busy": "2022-06-22T14:43:48.394889Z",
     "iopub.status.idle": "2022-06-22T14:43:57.366399Z",
     "shell.execute_reply": "2022-06-22T14:43:57.365556Z"
    },
    "papermill": {
     "duration": 8.994401,
     "end_time": "2022-06-22T14:43:57.368761",
     "exception": false,
     "start_time": "2022-06-22T14:43:48.374360",
     "status": "completed"
    },
    "tags": []
   },
   "outputs": [],
   "source": [
    "import zipfile\n",
    "import os\n",
    "import pandas as pd\n",
    "import tensorflow as tf\n",
    "from tensorflow import keras\n",
    "from keras import optimizers\n",
    "from keras import layers\n",
    "from keras.regularizers import l1\n",
    "from tensorflow.keras.preprocessing.image import ImageDataGenerator\n",
    "from tensorflow.keras.applications.vgg16 import preprocess_input\n",
    "from tensorflow.keras.preprocessing import image\n",
    "from tensorflow.keras.models import Model\n",
    "from keras.models import Sequential\n",
    "from keras.layers import Dense, GlobalAveragePooling2D, Dropout, Flatten, concatenate\n",
    "from tensorflow.keras import regularizers\n",
    "from keras.callbacks import EarlyStopping\n",
    "from keras.callbacks import ModelCheckpoint\n",
    "from keras.utils.vis_utils import plot_model\n",
    "import pylab as pl\n",
    "import numpy as np\n",
    "import matplotlib.image as mpimg\n",
    "import matplotlib.pyplot as plt\n",
    "import seaborn as sns\n",
    "from sklearn.model_selection import train_test_split\n",
    "from keras.utils import np_utils\n",
    "from sklearn.metrics import confusion_matrix\n",
    "from sklearn import preprocessing\n",
    "import itertools\n",
    "import math\n",
    "\n",
    "\n",
    "# audio lib\n",
    "import librosa\n",
    "import librosa.display\n",
    "from librosa.util import fix_length\n",
    "\n",
    "import IPython.display as ipd\n",
    "from PIL import Image"
   ]
  },
  {
   "cell_type": "code",
   "execution_count": 2,
   "id": "0d0e2148",
   "metadata": {
    "execution": {
     "iopub.execute_input": "2022-06-22T14:43:57.406583Z",
     "iopub.status.busy": "2022-06-22T14:43:57.405781Z",
     "iopub.status.idle": "2022-06-22T14:43:57.410068Z",
     "shell.execute_reply": "2022-06-22T14:43:57.409289Z"
    },
    "papermill": {
     "duration": 0.025207,
     "end_time": "2022-06-22T14:43:57.411797",
     "exception": false,
     "start_time": "2022-06-22T14:43:57.386590",
     "status": "completed"
    },
    "tags": []
   },
   "outputs": [],
   "source": [
    "import warnings\n",
    "warnings.filterwarnings(\"ignore\")"
   ]
  },
  {
   "cell_type": "markdown",
   "id": "5cd8abab",
   "metadata": {
    "papermill": {
     "duration": 0.017565,
     "end_time": "2022-06-22T14:43:57.447864",
     "exception": false,
     "start_time": "2022-06-22T14:43:57.430299",
     "status": "completed"
    },
    "tags": []
   },
   "source": [
    "# CNN MEL SPECTROGRAM APPROACH"
   ]
  },
  {
   "cell_type": "code",
   "execution_count": 3,
   "id": "4bf3eda9",
   "metadata": {
    "execution": {
     "iopub.execute_input": "2022-06-22T14:43:57.484264Z",
     "iopub.status.busy": "2022-06-22T14:43:57.483985Z",
     "iopub.status.idle": "2022-06-22T14:43:57.532792Z",
     "shell.execute_reply": "2022-06-22T14:43:57.532038Z"
    },
    "papermill": {
     "duration": 0.069996,
     "end_time": "2022-06-22T14:43:57.535263",
     "exception": false,
     "start_time": "2022-06-22T14:43:57.465267",
     "status": "completed"
    },
    "tags": []
   },
   "outputs": [
    {
     "data": {
      "text/html": [
       "<div>\n",
       "<style scoped>\n",
       "    .dataframe tbody tr th:only-of-type {\n",
       "        vertical-align: middle;\n",
       "    }\n",
       "\n",
       "    .dataframe tbody tr th {\n",
       "        vertical-align: top;\n",
       "    }\n",
       "\n",
       "    .dataframe thead th {\n",
       "        text-align: right;\n",
       "    }\n",
       "</style>\n",
       "<table border=\"1\" class=\"dataframe\">\n",
       "  <thead>\n",
       "    <tr style=\"text-align: right;\">\n",
       "      <th></th>\n",
       "      <th>ID_song</th>\n",
       "    </tr>\n",
       "  </thead>\n",
       "  <tbody>\n",
       "    <tr>\n",
       "      <th>0</th>\n",
       "      <td>1001</td>\n",
       "    </tr>\n",
       "    <tr>\n",
       "      <th>5</th>\n",
       "      <td>1002</td>\n",
       "    </tr>\n",
       "    <tr>\n",
       "      <th>9</th>\n",
       "      <td>1003</td>\n",
       "    </tr>\n",
       "    <tr>\n",
       "      <th>14</th>\n",
       "      <td>1004</td>\n",
       "    </tr>\n",
       "    <tr>\n",
       "      <th>19</th>\n",
       "      <td>1005</td>\n",
       "    </tr>\n",
       "    <tr>\n",
       "      <th>...</th>\n",
       "      <td>...</td>\n",
       "    </tr>\n",
       "    <tr>\n",
       "      <th>4088</th>\n",
       "      <td>1896</td>\n",
       "    </tr>\n",
       "    <tr>\n",
       "      <th>4092</th>\n",
       "      <td>1897</td>\n",
       "    </tr>\n",
       "    <tr>\n",
       "      <th>4096</th>\n",
       "      <td>1898</td>\n",
       "    </tr>\n",
       "    <tr>\n",
       "      <th>4101</th>\n",
       "      <td>1899</td>\n",
       "    </tr>\n",
       "    <tr>\n",
       "      <th>4106</th>\n",
       "      <td>1900</td>\n",
       "    </tr>\n",
       "  </tbody>\n",
       "</table>\n",
       "<p>900 rows × 1 columns</p>\n",
       "</div>"
      ],
      "text/plain": [
       "     ID_song\n",
       "0       1001\n",
       "5       1002\n",
       "9       1003\n",
       "14      1004\n",
       "19      1005\n",
       "...      ...\n",
       "4088    1896\n",
       "4092    1897\n",
       "4096    1898\n",
       "4101    1899\n",
       "4106    1900\n",
       "\n",
       "[900 rows x 1 columns]"
      ]
     },
     "execution_count": 3,
     "metadata": {},
     "output_type": "execute_result"
    }
   ],
   "source": [
    "df = pd.read_csv('../input/mel-4q/mel.csv')\n",
    "df['ID_song'] = df['ID'].astype(str).str[0:4]\n",
    "\n",
    "df_ID = pd.DataFrame()\n",
    "df_ID['ID_song'] = df['ID_song'].drop_duplicates()\n",
    "\n",
    "df_ID"
   ]
  },
  {
   "cell_type": "code",
   "execution_count": 4,
   "id": "3cf5401e",
   "metadata": {
    "execution": {
     "iopub.execute_input": "2022-06-22T14:43:57.571978Z",
     "iopub.status.busy": "2022-06-22T14:43:57.571698Z",
     "iopub.status.idle": "2022-06-22T14:43:57.583733Z",
     "shell.execute_reply": "2022-06-22T14:43:57.582865Z"
    },
    "papermill": {
     "duration": 0.032583,
     "end_time": "2022-06-22T14:43:57.585514",
     "exception": false,
     "start_time": "2022-06-22T14:43:57.552931",
     "status": "completed"
    },
    "tags": []
   },
   "outputs": [
    {
     "name": "stdout",
     "output_type": "stream",
     "text": [
      "(720,)\n",
      "(90,)\n",
      "(90,)\n"
     ]
    },
    {
     "data": {
      "text/plain": [
       "array(['1524', '1387', '1878', '1155', '1188', '1009', '1373', '1321',\n",
       "       '1857', '1412', '1020', '1389', '1635', '1018', '1632', '1035',\n",
       "       '1086', '1799', '1082', '1208', '1070', '1447', '1299', '1624',\n",
       "       '1742', '1559', '1364', '1278', '1528', '1890', '1502', '1239',\n",
       "       '1838', '1482', '1342', '1454', '1544', '1057', '1856', '1429',\n",
       "       '1494', '1542', '1118', '1872', '1434', '1195', '1711', '1595',\n",
       "       '1781', '1625', '1797', '1575', '1217', '1671', '1095', '1633',\n",
       "       '1658', '1652', '1522', '1295', '1881', '1085', '1415', '1683',\n",
       "       '1263', '1196', '1831', '1219', '1102', '1256', '1369', '1712',\n",
       "       '1585', '1243', '1787', '1578', '1556', '1206', '1004', '1409',\n",
       "       '1245', '1747', '1341', '1161', '1112', '1332', '1892', '1060',\n",
       "       '1492', '1734'], dtype=object)"
      ]
     },
     "execution_count": 4,
     "metadata": {},
     "output_type": "execute_result"
    }
   ],
   "source": [
    "ID_train, ID_test = train_test_split( np.array(df_ID['ID_song']), test_size=0.20, shuffle = True,  random_state=1)\n",
    "ID_test, ID_validation = train_test_split( ID_test, test_size=0.5, shuffle = True,  random_state=1)\n",
    "\n",
    "print(ID_train.shape)\n",
    "print(ID_test.shape)\n",
    "print(ID_validation.shape)\n",
    "ID_test"
   ]
  },
  {
   "cell_type": "code",
   "execution_count": 5,
   "id": "c7449f17",
   "metadata": {
    "execution": {
     "iopub.execute_input": "2022-06-22T14:43:57.624472Z",
     "iopub.status.busy": "2022-06-22T14:43:57.623797Z",
     "iopub.status.idle": "2022-06-22T14:43:58.593455Z",
     "shell.execute_reply": "2022-06-22T14:43:58.592752Z"
    },
    "papermill": {
     "duration": 0.991688,
     "end_time": "2022-06-22T14:43:58.596202",
     "exception": false,
     "start_time": "2022-06-22T14:43:57.604514",
     "status": "completed"
    },
    "tags": []
   },
   "outputs": [
    {
     "name": "stdout",
     "output_type": "stream",
     "text": [
      "(3287,)\n",
      "(416,)\n",
      "(408,)\n"
     ]
    },
    {
     "data": {
      "text/plain": [
       "array(['1524-0', '1524-1', '1524-2', '1524-3', '1524-4', '1387-0',\n",
       "       '1387-1', '1387-2', '1387-3', '1387-4', '1878-0', '1878-1',\n",
       "       '1878-2', '1878-3', '1155-0', '1155-1', '1155-2', '1155-3',\n",
       "       '1155-4', '1188-0', '1188-1', '1188-2', '1188-3', '1188-4',\n",
       "       '1009-0', '1009-1', '1009-2', '1009-3', '1009-4', '1373-0',\n",
       "       '1373-1', '1373-2', '1373-3', '1373-4', '1321-0', '1321-1',\n",
       "       '1321-2', '1321-3', '1321-4', '1857-0', '1857-1', '1857-2',\n",
       "       '1857-3', '1857-4', '1412-0', '1412-1', '1412-2', '1412-3',\n",
       "       '1412-4', '1020-0', '1020-1', '1020-2', '1020-3', '1020-4',\n",
       "       '1389-0', '1389-1', '1389-2', '1389-3', '1389-4', '1635-0',\n",
       "       '1635-1', '1635-2', '1635-3', '1018-0', '1018-1', '1018-2',\n",
       "       '1018-3', '1018-4', '1632-0', '1632-1', '1632-2', '1632-3',\n",
       "       '1035-0', '1035-1', '1035-2', '1035-3', '1035-4', '1086-0',\n",
       "       '1086-1', '1086-2', '1086-3', '1086-4', '1799-0', '1799-1',\n",
       "       '1799-2', '1799-3', '1082-0', '1082-1', '1082-2', '1082-3',\n",
       "       '1082-4', '1208-0', '1208-1', '1208-2', '1208-3', '1070-0',\n",
       "       '1070-1', '1070-2', '1070-3', '1070-4'], dtype='<U6')"
      ]
     },
     "execution_count": 5,
     "metadata": {},
     "output_type": "execute_result"
    }
   ],
   "source": [
    "y_train_ID = []\n",
    "y_test_ID = []\n",
    "y_validation_ID = []\n",
    "\n",
    "for i in ID_train:\n",
    "    if (i + '-0') in df['ID'].values:\n",
    "        y_train_ID.append(i + '-0')\n",
    "    if (i + '-1') in df['ID'].values:\n",
    "        y_train_ID.append(i + '-1')\n",
    "    if (i + '-2') in df['ID'].values:\n",
    "        y_train_ID.append(i + '-2')\n",
    "    if (i + '-3') in df['ID'].values:\n",
    "        y_train_ID.append(i + '-3')\n",
    "    if (i + '-4') in df['ID'].values:\n",
    "        y_train_ID.append(i + '-4')\n",
    "\n",
    "for i in ID_test:\n",
    "    if (i + '-0') in df['ID'].values:\n",
    "        y_test_ID.append(i + '-0')\n",
    "    if (i + '-1') in df['ID'].values:\n",
    "        y_test_ID.append(i + '-1')\n",
    "    if (i + '-2') in df['ID'].values:\n",
    "        y_test_ID.append(i + '-2')\n",
    "    if (i + '-3') in df['ID'].values:\n",
    "        y_test_ID.append(i + '-3')\n",
    "    if (i + '-4') in df['ID'].values:\n",
    "        y_test_ID.append(i + '-4')\n",
    "        \n",
    "for i in ID_validation:\n",
    "    if (i + '-0') in df['ID'].values:\n",
    "        y_validation_ID.append(i + '-0')\n",
    "    if (i + '-1') in df['ID'].values:\n",
    "        y_validation_ID.append(i + '-1')\n",
    "    if (i + '-2') in df['ID'].values:\n",
    "        y_validation_ID.append(i + '-2')\n",
    "    if (i + '-3') in df['ID'].values:\n",
    "        y_validation_ID.append(i + '-3')\n",
    "    if (i + '-4') in df['ID'].values:\n",
    "        y_validation_ID.append(i + '-4')\n",
    "        \n",
    "y_train_ID = np.array(y_train_ID)\n",
    "y_test_ID = np.array(y_test_ID)\n",
    "y_validation_ID = np.array(y_validation_ID)\n",
    "\n",
    "print(y_train_ID.shape)\n",
    "print(y_test_ID.shape)\n",
    "print(y_validation_ID.shape)\n",
    "y_test_ID[:100]"
   ]
  },
  {
   "cell_type": "code",
   "execution_count": 6,
   "id": "702a5867",
   "metadata": {
    "execution": {
     "iopub.execute_input": "2022-06-22T14:43:58.638639Z",
     "iopub.status.busy": "2022-06-22T14:43:58.638373Z",
     "iopub.status.idle": "2022-06-22T14:44:46.612946Z",
     "shell.execute_reply": "2022-06-22T14:44:46.612211Z"
    },
    "papermill": {
     "duration": 48.018236,
     "end_time": "2022-06-22T14:44:46.634392",
     "exception": false,
     "start_time": "2022-06-22T14:43:58.616156",
     "status": "completed"
    },
    "tags": []
   },
   "outputs": [
    {
     "name": "stdout",
     "output_type": "stream",
     "text": [
      "(3287, 300, 300, 3)\n",
      "(416, 300, 300, 3)\n",
      "(408, 300, 300, 3)\n"
     ]
    }
   ],
   "source": [
    "path = '../input/mel-4q/melspectrogram_dataset/'\n",
    "\n",
    "\n",
    "# Load the images and the labels\n",
    "x_train = []\n",
    "x_test = []\n",
    "x_validation = []\n",
    "\n",
    "for img in y_train_ID:\n",
    "\n",
    "    pic = image.load_img((path + img + '.png'))\n",
    "    x_train.append(np.array(pic))\n",
    "\n",
    "\n",
    "for img in y_test_ID:\n",
    "\n",
    "    pic = image.load_img((path + img + '.png'))\n",
    "    x_test.append(np.array(pic))\n",
    "\n",
    "        \n",
    "for img in y_validation_ID:\n",
    "\n",
    "    pic = image.load_img((path + img + '.png'))\n",
    "    x_validation.append(np.array(pic))\n",
    "\n",
    "    \n",
    "x_train = np.array(x_train)\n",
    "x_test = np.array(x_test)\n",
    "x_validation = np.array(x_validation)\n",
    "\n",
    "print(x_train.shape)\n",
    "print(x_test.shape)\n",
    "print(x_validation.shape)"
   ]
  },
  {
   "cell_type": "code",
   "execution_count": 7,
   "id": "07e7f13c",
   "metadata": {
    "execution": {
     "iopub.execute_input": "2022-06-22T14:44:46.675908Z",
     "iopub.status.busy": "2022-06-22T14:44:46.675655Z",
     "iopub.status.idle": "2022-06-22T14:44:50.728491Z",
     "shell.execute_reply": "2022-06-22T14:44:50.727786Z"
    },
    "papermill": {
     "duration": 4.076089,
     "end_time": "2022-06-22T14:44:50.730978",
     "exception": false,
     "start_time": "2022-06-22T14:44:46.654889",
     "status": "completed"
    },
    "tags": []
   },
   "outputs": [
    {
     "name": "stdout",
     "output_type": "stream",
     "text": [
      "(3287,)\n",
      "(416,)\n",
      "(408,)\n"
     ]
    }
   ],
   "source": [
    "y_train = []\n",
    "y_test = []\n",
    "y_validation = []\n",
    "\n",
    "for i in y_train_ID:\n",
    "    \n",
    "    row = df.loc[df['ID'] == i]\n",
    "    y_train.append(row['Label'].iloc[0])\n",
    "\n",
    "for i in y_test_ID:\n",
    "    \n",
    "    row = df.loc[df['ID'] == i]\n",
    "    y_test.append(row['Label'].iloc[0])\n",
    "\n",
    "\n",
    "for i in y_validation_ID:\n",
    "    \n",
    "    row = df.loc[df['ID'] == i]\n",
    "    y_validation.append(row['Label'].iloc[0])\n",
    "    \n",
    "    \n",
    "    \n",
    "y_train = np.array(y_train)\n",
    "y_test = np.array(y_test)\n",
    "y_validation = np.array(y_validation)\n",
    "\n",
    "print(y_train.shape)\n",
    "print(y_test.shape)\n",
    "print(y_validation.shape)"
   ]
  },
  {
   "cell_type": "code",
   "execution_count": 8,
   "id": "5aac4fcb",
   "metadata": {
    "execution": {
     "iopub.execute_input": "2022-06-22T14:44:50.777237Z",
     "iopub.status.busy": "2022-06-22T14:44:50.776581Z",
     "iopub.status.idle": "2022-06-22T14:44:56.936752Z",
     "shell.execute_reply": "2022-06-22T14:44:56.936010Z"
    },
    "papermill": {
     "duration": 6.185918,
     "end_time": "2022-06-22T14:44:56.938898",
     "exception": false,
     "start_time": "2022-06-22T14:44:50.752980",
     "status": "completed"
    },
    "tags": []
   },
   "outputs": [
    {
     "name": "stderr",
     "output_type": "stream",
     "text": [
      "2022-06-22 14:44:50.907651: I tensorflow/stream_executor/cuda/cuda_gpu_executor.cc:937] successful NUMA node read from SysFS had negative value (-1), but there must be at least one NUMA node, so returning NUMA node zero\n",
      "2022-06-22 14:44:51.021240: I tensorflow/stream_executor/cuda/cuda_gpu_executor.cc:937] successful NUMA node read from SysFS had negative value (-1), but there must be at least one NUMA node, so returning NUMA node zero\n",
      "2022-06-22 14:44:51.022137: I tensorflow/stream_executor/cuda/cuda_gpu_executor.cc:937] successful NUMA node read from SysFS had negative value (-1), but there must be at least one NUMA node, so returning NUMA node zero\n",
      "2022-06-22 14:44:51.023796: I tensorflow/core/platform/cpu_feature_guard.cc:142] This TensorFlow binary is optimized with oneAPI Deep Neural Network Library (oneDNN) to use the following CPU instructions in performance-critical operations:  AVX2 AVX512F FMA\n",
      "To enable them in other operations, rebuild TensorFlow with the appropriate compiler flags.\n",
      "2022-06-22 14:44:51.024153: I tensorflow/stream_executor/cuda/cuda_gpu_executor.cc:937] successful NUMA node read from SysFS had negative value (-1), but there must be at least one NUMA node, so returning NUMA node zero\n",
      "2022-06-22 14:44:51.025123: I tensorflow/stream_executor/cuda/cuda_gpu_executor.cc:937] successful NUMA node read from SysFS had negative value (-1), but there must be at least one NUMA node, so returning NUMA node zero\n",
      "2022-06-22 14:44:51.026236: I tensorflow/stream_executor/cuda/cuda_gpu_executor.cc:937] successful NUMA node read from SysFS had negative value (-1), but there must be at least one NUMA node, so returning NUMA node zero\n",
      "2022-06-22 14:44:53.612714: I tensorflow/stream_executor/cuda/cuda_gpu_executor.cc:937] successful NUMA node read from SysFS had negative value (-1), but there must be at least one NUMA node, so returning NUMA node zero\n",
      "2022-06-22 14:44:53.613940: I tensorflow/stream_executor/cuda/cuda_gpu_executor.cc:937] successful NUMA node read from SysFS had negative value (-1), but there must be at least one NUMA node, so returning NUMA node zero\n",
      "2022-06-22 14:44:53.615167: I tensorflow/stream_executor/cuda/cuda_gpu_executor.cc:937] successful NUMA node read from SysFS had negative value (-1), but there must be at least one NUMA node, so returning NUMA node zero\n",
      "2022-06-22 14:44:53.616987: I tensorflow/core/common_runtime/gpu/gpu_device.cc:1510] Created device /job:localhost/replica:0/task:0/device:GPU:0 with 15403 MB memory:  -> device: 0, name: Tesla P100-PCIE-16GB, pci bus id: 0000:00:04.0, compute capability: 6.0\n"
     ]
    },
    {
     "name": "stdout",
     "output_type": "stream",
     "text": [
      "Downloading data from https://storage.googleapis.com/keras-applications/efficientnetb3_notop.h5\n",
      "43941888/43941136 [==============================] - 0s 0us/step\n",
      "43950080/43941136 [==============================] - 0s 0us/step\n"
     ]
    }
   ],
   "source": [
    "# Load a pre-trained neural network to use for transfer learning\n",
    "base_net = keras.applications.EfficientNetB3(\n",
    "    input_shape=(300,300,3),\n",
    "    weights='imagenet',\n",
    "    include_top=False,\n",
    "    drop_connect_rate=0.4,\n",
    "    pooling='avg'\n",
    ")\n",
    "\n",
    "# Set the layers of the base net to not be trained\n",
    "for layer in base_net.layers:\n",
    "  layer.trainable=True"
   ]
  },
  {
   "cell_type": "code",
   "execution_count": 9,
   "id": "6dd6a6ba",
   "metadata": {
    "execution": {
     "iopub.execute_input": "2022-06-22T14:44:56.986918Z",
     "iopub.status.busy": "2022-06-22T14:44:56.986441Z",
     "iopub.status.idle": "2022-06-22T14:44:57.072584Z",
     "shell.execute_reply": "2022-06-22T14:44:57.071776Z"
    },
    "papermill": {
     "duration": 0.111976,
     "end_time": "2022-06-22T14:44:57.074681",
     "exception": false,
     "start_time": "2022-06-22T14:44:56.962705",
     "status": "completed"
    },
    "tags": []
   },
   "outputs": [],
   "source": [
    "x = Flatten()(base_net.layers[-1].output)\n",
    "x = keras.layers.Dense(1024, activation='relu')(x)\n",
    "x = keras.layers.Dropout(0.5)(x)\n",
    "x = keras.layers.Dense(512, activation='relu')(x)\n",
    "x = keras.layers.Dropout(0.3)(x)\n",
    "x = keras.layers.Dense(128, activation='relu')(x)\n",
    "x = keras.layers.Dropout(0.1)(x)\n",
    "x = keras.layers.Dense(4, activation='softmax')(x)\n",
    "outputs = x\n",
    "\n",
    "OPT = tf.keras.optimizers.Adam()\n",
    "\n",
    "cnn = keras.Model(inputs=base_net.inputs, outputs=outputs)\n",
    "cnn.compile(loss='sparse_categorical_crossentropy', optimizer=OPT, metrics=['accuracy'])\n",
    "\n",
    "#cnn.summary()"
   ]
  },
  {
   "cell_type": "code",
   "execution_count": 10,
   "id": "a1fd971d",
   "metadata": {
    "execution": {
     "iopub.execute_input": "2022-06-22T14:44:57.121604Z",
     "iopub.status.busy": "2022-06-22T14:44:57.121343Z",
     "iopub.status.idle": "2022-06-22T14:44:57.125145Z",
     "shell.execute_reply": "2022-06-22T14:44:57.124499Z"
    },
    "papermill": {
     "duration": 0.02957,
     "end_time": "2022-06-22T14:44:57.126900",
     "exception": false,
     "start_time": "2022-06-22T14:44:57.097330",
     "status": "completed"
    },
    "tags": []
   },
   "outputs": [],
   "source": [
    "filepath_cnn=\"weights.cnn.hdf5\"\n",
    "checkpoint = ModelCheckpoint(filepath_cnn, monitor='val_accuracy', verbose=1, save_best_only=True, mode='max')"
   ]
  },
  {
   "cell_type": "code",
   "execution_count": 11,
   "id": "a6524108",
   "metadata": {
    "execution": {
     "iopub.execute_input": "2022-06-22T14:44:57.173498Z",
     "iopub.status.busy": "2022-06-22T14:44:57.173187Z",
     "iopub.status.idle": "2022-06-22T15:10:54.692704Z",
     "shell.execute_reply": "2022-06-22T15:10:54.691965Z"
    },
    "papermill": {
     "duration": 1557.545057,
     "end_time": "2022-06-22T15:10:54.694728",
     "exception": false,
     "start_time": "2022-06-22T14:44:57.149671",
     "status": "completed"
    },
    "tags": []
   },
   "outputs": [
    {
     "name": "stderr",
     "output_type": "stream",
     "text": [
      "2022-06-22 14:44:57.181190: W tensorflow/core/framework/cpu_allocator_impl.cc:80] Allocation of 887490000 exceeds 10% of free system memory.\n",
      "2022-06-22 14:44:58.122702: W tensorflow/core/framework/cpu_allocator_impl.cc:80] Allocation of 887490000 exceeds 10% of free system memory.\n",
      "2022-06-22 14:44:58.806568: I tensorflow/compiler/mlir/mlir_graph_optimization_pass.cc:185] None of the MLIR Optimization Passes are enabled (registered 2)\n"
     ]
    },
    {
     "name": "stdout",
     "output_type": "stream",
     "text": [
      "Epoch 1/20\n"
     ]
    },
    {
     "name": "stderr",
     "output_type": "stream",
     "text": [
      "2022-06-22 14:45:13.353718: I tensorflow/stream_executor/cuda/cuda_dnn.cc:369] Loaded cuDNN version 8005\n"
     ]
    },
    {
     "name": "stdout",
     "output_type": "stream",
     "text": [
      "103/103 [==============================] - 102s 775ms/step - loss: 1.0083 - accuracy: 0.5634 - val_loss: 0.9749 - val_accuracy: 0.5882\n",
      "\n",
      "Epoch 00001: val_accuracy improved from -inf to 0.58824, saving model to weights.cnn.hdf5\n",
      "Epoch 2/20\n",
      "103/103 [==============================] - 77s 753ms/step - loss: 0.8287 - accuracy: 0.6523 - val_loss: 0.7994 - val_accuracy: 0.6765\n",
      "\n",
      "Epoch 00002: val_accuracy improved from 0.58824 to 0.67647, saving model to weights.cnn.hdf5\n",
      "Epoch 3/20\n",
      "103/103 [==============================] - 76s 741ms/step - loss: 0.7374 - accuracy: 0.6955 - val_loss: 1.0849 - val_accuracy: 0.5662\n",
      "\n",
      "Epoch 00003: val_accuracy did not improve from 0.67647\n",
      "Epoch 4/20\n",
      "103/103 [==============================] - 76s 741ms/step - loss: 0.6499 - accuracy: 0.7481 - val_loss: 1.1935 - val_accuracy: 0.6201\n",
      "\n",
      "Epoch 00004: val_accuracy did not improve from 0.67647\n",
      "Epoch 5/20\n",
      "103/103 [==============================] - 76s 741ms/step - loss: 0.6114 - accuracy: 0.7627 - val_loss: 0.9699 - val_accuracy: 0.6324\n",
      "\n",
      "Epoch 00005: val_accuracy did not improve from 0.67647\n",
      "Epoch 6/20\n",
      "103/103 [==============================] - 76s 741ms/step - loss: 0.4901 - accuracy: 0.8159 - val_loss: 1.3372 - val_accuracy: 0.6348\n",
      "\n",
      "Epoch 00006: val_accuracy did not improve from 0.67647\n",
      "Epoch 7/20\n",
      "103/103 [==============================] - 76s 741ms/step - loss: 0.4069 - accuracy: 0.8515 - val_loss: 0.9384 - val_accuracy: 0.7353\n",
      "\n",
      "Epoch 00007: val_accuracy improved from 0.67647 to 0.73529, saving model to weights.cnn.hdf5\n",
      "Epoch 8/20\n",
      "103/103 [==============================] - 76s 741ms/step - loss: 0.3734 - accuracy: 0.8643 - val_loss: 1.2121 - val_accuracy: 0.6569\n",
      "\n",
      "Epoch 00008: val_accuracy did not improve from 0.73529\n",
      "Epoch 9/20\n",
      "103/103 [==============================] - 76s 741ms/step - loss: 0.2949 - accuracy: 0.8978 - val_loss: 2.0444 - val_accuracy: 0.5711\n",
      "\n",
      "Epoch 00009: val_accuracy did not improve from 0.73529\n",
      "Epoch 10/20\n",
      "103/103 [==============================] - 76s 740ms/step - loss: 0.2504 - accuracy: 0.9179 - val_loss: 1.1557 - val_accuracy: 0.6863\n",
      "\n",
      "Epoch 00010: val_accuracy did not improve from 0.73529\n",
      "Epoch 11/20\n",
      "103/103 [==============================] - 76s 742ms/step - loss: 0.2448 - accuracy: 0.9163 - val_loss: 2.3963 - val_accuracy: 0.6887\n",
      "\n",
      "Epoch 00011: val_accuracy did not improve from 0.73529\n",
      "Epoch 12/20\n",
      "103/103 [==============================] - 76s 742ms/step - loss: 0.2201 - accuracy: 0.9264 - val_loss: 1.6087 - val_accuracy: 0.6176\n",
      "\n",
      "Epoch 00012: val_accuracy did not improve from 0.73529\n",
      "Epoch 13/20\n",
      "103/103 [==============================] - 76s 738ms/step - loss: 0.1973 - accuracy: 0.9364 - val_loss: 1.0186 - val_accuracy: 0.7034\n",
      "\n",
      "Epoch 00013: val_accuracy did not improve from 0.73529\n",
      "Epoch 14/20\n",
      "103/103 [==============================] - 76s 738ms/step - loss: 0.1468 - accuracy: 0.9531 - val_loss: 2.3427 - val_accuracy: 0.4730\n",
      "\n",
      "Epoch 00014: val_accuracy did not improve from 0.73529\n",
      "Epoch 15/20\n",
      "103/103 [==============================] - 76s 741ms/step - loss: 0.1867 - accuracy: 0.9385 - val_loss: 1.6400 - val_accuracy: 0.6005\n",
      "\n",
      "Epoch 00015: val_accuracy did not improve from 0.73529\n",
      "Epoch 16/20\n",
      "103/103 [==============================] - 76s 742ms/step - loss: 0.1095 - accuracy: 0.9617 - val_loss: 1.6273 - val_accuracy: 0.6471\n",
      "\n",
      "Epoch 00016: val_accuracy did not improve from 0.73529\n",
      "Epoch 17/20\n",
      "103/103 [==============================] - 76s 741ms/step - loss: 0.1273 - accuracy: 0.9595 - val_loss: 1.5497 - val_accuracy: 0.6936\n",
      "\n",
      "Epoch 00017: val_accuracy did not improve from 0.73529\n",
      "Epoch 18/20\n",
      "103/103 [==============================] - 76s 737ms/step - loss: 0.1127 - accuracy: 0.9656 - val_loss: 1.5183 - val_accuracy: 0.6716\n",
      "\n",
      "Epoch 00018: val_accuracy did not improve from 0.73529\n",
      "Epoch 19/20\n",
      "103/103 [==============================] - 76s 740ms/step - loss: 0.1229 - accuracy: 0.9614 - val_loss: 1.4066 - val_accuracy: 0.6863\n",
      "\n",
      "Epoch 00019: val_accuracy did not improve from 0.73529\n",
      "Epoch 20/20\n",
      "103/103 [==============================] - 76s 742ms/step - loss: 0.1200 - accuracy: 0.9635 - val_loss: 1.8733 - val_accuracy: 0.5809\n",
      "\n",
      "Epoch 00020: val_accuracy did not improve from 0.73529\n"
     ]
    }
   ],
   "source": [
    "hist_cnn = cnn.fit(x_train, y_train, epochs=20, validation_data=(x_validation, y_validation),\n",
    "                   callbacks=[checkpoint])"
   ]
  },
  {
   "cell_type": "code",
   "execution_count": 12,
   "id": "32604851",
   "metadata": {
    "execution": {
     "iopub.execute_input": "2022-06-22T15:10:56.518131Z",
     "iopub.status.busy": "2022-06-22T15:10:56.517760Z",
     "iopub.status.idle": "2022-06-22T15:10:57.702394Z",
     "shell.execute_reply": "2022-06-22T15:10:57.701482Z"
    },
    "papermill": {
     "duration": 2.317149,
     "end_time": "2022-06-22T15:10:57.704441",
     "exception": false,
     "start_time": "2022-06-22T15:10:55.387292",
     "status": "completed"
    },
    "tags": []
   },
   "outputs": [
    {
     "data": {
      "image/png": "[encoded data removed]",
      "text/plain": [
       "<Figure size 432x288 with 1 Axes>"
      ]
     },
     "metadata": {
      "needs_background": "light"
     },
     "output_type": "display_data"
    },
    {
     "data": {
      "image/png": "[encoded data removed]",
      "text/plain": [
       "<Figure size 432x288 with 1 Axes>"
      ]
     },
     "metadata": {
      "needs_background": "light"
     },
     "output_type": "display_data"
    }
   ],
   "source": [
    "def plot_hist(hist, title):\n",
    "    plt.plot(hist.history[\"accuracy\"])\n",
    "    plt.plot(hist.history[\"val_accuracy\"])\n",
    "    plt.title(\"Accuracy \" + title)\n",
    "    plt.ylabel(\"accuracy\")\n",
    "    plt.xlabel(\"epoch\")\n",
    "    plt.legend([\"train\", \"validation\"], loc=\"upper left\")\n",
    "    plt.show()\n",
    "    \n",
    "    # summarize history for loss\n",
    "    plt.plot(hist.history['loss'])\n",
    "    plt.plot(hist.history['val_loss'])\n",
    "    plt.title(\"LOSS \" + title)\n",
    "    plt.ylabel('loss')\n",
    "    plt.xlabel('epoch')\n",
    "    plt.legend(['train', 'validation'], loc='upper left')\n",
    "    plt.show()\n",
    "\n",
    "\n",
    "plot_hist(hist_cnn, title=\"Efficient-Net B3\")"
   ]
  },
  {
   "cell_type": "code",
   "execution_count": 13,
   "id": "d8446a2d",
   "metadata": {
    "execution": {
     "iopub.execute_input": "2022-06-22T15:10:59.258472Z",
     "iopub.status.busy": "2022-06-22T15:10:59.258164Z",
     "iopub.status.idle": "2022-06-22T15:11:03.009223Z",
     "shell.execute_reply": "2022-06-22T15:11:03.008439Z"
    },
    "papermill": {
     "duration": 4.51954,
     "end_time": "2022-06-22T15:11:03.011147",
     "exception": false,
     "start_time": "2022-06-22T15:10:58.491607",
     "status": "completed"
    },
    "tags": []
   },
   "outputs": [
    {
     "name": "stdout",
     "output_type": "stream",
     "text": [
      "13/13 - 4s - loss: 1.4497 - accuracy: 0.6178\n",
      "\n",
      "Test accuracy: 0.6177884340286255\n"
     ]
    }
   ],
   "source": [
    "test_loss, test_acc = cnn.evaluate(x_test, y_test, verbose=2)\n",
    "print('\\nTest accuracy:', test_acc)"
   ]
  },
  {
   "cell_type": "markdown",
   "id": "07e2749d",
   "metadata": {
    "papermill": {
     "duration": 0.734054,
     "end_time": "2022-06-22T15:11:04.463327",
     "exception": false,
     "start_time": "2022-06-22T15:11:03.729273",
     "status": "completed"
    },
    "tags": []
   },
   "source": [
    "# Verifica su altri dataset"
   ]
  },
  {
   "cell_type": "code",
   "execution_count": 14,
   "id": "764ebba6",
   "metadata": {
    "execution": {
     "iopub.execute_input": "2022-06-22T15:11:05.925889Z",
     "iopub.status.busy": "2022-06-22T15:11:05.925608Z",
     "iopub.status.idle": "2022-06-22T15:11:05.930861Z",
     "shell.execute_reply": "2022-06-22T15:11:05.930114Z"
    },
    "papermill": {
     "duration": 0.742367,
     "end_time": "2022-06-22T15:11:05.932768",
     "exception": false,
     "start_time": "2022-06-22T15:11:05.190401",
     "status": "completed"
    },
    "tags": []
   },
   "outputs": [],
   "source": [
    "import re\n",
    "def sorted_alphanumeric(data):\n",
    "    convert = lambda text: int(text) if text.isdigit() else text.lower()\n",
    "    alphanum_key = lambda key: [ convert(c) for c in re.split('([0-9]+)', key) ] \n",
    "    return sorted(data, key=alphanum_key)"
   ]
  },
  {
   "cell_type": "code",
   "execution_count": 15,
   "id": "63584922",
   "metadata": {
    "execution": {
     "iopub.execute_input": "2022-06-22T15:11:07.373711Z",
     "iopub.status.busy": "2022-06-22T15:11:07.373267Z",
     "iopub.status.idle": "2022-06-22T15:11:50.824907Z",
     "shell.execute_reply": "2022-06-22T15:11:50.824143Z"
    },
    "papermill": {
     "duration": 44.931103,
     "end_time": "2022-06-22T15:11:51.589846",
     "exception": false,
     "start_time": "2022-06-22T15:11:06.658743",
     "status": "completed"
    },
    "tags": []
   },
   "outputs": [
    {
     "name": "stdout",
     "output_type": "stream",
     "text": [
      "(3743, 300, 300, 3)\n",
      "(1990, 300, 300, 3)\n"
     ]
    }
   ],
   "source": [
    "path1 = '../input/mel-pmemo/melspectrogram_dataset/'\n",
    "path2 = '../input/mel-emotify/melspectrogram_dataset/'\n",
    "\n",
    "# Load the images and the labels\n",
    "imgs1 = []\n",
    "imgs2 = []\n",
    "\n",
    "dirlist1 = sorted_alphanumeric(os.listdir(path1))\n",
    "dirlist2 = sorted_alphanumeric(os.listdir(path2))\n",
    "\n",
    "\n",
    "for img in dirlist1:\n",
    "    \n",
    "    pic = image.load_img((path1 + img))\n",
    "    imgs1.append(np.array(pic))\n",
    "    \n",
    "\n",
    "for img in dirlist2:\n",
    "    pic = image.load_img((path2 + img))\n",
    "    imgs2.append(np.array(pic))\n",
    "      \n",
    "        \n",
    "imgs1 = np.array(imgs1)\n",
    "imgs2 = np.array(imgs2)\n",
    "\n",
    "print(imgs1.shape)\n",
    "print(imgs2.shape)"
   ]
  },
  {
   "cell_type": "code",
   "execution_count": 16,
   "id": "fdac3eb9",
   "metadata": {
    "execution": {
     "iopub.execute_input": "2022-06-22T15:11:53.148157Z",
     "iopub.status.busy": "2022-06-22T15:11:53.147599Z",
     "iopub.status.idle": "2022-06-22T15:11:53.171280Z",
     "shell.execute_reply": "2022-06-22T15:11:53.170198Z"
    },
    "papermill": {
     "duration": 0.708776,
     "end_time": "2022-06-22T15:11:53.173173",
     "exception": false,
     "start_time": "2022-06-22T15:11:52.464397",
     "status": "completed"
    },
    "tags": []
   },
   "outputs": [
    {
     "name": "stdout",
     "output_type": "stream",
     "text": [
      "(3743,)\n",
      "(1990,)\n"
     ]
    }
   ],
   "source": [
    "df1 = pd.read_csv('../input/mel-pmemo/mel.csv')\n",
    "df2 = pd.read_csv('../input/mel-emotify/mel.csv')\n",
    "\n",
    "Y1 = np.array(df1['Label'])\n",
    "print(Y1.shape)\n",
    "\n",
    "Y2 = np.array(df2['Label'])\n",
    "print(Y2.shape)"
   ]
  },
  {
   "cell_type": "code",
   "execution_count": 17,
   "id": "5b6d7a18",
   "metadata": {
    "execution": {
     "iopub.execute_input": "2022-06-22T15:11:54.615909Z",
     "iopub.status.busy": "2022-06-22T15:11:54.615620Z",
     "iopub.status.idle": "2022-06-22T15:12:16.860997Z",
     "shell.execute_reply": "2022-06-22T15:12:16.859780Z"
    },
    "papermill": {
     "duration": 22.98353,
     "end_time": "2022-06-22T15:12:16.862922",
     "exception": false,
     "start_time": "2022-06-22T15:11:53.879392",
     "status": "completed"
    },
    "tags": []
   },
   "outputs": [
    {
     "name": "stderr",
     "output_type": "stream",
     "text": [
      "2022-06-22 15:11:54.618685: W tensorflow/core/framework/cpu_allocator_impl.cc:80] Allocation of 1010610000 exceeds 10% of free system memory.\n",
      "2022-06-22 15:11:55.632982: W tensorflow/core/framework/cpu_allocator_impl.cc:80] Allocation of 1010610000 exceeds 10% of free system memory.\n"
     ]
    },
    {
     "name": "stdout",
     "output_type": "stream",
     "text": [
      "PMEmo - accuracy: 0.6013892889022827 \n",
      "\n"
     ]
    }
   ],
   "source": [
    "score = cnn.evaluate(imgs1, Y1, verbose=0)\n",
    "print('PMEmo - accuracy:', score[1],\"\\n\")"
   ]
  },
  {
   "cell_type": "code",
   "execution_count": 18,
   "id": "1dda8024",
   "metadata": {
    "execution": {
     "iopub.execute_input": "2022-06-22T15:12:18.234076Z",
     "iopub.status.busy": "2022-06-22T15:12:18.233819Z",
     "iopub.status.idle": "2022-06-22T15:12:29.182711Z",
     "shell.execute_reply": "2022-06-22T15:12:29.181871Z"
    },
    "papermill": {
     "duration": 11.640665,
     "end_time": "2022-06-22T15:12:29.184695",
     "exception": false,
     "start_time": "2022-06-22T15:12:17.544030",
     "status": "completed"
    },
    "tags": []
   },
   "outputs": [
    {
     "name": "stdout",
     "output_type": "stream",
     "text": [
      "Emotify - accuracy: 0.5512562990188599 \n",
      "\n"
     ]
    }
   ],
   "source": [
    "score = cnn.evaluate(imgs2, Y2, verbose=0)\n",
    "print('Emotify - accuracy:', score[1],\"\\n\")"
   ]
  }
 ],
 "metadata": {
  "kernelspec": {
   "display_name": "Python 3",
   "language": "python",
   "name": "python3"
  },
  "language_info": {
   "codemirror_mode": {
    "name": "ipython",
    "version": 3
   },
   "file_extension": ".py",
   "mimetype": "text/x-python",
   "name": "python",
   "nbconvert_exporter": "python",
   "pygments_lexer": "ipython3",
   "version": "3.8.7"
  },
  "papermill": {
   "default_parameters": {},
   "duration": 1733.622857,
   "end_time": "2022-06-22T15:12:33.006635",
   "environment_variables": {},
   "exception": null,
   "input_path": "__notebook__.ipynb",
   "output_path": "__notebook__.ipynb",
   "parameters": {},
   "start_time": "2022-06-22T14:43:39.383778",
   "version": "2.3.4"
  }
 },
 "nbformat": 4,
 "nbformat_minor": 5
}
