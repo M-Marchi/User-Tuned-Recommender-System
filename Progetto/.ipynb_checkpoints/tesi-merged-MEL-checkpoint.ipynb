{
 "cells": [
  {
   "cell_type": "code",
   "execution_count": 1,
   "id": "ede43773",
   "metadata": {
    "_cell_guid": "b1076dfc-b9ad-4769-8c92-a6c4dae69d19",
    "_uuid": "8f2839f25d086af736a60e9eeb907d3b93b6e0e5",
    "execution": {
     "iopub.execute_input": "2022-05-01T18:33:51.366221Z",
     "iopub.status.busy": "2022-05-01T18:33:51.365613Z",
     "iopub.status.idle": "2022-05-01T18:33:58.229025Z",
     "shell.execute_reply": "2022-05-01T18:33:58.228166Z"
    },
    "papermill": {
     "duration": 6.880949,
     "end_time": "2022-05-01T18:33:58.231445",
     "exception": false,
     "start_time": "2022-05-01T18:33:51.350496",
     "status": "completed"
    },
    "tags": []
   },
   "outputs": [],
   "source": [
    "import zipfile\n",
    "import os\n",
    "import pandas as pd\n",
    "import tensorflow as tf\n",
    "from tensorflow import keras\n",
    "from keras import optimizers\n",
    "from keras import layers\n",
    "from keras.regularizers import l2\n",
    "from tensorflow.keras.preprocessing.image import ImageDataGenerator\n",
    "from tensorflow.keras.applications.vgg16 import preprocess_input\n",
    "from tensorflow.keras.preprocessing import image\n",
    "from tensorflow.keras.models import Model\n",
    "from keras.models import Sequential\n",
    "from keras.layers import Dense, GlobalAveragePooling2D, Dropout, Flatten, concatenate\n",
    "from tensorflow.keras import regularizers\n",
    "from keras.callbacks import EarlyStopping\n",
    "from keras.callbacks import ModelCheckpoint\n",
    "from keras.utils.vis_utils import plot_model\n",
    "import pylab as pl\n",
    "import numpy as np\n",
    "import matplotlib.image as mpimg\n",
    "import matplotlib.pyplot as plt\n",
    "import seaborn as sns\n",
    "from sklearn.model_selection import train_test_split\n",
    "from keras.utils import np_utils\n",
    "from sklearn import preprocessing\n",
    "import math\n",
    "\n",
    "\n",
    "# audio lib\n",
    "import librosa\n",
    "import librosa.display\n",
    "from librosa.util import fix_length\n",
    "\n",
    "import IPython.display as ipd\n",
    "from PIL import Image\n"
   ]
  },
  {
   "cell_type": "code",
   "execution_count": 2,
   "id": "beb29e24",
   "metadata": {
    "execution": {
     "iopub.execute_input": "2022-05-01T18:33:58.258342Z",
     "iopub.status.busy": "2022-05-01T18:33:58.258051Z",
     "iopub.status.idle": "2022-05-01T18:33:58.261851Z",
     "shell.execute_reply": "2022-05-01T18:33:58.261213Z"
    },
    "papermill": {
     "duration": 0.019416,
     "end_time": "2022-05-01T18:33:58.263493",
     "exception": false,
     "start_time": "2022-05-01T18:33:58.244077",
     "status": "completed"
    },
    "tags": []
   },
   "outputs": [],
   "source": [
    "import warnings\n",
    "warnings.filterwarnings(\"ignore\")"
   ]
  },
  {
   "cell_type": "markdown",
   "id": "71b60f06",
   "metadata": {
    "papermill": {
     "duration": 0.012252,
     "end_time": "2022-05-01T18:33:58.288352",
     "exception": false,
     "start_time": "2022-05-01T18:33:58.276100",
     "status": "completed"
    },
    "tags": []
   },
   "source": [
    "# CNN MEL SPECTROGRAM APPROACH"
   ]
  },
  {
   "cell_type": "code",
   "execution_count": 3,
   "id": "0cea0f28",
   "metadata": {
    "execution": {
     "iopub.execute_input": "2022-05-01T18:33:58.314541Z",
     "iopub.status.busy": "2022-05-01T18:33:58.313886Z",
     "iopub.status.idle": "2022-05-01T18:33:58.319121Z",
     "shell.execute_reply": "2022-05-01T18:33:58.318318Z"
    },
    "papermill": {
     "duration": 0.02045,
     "end_time": "2022-05-01T18:33:58.321149",
     "exception": false,
     "start_time": "2022-05-01T18:33:58.300699",
     "status": "completed"
    },
    "tags": []
   },
   "outputs": [],
   "source": [
    "import re\n",
    "def sorted_alphanumeric(data):\n",
    "    convert = lambda text: int(text) if text.isdigit() else text.lower()\n",
    "    alphanum_key = lambda key: [ convert(c) for c in re.split('([0-9]+)', key) ] \n",
    "    return sorted(data, key=alphanum_key)"
   ]
  },
  {
   "cell_type": "code",
   "execution_count": 4,
   "id": "67c2de0c",
   "metadata": {
    "execution": {
     "iopub.execute_input": "2022-05-01T18:33:58.347341Z",
     "iopub.status.busy": "2022-05-01T18:33:58.347093Z",
     "iopub.status.idle": "2022-05-01T18:35:00.485741Z",
     "shell.execute_reply": "2022-05-01T18:35:00.485089Z"
    },
    "papermill": {
     "duration": 62.167485,
     "end_time": "2022-05-01T18:35:00.500940",
     "exception": false,
     "start_time": "2022-05-01T18:33:58.333455",
     "status": "completed"
    },
    "tags": []
   },
   "outputs": [
    {
     "data": {
      "text/plain": [
       "(7854, 300, 300, 3)"
      ]
     },
     "execution_count": 4,
     "metadata": {},
     "output_type": "execute_result"
    }
   ],
   "source": [
    "path1 = '../input/mel-pmemo/melspectrogram_dataset/'\n",
    "path2 = '../input/mel-4q/melspectrogram_dataset/'\n",
    "\n",
    "\n",
    "# Load the images and the labels\n",
    "imgs = []\n",
    "dirlist1 = sorted_alphanumeric(os.listdir(path1))\n",
    "dirlist2 = sorted_alphanumeric(os.listdir(path2))\n",
    "\n",
    "\n",
    "for img in dirlist1:\n",
    "    pic = image.load_img((path1 + img))\n",
    "    imgs.append(np.array(pic))\n",
    "    \n",
    "for img in dirlist2:\n",
    "    pic = image.load_img((path2 + img))\n",
    "    imgs.append(np.array(pic))\n",
    "    \n",
    "\n",
    "imgs = np.array(imgs)\n",
    "imgs.shape"
   ]
  },
  {
   "cell_type": "code",
   "execution_count": 5,
   "id": "355e2ef9",
   "metadata": {
    "execution": {
     "iopub.execute_input": "2022-05-01T18:35:00.528070Z",
     "iopub.status.busy": "2022-05-01T18:35:00.527830Z",
     "iopub.status.idle": "2022-05-01T18:35:00.565818Z",
     "shell.execute_reply": "2022-05-01T18:35:00.565139Z"
    },
    "papermill": {
     "duration": 0.053697,
     "end_time": "2022-05-01T18:35:00.567748",
     "exception": false,
     "start_time": "2022-05-01T18:35:00.514051",
     "status": "completed"
    },
    "tags": []
   },
   "outputs": [
    {
     "data": {
      "text/html": [
       "<div>\n",
       "<style scoped>\n",
       "    .dataframe tbody tr th:only-of-type {\n",
       "        vertical-align: middle;\n",
       "    }\n",
       "\n",
       "    .dataframe tbody tr th {\n",
       "        vertical-align: top;\n",
       "    }\n",
       "\n",
       "    .dataframe thead th {\n",
       "        text-align: right;\n",
       "    }\n",
       "</style>\n",
       "<table border=\"1\" class=\"dataframe\">\n",
       "  <thead>\n",
       "    <tr style=\"text-align: right;\">\n",
       "      <th></th>\n",
       "      <th>ID</th>\n",
       "      <th>Label</th>\n",
       "    </tr>\n",
       "  </thead>\n",
       "  <tbody>\n",
       "    <tr>\n",
       "      <th>0</th>\n",
       "      <td>1-0</td>\n",
       "      <td>1</td>\n",
       "    </tr>\n",
       "    <tr>\n",
       "      <th>1</th>\n",
       "      <td>1-1</td>\n",
       "      <td>1</td>\n",
       "    </tr>\n",
       "    <tr>\n",
       "      <th>2</th>\n",
       "      <td>1-2</td>\n",
       "      <td>1</td>\n",
       "    </tr>\n",
       "    <tr>\n",
       "      <th>3</th>\n",
       "      <td>1-3</td>\n",
       "      <td>1</td>\n",
       "    </tr>\n",
       "    <tr>\n",
       "      <th>4</th>\n",
       "      <td>1-4</td>\n",
       "      <td>1</td>\n",
       "    </tr>\n",
       "    <tr>\n",
       "      <th>...</th>\n",
       "      <td>...</td>\n",
       "      <td>...</td>\n",
       "    </tr>\n",
       "    <tr>\n",
       "      <th>7849</th>\n",
       "      <td>1900-0</td>\n",
       "      <td>0</td>\n",
       "    </tr>\n",
       "    <tr>\n",
       "      <th>7850</th>\n",
       "      <td>1900-1</td>\n",
       "      <td>0</td>\n",
       "    </tr>\n",
       "    <tr>\n",
       "      <th>7851</th>\n",
       "      <td>1900-2</td>\n",
       "      <td>0</td>\n",
       "    </tr>\n",
       "    <tr>\n",
       "      <th>7852</th>\n",
       "      <td>1900-3</td>\n",
       "      <td>0</td>\n",
       "    </tr>\n",
       "    <tr>\n",
       "      <th>7853</th>\n",
       "      <td>1900-4</td>\n",
       "      <td>0</td>\n",
       "    </tr>\n",
       "  </tbody>\n",
       "</table>\n",
       "<p>7854 rows × 2 columns</p>\n",
       "</div>"
      ],
      "text/plain": [
       "          ID  Label\n",
       "0        1-0      1\n",
       "1        1-1      1\n",
       "2        1-2      1\n",
       "3        1-3      1\n",
       "4        1-4      1\n",
       "...      ...    ...\n",
       "7849  1900-0      0\n",
       "7850  1900-1      0\n",
       "7851  1900-2      0\n",
       "7852  1900-3      0\n",
       "7853  1900-4      0\n",
       "\n",
       "[7854 rows x 2 columns]"
      ]
     },
     "execution_count": 5,
     "metadata": {},
     "output_type": "execute_result"
    }
   ],
   "source": [
    "df1 = pd.read_csv('../input/mel-pmemo/mel.csv')\n",
    "df2 = pd.read_csv('../input/mel-4q/mel.csv')\n",
    "\n",
    "\n",
    "df = pd.concat([df1, df2], ignore_index=True, sort=False)\n",
    "\n",
    "df"
   ]
  },
  {
   "cell_type": "code",
   "execution_count": 6,
   "id": "dd6af0a8",
   "metadata": {
    "execution": {
     "iopub.execute_input": "2022-05-01T18:35:00.603257Z",
     "iopub.status.busy": "2022-05-01T18:35:00.603006Z",
     "iopub.status.idle": "2022-05-01T18:35:00.610827Z",
     "shell.execute_reply": "2022-05-01T18:35:00.610175Z"
    },
    "papermill": {
     "duration": 0.03178,
     "end_time": "2022-05-01T18:35:00.612809",
     "exception": false,
     "start_time": "2022-05-01T18:35:00.581029",
     "status": "completed"
    },
    "tags": []
   },
   "outputs": [
    {
     "data": {
      "text/plain": [
       "(7854,)"
      ]
     },
     "execution_count": 6,
     "metadata": {},
     "output_type": "execute_result"
    }
   ],
   "source": [
    "Y = np.array(df['Label'])\n",
    "Y.shape"
   ]
  },
  {
   "cell_type": "code",
   "execution_count": 7,
   "id": "215c7b70",
   "metadata": {
    "execution": {
     "iopub.execute_input": "2022-05-01T18:35:00.643159Z",
     "iopub.status.busy": "2022-05-01T18:35:00.642706Z",
     "iopub.status.idle": "2022-05-01T18:35:01.243306Z",
     "shell.execute_reply": "2022-05-01T18:35:01.242612Z"
    },
    "papermill": {
     "duration": 0.616654,
     "end_time": "2022-05-01T18:35:01.245000",
     "exception": false,
     "start_time": "2022-05-01T18:35:00.628346",
     "status": "completed"
    },
    "tags": []
   },
   "outputs": [
    {
     "data": {
      "text/plain": [
       "(7461, 300, 300, 3)"
      ]
     },
     "execution_count": 7,
     "metadata": {},
     "output_type": "execute_result"
    }
   ],
   "source": [
    "x_train, x_test, y_train, y_test = train_test_split(imgs, Y, test_size=0.05)\n",
    "\n",
    "x_train.shape"
   ]
  },
  {
   "cell_type": "code",
   "execution_count": 8,
   "id": "ac27d2f0",
   "metadata": {
    "execution": {
     "iopub.execute_input": "2022-05-01T18:35:01.274097Z",
     "iopub.status.busy": "2022-05-01T18:35:01.273408Z",
     "iopub.status.idle": "2022-05-01T18:35:06.922560Z",
     "shell.execute_reply": "2022-05-01T18:35:06.921738Z"
    },
    "papermill": {
     "duration": 5.666179,
     "end_time": "2022-05-01T18:35:06.924848",
     "exception": false,
     "start_time": "2022-05-01T18:35:01.258669",
     "status": "completed"
    },
    "tags": []
   },
   "outputs": [
    {
     "name": "stderr",
     "output_type": "stream",
     "text": [
      "2022-05-01 18:35:01.382384: I tensorflow/stream_executor/cuda/cuda_gpu_executor.cc:937] successful NUMA node read from SysFS had negative value (-1), but there must be at least one NUMA node, so returning NUMA node zero\n",
      "2022-05-01 18:35:01.503300: I tensorflow/stream_executor/cuda/cuda_gpu_executor.cc:937] successful NUMA node read from SysFS had negative value (-1), but there must be at least one NUMA node, so returning NUMA node zero\n",
      "2022-05-01 18:35:01.504129: I tensorflow/stream_executor/cuda/cuda_gpu_executor.cc:937] successful NUMA node read from SysFS had negative value (-1), but there must be at least one NUMA node, so returning NUMA node zero\n",
      "2022-05-01 18:35:01.505599: I tensorflow/core/platform/cpu_feature_guard.cc:142] This TensorFlow binary is optimized with oneAPI Deep Neural Network Library (oneDNN) to use the following CPU instructions in performance-critical operations:  AVX2 AVX512F FMA\n",
      "To enable them in other operations, rebuild TensorFlow with the appropriate compiler flags.\n",
      "2022-05-01 18:35:01.510318: I tensorflow/stream_executor/cuda/cuda_gpu_executor.cc:937] successful NUMA node read from SysFS had negative value (-1), but there must be at least one NUMA node, so returning NUMA node zero\n",
      "2022-05-01 18:35:01.511054: I tensorflow/stream_executor/cuda/cuda_gpu_executor.cc:937] successful NUMA node read from SysFS had negative value (-1), but there must be at least one NUMA node, so returning NUMA node zero\n",
      "2022-05-01 18:35:01.511800: I tensorflow/stream_executor/cuda/cuda_gpu_executor.cc:937] successful NUMA node read from SysFS had negative value (-1), but there must be at least one NUMA node, so returning NUMA node zero\n",
      "2022-05-01 18:35:03.150305: I tensorflow/stream_executor/cuda/cuda_gpu_executor.cc:937] successful NUMA node read from SysFS had negative value (-1), but there must be at least one NUMA node, so returning NUMA node zero\n",
      "2022-05-01 18:35:03.151112: I tensorflow/stream_executor/cuda/cuda_gpu_executor.cc:937] successful NUMA node read from SysFS had negative value (-1), but there must be at least one NUMA node, so returning NUMA node zero\n",
      "2022-05-01 18:35:03.151849: I tensorflow/stream_executor/cuda/cuda_gpu_executor.cc:937] successful NUMA node read from SysFS had negative value (-1), but there must be at least one NUMA node, so returning NUMA node zero\n",
      "2022-05-01 18:35:03.153371: I tensorflow/core/common_runtime/gpu/gpu_device.cc:1510] Created device /job:localhost/replica:0/task:0/device:GPU:0 with 15403 MB memory:  -> device: 0, name: Tesla P100-PCIE-16GB, pci bus id: 0000:00:04.0, compute capability: 6.0\n"
     ]
    }
   ],
   "source": [
    "# Load a pre-trained neural network to use for transfer learning\n",
    "base_net = keras.applications.EfficientNetB3(\n",
    "    input_shape=(300,300,3),\n",
    "    weights='../input/noisystudentkeras/noisystudent_efficientnetb3_notop.h5',\n",
    "    include_top=False,\n",
    "    drop_connect_rate=0.5,\n",
    "    pooling='avg'\n",
    ")\n",
    "\n",
    "# Set the layers of the base net to not be trained\n",
    "for layer in base_net.layers:\n",
    "  layer.trainable=True"
   ]
  },
  {
   "cell_type": "code",
   "execution_count": 9,
   "id": "6b105cd6",
   "metadata": {
    "execution": {
     "iopub.execute_input": "2022-05-01T18:35:06.957911Z",
     "iopub.status.busy": "2022-05-01T18:35:06.957631Z",
     "iopub.status.idle": "2022-05-01T18:35:07.043917Z",
     "shell.execute_reply": "2022-05-01T18:35:07.043210Z"
    },
    "papermill": {
     "duration": 0.105206,
     "end_time": "2022-05-01T18:35:07.046049",
     "exception": false,
     "start_time": "2022-05-01T18:35:06.940843",
     "status": "completed"
    },
    "tags": []
   },
   "outputs": [],
   "source": [
    "x = Flatten()(base_net.layers[-1].output)\n",
    "x = keras.layers.Dense(1024, activation='relu', kernel_regularizer=l2(0.01), bias_regularizer=l2(0.01))(x)\n",
    "x = keras.layers.Dropout(0.5)(x)\n",
    "x = keras.layers.Dense(512, activation='relu', kernel_regularizer=l2(0.01), bias_regularizer=l2(0.01))(x)\n",
    "x = keras.layers.Dropout(0.4)(x)\n",
    "x = keras.layers.Dense(128, activation='relu', kernel_regularizer=l2(0.01), bias_regularizer=l2(0.01))(x)\n",
    "x = keras.layers.Dropout(0.3)(x)\n",
    "x = keras.layers.Dense(4, activation='softmax')(x)\n",
    "outputs = x\n",
    "\n",
    "OPT = tf.keras.optimizers.SGD()\n",
    "\n",
    "cnn = keras.Model(inputs=base_net.inputs, outputs=outputs)\n",
    "cnn.compile(loss='sparse_categorical_crossentropy', optimizer=OPT, metrics=['accuracy'])\n",
    "\n",
    "#cnn.summary()"
   ]
  },
  {
   "cell_type": "code",
   "execution_count": 10,
   "id": "2f4b99c2",
   "metadata": {
    "execution": {
     "iopub.execute_input": "2022-05-01T18:35:07.077193Z",
     "iopub.status.busy": "2022-05-01T18:35:07.076777Z",
     "iopub.status.idle": "2022-05-01T18:35:07.082050Z",
     "shell.execute_reply": "2022-05-01T18:35:07.081407Z"
    },
    "papermill": {
     "duration": 0.022973,
     "end_time": "2022-05-01T18:35:07.083811",
     "exception": false,
     "start_time": "2022-05-01T18:35:07.060838",
     "status": "completed"
    },
    "tags": []
   },
   "outputs": [],
   "source": [
    "filepath_cnn=\"weights.cnn.hdf5\"\n",
    "checkpoint = ModelCheckpoint(filepath_cnn, monitor='val_accuracy', verbose=1, save_best_only=True, mode='max')"
   ]
  },
  {
   "cell_type": "code",
   "execution_count": 11,
   "id": "5017dfe8",
   "metadata": {
    "execution": {
     "iopub.execute_input": "2022-05-01T18:35:07.118001Z",
     "iopub.status.busy": "2022-05-01T18:35:07.117281Z",
     "iopub.status.idle": "2022-05-01T22:16:42.680720Z",
     "shell.execute_reply": "2022-05-01T22:16:42.679951Z"
    },
    "papermill": {
     "duration": 13295.583876,
     "end_time": "2022-05-01T22:16:42.682973",
     "exception": false,
     "start_time": "2022-05-01T18:35:07.099097",
     "status": "completed"
    },
    "tags": []
   },
   "outputs": [
    {
     "name": "stderr",
     "output_type": "stream",
     "text": [
      "2022-05-01 18:35:07.125192: W tensorflow/core/framework/cpu_allocator_impl.cc:80] Allocation of 1510650000 exceeds 10% of free system memory.\n",
      "2022-05-01 18:35:08.661751: W tensorflow/core/framework/cpu_allocator_impl.cc:80] Allocation of 1510650000 exceeds 10% of free system memory.\n",
      "2022-05-01 18:35:09.808180: I tensorflow/compiler/mlir/mlir_graph_optimization_pass.cc:185] None of the MLIR Optimization Passes are enabled (registered 2)\n"
     ]
    },
    {
     "name": "stdout",
     "output_type": "stream",
     "text": [
      "Epoch 1/100\n"
     ]
    },
    {
     "name": "stderr",
     "output_type": "stream",
     "text": [
      "2022-05-01 18:35:21.854999: I tensorflow/stream_executor/cuda/cuda_dnn.cc:369] Loaded cuDNN version 8005\n"
     ]
    },
    {
     "name": "stdout",
     "output_type": "stream",
     "text": [
      "174/175 [============================>.] - ETA: 0s - loss: 21.7453 - accuracy: 0.4059"
     ]
    },
    {
     "name": "stderr",
     "output_type": "stream",
     "text": [
      "2022-05-01 18:37:35.404293: W tensorflow/core/common_runtime/bfc_allocator.cc:272] Allocator (GPU_0_bfc) ran out of memory trying to allocate 3.63GiB with freed_by_count=0. The caller indicates that this is not a failure, but may mean that there could be performance gains if more memory were available.\n"
     ]
    },
    {
     "name": "stdout",
     "output_type": "stream",
     "text": [
      "175/175 [==============================] - ETA: 0s - loss: 21.7418 - accuracy: 0.4059"
     ]
    },
    {
     "name": "stderr",
     "output_type": "stream",
     "text": [
      "2022-05-01 18:37:35.642870: W tensorflow/core/framework/cpu_allocator_impl.cc:80] Allocation of 503820000 exceeds 10% of free system memory.\n",
      "2022-05-01 18:37:35.875141: W tensorflow/core/framework/cpu_allocator_impl.cc:80] Allocation of 503820000 exceeds 10% of free system memory.\n"
     ]
    },
    {
     "name": "stdout",
     "output_type": "stream",
     "text": [
      "175/175 [==============================] - 155s 779ms/step - loss: 21.7418 - accuracy: 0.4059 - val_loss: 20.9889 - val_accuracy: 0.4298\n",
      "\n",
      "Epoch 00001: val_accuracy improved from -inf to 0.42980, saving model to weights.cnn.hdf5\n",
      "Epoch 2/100\n",
      "175/175 [==============================] - 132s 757ms/step - loss: 20.2487 - accuracy: 0.4565 - val_loss: 19.4929 - val_accuracy: 0.5091\n",
      "\n",
      "Epoch 00002: val_accuracy improved from 0.42980 to 0.50911, saving model to weights.cnn.hdf5\n",
      "Epoch 3/100\n",
      "175/175 [==============================] - 132s 756ms/step - loss: 18.8587 - accuracy: 0.5262 - val_loss: 18.1896 - val_accuracy: 0.5863\n",
      "\n",
      "Epoch 00003: val_accuracy improved from 0.50911 to 0.58628, saving model to weights.cnn.hdf5\n",
      "Epoch 4/100\n",
      "175/175 [==============================] - 133s 758ms/step - loss: 17.5804 - accuracy: 0.5791 - val_loss: 16.9638 - val_accuracy: 0.5611\n",
      "\n",
      "Epoch 00004: val_accuracy did not improve from 0.58628\n",
      "Epoch 5/100\n",
      "175/175 [==============================] - 132s 756ms/step - loss: 16.3877 - accuracy: 0.6109 - val_loss: 15.9132 - val_accuracy: 0.5890\n",
      "\n",
      "Epoch 00005: val_accuracy improved from 0.58628 to 0.58896, saving model to weights.cnn.hdf5\n",
      "Epoch 6/100\n",
      "175/175 [==============================] - 132s 757ms/step - loss: 15.3033 - accuracy: 0.6275 - val_loss: 14.8658 - val_accuracy: 0.6109\n",
      "\n",
      "Epoch 00006: val_accuracy improved from 0.58896 to 0.61093, saving model to weights.cnn.hdf5\n",
      "Epoch 7/100\n",
      "175/175 [==============================] - 132s 756ms/step - loss: 14.3049 - accuracy: 0.6450 - val_loss: 13.9530 - val_accuracy: 0.5659\n",
      "\n",
      "Epoch 00007: val_accuracy did not improve from 0.61093\n",
      "Epoch 8/100\n",
      "175/175 [==============================] - 132s 755ms/step - loss: 13.3742 - accuracy: 0.6554 - val_loss: 12.9295 - val_accuracy: 0.6527\n",
      "\n",
      "Epoch 00008: val_accuracy improved from 0.61093 to 0.65273, saving model to weights.cnn.hdf5\n",
      "Epoch 9/100\n",
      "175/175 [==============================] - 132s 757ms/step - loss: 12.5090 - accuracy: 0.6572 - val_loss: 12.1033 - val_accuracy: 0.6581\n",
      "\n",
      "Epoch 00009: val_accuracy improved from 0.65273 to 0.65809, saving model to weights.cnn.hdf5\n",
      "Epoch 10/100\n",
      "175/175 [==============================] - 132s 755ms/step - loss: 11.7090 - accuracy: 0.6604 - val_loss: 11.2956 - val_accuracy: 0.6758\n",
      "\n",
      "Epoch 00010: val_accuracy improved from 0.65809 to 0.67578, saving model to weights.cnn.hdf5\n",
      "Epoch 11/100\n",
      "175/175 [==============================] - 133s 758ms/step - loss: 10.9422 - accuracy: 0.6735 - val_loss: 10.7041 - val_accuracy: 0.6640\n",
      "\n",
      "Epoch 00011: val_accuracy did not improve from 0.67578\n",
      "Epoch 12/100\n",
      "175/175 [==============================] - 133s 759ms/step - loss: 10.2469 - accuracy: 0.6785 - val_loss: 9.9790 - val_accuracy: 0.6501\n",
      "\n",
      "Epoch 00012: val_accuracy did not improve from 0.67578\n",
      "Epoch 13/100\n",
      "175/175 [==============================] - 132s 756ms/step - loss: 9.5922 - accuracy: 0.6940 - val_loss: 9.3056 - val_accuracy: 0.6886\n",
      "\n",
      "Epoch 00013: val_accuracy improved from 0.67578 to 0.68864, saving model to weights.cnn.hdf5\n",
      "Epoch 14/100\n",
      "175/175 [==============================] - 132s 757ms/step - loss: 8.9846 - accuracy: 0.6963 - val_loss: 8.7097 - val_accuracy: 0.6919\n",
      "\n",
      "Epoch 00014: val_accuracy improved from 0.68864 to 0.69185, saving model to weights.cnn.hdf5\n",
      "Epoch 15/100\n",
      "175/175 [==============================] - 133s 758ms/step - loss: 8.4086 - accuracy: 0.7033 - val_loss: 8.1659 - val_accuracy: 0.6935\n",
      "\n",
      "Epoch 00015: val_accuracy improved from 0.69185 to 0.69346, saving model to weights.cnn.hdf5\n",
      "Epoch 16/100\n",
      "175/175 [==============================] - 132s 757ms/step - loss: 7.8726 - accuracy: 0.7106 - val_loss: 7.6743 - val_accuracy: 0.6908\n",
      "\n",
      "Epoch 00016: val_accuracy did not improve from 0.69346\n",
      "Epoch 17/100\n",
      "175/175 [==============================] - 133s 758ms/step - loss: 7.3843 - accuracy: 0.7124 - val_loss: 7.2325 - val_accuracy: 0.6929\n",
      "\n",
      "Epoch 00017: val_accuracy did not improve from 0.69346\n",
      "Epoch 18/100\n",
      "175/175 [==============================] - 133s 758ms/step - loss: 6.9030 - accuracy: 0.7219 - val_loss: 6.7705 - val_accuracy: 0.7063\n",
      "\n",
      "Epoch 00018: val_accuracy improved from 0.69346 to 0.70632, saving model to weights.cnn.hdf5\n",
      "Epoch 19/100\n",
      "175/175 [==============================] - 133s 758ms/step - loss: 6.4758 - accuracy: 0.7290 - val_loss: 6.3780 - val_accuracy: 0.7058\n",
      "\n",
      "Epoch 00019: val_accuracy did not improve from 0.70632\n",
      "Epoch 20/100\n",
      "175/175 [==============================] - 132s 756ms/step - loss: 6.0716 - accuracy: 0.7344 - val_loss: 5.9783 - val_accuracy: 0.6983\n",
      "\n",
      "Epoch 00020: val_accuracy did not improve from 0.70632\n",
      "Epoch 21/100\n",
      "175/175 [==============================] - 132s 756ms/step - loss: 5.6835 - accuracy: 0.7430 - val_loss: 5.5960 - val_accuracy: 0.7165\n",
      "\n",
      "Epoch 00021: val_accuracy improved from 0.70632 to 0.71651, saving model to weights.cnn.hdf5\n",
      "Epoch 22/100\n",
      "175/175 [==============================] - 132s 755ms/step - loss: 5.3400 - accuracy: 0.7380 - val_loss: 5.3302 - val_accuracy: 0.7074\n",
      "\n",
      "Epoch 00022: val_accuracy did not improve from 0.71651\n",
      "Epoch 23/100\n",
      "175/175 [==============================] - 132s 756ms/step - loss: 4.9998 - accuracy: 0.7541 - val_loss: 5.0629 - val_accuracy: 0.7074\n",
      "\n",
      "Epoch 00023: val_accuracy did not improve from 0.71651\n",
      "Epoch 24/100\n",
      "175/175 [==============================] - 133s 758ms/step - loss: 4.7008 - accuracy: 0.7582 - val_loss: 4.9165 - val_accuracy: 0.6940\n",
      "\n",
      "Epoch 00024: val_accuracy did not improve from 0.71651\n",
      "Epoch 25/100\n",
      "175/175 [==============================] - 133s 759ms/step - loss: 4.4152 - accuracy: 0.7653 - val_loss: 4.4612 - val_accuracy: 0.6940\n",
      "\n",
      "Epoch 00025: val_accuracy did not improve from 0.71651\n",
      "Epoch 26/100\n",
      "175/175 [==============================] - 132s 757ms/step - loss: 4.1309 - accuracy: 0.7796 - val_loss: 4.1795 - val_accuracy: 0.7160\n",
      "\n",
      "Epoch 00026: val_accuracy did not improve from 0.71651\n",
      "Epoch 27/100\n",
      "175/175 [==============================] - 133s 758ms/step - loss: 3.8911 - accuracy: 0.7710 - val_loss: 4.0844 - val_accuracy: 0.6517\n",
      "\n",
      "Epoch 00027: val_accuracy did not improve from 0.71651\n",
      "Epoch 28/100\n",
      "175/175 [==============================] - 133s 758ms/step - loss: 3.6349 - accuracy: 0.7909 - val_loss: 3.7876 - val_accuracy: 0.7010\n",
      "\n",
      "Epoch 00028: val_accuracy did not improve from 0.71651\n",
      "Epoch 29/100\n",
      "175/175 [==============================] - 133s 759ms/step - loss: 3.4186 - accuracy: 0.7957 - val_loss: 3.5688 - val_accuracy: 0.6994\n",
      "\n",
      "Epoch 00029: val_accuracy did not improve from 0.71651\n",
      "Epoch 30/100\n",
      "175/175 [==============================] - 133s 760ms/step - loss: 3.2147 - accuracy: 0.8018 - val_loss: 3.3586 - val_accuracy: 0.7069\n",
      "\n",
      "Epoch 00030: val_accuracy did not improve from 0.71651\n",
      "Epoch 31/100\n",
      "175/175 [==============================] - 132s 756ms/step - loss: 3.0101 - accuracy: 0.8143 - val_loss: 4.5737 - val_accuracy: 0.4962\n",
      "\n",
      "Epoch 00031: val_accuracy did not improve from 0.71651\n",
      "Epoch 32/100\n",
      "175/175 [==============================] - 132s 757ms/step - loss: 2.8358 - accuracy: 0.8232 - val_loss: 3.0722 - val_accuracy: 0.7267\n",
      "\n",
      "Epoch 00032: val_accuracy improved from 0.71651 to 0.72669, saving model to weights.cnn.hdf5\n",
      "Epoch 33/100\n",
      "175/175 [==============================] - 133s 762ms/step - loss: 2.6788 - accuracy: 0.8173 - val_loss: 3.0111 - val_accuracy: 0.6752\n",
      "\n",
      "Epoch 00033: val_accuracy did not improve from 0.72669\n",
      "Epoch 34/100\n",
      "175/175 [==============================] - 133s 758ms/step - loss: 2.5056 - accuracy: 0.8270 - val_loss: 2.7722 - val_accuracy: 0.7053\n",
      "\n",
      "Epoch 00034: val_accuracy did not improve from 0.72669\n",
      "Epoch 35/100\n",
      "175/175 [==============================] - 132s 756ms/step - loss: 2.3556 - accuracy: 0.8400 - val_loss: 2.7396 - val_accuracy: 0.7256\n",
      "\n",
      "Epoch 00035: val_accuracy did not improve from 0.72669\n",
      "Epoch 36/100\n",
      "175/175 [==============================] - 133s 758ms/step - loss: 2.2243 - accuracy: 0.8433 - val_loss: 2.5027 - val_accuracy: 0.7315\n",
      "\n",
      "Epoch 00036: val_accuracy improved from 0.72669 to 0.73151, saving model to weights.cnn.hdf5\n",
      "Epoch 37/100\n",
      "175/175 [==============================] - 133s 758ms/step - loss: 2.0946 - accuracy: 0.8518 - val_loss: 2.3648 - val_accuracy: 0.7487\n",
      "\n",
      "Epoch 00037: val_accuracy improved from 0.73151 to 0.74866, saving model to weights.cnn.hdf5\n",
      "Epoch 38/100\n",
      "175/175 [==============================] - 133s 757ms/step - loss: 1.9594 - accuracy: 0.8579 - val_loss: 2.2967 - val_accuracy: 0.7278\n",
      "\n",
      "Epoch 00038: val_accuracy did not improve from 0.74866\n",
      "Epoch 39/100\n",
      "175/175 [==============================] - 133s 759ms/step - loss: 1.8422 - accuracy: 0.8674 - val_loss: 2.1639 - val_accuracy: 0.7492\n",
      "\n",
      "Epoch 00039: val_accuracy improved from 0.74866 to 0.74920, saving model to weights.cnn.hdf5\n",
      "Epoch 40/100\n",
      "175/175 [==============================] - 133s 758ms/step - loss: 1.7246 - accuracy: 0.8729 - val_loss: 2.0862 - val_accuracy: 0.7444\n",
      "\n",
      "Epoch 00040: val_accuracy did not improve from 0.74920\n",
      "Epoch 41/100\n",
      "175/175 [==============================] - 132s 757ms/step - loss: 1.6395 - accuracy: 0.8747 - val_loss: 2.2625 - val_accuracy: 0.6517\n",
      "\n",
      "Epoch 00041: val_accuracy did not improve from 0.74920\n",
      "Epoch 42/100\n",
      "175/175 [==============================] - 133s 758ms/step - loss: 1.5464 - accuracy: 0.8790 - val_loss: 1.9968 - val_accuracy: 0.7069\n",
      "\n",
      "Epoch 00042: val_accuracy did not improve from 0.74920\n",
      "Epoch 43/100\n",
      "175/175 [==============================] - 132s 757ms/step - loss: 1.4558 - accuracy: 0.8824 - val_loss: 1.9445 - val_accuracy: 0.7095\n",
      "\n",
      "Epoch 00043: val_accuracy did not improve from 0.74920\n",
      "Epoch 44/100\n",
      "175/175 [==============================] - 132s 757ms/step - loss: 1.3708 - accuracy: 0.8953 - val_loss: 1.9730 - val_accuracy: 0.7304\n",
      "\n",
      "Epoch 00044: val_accuracy did not improve from 0.74920\n",
      "Epoch 45/100\n",
      "175/175 [==============================] - 130s 745ms/step - loss: 1.2844 - accuracy: 0.8990 - val_loss: 1.7485 - val_accuracy: 0.7353\n",
      "\n",
      "Epoch 00045: val_accuracy did not improve from 0.74920\n",
      "Epoch 46/100\n",
      "175/175 [==============================] - 132s 757ms/step - loss: 1.2133 - accuracy: 0.9042 - val_loss: 1.8517 - val_accuracy: 0.7278\n",
      "\n",
      "Epoch 00046: val_accuracy did not improve from 0.74920\n",
      "Epoch 47/100\n",
      "175/175 [==============================] - 132s 757ms/step - loss: 1.1375 - accuracy: 0.9096 - val_loss: 1.6096 - val_accuracy: 0.7540\n",
      "\n",
      "Epoch 00047: val_accuracy improved from 0.74920 to 0.75402, saving model to weights.cnn.hdf5\n",
      "Epoch 48/100\n",
      "175/175 [==============================] - 132s 756ms/step - loss: 1.0781 - accuracy: 0.9105 - val_loss: 1.6641 - val_accuracy: 0.7165\n",
      "\n",
      "Epoch 00048: val_accuracy did not improve from 0.75402\n",
      "Epoch 49/100\n",
      "175/175 [==============================] - 132s 757ms/step - loss: 1.0148 - accuracy: 0.9187 - val_loss: 1.6826 - val_accuracy: 0.6951\n",
      "\n",
      "Epoch 00049: val_accuracy did not improve from 0.75402\n",
      "Epoch 50/100\n",
      "175/175 [==============================] - 133s 757ms/step - loss: 0.9549 - accuracy: 0.9231 - val_loss: 1.6494 - val_accuracy: 0.7390\n",
      "\n",
      "Epoch 00050: val_accuracy did not improve from 0.75402\n",
      "Epoch 51/100\n",
      "175/175 [==============================] - 132s 757ms/step - loss: 0.9126 - accuracy: 0.9199 - val_loss: 1.4795 - val_accuracy: 0.7487\n",
      "\n",
      "Epoch 00051: val_accuracy did not improve from 0.75402\n",
      "Epoch 52/100\n",
      "175/175 [==============================] - 132s 757ms/step - loss: 0.8519 - accuracy: 0.9315 - val_loss: 1.5235 - val_accuracy: 0.7229\n",
      "\n",
      "Epoch 00052: val_accuracy did not improve from 0.75402\n",
      "Epoch 53/100\n",
      "175/175 [==============================] - 133s 759ms/step - loss: 0.8082 - accuracy: 0.9340 - val_loss: 1.3972 - val_accuracy: 0.7524\n",
      "\n",
      "Epoch 00053: val_accuracy did not improve from 0.75402\n",
      "Epoch 54/100\n",
      "175/175 [==============================] - 132s 757ms/step - loss: 0.7662 - accuracy: 0.9369 - val_loss: 1.5618 - val_accuracy: 0.7074\n",
      "\n",
      "Epoch 00054: val_accuracy did not improve from 0.75402\n",
      "Epoch 55/100\n",
      "175/175 [==============================] - 132s 757ms/step - loss: 0.7133 - accuracy: 0.9433 - val_loss: 1.5334 - val_accuracy: 0.7240\n",
      "\n",
      "Epoch 00055: val_accuracy did not improve from 0.75402\n",
      "Epoch 56/100\n",
      "175/175 [==============================] - 132s 755ms/step - loss: 0.6885 - accuracy: 0.9417 - val_loss: 1.3257 - val_accuracy: 0.7471\n",
      "\n",
      "Epoch 00056: val_accuracy did not improve from 0.75402\n",
      "Epoch 57/100\n",
      "175/175 [==============================] - 133s 758ms/step - loss: 0.6473 - accuracy: 0.9482 - val_loss: 1.3204 - val_accuracy: 0.7503\n",
      "\n",
      "Epoch 00057: val_accuracy did not improve from 0.75402\n",
      "Epoch 58/100\n",
      "175/175 [==============================] - 133s 759ms/step - loss: 0.6005 - accuracy: 0.9532 - val_loss: 1.3105 - val_accuracy: 0.7412\n",
      "\n",
      "Epoch 00058: val_accuracy did not improve from 0.75402\n",
      "Epoch 59/100\n",
      "175/175 [==============================] - 133s 759ms/step - loss: 0.5900 - accuracy: 0.9466 - val_loss: 1.4431 - val_accuracy: 0.7278\n",
      "\n",
      "Epoch 00059: val_accuracy did not improve from 0.75402\n",
      "Epoch 60/100\n",
      "175/175 [==============================] - 133s 759ms/step - loss: 0.5507 - accuracy: 0.9550 - val_loss: 1.1991 - val_accuracy: 0.7605\n",
      "\n",
      "Epoch 00060: val_accuracy improved from 0.75402 to 0.76045, saving model to weights.cnn.hdf5\n",
      "Epoch 61/100\n",
      "175/175 [==============================] - 132s 756ms/step - loss: 0.5158 - accuracy: 0.9562 - val_loss: 1.4826 - val_accuracy: 0.6881\n",
      "\n",
      "Epoch 00061: val_accuracy did not improve from 0.76045\n",
      "Epoch 62/100\n",
      "175/175 [==============================] - 132s 756ms/step - loss: 0.4915 - accuracy: 0.9566 - val_loss: 1.2861 - val_accuracy: 0.7347\n",
      "\n",
      "Epoch 00062: val_accuracy did not improve from 0.76045\n",
      "Epoch 63/100\n",
      "175/175 [==============================] - 132s 755ms/step - loss: 0.4587 - accuracy: 0.9637 - val_loss: 1.2778 - val_accuracy: 0.7390\n",
      "\n",
      "Epoch 00063: val_accuracy did not improve from 0.76045\n",
      "Epoch 64/100\n",
      "175/175 [==============================] - 132s 756ms/step - loss: 0.4742 - accuracy: 0.9528 - val_loss: 1.1840 - val_accuracy: 0.7546\n",
      "\n",
      "Epoch 00064: val_accuracy did not improve from 0.76045\n",
      "Epoch 65/100\n",
      "175/175 [==============================] - 133s 759ms/step - loss: 0.4433 - accuracy: 0.9546 - val_loss: 1.1338 - val_accuracy: 0.7653\n",
      "\n",
      "Epoch 00065: val_accuracy improved from 0.76045 to 0.76527, saving model to weights.cnn.hdf5\n",
      "Epoch 66/100\n",
      "175/175 [==============================] - 132s 756ms/step - loss: 0.4054 - accuracy: 0.9644 - val_loss: 1.1677 - val_accuracy: 0.7621\n",
      "\n",
      "Epoch 00066: val_accuracy did not improve from 0.76527\n",
      "Epoch 67/100\n",
      "175/175 [==============================] - 132s 756ms/step - loss: 0.4026 - accuracy: 0.9623 - val_loss: 1.1770 - val_accuracy: 0.7605\n",
      "\n",
      "Epoch 00067: val_accuracy did not improve from 0.76527\n",
      "Epoch 68/100\n",
      "175/175 [==============================] - 132s 757ms/step - loss: 0.3785 - accuracy: 0.9628 - val_loss: 1.1805 - val_accuracy: 0.7599\n",
      "\n",
      "Epoch 00068: val_accuracy did not improve from 0.76527\n",
      "Epoch 69/100\n",
      "175/175 [==============================] - 132s 757ms/step - loss: 0.3556 - accuracy: 0.9689 - val_loss: 1.1766 - val_accuracy: 0.7481\n",
      "\n",
      "Epoch 00069: val_accuracy did not improve from 0.76527\n",
      "Epoch 70/100\n",
      "175/175 [==============================] - 133s 758ms/step - loss: 0.3507 - accuracy: 0.9650 - val_loss: 1.2241 - val_accuracy: 0.7197\n",
      "\n",
      "Epoch 00070: val_accuracy did not improve from 0.76527\n",
      "Epoch 71/100\n",
      "175/175 [==============================] - 136s 777ms/step - loss: 0.3222 - accuracy: 0.9700 - val_loss: 1.1170 - val_accuracy: 0.7610\n",
      "\n",
      "Epoch 00071: val_accuracy did not improve from 0.76527\n",
      "Epoch 72/100\n",
      "175/175 [==============================] - 132s 757ms/step - loss: 0.3190 - accuracy: 0.9693 - val_loss: 1.1267 - val_accuracy: 0.7637\n",
      "\n",
      "Epoch 00072: val_accuracy did not improve from 0.76527\n",
      "Epoch 73/100\n",
      "175/175 [==============================] - 132s 756ms/step - loss: 0.3058 - accuracy: 0.9694 - val_loss: 1.1065 - val_accuracy: 0.7546\n",
      "\n",
      "Epoch 00073: val_accuracy did not improve from 0.76527\n",
      "Epoch 74/100\n",
      "175/175 [==============================] - 132s 755ms/step - loss: 0.2876 - accuracy: 0.9743 - val_loss: 1.0875 - val_accuracy: 0.7583\n",
      "\n",
      "Epoch 00074: val_accuracy did not improve from 0.76527\n",
      "Epoch 75/100\n",
      "175/175 [==============================] - 132s 756ms/step - loss: 0.2712 - accuracy: 0.9744 - val_loss: 1.2208 - val_accuracy: 0.7347\n",
      "\n",
      "Epoch 00075: val_accuracy did not improve from 0.76527\n",
      "Epoch 76/100\n",
      "175/175 [==============================] - 133s 758ms/step - loss: 0.2740 - accuracy: 0.9721 - val_loss: 1.2049 - val_accuracy: 0.7513\n",
      "\n",
      "Epoch 00076: val_accuracy did not improve from 0.76527\n",
      "Epoch 77/100\n",
      "175/175 [==============================] - 133s 757ms/step - loss: 0.2740 - accuracy: 0.9705 - val_loss: 1.0852 - val_accuracy: 0.7562\n",
      "\n",
      "Epoch 00077: val_accuracy did not improve from 0.76527\n",
      "Epoch 78/100\n",
      "175/175 [==============================] - 133s 758ms/step - loss: 0.2451 - accuracy: 0.9768 - val_loss: 1.0535 - val_accuracy: 0.7642\n",
      "\n",
      "Epoch 00078: val_accuracy did not improve from 0.76527\n",
      "Epoch 79/100\n",
      "175/175 [==============================] - 133s 758ms/step - loss: 0.2422 - accuracy: 0.9753 - val_loss: 1.0634 - val_accuracy: 0.7562\n",
      "\n",
      "Epoch 00079: val_accuracy did not improve from 0.76527\n",
      "Epoch 80/100\n",
      "175/175 [==============================] - 133s 758ms/step - loss: 0.2397 - accuracy: 0.9750 - val_loss: 1.0311 - val_accuracy: 0.7637\n",
      "\n",
      "Epoch 00080: val_accuracy did not improve from 0.76527\n",
      "Epoch 81/100\n",
      "175/175 [==============================] - 133s 760ms/step - loss: 0.2359 - accuracy: 0.9748 - val_loss: 1.0348 - val_accuracy: 0.7546\n",
      "\n",
      "Epoch 00081: val_accuracy did not improve from 0.76527\n",
      "Epoch 82/100\n",
      "175/175 [==============================] - 133s 760ms/step - loss: 0.2185 - accuracy: 0.9784 - val_loss: 1.0877 - val_accuracy: 0.7460\n",
      "\n",
      "Epoch 00082: val_accuracy did not improve from 0.76527\n",
      "Epoch 83/100\n",
      "175/175 [==============================] - 132s 756ms/step - loss: 0.2153 - accuracy: 0.9768 - val_loss: 1.0561 - val_accuracy: 0.7551\n",
      "\n",
      "Epoch 00083: val_accuracy did not improve from 0.76527\n",
      "Epoch 84/100\n",
      "175/175 [==============================] - 132s 755ms/step - loss: 0.2076 - accuracy: 0.9778 - val_loss: 1.1001 - val_accuracy: 0.7583\n",
      "\n",
      "Epoch 00084: val_accuracy did not improve from 0.76527\n",
      "Epoch 85/100\n",
      "175/175 [==============================] - 132s 757ms/step - loss: 0.2051 - accuracy: 0.9777 - val_loss: 1.0575 - val_accuracy: 0.7663\n",
      "\n",
      "Epoch 00085: val_accuracy improved from 0.76527 to 0.76635, saving model to weights.cnn.hdf5\n",
      "Epoch 86/100\n",
      "175/175 [==============================] - 132s 757ms/step - loss: 0.1971 - accuracy: 0.9798 - val_loss: 1.0708 - val_accuracy: 0.7621\n",
      "\n",
      "Epoch 00086: val_accuracy did not improve from 0.76635\n",
      "Epoch 87/100\n",
      "175/175 [==============================] - 133s 757ms/step - loss: 0.1922 - accuracy: 0.9809 - val_loss: 1.0815 - val_accuracy: 0.7546\n",
      "\n",
      "Epoch 00087: val_accuracy did not improve from 0.76635\n",
      "Epoch 88/100\n",
      "175/175 [==============================] - 133s 758ms/step - loss: 0.1881 - accuracy: 0.9784 - val_loss: 1.0350 - val_accuracy: 0.7556\n",
      "\n",
      "Epoch 00088: val_accuracy did not improve from 0.76635\n",
      "Epoch 89/100\n",
      "175/175 [==============================] - 133s 758ms/step - loss: 0.1836 - accuracy: 0.9793 - val_loss: 1.0743 - val_accuracy: 0.7738\n",
      "\n",
      "Epoch 00089: val_accuracy improved from 0.76635 to 0.77385, saving model to weights.cnn.hdf5\n",
      "Epoch 90/100\n",
      "175/175 [==============================] - 133s 759ms/step - loss: 0.1761 - accuracy: 0.9814 - val_loss: 1.0985 - val_accuracy: 0.7540\n",
      "\n",
      "Epoch 00090: val_accuracy did not improve from 0.77385\n",
      "Epoch 91/100\n",
      "175/175 [==============================] - 133s 758ms/step - loss: 0.1699 - accuracy: 0.9807 - val_loss: 1.0104 - val_accuracy: 0.7696\n",
      "\n",
      "Epoch 00091: val_accuracy did not improve from 0.77385\n",
      "Epoch 92/100\n",
      "175/175 [==============================] - 133s 759ms/step - loss: 0.1731 - accuracy: 0.9794 - val_loss: 1.0372 - val_accuracy: 0.7524\n",
      "\n",
      "Epoch 00092: val_accuracy did not improve from 0.77385\n",
      "Epoch 93/100\n",
      "175/175 [==============================] - 133s 759ms/step - loss: 0.1668 - accuracy: 0.9823 - val_loss: 1.0020 - val_accuracy: 0.7701\n",
      "\n",
      "Epoch 00093: val_accuracy did not improve from 0.77385\n",
      "Epoch 94/100\n",
      "175/175 [==============================] - 132s 754ms/step - loss: 0.1608 - accuracy: 0.9818 - val_loss: 1.0074 - val_accuracy: 0.7706\n",
      "\n",
      "Epoch 00094: val_accuracy did not improve from 0.77385\n",
      "Epoch 95/100\n",
      "175/175 [==============================] - 132s 757ms/step - loss: 0.1583 - accuracy: 0.9830 - val_loss: 1.0373 - val_accuracy: 0.7610\n",
      "\n",
      "Epoch 00095: val_accuracy did not improve from 0.77385\n",
      "Epoch 96/100\n",
      "175/175 [==============================] - 133s 760ms/step - loss: 0.1644 - accuracy: 0.9762 - val_loss: 1.0346 - val_accuracy: 0.7647\n",
      "\n",
      "Epoch 00096: val_accuracy did not improve from 0.77385\n",
      "Epoch 97/100\n",
      "175/175 [==============================] - 133s 758ms/step - loss: 0.1562 - accuracy: 0.9811 - val_loss: 0.9682 - val_accuracy: 0.7717\n",
      "\n",
      "Epoch 00097: val_accuracy did not improve from 0.77385\n",
      "Epoch 98/100\n",
      "175/175 [==============================] - 132s 756ms/step - loss: 0.1500 - accuracy: 0.9830 - val_loss: 1.0983 - val_accuracy: 0.7556\n",
      "\n",
      "Epoch 00098: val_accuracy did not improve from 0.77385\n",
      "Epoch 99/100\n",
      "175/175 [==============================] - 132s 755ms/step - loss: 0.1437 - accuracy: 0.9841 - val_loss: 1.1492 - val_accuracy: 0.7422\n",
      "\n",
      "Epoch 00099: val_accuracy did not improve from 0.77385\n",
      "Epoch 100/100\n",
      "175/175 [==============================] - 133s 759ms/step - loss: 0.1519 - accuracy: 0.9805 - val_loss: 1.0882 - val_accuracy: 0.7626\n",
      "\n",
      "Epoch 00100: val_accuracy did not improve from 0.77385\n"
     ]
    }
   ],
   "source": [
    "hist_cnn = cnn.fit(x_train, y_train, epochs=100, validation_split = 0.25, callbacks=[checkpoint])"
   ]
  },
  {
   "cell_type": "code",
   "execution_count": 12,
   "id": "4bf9ba9b",
   "metadata": {
    "execution": {
     "iopub.execute_input": "2022-05-01T22:16:54.933909Z",
     "iopub.status.busy": "2022-05-01T22:16:54.933645Z",
     "iopub.status.idle": "2022-05-01T22:16:55.325781Z",
     "shell.execute_reply": "2022-05-01T22:16:55.325070Z"
    },
    "papermill": {
     "duration": 6.946951,
     "end_time": "2022-05-01T22:16:55.327922",
     "exception": false,
     "start_time": "2022-05-01T22:16:48.380971",
     "status": "completed"
    },
    "tags": []
   },
   "outputs": [
    {
     "data": {
      "image/png": "[encoded data removed]",
      "text/plain": [
       "<Figure size 432x288 with 1 Axes>"
      ]
     },
     "metadata": {
      "needs_background": "light"
     },
     "output_type": "display_data"
    },
    {
     "data": {
      "image/png": "[encoded data removed]",
      "text/plain": [
       "<Figure size 432x288 with 1 Axes>"
      ]
     },
     "metadata": {
      "needs_background": "light"
     },
     "output_type": "display_data"
    }
   ],
   "source": [
    "def plot_hist(hist, title):\n",
    "    plt.plot(hist.history[\"accuracy\"])\n",
    "    plt.plot(hist.history[\"val_accuracy\"])\n",
    "    plt.title(\"Accuracy \" + title)\n",
    "    plt.ylabel(\"accuracy\")\n",
    "    plt.xlabel(\"epoch\")\n",
    "    plt.legend([\"train\", \"validation\"], loc=\"upper left\")\n",
    "    plt.show()\n",
    "    \n",
    "    # summarize history for loss\n",
    "    plt.plot(hist.history['loss'])\n",
    "    plt.plot(hist.history['val_loss'])\n",
    "    plt.title(\"LOSS \" + title)\n",
    "    plt.ylabel('loss')\n",
    "    plt.xlabel('epoch')\n",
    "    plt.legend(['train', 'validation'], loc='upper left')\n",
    "    plt.show()\n",
    "\n",
    "\n",
    "plot_hist(hist_cnn, title=\"Efficient-Net B3\")"
   ]
  },
  {
   "cell_type": "code",
   "execution_count": 13,
   "id": "5aca232d",
   "metadata": {
    "execution": {
     "iopub.execute_input": "2022-05-01T22:17:06.685701Z",
     "iopub.status.busy": "2022-05-01T22:17:06.685425Z",
     "iopub.status.idle": "2022-05-01T22:17:09.322897Z",
     "shell.execute_reply": "2022-05-01T22:17:09.321420Z"
    },
    "papermill": {
     "duration": 8.135342,
     "end_time": "2022-05-01T22:17:09.324792",
     "exception": false,
     "start_time": "2022-05-01T22:17:01.189450",
     "status": "completed"
    },
    "tags": []
   },
   "outputs": [
    {
     "name": "stdout",
     "output_type": "stream",
     "text": [
      "13/13 - 2s - loss: 1.0059 - accuracy: 0.7786\n",
      "\n",
      "Test accuracy: 0.7786259651184082\n"
     ]
    }
   ],
   "source": [
    "test_loss, test_acc = cnn.evaluate(x_test, y_test, verbose=2)\n",
    "print('\\nTest accuracy:', test_acc)"
   ]
  }
 ],
 "metadata": {
  "kernelspec": {
   "display_name": "Python 3",
   "language": "python",
   "name": "python3"
  },
  "language_info": {
   "codemirror_mode": {
    "name": "ipython",
    "version": 3
   },
   "file_extension": ".py",
   "mimetype": "text/x-python",
   "name": "python",
   "nbconvert_exporter": "python",
   "pygments_lexer": "ipython3",
   "version": "3.8.7"
  },
  "papermill": {
   "default_parameters": {},
   "duration": 13414.798961,
   "end_time": "2022-05-01T22:17:17.875652",
   "environment_variables": {},
   "exception": null,
   "input_path": "__notebook__.ipynb",
   "output_path": "__notebook__.ipynb",
   "parameters": {},
   "start_time": "2022-05-01T18:33:43.076691",
   "version": "2.3.4"
  }
 },
 "nbformat": 4,
 "nbformat_minor": 5
}
