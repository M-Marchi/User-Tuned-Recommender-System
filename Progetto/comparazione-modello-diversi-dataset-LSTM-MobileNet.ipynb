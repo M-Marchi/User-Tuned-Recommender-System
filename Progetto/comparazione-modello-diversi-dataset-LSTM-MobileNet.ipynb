{
 "cells": [
  {
   "cell_type": "code",
   "execution_count": 1,
   "id": "13593270",
   "metadata": {
    "_cell_guid": "b1076dfc-b9ad-4769-8c92-a6c4dae69d19",
    "_uuid": "8f2839f25d086af736a60e9eeb907d3b93b6e0e5",
    "execution": {
     "iopub.execute_input": "2022-07-08T17:10:42.338460Z",
     "iopub.status.busy": "2022-07-08T17:10:42.337967Z",
     "iopub.status.idle": "2022-07-08T17:10:51.614492Z",
     "shell.execute_reply": "2022-07-08T17:10:51.613393Z"
    },
    "papermill": {
     "duration": 9.345087,
     "end_time": "2022-07-08T17:10:51.617218",
     "exception": false,
     "start_time": "2022-07-08T17:10:42.272131",
     "status": "completed"
    },
    "tags": []
   },
   "outputs": [],
   "source": [
    "import zipfile\n",
    "import os\n",
    "import pandas as pd\n",
    "import tensorflow as tf\n",
    "from tensorflow import keras\n",
    "from keras import optimizers\n",
    "from keras import layers\n",
    "from keras.regularizers import l1\n",
    "from tensorflow.keras.preprocessing.image import ImageDataGenerator\n",
    "from tensorflow.keras.applications.vgg16 import preprocess_input\n",
    "from tensorflow.keras.preprocessing import image\n",
    "from tensorflow.keras.models import Model\n",
    "from keras.models import Sequential\n",
    "from keras.layers import Dense, GlobalAveragePooling2D, Dropout, Flatten, concatenate\n",
    "from tensorflow.keras import regularizers\n",
    "from keras.callbacks import EarlyStopping\n",
    "from keras.callbacks import ModelCheckpoint\n",
    "from keras.utils.vis_utils import plot_model\n",
    "import pylab as pl\n",
    "import numpy as np\n",
    "import matplotlib.image as mpimg\n",
    "import matplotlib.pyplot as plt\n",
    "import seaborn as sns\n",
    "from sklearn.model_selection import train_test_split\n",
    "from keras.utils import np_utils\n",
    "from sklearn.metrics import confusion_matrix\n",
    "from sklearn import preprocessing\n",
    "import itertools\n",
    "import math\n",
    "from keras.layers.recurrent import LSTM\n",
    "from keras.models import load_model\n",
    "\n",
    "\n",
    "# audio lib\n",
    "import librosa\n",
    "import librosa.display\n",
    "from librosa.util import fix_length\n",
    "\n",
    "import IPython.display as ipd\n",
    "from PIL import Image"
   ]
  },
  {
   "cell_type": "code",
   "execution_count": 2,
   "id": "3e6f91c9",
   "metadata": {
    "execution": {
     "iopub.execute_input": "2022-07-08T17:10:51.738178Z",
     "iopub.status.busy": "2022-07-08T17:10:51.737860Z",
     "iopub.status.idle": "2022-07-08T17:10:51.742682Z",
     "shell.execute_reply": "2022-07-08T17:10:51.741742Z"
    },
    "papermill": {
     "duration": 0.06794,
     "end_time": "2022-07-08T17:10:51.744847",
     "exception": false,
     "start_time": "2022-07-08T17:10:51.676907",
     "status": "completed"
    },
    "tags": []
   },
   "outputs": [],
   "source": [
    "import warnings\n",
    "warnings.filterwarnings(\"ignore\")"
   ]
  },
  {
   "cell_type": "markdown",
   "id": "e9695f9f",
   "metadata": {
    "papermill": {
     "duration": 0.060273,
     "end_time": "2022-07-08T17:10:51.865141",
     "exception": false,
     "start_time": "2022-07-08T17:10:51.804868",
     "status": "completed"
    },
    "tags": []
   },
   "source": [
    "# CNN MEL SPECTROGRAM APPROACH"
   ]
  },
  {
   "cell_type": "code",
   "execution_count": 3,
   "id": "1b357111",
   "metadata": {
    "execution": {
     "iopub.execute_input": "2022-07-08T17:10:52.027133Z",
     "iopub.status.busy": "2022-07-08T17:10:52.026788Z",
     "iopub.status.idle": "2022-07-08T17:10:52.124258Z",
     "shell.execute_reply": "2022-07-08T17:10:52.123028Z"
    },
    "papermill": {
     "duration": 0.203238,
     "end_time": "2022-07-08T17:10:52.127999",
     "exception": false,
     "start_time": "2022-07-08T17:10:51.924761",
     "status": "completed"
    },
    "tags": []
   },
   "outputs": [
    {
     "data": {
      "text/html": [
       "<div>\n",
       "<style scoped>\n",
       "    .dataframe tbody tr th:only-of-type {\n",
       "        vertical-align: middle;\n",
       "    }\n",
       "\n",
       "    .dataframe tbody tr th {\n",
       "        vertical-align: top;\n",
       "    }\n",
       "\n",
       "    .dataframe thead th {\n",
       "        text-align: right;\n",
       "    }\n",
       "</style>\n",
       "<table border=\"1\" class=\"dataframe\">\n",
       "  <thead>\n",
       "    <tr style=\"text-align: right;\">\n",
       "      <th></th>\n",
       "      <th>ID_song</th>\n",
       "    </tr>\n",
       "  </thead>\n",
       "  <tbody>\n",
       "    <tr>\n",
       "      <th>0</th>\n",
       "      <td>1001</td>\n",
       "    </tr>\n",
       "    <tr>\n",
       "      <th>5</th>\n",
       "      <td>1002</td>\n",
       "    </tr>\n",
       "    <tr>\n",
       "      <th>9</th>\n",
       "      <td>1003</td>\n",
       "    </tr>\n",
       "    <tr>\n",
       "      <th>14</th>\n",
       "      <td>1004</td>\n",
       "    </tr>\n",
       "    <tr>\n",
       "      <th>19</th>\n",
       "      <td>1005</td>\n",
       "    </tr>\n",
       "    <tr>\n",
       "      <th>...</th>\n",
       "      <td>...</td>\n",
       "    </tr>\n",
       "    <tr>\n",
       "      <th>4088</th>\n",
       "      <td>1896</td>\n",
       "    </tr>\n",
       "    <tr>\n",
       "      <th>4092</th>\n",
       "      <td>1897</td>\n",
       "    </tr>\n",
       "    <tr>\n",
       "      <th>4096</th>\n",
       "      <td>1898</td>\n",
       "    </tr>\n",
       "    <tr>\n",
       "      <th>4101</th>\n",
       "      <td>1899</td>\n",
       "    </tr>\n",
       "    <tr>\n",
       "      <th>4106</th>\n",
       "      <td>1900</td>\n",
       "    </tr>\n",
       "  </tbody>\n",
       "</table>\n",
       "<p>900 rows × 1 columns</p>\n",
       "</div>"
      ],
      "text/plain": [
       "     ID_song\n",
       "0       1001\n",
       "5       1002\n",
       "9       1003\n",
       "14      1004\n",
       "19      1005\n",
       "...      ...\n",
       "4088    1896\n",
       "4092    1897\n",
       "4096    1898\n",
       "4101    1899\n",
       "4106    1900\n",
       "\n",
       "[900 rows x 1 columns]"
      ]
     },
     "execution_count": 3,
     "metadata": {},
     "output_type": "execute_result"
    }
   ],
   "source": [
    "df = pd.read_csv('../input/mel-4q/mel.csv')\n",
    "df['ID_song'] = df['ID'].astype(str).str[0:4]\n",
    "\n",
    "df_ID = pd.DataFrame()\n",
    "df_ID['ID_song'] = df['ID_song'].drop_duplicates()\n",
    "\n",
    "df_ID"
   ]
  },
  {
   "cell_type": "code",
   "execution_count": 4,
   "id": "4d1762e1",
   "metadata": {
    "execution": {
     "iopub.execute_input": "2022-07-08T17:10:52.347126Z",
     "iopub.status.busy": "2022-07-08T17:10:52.346733Z",
     "iopub.status.idle": "2022-07-08T17:10:52.373392Z",
     "shell.execute_reply": "2022-07-08T17:10:52.372287Z"
    },
    "papermill": {
     "duration": 0.136589,
     "end_time": "2022-07-08T17:10:52.377207",
     "exception": false,
     "start_time": "2022-07-08T17:10:52.240618",
     "status": "completed"
    },
    "tags": []
   },
   "outputs": [
    {
     "name": "stdout",
     "output_type": "stream",
     "text": [
      "(720,)\n",
      "(90,)\n",
      "(90,)\n"
     ]
    },
    {
     "data": {
      "text/plain": [
       "array(['1524', '1387', '1878', '1155', '1188', '1009', '1373', '1321',\n",
       "       '1857', '1412', '1020', '1389', '1635', '1018', '1632', '1035',\n",
       "       '1086', '1799', '1082', '1208', '1070', '1447', '1299', '1624',\n",
       "       '1742', '1559', '1364', '1278', '1528', '1890', '1502', '1239',\n",
       "       '1838', '1482', '1342', '1454', '1544', '1057', '1856', '1429',\n",
       "       '1494', '1542', '1118', '1872', '1434', '1195', '1711', '1595',\n",
       "       '1781', '1625', '1797', '1575', '1217', '1671', '1095', '1633',\n",
       "       '1658', '1652', '1522', '1295', '1881', '1085', '1415', '1683',\n",
       "       '1263', '1196', '1831', '1219', '1102', '1256', '1369', '1712',\n",
       "       '1585', '1243', '1787', '1578', '1556', '1206', '1004', '1409',\n",
       "       '1245', '1747', '1341', '1161', '1112', '1332', '1892', '1060',\n",
       "       '1492', '1734'], dtype=object)"
      ]
     },
     "execution_count": 4,
     "metadata": {},
     "output_type": "execute_result"
    }
   ],
   "source": [
    "ID_train, ID_test = train_test_split( np.array(df_ID['ID_song']), test_size=0.20, shuffle = True,  random_state=1)\n",
    "ID_test, ID_validation = train_test_split( ID_test, test_size=0.5, shuffle = True,  random_state=1)\n",
    "\n",
    "print(ID_train.shape)\n",
    "print(ID_test.shape)\n",
    "print(ID_validation.shape)\n",
    "ID_test"
   ]
  },
  {
   "cell_type": "code",
   "execution_count": 5,
   "id": "1b74b010",
   "metadata": {
    "execution": {
     "iopub.execute_input": "2022-07-08T17:10:52.588779Z",
     "iopub.status.busy": "2022-07-08T17:10:52.588419Z",
     "iopub.status.idle": "2022-07-08T17:10:53.523187Z",
     "shell.execute_reply": "2022-07-08T17:10:53.521672Z"
    },
    "papermill": {
     "duration": 1.047968,
     "end_time": "2022-07-08T17:10:53.529366",
     "exception": false,
     "start_time": "2022-07-08T17:10:52.481398",
     "status": "completed"
    },
    "tags": []
   },
   "outputs": [
    {
     "name": "stdout",
     "output_type": "stream",
     "text": [
      "(3287,)\n",
      "(416,)\n",
      "(408,)\n"
     ]
    },
    {
     "data": {
      "text/plain": [
       "array(['1524-0', '1524-1', '1524-2', '1524-3', '1524-4', '1387-0',\n",
       "       '1387-1', '1387-2', '1387-3', '1387-4', '1878-0', '1878-1',\n",
       "       '1878-2', '1878-3', '1155-0', '1155-1', '1155-2', '1155-3',\n",
       "       '1155-4', '1188-0', '1188-1', '1188-2', '1188-3', '1188-4',\n",
       "       '1009-0', '1009-1', '1009-2', '1009-3', '1009-4', '1373-0',\n",
       "       '1373-1', '1373-2', '1373-3', '1373-4', '1321-0', '1321-1',\n",
       "       '1321-2', '1321-3', '1321-4', '1857-0', '1857-1', '1857-2',\n",
       "       '1857-3', '1857-4', '1412-0', '1412-1', '1412-2', '1412-3',\n",
       "       '1412-4', '1020-0', '1020-1', '1020-2', '1020-3', '1020-4',\n",
       "       '1389-0', '1389-1', '1389-2', '1389-3', '1389-4', '1635-0',\n",
       "       '1635-1', '1635-2', '1635-3', '1018-0', '1018-1', '1018-2',\n",
       "       '1018-3', '1018-4', '1632-0', '1632-1', '1632-2', '1632-3',\n",
       "       '1035-0', '1035-1', '1035-2', '1035-3', '1035-4', '1086-0',\n",
       "       '1086-1', '1086-2', '1086-3', '1086-4', '1799-0', '1799-1',\n",
       "       '1799-2', '1799-3', '1082-0', '1082-1', '1082-2', '1082-3',\n",
       "       '1082-4', '1208-0', '1208-1', '1208-2', '1208-3', '1070-0',\n",
       "       '1070-1', '1070-2', '1070-3', '1070-4'], dtype='<U6')"
      ]
     },
     "execution_count": 5,
     "metadata": {},
     "output_type": "execute_result"
    }
   ],
   "source": [
    "y_train_ID = []\n",
    "y_test_ID = []\n",
    "y_validation_ID = []\n",
    "\n",
    "for i in ID_train:\n",
    "    if (i + '-0') in df['ID'].values:\n",
    "        y_train_ID.append(i + '-0')\n",
    "    if (i + '-1') in df['ID'].values:\n",
    "        y_train_ID.append(i + '-1')\n",
    "    if (i + '-2') in df['ID'].values:\n",
    "        y_train_ID.append(i + '-2')\n",
    "    if (i + '-3') in df['ID'].values:\n",
    "        y_train_ID.append(i + '-3')\n",
    "    if (i + '-4') in df['ID'].values:\n",
    "        y_train_ID.append(i + '-4')\n",
    "\n",
    "for i in ID_test:\n",
    "    if (i + '-0') in df['ID'].values:\n",
    "        y_test_ID.append(i + '-0')\n",
    "    if (i + '-1') in df['ID'].values:\n",
    "        y_test_ID.append(i + '-1')\n",
    "    if (i + '-2') in df['ID'].values:\n",
    "        y_test_ID.append(i + '-2')\n",
    "    if (i + '-3') in df['ID'].values:\n",
    "        y_test_ID.append(i + '-3')\n",
    "    if (i + '-4') in df['ID'].values:\n",
    "        y_test_ID.append(i + '-4')\n",
    "        \n",
    "for i in ID_validation:\n",
    "    if (i + '-0') in df['ID'].values:\n",
    "        y_validation_ID.append(i + '-0')\n",
    "    if (i + '-1') in df['ID'].values:\n",
    "        y_validation_ID.append(i + '-1')\n",
    "    if (i + '-2') in df['ID'].values:\n",
    "        y_validation_ID.append(i + '-2')\n",
    "    if (i + '-3') in df['ID'].values:\n",
    "        y_validation_ID.append(i + '-3')\n",
    "    if (i + '-4') in df['ID'].values:\n",
    "        y_validation_ID.append(i + '-4')\n",
    "        \n",
    "y_train_ID = np.array(y_train_ID)\n",
    "y_test_ID = np.array(y_test_ID)\n",
    "y_validation_ID = np.array(y_validation_ID)\n",
    "\n",
    "print(y_train_ID.shape)\n",
    "print(y_test_ID.shape)\n",
    "print(y_validation_ID.shape)\n",
    "y_test_ID[:100]"
   ]
  },
  {
   "cell_type": "code",
   "execution_count": 6,
   "id": "8ba6d3df",
   "metadata": {
    "execution": {
     "iopub.execute_input": "2022-07-08T17:10:53.660016Z",
     "iopub.status.busy": "2022-07-08T17:10:53.659675Z",
     "iopub.status.idle": "2022-07-08T17:11:34.294391Z",
     "shell.execute_reply": "2022-07-08T17:11:34.293440Z"
    },
    "papermill": {
     "duration": 40.766566,
     "end_time": "2022-07-08T17:11:34.359883",
     "exception": false,
     "start_time": "2022-07-08T17:10:53.593317",
     "status": "completed"
    },
    "tags": []
   },
   "outputs": [
    {
     "name": "stdout",
     "output_type": "stream",
     "text": [
      "(3287, 300, 300, 3)\n",
      "(416, 300, 300, 3)\n",
      "(408, 300, 300, 3)\n"
     ]
    }
   ],
   "source": [
    "path = '../input/mel-4q/melspectrogram_dataset/'\n",
    "\n",
    "\n",
    "# Load the images and the labels\n",
    "x_train = []\n",
    "x_test = []\n",
    "x_validation = []\n",
    "\n",
    "for img in y_train_ID:\n",
    "\n",
    "    pic = image.load_img((path + img + '.png'))\n",
    "    x_train.append(np.array(pic))\n",
    "\n",
    "\n",
    "for img in y_test_ID:\n",
    "\n",
    "    pic = image.load_img((path + img + '.png'))\n",
    "    x_test.append(np.array(pic))\n",
    "\n",
    "        \n",
    "for img in y_validation_ID:\n",
    "\n",
    "    pic = image.load_img((path + img + '.png'))\n",
    "    x_validation.append(np.array(pic))\n",
    "\n",
    "    \n",
    "x_train = np.array(x_train)\n",
    "x_test = np.array(x_test)\n",
    "x_validation = np.array(x_validation)\n",
    "\n",
    "print(x_train.shape)\n",
    "print(x_test.shape)\n",
    "print(x_validation.shape)"
   ]
  },
  {
   "cell_type": "code",
   "execution_count": 7,
   "id": "ecd3a7b2",
   "metadata": {
    "execution": {
     "iopub.execute_input": "2022-07-08T17:11:34.489551Z",
     "iopub.status.busy": "2022-07-08T17:11:34.489263Z",
     "iopub.status.idle": "2022-07-08T17:11:39.302201Z",
     "shell.execute_reply": "2022-07-08T17:11:39.301263Z"
    },
    "papermill": {
     "duration": 4.880475,
     "end_time": "2022-07-08T17:11:39.304800",
     "exception": false,
     "start_time": "2022-07-08T17:11:34.424325",
     "status": "completed"
    },
    "tags": []
   },
   "outputs": [
    {
     "name": "stdout",
     "output_type": "stream",
     "text": [
      "(3287,)\n",
      "(416,)\n",
      "(408,)\n"
     ]
    }
   ],
   "source": [
    "y_train = []\n",
    "y_test = []\n",
    "y_validation = []\n",
    "\n",
    "for i in y_train_ID:\n",
    "    \n",
    "    row = df.loc[df['ID'] == i]\n",
    "    y_train.append(row['Label'].iloc[0])\n",
    "\n",
    "for i in y_test_ID:\n",
    "    \n",
    "    row = df.loc[df['ID'] == i]\n",
    "    y_test.append(row['Label'].iloc[0])\n",
    "\n",
    "\n",
    "for i in y_validation_ID:\n",
    "    \n",
    "    row = df.loc[df['ID'] == i]\n",
    "    y_validation.append(row['Label'].iloc[0])\n",
    "    \n",
    "    \n",
    "    \n",
    "y_train = np.array(y_train)\n",
    "y_test = np.array(y_test)\n",
    "y_validation = np.array(y_validation)\n",
    "\n",
    "print(y_train.shape)\n",
    "print(y_test.shape)\n",
    "print(y_validation.shape)"
   ]
  },
  {
   "cell_type": "code",
   "execution_count": 8,
   "id": "93cbcc52",
   "metadata": {
    "execution": {
     "iopub.execute_input": "2022-07-08T17:11:39.433487Z",
     "iopub.status.busy": "2022-07-08T17:11:39.433211Z",
     "iopub.status.idle": "2022-07-08T17:11:46.731821Z",
     "shell.execute_reply": "2022-07-08T17:11:46.730821Z"
    },
    "papermill": {
     "duration": 7.368146,
     "end_time": "2022-07-08T17:11:46.734515",
     "exception": false,
     "start_time": "2022-07-08T17:11:39.366369",
     "status": "completed"
    },
    "tags": []
   },
   "outputs": [
    {
     "name": "stderr",
     "output_type": "stream",
     "text": [
      "2022-07-08 17:11:39.566845: I tensorflow/stream_executor/cuda/cuda_gpu_executor.cc:937] successful NUMA node read from SysFS had negative value (-1), but there must be at least one NUMA node, so returning NUMA node zero\n",
      "2022-07-08 17:11:39.711992: I tensorflow/stream_executor/cuda/cuda_gpu_executor.cc:937] successful NUMA node read from SysFS had negative value (-1), but there must be at least one NUMA node, so returning NUMA node zero\n",
      "2022-07-08 17:11:39.713220: I tensorflow/stream_executor/cuda/cuda_gpu_executor.cc:937] successful NUMA node read from SysFS had negative value (-1), but there must be at least one NUMA node, so returning NUMA node zero\n",
      "2022-07-08 17:11:39.714977: I tensorflow/core/platform/cpu_feature_guard.cc:142] This TensorFlow binary is optimized with oneAPI Deep Neural Network Library (oneDNN) to use the following CPU instructions in performance-critical operations:  AVX2 FMA\n",
      "To enable them in other operations, rebuild TensorFlow with the appropriate compiler flags.\n",
      "2022-07-08 17:11:39.715450: I tensorflow/stream_executor/cuda/cuda_gpu_executor.cc:937] successful NUMA node read from SysFS had negative value (-1), but there must be at least one NUMA node, so returning NUMA node zero\n",
      "2022-07-08 17:11:39.716573: I tensorflow/stream_executor/cuda/cuda_gpu_executor.cc:937] successful NUMA node read from SysFS had negative value (-1), but there must be at least one NUMA node, so returning NUMA node zero\n",
      "2022-07-08 17:11:39.717572: I tensorflow/stream_executor/cuda/cuda_gpu_executor.cc:937] successful NUMA node read from SysFS had negative value (-1), but there must be at least one NUMA node, so returning NUMA node zero\n",
      "2022-07-08 17:11:42.280628: I tensorflow/stream_executor/cuda/cuda_gpu_executor.cc:937] successful NUMA node read from SysFS had negative value (-1), but there must be at least one NUMA node, so returning NUMA node zero\n",
      "2022-07-08 17:11:42.281788: I tensorflow/stream_executor/cuda/cuda_gpu_executor.cc:937] successful NUMA node read from SysFS had negative value (-1), but there must be at least one NUMA node, so returning NUMA node zero\n",
      "2022-07-08 17:11:42.282845: I tensorflow/stream_executor/cuda/cuda_gpu_executor.cc:937] successful NUMA node read from SysFS had negative value (-1), but there must be at least one NUMA node, so returning NUMA node zero\n",
      "2022-07-08 17:11:42.284595: I tensorflow/core/common_runtime/gpu/gpu_device.cc:1510] Created device /job:localhost/replica:0/task:0/device:GPU:0 with 15403 MB memory:  -> device: 0, name: Tesla P100-PCIE-16GB, pci bus id: 0000:00:04.0, compute capability: 6.0\n"
     ]
    },
    {
     "name": "stdout",
     "output_type": "stream",
     "text": [
      "Downloading data from https://storage.googleapis.com/tensorflow/keras-applications/mobilenet_v3/weights_mobilenet_v3_large_224_1.0_float_no_top.h5\n",
      "17612800/17605208 [==============================] - 1s 0us/step\n",
      "17620992/17605208 [==============================] - 1s 0us/step\n"
     ]
    }
   ],
   "source": [
    "# Load a pre-trained neural network to use for transfer learning\n",
    "base_net = keras.applications.MobileNetV3Large(\n",
    "    input_shape=(300,300,3),\n",
    "    weights='imagenet',\n",
    "    include_top=False,\n",
    "    dropout_rate=0.5,\n",
    "    pooling='avg'\n",
    ")\n",
    "\n",
    "# Set the layers of the base net to not be trained\n",
    "for layer in base_net.layers:\n",
    "  layer.trainable=True"
   ]
  },
  {
   "cell_type": "code",
   "execution_count": 9,
   "id": "9ee8c1fe",
   "metadata": {
    "execution": {
     "iopub.execute_input": "2022-07-08T17:11:46.870705Z",
     "iopub.status.busy": "2022-07-08T17:11:46.869864Z",
     "iopub.status.idle": "2022-07-08T17:11:46.972057Z",
     "shell.execute_reply": "2022-07-08T17:11:46.970899Z"
    },
    "papermill": {
     "duration": 0.173569,
     "end_time": "2022-07-08T17:11:46.975120",
     "exception": false,
     "start_time": "2022-07-08T17:11:46.801551",
     "status": "completed"
    },
    "tags": []
   },
   "outputs": [],
   "source": [
    "x = Flatten()(base_net.layers[-1].output)\n",
    "x = keras.layers.Dense(1024, activation='relu')(x)\n",
    "x = keras.layers.Dropout(0.5)(x)\n",
    "x = keras.layers.Dense(512, activation='relu')(x)\n",
    "x = keras.layers.Dropout(0.3)(x)\n",
    "x = keras.layers.Dense(128, activation='relu')(x)\n",
    "x = keras.layers.Dropout(0.1)(x)\n",
    "x = keras.layers.Dense(4, activation='softmax')(x)\n",
    "outputs = x\n",
    "\n",
    "OPT = tf.keras.optimizers.Adam()\n",
    "\n",
    "cnn = keras.Model(inputs=base_net.inputs, outputs=outputs)\n",
    "cnn.compile(loss='sparse_categorical_crossentropy', optimizer=OPT, metrics=['accuracy'])\n",
    "\n",
    "#cnn.summary()"
   ]
  },
  {
   "cell_type": "code",
   "execution_count": 10,
   "id": "c0705278",
   "metadata": {
    "execution": {
     "iopub.execute_input": "2022-07-08T17:11:47.265284Z",
     "iopub.status.busy": "2022-07-08T17:11:47.264984Z",
     "iopub.status.idle": "2022-07-08T17:11:47.271353Z",
     "shell.execute_reply": "2022-07-08T17:11:47.270368Z"
    },
    "papermill": {
     "duration": 0.135045,
     "end_time": "2022-07-08T17:11:47.274024",
     "exception": false,
     "start_time": "2022-07-08T17:11:47.138979",
     "status": "completed"
    },
    "tags": []
   },
   "outputs": [],
   "source": [
    "filepath_cnn=\"weights.cnn.hdf5\"\n",
    "checkpoint = ModelCheckpoint(filepath_cnn, monitor='val_accuracy', verbose=1, save_best_only=True, mode='max')"
   ]
  },
  {
   "cell_type": "code",
   "execution_count": 11,
   "id": "7ddf0546",
   "metadata": {
    "execution": {
     "iopub.execute_input": "2022-07-08T17:11:47.505566Z",
     "iopub.status.busy": "2022-07-08T17:11:47.505018Z",
     "iopub.status.idle": "2022-07-08T17:21:18.456367Z",
     "shell.execute_reply": "2022-07-08T17:21:18.455205Z"
    },
    "papermill": {
     "duration": 571.070679,
     "end_time": "2022-07-08T17:21:18.459311",
     "exception": false,
     "start_time": "2022-07-08T17:11:47.388632",
     "status": "completed"
    },
    "tags": []
   },
   "outputs": [
    {
     "name": "stderr",
     "output_type": "stream",
     "text": [
      "2022-07-08 17:11:47.514687: W tensorflow/core/framework/cpu_allocator_impl.cc:80] Allocation of 887490000 exceeds 10% of free system memory.\n",
      "2022-07-08 17:11:48.448363: W tensorflow/core/framework/cpu_allocator_impl.cc:80] Allocation of 887490000 exceeds 10% of free system memory.\n",
      "2022-07-08 17:11:49.115969: I tensorflow/compiler/mlir/mlir_graph_optimization_pass.cc:185] None of the MLIR Optimization Passes are enabled (registered 2)\n"
     ]
    },
    {
     "name": "stdout",
     "output_type": "stream",
     "text": [
      "Epoch 1/20\n"
     ]
    },
    {
     "name": "stderr",
     "output_type": "stream",
     "text": [
      "2022-07-08 17:11:57.492539: I tensorflow/stream_executor/cuda/cuda_dnn.cc:369] Loaded cuDNN version 8005\n"
     ]
    },
    {
     "name": "stdout",
     "output_type": "stream",
     "text": [
      "103/103 [==============================] - 45s 289ms/step - loss: 0.9890 - accuracy: 0.5610 - val_loss: 4.6950 - val_accuracy: 0.2941\n",
      "\n",
      "Epoch 00001: val_accuracy improved from -inf to 0.29412, saving model to weights.cnn.hdf5\n",
      "Epoch 2/20\n",
      "103/103 [==============================] - 27s 259ms/step - loss: 0.7848 - accuracy: 0.6696 - val_loss: 2.6933 - val_accuracy: 0.4510\n",
      "\n",
      "Epoch 00002: val_accuracy improved from 0.29412 to 0.45098, saving model to weights.cnn.hdf5\n",
      "Epoch 3/20\n",
      "103/103 [==============================] - 27s 262ms/step - loss: 0.6772 - accuracy: 0.7393 - val_loss: 6.7537 - val_accuracy: 0.4020\n",
      "\n",
      "Epoch 00003: val_accuracy did not improve from 0.45098\n",
      "Epoch 4/20\n",
      "103/103 [==============================] - 27s 262ms/step - loss: 0.5664 - accuracy: 0.7825 - val_loss: 4.0768 - val_accuracy: 0.4044\n",
      "\n",
      "Epoch 00004: val_accuracy did not improve from 0.45098\n",
      "Epoch 5/20\n",
      "103/103 [==============================] - 27s 263ms/step - loss: 0.4668 - accuracy: 0.8260 - val_loss: 4.5998 - val_accuracy: 0.3922\n",
      "\n",
      "Epoch 00005: val_accuracy did not improve from 0.45098\n",
      "Epoch 6/20\n",
      "103/103 [==============================] - 27s 263ms/step - loss: 0.3954 - accuracy: 0.8552 - val_loss: 66.1136 - val_accuracy: 0.3260\n",
      "\n",
      "Epoch 00006: val_accuracy did not improve from 0.45098\n",
      "Epoch 7/20\n",
      "103/103 [==============================] - 27s 262ms/step - loss: 0.3424 - accuracy: 0.8890 - val_loss: 7.7271 - val_accuracy: 0.4755\n",
      "\n",
      "Epoch 00007: val_accuracy improved from 0.45098 to 0.47549, saving model to weights.cnn.hdf5\n",
      "Epoch 8/20\n",
      "103/103 [==============================] - 27s 261ms/step - loss: 0.2661 - accuracy: 0.9106 - val_loss: 5326.6846 - val_accuracy: 0.3431\n",
      "\n",
      "Epoch 00008: val_accuracy did not improve from 0.47549\n",
      "Epoch 9/20\n",
      "103/103 [==============================] - 27s 263ms/step - loss: 0.2168 - accuracy: 0.9261 - val_loss: 26.1682 - val_accuracy: 0.4657\n",
      "\n",
      "Epoch 00009: val_accuracy did not improve from 0.47549\n",
      "Epoch 10/20\n",
      "103/103 [==============================] - 27s 260ms/step - loss: 0.2051 - accuracy: 0.9334 - val_loss: 14.1707 - val_accuracy: 0.5343\n",
      "\n",
      "Epoch 00010: val_accuracy improved from 0.47549 to 0.53431, saving model to weights.cnn.hdf5\n",
      "Epoch 11/20\n",
      "103/103 [==============================] - 27s 261ms/step - loss: 0.1643 - accuracy: 0.9468 - val_loss: 288.3345 - val_accuracy: 0.3431\n",
      "\n",
      "Epoch 00011: val_accuracy did not improve from 0.53431\n",
      "Epoch 12/20\n",
      "103/103 [==============================] - 27s 261ms/step - loss: 0.1338 - accuracy: 0.9571 - val_loss: 170.0699 - val_accuracy: 0.3701\n",
      "\n",
      "Epoch 00012: val_accuracy did not improve from 0.53431\n",
      "Epoch 13/20\n",
      "103/103 [==============================] - 27s 262ms/step - loss: 0.1375 - accuracy: 0.9550 - val_loss: 245.1107 - val_accuracy: 0.3725\n",
      "\n",
      "Epoch 00013: val_accuracy did not improve from 0.53431\n",
      "Epoch 14/20\n",
      "103/103 [==============================] - 27s 262ms/step - loss: 0.1370 - accuracy: 0.9574 - val_loss: 138.2725 - val_accuracy: 0.3431\n",
      "\n",
      "Epoch 00014: val_accuracy did not improve from 0.53431\n",
      "Epoch 15/20\n",
      "103/103 [==============================] - 27s 261ms/step - loss: 0.1518 - accuracy: 0.9556 - val_loss: 65.1739 - val_accuracy: 0.3946\n",
      "\n",
      "Epoch 00015: val_accuracy did not improve from 0.53431\n",
      "Epoch 16/20\n",
      "103/103 [==============================] - 27s 261ms/step - loss: 0.1221 - accuracy: 0.9647 - val_loss: 3.9990 - val_accuracy: 0.4020\n",
      "\n",
      "Epoch 00016: val_accuracy did not improve from 0.53431\n",
      "Epoch 17/20\n",
      "103/103 [==============================] - 27s 262ms/step - loss: 0.1156 - accuracy: 0.9635 - val_loss: 18.6700 - val_accuracy: 0.2475\n",
      "\n",
      "Epoch 00017: val_accuracy did not improve from 0.53431\n",
      "Epoch 18/20\n",
      "103/103 [==============================] - 27s 263ms/step - loss: 0.1135 - accuracy: 0.9711 - val_loss: 6.0946 - val_accuracy: 0.4755\n",
      "\n",
      "Epoch 00018: val_accuracy did not improve from 0.53431\n",
      "Epoch 19/20\n",
      "103/103 [==============================] - 27s 261ms/step - loss: 0.1343 - accuracy: 0.9611 - val_loss: 83.0409 - val_accuracy: 0.2230\n",
      "\n",
      "Epoch 00019: val_accuracy did not improve from 0.53431\n",
      "Epoch 20/20\n",
      "103/103 [==============================] - 27s 262ms/step - loss: 0.1213 - accuracy: 0.9659 - val_loss: 54.1001 - val_accuracy: 0.4779\n",
      "\n",
      "Epoch 00020: val_accuracy did not improve from 0.53431\n"
     ]
    }
   ],
   "source": [
    "hist_cnn = cnn.fit(x_train, y_train, epochs=20, validation_data=(x_validation, y_validation),\n",
    "                   callbacks=[checkpoint])\n",
    "\n",
    "cnn.load_weights(filepath_cnn)"
   ]
  },
  {
   "cell_type": "code",
   "execution_count": 12,
   "id": "44f325da",
   "metadata": {
    "execution": {
     "iopub.execute_input": "2022-07-08T17:21:20.692003Z",
     "iopub.status.busy": "2022-07-08T17:21:20.691684Z",
     "iopub.status.idle": "2022-07-08T17:21:21.191851Z",
     "shell.execute_reply": "2022-07-08T17:21:21.190883Z"
    },
    "papermill": {
     "duration": 1.433019,
     "end_time": "2022-07-08T17:21:21.194195",
     "exception": false,
     "start_time": "2022-07-08T17:21:19.761176",
     "status": "completed"
    },
    "tags": []
   },
   "outputs": [
    {
     "data": {
      "image/png": "[encoded data removed]",
      "text/plain": [
       "<Figure size 432x288 with 1 Axes>"
      ]
     },
     "metadata": {
      "needs_background": "light"
     },
     "output_type": "display_data"
    },
    {
     "data": {
      "image/png": "[encoded data removed]",
      "text/plain": [
       "<Figure size 432x288 with 1 Axes>"
      ]
     },
     "metadata": {
      "needs_background": "light"
     },
     "output_type": "display_data"
    }
   ],
   "source": [
    "def plot_hist(hist, title):\n",
    "    plt.plot(hist.history[\"accuracy\"])\n",
    "    plt.plot(hist.history[\"val_accuracy\"])\n",
    "    plt.title(\"Accuracy \" + title)\n",
    "    plt.ylabel(\"accuracy\")\n",
    "    plt.xlabel(\"epoch\")\n",
    "    plt.legend([\"train\", \"validation\"], loc=\"upper left\")\n",
    "    plt.show()\n",
    "    \n",
    "    # summarize history for loss\n",
    "    plt.plot(hist.history['loss'])\n",
    "    plt.plot(hist.history['val_loss'])\n",
    "    plt.title(\"LOSS \" + title)\n",
    "    plt.ylabel('loss')\n",
    "    plt.xlabel('epoch')\n",
    "    plt.legend(['train', 'validation'], loc='upper left')\n",
    "    plt.show()\n",
    "\n",
    "\n",
    "plot_hist(hist_cnn, title=\"Efficient-Net B3\")"
   ]
  },
  {
   "cell_type": "code",
   "execution_count": 13,
   "id": "2a182d92",
   "metadata": {
    "execution": {
     "iopub.execute_input": "2022-07-08T17:21:23.059234Z",
     "iopub.status.busy": "2022-07-08T17:21:23.058900Z",
     "iopub.status.idle": "2022-07-08T17:21:25.032413Z",
     "shell.execute_reply": "2022-07-08T17:21:25.030946Z"
    },
    "papermill": {
     "duration": 2.906302,
     "end_time": "2022-07-08T17:21:25.034782",
     "exception": false,
     "start_time": "2022-07-08T17:21:22.128480",
     "status": "completed"
    },
    "tags": []
   },
   "outputs": [
    {
     "name": "stdout",
     "output_type": "stream",
     "text": [
      "13/13 - 2s - loss: 13.6013 - accuracy: 0.5096\n",
      "\n",
      "Test accuracy: 0.5096153616905212\n"
     ]
    }
   ],
   "source": [
    "test_loss, test_acc = cnn.evaluate(x_test, y_test, verbose=2)\n",
    "print('\\nTest accuracy:', test_acc)"
   ]
  },
  {
   "cell_type": "markdown",
   "id": "1a2bf68a",
   "metadata": {
    "papermill": {
     "duration": 0.948615,
     "end_time": "2022-07-08T17:21:26.899283",
     "exception": false,
     "start_time": "2022-07-08T17:21:25.950668",
     "status": "completed"
    },
    "tags": []
   },
   "source": [
    "# Verifica su altri dataset"
   ]
  },
  {
   "cell_type": "code",
   "execution_count": 14,
   "id": "4e13ee53",
   "metadata": {
    "execution": {
     "iopub.execute_input": "2022-07-08T17:21:28.777766Z",
     "iopub.status.busy": "2022-07-08T17:21:28.777449Z",
     "iopub.status.idle": "2022-07-08T17:21:28.785466Z",
     "shell.execute_reply": "2022-07-08T17:21:28.784410Z"
    },
    "papermill": {
     "duration": 0.953568,
     "end_time": "2022-07-08T17:21:28.787803",
     "exception": false,
     "start_time": "2022-07-08T17:21:27.834235",
     "status": "completed"
    },
    "tags": []
   },
   "outputs": [],
   "source": [
    "import re\n",
    "def sorted_alphanumeric(data):\n",
    "    convert = lambda text: int(text) if text.isdigit() else text.lower()\n",
    "    alphanum_key = lambda key: [ convert(c) for c in re.split('([0-9]+)', key) ] \n",
    "    return sorted(data, key=alphanum_key)"
   ]
  },
  {
   "cell_type": "code",
   "execution_count": 15,
   "id": "ea783ebb",
   "metadata": {
    "execution": {
     "iopub.execute_input": "2022-07-08T17:21:31.020234Z",
     "iopub.status.busy": "2022-07-08T17:21:31.019724Z",
     "iopub.status.idle": "2022-07-08T17:22:24.231671Z",
     "shell.execute_reply": "2022-07-08T17:22:24.229356Z"
    },
    "papermill": {
     "duration": 55.600175,
     "end_time": "2022-07-08T17:22:25.350014",
     "exception": false,
     "start_time": "2022-07-08T17:21:29.749839",
     "status": "completed"
    },
    "tags": []
   },
   "outputs": [
    {
     "name": "stdout",
     "output_type": "stream",
     "text": [
      "(3743, 300, 300, 3)\n",
      "(1990, 300, 300, 3)\n"
     ]
    }
   ],
   "source": [
    "path1 = '../input/mel-pmemo/melspectrogram_dataset/'\n",
    "path2 = '../input/mel-emotify/melspectrogram_dataset/'\n",
    "\n",
    "# Load the images and the labels\n",
    "imgs1 = []\n",
    "imgs2 = []\n",
    "\n",
    "dirlist1 = sorted_alphanumeric(os.listdir(path1))\n",
    "dirlist2 = sorted_alphanumeric(os.listdir(path2))\n",
    "\n",
    "\n",
    "for img in dirlist1:\n",
    "    \n",
    "    pic = image.load_img((path1 + img))\n",
    "    imgs1.append(np.array(pic))\n",
    "    \n",
    "\n",
    "for img in dirlist2:\n",
    "    pic = image.load_img((path2 + img))\n",
    "    imgs2.append(np.array(pic))\n",
    "      \n",
    "        \n",
    "imgs1 = np.array(imgs1)\n",
    "imgs2 = np.array(imgs2)\n",
    "\n",
    "print(imgs1.shape)\n",
    "print(imgs2.shape)"
   ]
  },
  {
   "cell_type": "code",
   "execution_count": 16,
   "id": "a0137cb0",
   "metadata": {
    "execution": {
     "iopub.execute_input": "2022-07-08T17:22:27.353469Z",
     "iopub.status.busy": "2022-07-08T17:22:27.353155Z",
     "iopub.status.idle": "2022-07-08T17:22:27.382330Z",
     "shell.execute_reply": "2022-07-08T17:22:27.381413Z"
    },
    "papermill": {
     "duration": 0.974283,
     "end_time": "2022-07-08T17:22:27.384836",
     "exception": false,
     "start_time": "2022-07-08T17:22:26.410553",
     "status": "completed"
    },
    "tags": []
   },
   "outputs": [
    {
     "name": "stdout",
     "output_type": "stream",
     "text": [
      "(3743,)\n",
      "(1990,)\n"
     ]
    }
   ],
   "source": [
    "df1 = pd.read_csv('../input/mel-pmemo/mel.csv')\n",
    "df2 = pd.read_csv('../input/mel-emotify/mel.csv')\n",
    "\n",
    "Y1 = np.array(df1['Label'])\n",
    "print(Y1.shape)\n",
    "\n",
    "Y2 = np.array(df2['Label'])\n",
    "print(Y2.shape)"
   ]
  },
  {
   "cell_type": "code",
   "execution_count": 17,
   "id": "8a9b4c33",
   "metadata": {
    "execution": {
     "iopub.execute_input": "2022-07-08T17:22:29.342081Z",
     "iopub.status.busy": "2022-07-08T17:22:29.341798Z",
     "iopub.status.idle": "2022-07-08T17:22:36.142611Z",
     "shell.execute_reply": "2022-07-08T17:22:36.141308Z"
    },
    "papermill": {
     "duration": 7.785885,
     "end_time": "2022-07-08T17:22:36.145820",
     "exception": false,
     "start_time": "2022-07-08T17:22:28.359935",
     "status": "completed"
    },
    "tags": []
   },
   "outputs": [
    {
     "name": "stderr",
     "output_type": "stream",
     "text": [
      "2022-07-08 17:22:29.345609: W tensorflow/core/framework/cpu_allocator_impl.cc:80] Allocation of 1010610000 exceeds 10% of free system memory.\n",
      "2022-07-08 17:22:30.373215: W tensorflow/core/framework/cpu_allocator_impl.cc:80] Allocation of 1010610000 exceeds 10% of free system memory.\n"
     ]
    },
    {
     "name": "stdout",
     "output_type": "stream",
     "text": [
      "PMEmo - accuracy: 0.3644135594367981 \n",
      "\n"
     ]
    }
   ],
   "source": [
    "score = cnn.evaluate(imgs1, Y1, verbose=0)\n",
    "print('PMEmo - accuracy:', score[1],\"\\n\")"
   ]
  },
  {
   "cell_type": "code",
   "execution_count": 18,
   "id": "43ef59d0",
   "metadata": {
    "execution": {
     "iopub.execute_input": "2022-07-08T17:22:38.216286Z",
     "iopub.status.busy": "2022-07-08T17:22:38.215948Z",
     "iopub.status.idle": "2022-07-08T17:22:41.091481Z",
     "shell.execute_reply": "2022-07-08T17:22:41.089826Z"
    },
    "papermill": {
     "duration": 3.799054,
     "end_time": "2022-07-08T17:22:41.094004",
     "exception": false,
     "start_time": "2022-07-08T17:22:37.294950",
     "status": "completed"
    },
    "tags": []
   },
   "outputs": [
    {
     "name": "stdout",
     "output_type": "stream",
     "text": [
      "Emotify - accuracy: 0.4271356761455536 \n",
      "\n"
     ]
    }
   ],
   "source": [
    "score = cnn.evaluate(imgs2, Y2, verbose=0)\n",
    "print('Emotify - accuracy:', score[1],\"\\n\")"
   ]
  },
  {
   "cell_type": "markdown",
   "id": "9ddc463a",
   "metadata": {
    "papermill": {
     "duration": 0.926444,
     "end_time": "2022-07-08T17:22:42.940677",
     "exception": false,
     "start_time": "2022-07-08T17:22:42.014233",
     "status": "completed"
    },
    "tags": []
   },
   "source": [
    "# LSTM"
   ]
  },
  {
   "cell_type": "code",
   "execution_count": 19,
   "id": "31574895",
   "metadata": {
    "execution": {
     "iopub.execute_input": "2022-07-08T17:22:45.463229Z",
     "iopub.status.busy": "2022-07-08T17:22:45.462860Z",
     "iopub.status.idle": "2022-07-08T17:22:46.297033Z",
     "shell.execute_reply": "2022-07-08T17:22:46.295967Z"
    },
    "papermill": {
     "duration": 1.883279,
     "end_time": "2022-07-08T17:22:46.299934",
     "exception": false,
     "start_time": "2022-07-08T17:22:44.416655",
     "status": "completed"
    },
    "tags": []
   },
   "outputs": [
    {
     "name": "stdout",
     "output_type": "stream",
     "text": [
      "Rimosso ID: 1678\n",
      "Rimosso ID: 1687\n"
     ]
    }
   ],
   "source": [
    "for i in np.array(df_ID['ID_song']):\n",
    "    miss = False\n",
    "    \n",
    "    if (i + '-0') not in df['ID'].values:\n",
    "        miss = True\n",
    "    if (i + '-1') not in df['ID'].values:\n",
    "        miss = True\n",
    "    if (i + '-2') not in df['ID'].values:\n",
    "        miss = True\n",
    "    if (i + '-3') not in df['ID'].values:\n",
    "        miss = True\n",
    "    if miss:\n",
    "        df_ID = df_ID[df_ID.ID_song != i] # riga con solo un'immagine\n",
    "        print(\"Rimosso ID: \" +i)"
   ]
  },
  {
   "cell_type": "code",
   "execution_count": 20,
   "id": "40dbdf5a",
   "metadata": {
    "execution": {
     "iopub.execute_input": "2022-07-08T17:22:48.491982Z",
     "iopub.status.busy": "2022-07-08T17:22:48.491667Z",
     "iopub.status.idle": "2022-07-08T17:22:48.507476Z",
     "shell.execute_reply": "2022-07-08T17:22:48.506306Z"
    },
    "papermill": {
     "duration": 1.014524,
     "end_time": "2022-07-08T17:22:48.510352",
     "exception": false,
     "start_time": "2022-07-08T17:22:47.495828",
     "status": "completed"
    },
    "tags": []
   },
   "outputs": [
    {
     "name": "stdout",
     "output_type": "stream",
     "text": [
      "(718,)\n",
      "(90,)\n",
      "(90,)\n"
     ]
    },
    {
     "data": {
      "text/plain": [
       "array(['1331', '1505', '1603', '1736', '1457', '1576', '1512', '1274',\n",
       "       '1637', '1296', '1173', '1846', '1836', '1441', '1527', '1819',\n",
       "       '1102', '1741', '1464', '1143', '1590', '1357', '1373', '1213',\n",
       "       '1252', '1075', '1071', '1465', '1399', '1016', '1601', '1887',\n",
       "       '1526', '1276', '1874', '1341', '1673', '1883', '1228', '1645',\n",
       "       '1875', '1740', '1544', '1787', '1823', '1110', '1184', '1383',\n",
       "       '1824', '1319', '1144', '1782', '1523', '1659', '1633', '1750',\n",
       "       '1397', '1418', '1380', '1654', '1161', '1147', '1309', '1559',\n",
       "       '1772', '1376', '1008', '1707', '1305', '1899', '1323', '1848',\n",
       "       '1153', '1433', '1581', '1285', '1142', '1592', '1180', '1537',\n",
       "       '1625', '1023', '1021', '1679', '1237', '1206', '1038', '1334',\n",
       "       '1210', '1566'], dtype=object)"
      ]
     },
     "execution_count": 20,
     "metadata": {},
     "output_type": "execute_result"
    }
   ],
   "source": [
    "ID_train, ID_test = train_test_split( np.array(df_ID['ID_song']), test_size=0.20, shuffle = True,  random_state=2)\n",
    "ID_test, ID_validation = train_test_split( ID_test, test_size=0.5, shuffle = True,  random_state=2)\n",
    "\n",
    "print(ID_train.shape)\n",
    "print(ID_test.shape)\n",
    "print(ID_validation.shape)\n",
    "ID_test"
   ]
  },
  {
   "cell_type": "code",
   "execution_count": 21,
   "id": "cb2bc379",
   "metadata": {
    "execution": {
     "iopub.execute_input": "2022-07-08T17:22:50.353027Z",
     "iopub.status.busy": "2022-07-08T17:22:50.352724Z",
     "iopub.status.idle": "2022-07-08T17:22:51.202470Z",
     "shell.execute_reply": "2022-07-08T17:22:51.201379Z"
    },
    "papermill": {
     "duration": 1.76766,
     "end_time": "2022-07-08T17:22:51.204728",
     "exception": false,
     "start_time": "2022-07-08T17:22:49.437068",
     "status": "completed"
    },
    "tags": []
   },
   "outputs": [
    {
     "name": "stdout",
     "output_type": "stream",
     "text": [
      "(2872,)\n",
      "(360,)\n",
      "(360,)\n"
     ]
    },
    {
     "data": {
      "text/plain": [
       "array(['1331-0', '1331-1', '1331-2', '1331-3', '1505-0', '1505-1',\n",
       "       '1505-2', '1505-3', '1603-0', '1603-1', '1603-2', '1603-3',\n",
       "       '1736-0', '1736-1', '1736-2', '1736-3', '1457-0', '1457-1',\n",
       "       '1457-2', '1457-3', '1576-0', '1576-1', '1576-2', '1576-3',\n",
       "       '1512-0', '1512-1', '1512-2', '1512-3', '1274-0', '1274-1',\n",
       "       '1274-2', '1274-3', '1637-0', '1637-1', '1637-2', '1637-3',\n",
       "       '1296-0', '1296-1', '1296-2', '1296-3', '1173-0', '1173-1',\n",
       "       '1173-2', '1173-3', '1846-0', '1846-1', '1846-2', '1846-3',\n",
       "       '1836-0', '1836-1', '1836-2', '1836-3', '1441-0', '1441-1',\n",
       "       '1441-2', '1441-3', '1527-0', '1527-1', '1527-2', '1527-3',\n",
       "       '1819-0', '1819-1', '1819-2', '1819-3', '1102-0', '1102-1',\n",
       "       '1102-2', '1102-3', '1741-0', '1741-1', '1741-2', '1741-3',\n",
       "       '1464-0', '1464-1', '1464-2', '1464-3', '1143-0', '1143-1',\n",
       "       '1143-2', '1143-3', '1590-0', '1590-1', '1590-2', '1590-3',\n",
       "       '1357-0', '1357-1', '1357-2', '1357-3', '1373-0', '1373-1',\n",
       "       '1373-2', '1373-3', '1213-0', '1213-1', '1213-2', '1213-3',\n",
       "       '1252-0', '1252-1', '1252-2', '1252-3'], dtype='<U6')"
      ]
     },
     "execution_count": 21,
     "metadata": {},
     "output_type": "execute_result"
    }
   ],
   "source": [
    "y_train_ID = []\n",
    "y_test_ID = []\n",
    "y_validation_ID = []\n",
    "\n",
    "for i in ID_train:\n",
    "    if (i + '-0') in df['ID'].values:\n",
    "        y_train_ID.append(i + '-0')\n",
    "    if (i + '-1') in df['ID'].values:\n",
    "        y_train_ID.append(i + '-1')\n",
    "    if (i + '-2') in df['ID'].values:\n",
    "        y_train_ID.append(i + '-2')\n",
    "    if (i + '-3') in df['ID'].values:\n",
    "        y_train_ID.append(i + '-3')\n",
    "\n",
    "\n",
    "for i in ID_test:\n",
    "    if (i + '-0') in df['ID'].values:\n",
    "        y_test_ID.append(i + '-0')\n",
    "    if (i + '-1') in df['ID'].values:\n",
    "        y_test_ID.append(i + '-1')\n",
    "    if (i + '-2') in df['ID'].values:\n",
    "        y_test_ID.append(i + '-2')\n",
    "    if (i + '-3') in df['ID'].values:\n",
    "        y_test_ID.append(i + '-3')\n",
    "\n",
    "        \n",
    "for i in ID_validation:\n",
    "    if (i + '-0') in df['ID'].values:\n",
    "        y_validation_ID.append(i + '-0')\n",
    "    if (i + '-1') in df['ID'].values:\n",
    "        y_validation_ID.append(i + '-1')\n",
    "    if (i + '-2') in df['ID'].values:\n",
    "        y_validation_ID.append(i + '-2')\n",
    "    if (i + '-3') in df['ID'].values:\n",
    "        y_validation_ID.append(i + '-3')\n",
    "        \n",
    "y_train_ID = np.array(y_train_ID)\n",
    "y_test_ID = np.array(y_test_ID)\n",
    "y_validation_ID = np.array(y_validation_ID)\n",
    "\n",
    "print(y_train_ID.shape)\n",
    "print(y_test_ID.shape)\n",
    "print(y_validation_ID.shape)\n",
    "y_test_ID[:100]"
   ]
  },
  {
   "cell_type": "code",
   "execution_count": 22,
   "id": "2cc6f558",
   "metadata": {
    "execution": {
     "iopub.execute_input": "2022-07-08T17:22:53.053827Z",
     "iopub.status.busy": "2022-07-08T17:22:53.053479Z",
     "iopub.status.idle": "2022-07-08T17:23:06.941386Z",
     "shell.execute_reply": "2022-07-08T17:23:06.938450Z"
    },
    "papermill": {
     "duration": 14.807884,
     "end_time": "2022-07-08T17:23:06.943923",
     "exception": false,
     "start_time": "2022-07-08T17:22:52.136039",
     "status": "completed"
    },
    "tags": []
   },
   "outputs": [
    {
     "name": "stdout",
     "output_type": "stream",
     "text": [
      "(2872, 300, 300, 3)\n",
      "(360, 300, 300, 3)\n",
      "(360, 300, 300, 3)\n"
     ]
    }
   ],
   "source": [
    "# Load the images and the labels\n",
    "x_train = []\n",
    "x_test = []\n",
    "x_validation = []\n",
    "\n",
    "for img in y_train_ID:\n",
    "\n",
    "    pic = image.load_img((path + img + '.png'))\n",
    "    x_train.append(np.array(pic))\n",
    "\n",
    "\n",
    "for img in y_test_ID:\n",
    "\n",
    "    pic = image.load_img((path + img + '.png'))\n",
    "    x_test.append(np.array(pic))\n",
    "\n",
    "        \n",
    "for img in y_validation_ID:\n",
    "\n",
    "    pic = image.load_img((path + img + '.png'))\n",
    "    x_validation.append(np.array(pic))\n",
    "\n",
    "    \n",
    "x_train = np.array(x_train)\n",
    "x_test = np.array(x_test)\n",
    "x_validation = np.array(x_validation)\n",
    "\n",
    "print(x_train.shape)\n",
    "print(x_test.shape)\n",
    "print(x_validation.shape)"
   ]
  },
  {
   "cell_type": "code",
   "execution_count": 23,
   "id": "87e876e7",
   "metadata": {
    "execution": {
     "iopub.execute_input": "2022-07-08T17:23:08.798163Z",
     "iopub.status.busy": "2022-07-08T17:23:08.797886Z",
     "iopub.status.idle": "2022-07-08T17:23:10.068101Z",
     "shell.execute_reply": "2022-07-08T17:23:10.066780Z"
    },
    "papermill": {
     "duration": 2.203515,
     "end_time": "2022-07-08T17:23:10.070479",
     "exception": false,
     "start_time": "2022-07-08T17:23:07.866964",
     "status": "completed"
    },
    "tags": []
   },
   "outputs": [
    {
     "name": "stdout",
     "output_type": "stream",
     "text": [
      "(718,)\n",
      "(90,)\n",
      "(90,)\n"
     ]
    }
   ],
   "source": [
    "y_train = []\n",
    "y_test = []\n",
    "y_validation = []\n",
    "\n",
    "for i in ID_train:\n",
    "    \n",
    "    row = df.loc[df['ID'] == (i + '-0')]\n",
    "    y_train.append(row['Label'].iloc[0])\n",
    "\n",
    "for i in ID_test:\n",
    "    \n",
    "    row = df.loc[df['ID'] == (i + '-0')]\n",
    "    y_test.append(row['Label'].iloc[0])\n",
    "\n",
    "\n",
    "for i in ID_validation:\n",
    "    \n",
    "    row = df.loc[df['ID'] == (i + '-0')]\n",
    "    y_validation.append(row['Label'].iloc[0])\n",
    "    \n",
    "    \n",
    "    \n",
    "y_train = np.array(y_train)\n",
    "y_test = np.array(y_test)\n",
    "y_validation = np.array(y_validation)\n",
    "\n",
    "print(y_train.shape)\n",
    "print(y_test.shape)\n",
    "print(y_validation.shape)"
   ]
  },
  {
   "cell_type": "code",
   "execution_count": 24,
   "id": "333fae9d",
   "metadata": {
    "execution": {
     "iopub.execute_input": "2022-07-08T17:23:11.921190Z",
     "iopub.status.busy": "2022-07-08T17:23:11.920903Z",
     "iopub.status.idle": "2022-07-08T17:23:11.993926Z",
     "shell.execute_reply": "2022-07-08T17:23:11.992868Z"
    },
    "papermill": {
     "duration": 1.000484,
     "end_time": "2022-07-08T17:23:11.996719",
     "exception": false,
     "start_time": "2022-07-08T17:23:10.996235",
     "status": "completed"
    },
    "tags": []
   },
   "outputs": [],
   "source": [
    "layer_name = 'flatten'\n",
    "feature_extractor = Model(inputs=cnn.input, outputs=cnn.get_layer(layer_name).output)"
   ]
  },
  {
   "cell_type": "code",
   "execution_count": 25,
   "id": "686bdeec",
   "metadata": {
    "execution": {
     "iopub.execute_input": "2022-07-08T17:23:13.936679Z",
     "iopub.status.busy": "2022-07-08T17:23:13.936286Z",
     "iopub.status.idle": "2022-07-08T17:23:19.736477Z",
     "shell.execute_reply": "2022-07-08T17:23:19.735527Z"
    },
    "papermill": {
     "duration": 6.815608,
     "end_time": "2022-07-08T17:23:19.738587",
     "exception": false,
     "start_time": "2022-07-08T17:23:12.922979",
     "status": "completed"
    },
    "tags": []
   },
   "outputs": [
    {
     "name": "stderr",
     "output_type": "stream",
     "text": [
      "2022-07-08 17:23:13.939513: W tensorflow/core/framework/cpu_allocator_impl.cc:80] Allocation of 775440000 exceeds 10% of free system memory.\n"
     ]
    },
    {
     "name": "stdout",
     "output_type": "stream",
     "text": [
      "90/90 [==============================] - 4s 35ms/step\n",
      "12/12 [==============================] - 1s 51ms/step\n",
      "12/12 [==============================] - 0s 34ms/step\n",
      "(2872, 1280)\n",
      "(360, 1280)\n",
      "(360, 1280)\n"
     ]
    }
   ],
   "source": [
    "feature_train = feature_extractor.predict(x_train, verbose=1)\n",
    "feature_test = feature_extractor.predict(x_test, verbose=1)\n",
    "feature_val = feature_extractor.predict(x_validation, verbose=1)\n",
    "\n",
    "print(feature_train.shape)\n",
    "print(feature_test.shape)\n",
    "print(feature_val.shape)"
   ]
  },
  {
   "cell_type": "code",
   "execution_count": 26,
   "id": "a3745edb",
   "metadata": {
    "execution": {
     "iopub.execute_input": "2022-07-08T17:23:21.964297Z",
     "iopub.status.busy": "2022-07-08T17:23:21.964009Z",
     "iopub.status.idle": "2022-07-08T17:23:21.972414Z",
     "shell.execute_reply": "2022-07-08T17:23:21.971416Z"
    },
    "papermill": {
     "duration": 0.958685,
     "end_time": "2022-07-08T17:23:21.975464",
     "exception": false,
     "start_time": "2022-07-08T17:23:21.016779",
     "status": "completed"
    },
    "tags": []
   },
   "outputs": [
    {
     "name": "stdout",
     "output_type": "stream",
     "text": [
      "(718, 4, 1280)\n",
      "(90, 4, 1280)\n",
      "(90, 4, 1280)\n"
     ]
    }
   ],
   "source": [
    "reshaped_train = np.reshape(feature_train, (int(feature_train.shape[0] / 4), 4, -1))\n",
    "print(reshaped_train.shape)\n",
    "\n",
    "reshaped_test = np.reshape(feature_test, (int(feature_test.shape[0] / 4), 4, -1))\n",
    "print(reshaped_test.shape)\n",
    "\n",
    "reshaped_val = np.reshape(feature_val, (int(feature_val.shape[0] / 4), 4, -1))\n",
    "print(reshaped_val.shape)"
   ]
  },
  {
   "cell_type": "code",
   "execution_count": 27,
   "id": "6318333b",
   "metadata": {
    "execution": {
     "iopub.execute_input": "2022-07-08T17:23:23.889623Z",
     "iopub.status.busy": "2022-07-08T17:23:23.889318Z",
     "iopub.status.idle": "2022-07-08T17:23:24.078708Z",
     "shell.execute_reply": "2022-07-08T17:23:24.077751Z"
    },
    "papermill": {
     "duration": 1.151026,
     "end_time": "2022-07-08T17:23:24.081387",
     "exception": false,
     "start_time": "2022-07-08T17:23:22.930361",
     "status": "completed"
    },
    "tags": []
   },
   "outputs": [],
   "source": [
    "model = Sequential()\n",
    "model.add(LSTM(128, activation='relu', input_shape= reshaped_train.shape[1:]))\n",
    "model.add(Dropout(0.2))\n",
    "model.add(Dense(4, activation='softmax'))\n",
    "\n",
    "\n",
    "model.compile(loss='sparse_categorical_crossentropy', optimizer='RMSprop', metrics=['accuracy'])"
   ]
  },
  {
   "cell_type": "code",
   "execution_count": 28,
   "id": "ffa73210",
   "metadata": {
    "execution": {
     "iopub.execute_input": "2022-07-08T17:23:25.979873Z",
     "iopub.status.busy": "2022-07-08T17:23:25.979553Z",
     "iopub.status.idle": "2022-07-08T17:23:25.985134Z",
     "shell.execute_reply": "2022-07-08T17:23:25.983750Z"
    },
    "papermill": {
     "duration": 0.959082,
     "end_time": "2022-07-08T17:23:25.987489",
     "exception": false,
     "start_time": "2022-07-08T17:23:25.028407",
     "status": "completed"
    },
    "tags": []
   },
   "outputs": [],
   "source": [
    "filepath_lstm=\"weights.LSTM.hdf5\"\n",
    "checkpoint = ModelCheckpoint(filepath_lstm, monitor='val_accuracy', verbose=1, save_best_only=True, mode='max')"
   ]
  },
  {
   "cell_type": "code",
   "execution_count": 29,
   "id": "7250081b",
   "metadata": {
    "execution": {
     "iopub.execute_input": "2022-07-08T17:23:27.949765Z",
     "iopub.status.busy": "2022-07-08T17:23:27.949438Z",
     "iopub.status.idle": "2022-07-08T17:23:51.101293Z",
     "shell.execute_reply": "2022-07-08T17:23:51.100285Z"
    },
    "papermill": {
     "duration": 24.126023,
     "end_time": "2022-07-08T17:23:51.103866",
     "exception": false,
     "start_time": "2022-07-08T17:23:26.977843",
     "status": "completed"
    },
    "tags": []
   },
   "outputs": [
    {
     "name": "stdout",
     "output_type": "stream",
     "text": [
      "Epoch 1/20\n",
      "23/23 [==============================] - 4s 73ms/step - loss: 4.2399 - accuracy: 0.6156 - val_loss: 1.8539 - val_accuracy: 0.7778\n",
      "\n",
      "Epoch 00001: val_accuracy improved from -inf to 0.77778, saving model to weights.LSTM.hdf5\n",
      "Epoch 2/20\n",
      "23/23 [==============================] - 1s 36ms/step - loss: 1.4374 - accuracy: 0.7702 - val_loss: 1.5715 - val_accuracy: 0.7778\n",
      "\n",
      "Epoch 00002: val_accuracy did not improve from 0.77778\n",
      "Epoch 3/20\n",
      "23/23 [==============================] - 1s 37ms/step - loss: 1.2377 - accuracy: 0.7660 - val_loss: 3.7222 - val_accuracy: 0.7444\n",
      "\n",
      "Epoch 00003: val_accuracy did not improve from 0.77778\n",
      "Epoch 4/20\n",
      "23/23 [==============================] - 1s 34ms/step - loss: 1.0773 - accuracy: 0.7855 - val_loss: 1.1416 - val_accuracy: 0.8444\n",
      "\n",
      "Epoch 00004: val_accuracy improved from 0.77778 to 0.84444, saving model to weights.LSTM.hdf5\n",
      "Epoch 5/20\n",
      "23/23 [==============================] - 1s 35ms/step - loss: 0.7162 - accuracy: 0.8217 - val_loss: 1.1460 - val_accuracy: 0.8667\n",
      "\n",
      "Epoch 00005: val_accuracy improved from 0.84444 to 0.86667, saving model to weights.LSTM.hdf5\n",
      "Epoch 6/20\n",
      "23/23 [==============================] - 1s 36ms/step - loss: 0.6682 - accuracy: 0.8343 - val_loss: 1.2308 - val_accuracy: 0.8111\n",
      "\n",
      "Epoch 00006: val_accuracy did not improve from 0.86667\n",
      "Epoch 7/20\n",
      "23/23 [==============================] - 1s 33ms/step - loss: 0.6395 - accuracy: 0.8482 - val_loss: 1.3808 - val_accuracy: 0.7556\n",
      "\n",
      "Epoch 00007: val_accuracy did not improve from 0.86667\n",
      "Epoch 8/20\n",
      "23/23 [==============================] - 1s 37ms/step - loss: 0.5760 - accuracy: 0.8454 - val_loss: 0.6882 - val_accuracy: 0.8556\n",
      "\n",
      "Epoch 00008: val_accuracy did not improve from 0.86667\n",
      "Epoch 9/20\n",
      "23/23 [==============================] - 1s 37ms/step - loss: 0.4582 - accuracy: 0.8747 - val_loss: 1.1053 - val_accuracy: 0.7556\n",
      "\n",
      "Epoch 00009: val_accuracy did not improve from 0.86667\n",
      "Epoch 10/20\n",
      "23/23 [==============================] - 1s 34ms/step - loss: 0.3515 - accuracy: 0.8858 - val_loss: 1.6447 - val_accuracy: 0.7444\n",
      "\n",
      "Epoch 00010: val_accuracy did not improve from 0.86667\n",
      "Epoch 11/20\n",
      "23/23 [==============================] - 1s 37ms/step - loss: 0.5131 - accuracy: 0.8816 - val_loss: 2.0113 - val_accuracy: 0.8111\n",
      "\n",
      "Epoch 00011: val_accuracy did not improve from 0.86667\n",
      "Epoch 12/20\n",
      "23/23 [==============================] - 1s 35ms/step - loss: 0.5686 - accuracy: 0.8983 - val_loss: 2.4735 - val_accuracy: 0.8000\n",
      "\n",
      "Epoch 00012: val_accuracy did not improve from 0.86667\n",
      "Epoch 13/20\n",
      "23/23 [==============================] - 1s 56ms/step - loss: 0.5836 - accuracy: 0.8942 - val_loss: 1.5394 - val_accuracy: 0.8000\n",
      "\n",
      "Epoch 00013: val_accuracy did not improve from 0.86667\n",
      "Epoch 14/20\n",
      "23/23 [==============================] - 1s 40ms/step - loss: 0.2985 - accuracy: 0.9178 - val_loss: 1.3873 - val_accuracy: 0.8222\n",
      "\n",
      "Epoch 00014: val_accuracy did not improve from 0.86667\n",
      "Epoch 15/20\n",
      "23/23 [==============================] - 1s 35ms/step - loss: 0.2736 - accuracy: 0.9192 - val_loss: 1.9411 - val_accuracy: 0.8333\n",
      "\n",
      "Epoch 00015: val_accuracy did not improve from 0.86667\n",
      "Epoch 16/20\n",
      "23/23 [==============================] - 1s 36ms/step - loss: 0.4222 - accuracy: 0.9067 - val_loss: 1.9040 - val_accuracy: 0.8000\n",
      "\n",
      "Epoch 00016: val_accuracy did not improve from 0.86667\n",
      "Epoch 17/20\n",
      "23/23 [==============================] - 1s 34ms/step - loss: 0.4305 - accuracy: 0.9067 - val_loss: 1.6727 - val_accuracy: 0.8333\n",
      "\n",
      "Epoch 00017: val_accuracy did not improve from 0.86667\n",
      "Epoch 18/20\n",
      "23/23 [==============================] - 1s 35ms/step - loss: 0.2682 - accuracy: 0.9304 - val_loss: 1.9053 - val_accuracy: 0.8111\n",
      "\n",
      "Epoch 00018: val_accuracy did not improve from 0.86667\n",
      "Epoch 19/20\n",
      "23/23 [==============================] - 1s 35ms/step - loss: 0.3619 - accuracy: 0.9304 - val_loss: 2.4928 - val_accuracy: 0.7556\n",
      "\n",
      "Epoch 00019: val_accuracy did not improve from 0.86667\n",
      "Epoch 20/20\n",
      "23/23 [==============================] - 1s 36ms/step - loss: 0.4731 - accuracy: 0.9234 - val_loss: 2.7788 - val_accuracy: 0.8000\n",
      "\n",
      "Epoch 00020: val_accuracy did not improve from 0.86667\n"
     ]
    }
   ],
   "source": [
    "hist_lstm = model.fit(reshaped_train, y_train, batch_size=32, epochs=20, validation_data=(reshaped_val, y_validation), callbacks=[checkpoint])\n",
    "\n",
    "model.load_weights(filepath_lstm)"
   ]
  },
  {
   "cell_type": "code",
   "execution_count": 30,
   "id": "8d3fc40a",
   "metadata": {
    "execution": {
     "iopub.execute_input": "2022-07-08T17:23:53.584494Z",
     "iopub.status.busy": "2022-07-08T17:23:53.584023Z",
     "iopub.status.idle": "2022-07-08T17:23:54.077432Z",
     "shell.execute_reply": "2022-07-08T17:23:54.076415Z"
    },
    "papermill": {
     "duration": 1.874435,
     "end_time": "2022-07-08T17:23:54.079811",
     "exception": false,
     "start_time": "2022-07-08T17:23:52.205376",
     "status": "completed"
    },
    "tags": []
   },
   "outputs": [
    {
     "data": {
      "image/png": "[encoded data removed]",
      "text/plain": [
       "<Figure size 432x288 with 1 Axes>"
      ]
     },
     "metadata": {
      "needs_background": "light"
     },
     "output_type": "display_data"
    },
    {
     "data": {
      "image/png": "[encoded data removed]",
      "text/plain": [
       "<Figure size 432x288 with 1 Axes>"
      ]
     },
     "metadata": {
      "needs_background": "light"
     },
     "output_type": "display_data"
    }
   ],
   "source": [
    "plot_hist(hist_lstm, title=\"MobileNetV3 + LSTM\")"
   ]
  },
  {
   "cell_type": "code",
   "execution_count": 31,
   "id": "73274f70",
   "metadata": {
    "execution": {
     "iopub.execute_input": "2022-07-08T17:23:56.248104Z",
     "iopub.status.busy": "2022-07-08T17:23:56.247820Z",
     "iopub.status.idle": "2022-07-08T17:23:56.325551Z",
     "shell.execute_reply": "2022-07-08T17:23:56.324399Z"
    },
    "papermill": {
     "duration": 1.159823,
     "end_time": "2022-07-08T17:23:56.328048",
     "exception": false,
     "start_time": "2022-07-08T17:23:55.168225",
     "status": "completed"
    },
    "tags": []
   },
   "outputs": [
    {
     "name": "stdout",
     "output_type": "stream",
     "text": [
      "LSTM - accuracy: 0.7888888716697693 \n",
      "\n"
     ]
    }
   ],
   "source": [
    "score = model.evaluate(reshaped_test, y_test, verbose=0)\n",
    "print('LSTM - accuracy:', score[1],\"\\n\")"
   ]
  },
  {
   "cell_type": "code",
   "execution_count": 32,
   "id": "95afe5d2",
   "metadata": {
    "execution": {
     "iopub.execute_input": "2022-07-08T17:23:58.498064Z",
     "iopub.status.busy": "2022-07-08T17:23:58.497747Z",
     "iopub.status.idle": "2022-07-08T17:23:59.437491Z",
     "shell.execute_reply": "2022-07-08T17:23:59.436412Z"
    },
    "papermill": {
     "duration": 2.033873,
     "end_time": "2022-07-08T17:23:59.440134",
     "exception": false,
     "start_time": "2022-07-08T17:23:57.406261",
     "status": "completed"
    },
    "tags": []
   },
   "outputs": [
    {
     "name": "stdout",
     "output_type": "stream",
     "text": [
      "Rimosso ID: 3069\n",
      "Rimosso ID: 3084\n",
      "Rimosso ID: 3196\n",
      "Rimosso ID: 3228\n",
      "Rimosso ID: 3342\n",
      "Rimosso ID: 3381\n",
      "Rimosso ID: 3437\n",
      "Rimosso ID: 3438\n",
      "Rimosso ID: 3558\n",
      "Rimosso ID: 3584\n",
      "Rimosso ID: 3611\n",
      "Rimosso ID: 3636\n",
      "Rimosso ID: 3688\n",
      "Rimosso ID: 3692\n",
      "Rimosso ID: 3758\n",
      "Rimosso ID: 3759\n",
      "Rimosso ID: 2040\n",
      "Rimosso ID: 2066\n",
      "Rimosso ID: 2073\n"
     ]
    }
   ],
   "source": [
    "df1['ID_song'] = df1['ID'].astype(str).str[0:4]\n",
    "df2['ID_song'] = df2['ID'].astype(str).str[0:4]\n",
    "\n",
    "df1_ID = pd.DataFrame()\n",
    "df1_ID['ID_song'] = df1['ID_song'].drop_duplicates()\n",
    "\n",
    "df2_ID = pd.DataFrame()\n",
    "df2_ID['ID_song'] = df2['ID_song'].drop_duplicates()\n",
    "\n",
    "for i in np.array(df1_ID['ID_song']):\n",
    "    miss = False\n",
    "    \n",
    "    if (i + '-0') not in df1['ID'].values:\n",
    "        miss = True\n",
    "    if (i + '-1') not in df1['ID'].values:\n",
    "        miss = True\n",
    "    if (i + '-2') not in df1['ID'].values:\n",
    "        miss = True\n",
    "    if (i + '-3') not in df1['ID'].values:\n",
    "        miss = True\n",
    "    if miss:\n",
    "        df1_ID = df1_ID[df1_ID.ID_song != i] # riga con solo un'immagine\n",
    "        print(\"Rimosso ID: \" +i)\n",
    "        \n",
    "for i in np.array(df2_ID['ID_song']):\n",
    "    miss = False\n",
    "    \n",
    "    if (i + '-0') not in df2['ID'].values:\n",
    "        miss = True\n",
    "    if (i + '-1') not in df2['ID'].values:\n",
    "        miss = True\n",
    "    if (i + '-2') not in df2['ID'].values:\n",
    "        miss = True\n",
    "    if (i + '-3') not in df2['ID'].values:\n",
    "        miss = True\n",
    "    if miss:\n",
    "        df2_ID = df2_ID[df2_ID.ID_song != i] # riga con solo un'immagine\n",
    "        print(\"Rimosso ID: \" +i)"
   ]
  },
  {
   "cell_type": "code",
   "execution_count": 33,
   "id": "8e2be25d",
   "metadata": {
    "execution": {
     "iopub.execute_input": "2022-07-08T17:24:01.680153Z",
     "iopub.status.busy": "2022-07-08T17:24:01.679812Z",
     "iopub.status.idle": "2022-07-08T17:24:13.742387Z",
     "shell.execute_reply": "2022-07-08T17:24:13.741105Z"
    },
    "papermill": {
     "duration": 13.149042,
     "end_time": "2022-07-08T17:24:13.744728",
     "exception": false,
     "start_time": "2022-07-08T17:24:00.595686",
     "status": "completed"
    },
    "tags": []
   },
   "outputs": [
    {
     "name": "stdout",
     "output_type": "stream",
     "text": [
      "(3004,)\n",
      "(3004, 300, 300, 3)\n",
      "(751,)\n"
     ]
    }
   ],
   "source": [
    "y1_ID = []\n",
    "imgs1 = []\n",
    "Y1_lstm = []\n",
    "\n",
    "ID1_train = np.array(df1_ID['ID_song'])\n",
    "\n",
    "for i in ID1_train:\n",
    "    if (i + '-0') in df1['ID'].values:\n",
    "        y1_ID.append(i + '-0')\n",
    "    if (i + '-1') in df1['ID'].values:\n",
    "        y1_ID.append(i + '-1')\n",
    "    if (i + '-2') in df1['ID'].values:\n",
    "        y1_ID.append(i + '-2')\n",
    "    if (i + '-3') in df1['ID'].values:\n",
    "        y1_ID.append(i + '-3')\n",
    "        \n",
    "y1_ID = np.array(y1_ID)\n",
    "print(y1_ID.shape)\n",
    "\n",
    "for img in y1_ID:\n",
    "    pic = image.load_img((path1 + img + '.png'))\n",
    "    imgs1.append(np.array(pic))\n",
    "\n",
    "imgs1 = np.array(imgs1)\n",
    "print(imgs1.shape)\n",
    "\n",
    "for i in ID1_train:\n",
    "    \n",
    "    row = df1.loc[df1['ID'] == (i + '-0')]\n",
    "    Y1_lstm.append(row['Label'].iloc[0])\n",
    "    \n",
    "Y1_lstm = np.array(Y1_lstm)\n",
    "print(Y1_lstm.shape)"
   ]
  },
  {
   "cell_type": "code",
   "execution_count": 34,
   "id": "54bfa6ea",
   "metadata": {
    "execution": {
     "iopub.execute_input": "2022-07-08T17:24:16.233230Z",
     "iopub.status.busy": "2022-07-08T17:24:16.232957Z",
     "iopub.status.idle": "2022-07-08T17:24:21.957823Z",
     "shell.execute_reply": "2022-07-08T17:24:21.956863Z"
    },
    "papermill": {
     "duration": 7.127471,
     "end_time": "2022-07-08T17:24:21.960184",
     "exception": false,
     "start_time": "2022-07-08T17:24:14.832713",
     "status": "completed"
    },
    "tags": []
   },
   "outputs": [
    {
     "name": "stdout",
     "output_type": "stream",
     "text": [
      "(1588,)\n",
      "(1588, 300, 300, 3)\n",
      "(397,)\n"
     ]
    }
   ],
   "source": [
    "y2_ID = []\n",
    "imgs2 = []\n",
    "Y2_lstm = []\n",
    "\n",
    "ID2_train = np.array(df2_ID['ID_song'])\n",
    "\n",
    "for i in ID2_train:\n",
    "    if (i + '-0') in df2['ID'].values:\n",
    "        y2_ID.append(i + '-0')\n",
    "    if (i + '-1') in df2['ID'].values:\n",
    "        y2_ID.append(i + '-1')\n",
    "    if (i + '-2') in df2['ID'].values:\n",
    "        y2_ID.append(i + '-2')\n",
    "    if (i + '-3') in df2['ID'].values:\n",
    "        y2_ID.append(i + '-3')\n",
    "        \n",
    "y2_ID = np.array(y2_ID)\n",
    "print(y2_ID.shape)\n",
    "\n",
    "for img in y2_ID:\n",
    "    pic = image.load_img((path2 + img + '.png'))\n",
    "    imgs2.append(np.array(pic))\n",
    "\n",
    "imgs2 = np.array(imgs2)\n",
    "print(imgs2.shape)\n",
    "\n",
    "for i in ID2_train:\n",
    "    \n",
    "    row = df2.loc[df2['ID'] == (i + '-0')]\n",
    "    Y2_lstm.append(row['Label'].iloc[0])\n",
    "    \n",
    "Y2_lstm = np.array(Y2_lstm)\n",
    "print(Y2_lstm.shape)"
   ]
  },
  {
   "cell_type": "code",
   "execution_count": 35,
   "id": "ffc95595",
   "metadata": {
    "execution": {
     "iopub.execute_input": "2022-07-08T17:24:24.927047Z",
     "iopub.status.busy": "2022-07-08T17:24:24.926631Z",
     "iopub.status.idle": "2022-07-08T17:24:31.785389Z",
     "shell.execute_reply": "2022-07-08T17:24:31.784392Z"
    },
    "papermill": {
     "duration": 8.081927,
     "end_time": "2022-07-08T17:24:31.787719",
     "exception": false,
     "start_time": "2022-07-08T17:24:23.705792",
     "status": "completed"
    },
    "tags": []
   },
   "outputs": [
    {
     "name": "stdout",
     "output_type": "stream",
     "text": [
      "94/94 [==============================] - 4s 38ms/step\n",
      "PMEmo - accuracy: 0.5073235630989075 \n",
      "\n"
     ]
    }
   ],
   "source": [
    "features_imgs1 = feature_extractor.predict(imgs1, verbose=1)\n",
    "reshaped_imgs1 = np.reshape(features_imgs1, (int(features_imgs1.shape[0] / 4), 4, -1))\n",
    "score = model.evaluate(reshaped_imgs1, Y1_lstm, verbose=0)\n",
    "print('PMEmo - accuracy:', score[1],\"\\n\")"
   ]
  },
  {
   "cell_type": "code",
   "execution_count": 36,
   "id": "46faf779",
   "metadata": {
    "execution": {
     "iopub.execute_input": "2022-07-08T17:24:34.001245Z",
     "iopub.status.busy": "2022-07-08T17:24:34.000644Z",
     "iopub.status.idle": "2022-07-08T17:24:36.846573Z",
     "shell.execute_reply": "2022-07-08T17:24:36.845642Z"
    },
    "papermill": {
     "duration": 3.947574,
     "end_time": "2022-07-08T17:24:36.848925",
     "exception": false,
     "start_time": "2022-07-08T17:24:32.901351",
     "status": "completed"
    },
    "tags": []
   },
   "outputs": [
    {
     "name": "stdout",
     "output_type": "stream",
     "text": [
      "50/50 [==============================] - 2s 39ms/step\n",
      "Emotify - accuracy: 0.4735516309738159 \n",
      "\n"
     ]
    }
   ],
   "source": [
    "features_imgs2 = feature_extractor.predict(imgs2, verbose=1)\n",
    "reshaped_imgs2 = np.reshape(features_imgs2, (int(features_imgs2.shape[0] / 4), 4, -1))\n",
    "score = model.evaluate(reshaped_imgs2, Y2_lstm, verbose=0)\n",
    "print('Emotify - accuracy:', score[1],\"\\n\")"
   ]
  },
  {
   "cell_type": "markdown",
   "id": "0328eac6",
   "metadata": {
    "papermill": {
     "duration": 1.124708,
     "end_time": "2022-07-08T17:24:39.422410",
     "exception": false,
     "start_time": "2022-07-08T17:24:38.297702",
     "status": "completed"
    },
    "tags": []
   },
   "source": [
    "# CNN merged + LSTM solo 4Q"
   ]
  },
  {
   "cell_type": "code",
   "execution_count": 37,
   "id": "fc2a46b3",
   "metadata": {
    "execution": {
     "iopub.execute_input": "2022-07-08T17:24:41.642525Z",
     "iopub.status.busy": "2022-07-08T17:24:41.642199Z",
     "iopub.status.idle": "2022-07-08T17:25:17.124541Z",
     "shell.execute_reply": "2022-07-08T17:25:17.123610Z"
    },
    "papermill": {
     "duration": 36.597035,
     "end_time": "2022-07-08T17:25:17.126937",
     "exception": false,
     "start_time": "2022-07-08T17:24:40.529902",
     "status": "completed"
    },
    "tags": []
   },
   "outputs": [
    {
     "name": "stdout",
     "output_type": "stream",
     "text": [
      "90/90 [==============================] - 5s 35ms/step\n",
      "12/12 [==============================] - 0s 35ms/step\n",
      "12/12 [==============================] - 0s 34ms/step\n",
      "Epoch 1/20\n",
      "23/23 [==============================] - 4s 53ms/step - loss: 3.0326 - accuracy: 0.8384 - val_loss: 1.1284 - val_accuracy: 0.8556\n",
      "\n",
      "Epoch 00001: val_accuracy improved from -inf to 0.85556, saving model to weights.LSTM.hdf5\n",
      "Epoch 2/20\n",
      "23/23 [==============================] - 1s 61ms/step - loss: 1.1986 - accuracy: 0.8900 - val_loss: 0.5931 - val_accuracy: 0.8778\n",
      "\n",
      "Epoch 00002: val_accuracy improved from 0.85556 to 0.87778, saving model to weights.LSTM.hdf5\n",
      "Epoch 3/20\n",
      "23/23 [==============================] - 1s 35ms/step - loss: 0.7756 - accuracy: 0.9039 - val_loss: 0.9442 - val_accuracy: 0.8778\n",
      "\n",
      "Epoch 00003: val_accuracy did not improve from 0.87778\n",
      "Epoch 4/20\n",
      "23/23 [==============================] - 1s 36ms/step - loss: 0.7945 - accuracy: 0.9095 - val_loss: 1.0401 - val_accuracy: 0.8444\n",
      "\n",
      "Epoch 00004: val_accuracy did not improve from 0.87778\n",
      "Epoch 5/20\n",
      "23/23 [==============================] - 1s 35ms/step - loss: 0.7342 - accuracy: 0.9039 - val_loss: 0.7885 - val_accuracy: 0.8889\n",
      "\n",
      "Epoch 00005: val_accuracy improved from 0.87778 to 0.88889, saving model to weights.LSTM.hdf5\n",
      "Epoch 6/20\n",
      "23/23 [==============================] - 1s 34ms/step - loss: 0.4692 - accuracy: 0.9276 - val_loss: 0.3626 - val_accuracy: 0.9000\n",
      "\n",
      "Epoch 00006: val_accuracy improved from 0.88889 to 0.90000, saving model to weights.LSTM.hdf5\n",
      "Epoch 7/20\n",
      "23/23 [==============================] - 1s 36ms/step - loss: 0.5480 - accuracy: 0.9136 - val_loss: 0.8304 - val_accuracy: 0.8778\n",
      "\n",
      "Epoch 00007: val_accuracy did not improve from 0.90000\n",
      "Epoch 8/20\n",
      "23/23 [==============================] - 1s 35ms/step - loss: 0.4930 - accuracy: 0.9234 - val_loss: 0.8741 - val_accuracy: 0.9000\n",
      "\n",
      "Epoch 00008: val_accuracy did not improve from 0.90000\n",
      "Epoch 9/20\n",
      "23/23 [==============================] - 1s 34ms/step - loss: 0.5674 - accuracy: 0.9304 - val_loss: 0.7754 - val_accuracy: 0.9000\n",
      "\n",
      "Epoch 00009: val_accuracy did not improve from 0.90000\n",
      "Epoch 10/20\n",
      "23/23 [==============================] - 1s 35ms/step - loss: 0.5361 - accuracy: 0.9401 - val_loss: 0.6021 - val_accuracy: 0.9000\n",
      "\n",
      "Epoch 00010: val_accuracy did not improve from 0.90000\n",
      "Epoch 11/20\n",
      "23/23 [==============================] - 1s 34ms/step - loss: 0.4342 - accuracy: 0.9331 - val_loss: 0.4495 - val_accuracy: 0.9222\n",
      "\n",
      "Epoch 00011: val_accuracy improved from 0.90000 to 0.92222, saving model to weights.LSTM.hdf5\n",
      "Epoch 12/20\n",
      "23/23 [==============================] - 1s 35ms/step - loss: 0.3909 - accuracy: 0.9457 - val_loss: 1.2209 - val_accuracy: 0.8889\n",
      "\n",
      "Epoch 00012: val_accuracy did not improve from 0.92222\n",
      "Epoch 13/20\n",
      "23/23 [==============================] - 1s 36ms/step - loss: 0.4810 - accuracy: 0.9387 - val_loss: 0.7413 - val_accuracy: 0.8778\n",
      "\n",
      "Epoch 00013: val_accuracy did not improve from 0.92222\n",
      "Epoch 14/20\n",
      "23/23 [==============================] - 1s 36ms/step - loss: 0.4941 - accuracy: 0.9359 - val_loss: 1.4922 - val_accuracy: 0.8778\n",
      "\n",
      "Epoch 00014: val_accuracy did not improve from 0.92222\n",
      "Epoch 15/20\n",
      "23/23 [==============================] - 1s 53ms/step - loss: 0.4880 - accuracy: 0.9331 - val_loss: 0.7293 - val_accuracy: 0.8889\n",
      "\n",
      "Epoch 00015: val_accuracy did not improve from 0.92222\n",
      "Epoch 16/20\n",
      "23/23 [==============================] - 1s 38ms/step - loss: 0.4880 - accuracy: 0.9262 - val_loss: 0.8431 - val_accuracy: 0.8667\n",
      "\n",
      "Epoch 00016: val_accuracy did not improve from 0.92222\n",
      "Epoch 17/20\n",
      "23/23 [==============================] - 2s 74ms/step - loss: 0.3153 - accuracy: 0.9457 - val_loss: 1.1523 - val_accuracy: 0.8333\n",
      "\n",
      "Epoch 00017: val_accuracy did not improve from 0.92222\n",
      "Epoch 18/20\n",
      "23/23 [==============================] - 2s 75ms/step - loss: 0.4157 - accuracy: 0.9387 - val_loss: 1.0300 - val_accuracy: 0.8556\n",
      "\n",
      "Epoch 00018: val_accuracy did not improve from 0.92222\n",
      "Epoch 19/20\n",
      "23/23 [==============================] - 1s 42ms/step - loss: 0.2878 - accuracy: 0.9596 - val_loss: 1.0118 - val_accuracy: 0.8556\n",
      "\n",
      "Epoch 00019: val_accuracy did not improve from 0.92222\n",
      "Epoch 20/20\n",
      "23/23 [==============================] - 1s 36ms/step - loss: 0.5786 - accuracy: 0.9373 - val_loss: 0.6305 - val_accuracy: 0.9000\n",
      "\n",
      "Epoch 00020: val_accuracy did not improve from 0.92222\n"
     ]
    }
   ],
   "source": [
    "base_net = load_model('../input/effnetb3spectrogram/weights.cnn.hdf5')\n",
    "layer_name = 'flatten'\n",
    "feature_extractor = Model(inputs=base_net.input, outputs=base_net.get_layer(layer_name).output)\n",
    "\n",
    "feature_train = feature_extractor.predict(x_train, verbose=1)\n",
    "feature_test = feature_extractor.predict(x_test, verbose=1)\n",
    "feature_val = feature_extractor.predict(x_validation, verbose=1)\n",
    "\n",
    "reshaped_train = np.reshape(feature_train, (int(feature_train.shape[0] / 4), 4, -1))\n",
    "reshaped_test = np.reshape(feature_test, (int(feature_test.shape[0] / 4), 4, -1))\n",
    "reshaped_val = np.reshape(feature_val, (int(feature_val.shape[0] / 4), 4, -1))\n",
    "\n",
    "\n",
    "model = Sequential()\n",
    "model.add(LSTM(128, activation='relu', input_shape= reshaped_train.shape[1:]))\n",
    "model.add(Dropout(0.2))\n",
    "model.add(Dense(4, activation='softmax'))\n",
    "\n",
    "checkpoint = ModelCheckpoint(filepath_lstm, monitor='val_accuracy', verbose=1, save_best_only=True, mode='max')\n",
    "model.compile(loss='sparse_categorical_crossentropy', optimizer='RMSprop', metrics=['accuracy'])\n",
    "hist_lstm = model.fit(reshaped_train, y_train, batch_size=32, epochs=20, validation_data=(reshaped_val, y_validation), callbacks=[checkpoint])\n",
    "model.load_weights(filepath_lstm)"
   ]
  },
  {
   "cell_type": "code",
   "execution_count": 38,
   "id": "da57fd63",
   "metadata": {
    "execution": {
     "iopub.execute_input": "2022-07-08T17:25:19.750587Z",
     "iopub.status.busy": "2022-07-08T17:25:19.750323Z",
     "iopub.status.idle": "2022-07-08T17:25:19.821597Z",
     "shell.execute_reply": "2022-07-08T17:25:19.819915Z"
    },
    "papermill": {
     "duration": 1.350115,
     "end_time": "2022-07-08T17:25:19.823823",
     "exception": false,
     "start_time": "2022-07-08T17:25:18.473708",
     "status": "completed"
    },
    "tags": []
   },
   "outputs": [
    {
     "name": "stdout",
     "output_type": "stream",
     "text": [
      "LSTM - accuracy: 0.9222221970558167 \n",
      "\n"
     ]
    }
   ],
   "source": [
    "score = model.evaluate(reshaped_test, y_test, verbose=0)\n",
    "print('LSTM - accuracy:', score[1],\"\\n\")"
   ]
  },
  {
   "cell_type": "code",
   "execution_count": 39,
   "id": "fe6e9631",
   "metadata": {
    "execution": {
     "iopub.execute_input": "2022-07-08T17:25:22.687484Z",
     "iopub.status.busy": "2022-07-08T17:25:22.687215Z",
     "iopub.status.idle": "2022-07-08T17:25:27.516998Z",
     "shell.execute_reply": "2022-07-08T17:25:27.515864Z"
    },
    "papermill": {
     "duration": 6.278835,
     "end_time": "2022-07-08T17:25:27.519607",
     "exception": false,
     "start_time": "2022-07-08T17:25:21.240772",
     "status": "completed"
    },
    "tags": []
   },
   "outputs": [
    {
     "name": "stdout",
     "output_type": "stream",
     "text": [
      "94/94 [==============================] - 3s 35ms/step\n",
      "PMEmo - accuracy: 0.6551265120506287 \n",
      "\n"
     ]
    }
   ],
   "source": [
    "features_imgs1 = feature_extractor.predict(imgs1, verbose=1)\n",
    "reshaped_imgs1 = np.reshape(features_imgs1, (int(features_imgs1.shape[0] / 4), 4, -1))\n",
    "score = model.evaluate(reshaped_imgs1, Y1_lstm, verbose=0)\n",
    "print('PMEmo - accuracy:', score[1],\"\\n\")"
   ]
  },
  {
   "cell_type": "code",
   "execution_count": 40,
   "id": "a06daed7",
   "metadata": {
    "execution": {
     "iopub.execute_input": "2022-07-08T17:25:30.863811Z",
     "iopub.status.busy": "2022-07-08T17:25:30.863502Z",
     "iopub.status.idle": "2022-07-08T17:25:33.739895Z",
     "shell.execute_reply": "2022-07-08T17:25:33.738718Z"
    },
    "papermill": {
     "duration": 4.865193,
     "end_time": "2022-07-08T17:25:33.742623",
     "exception": false,
     "start_time": "2022-07-08T17:25:28.877430",
     "status": "completed"
    },
    "tags": []
   },
   "outputs": [
    {
     "name": "stdout",
     "output_type": "stream",
     "text": [
      "50/50 [==============================] - 2s 35ms/step\n",
      "Emotify - accuracy: 0.6624684929847717 \n",
      "\n"
     ]
    }
   ],
   "source": [
    "features_imgs2 = feature_extractor.predict(imgs2, verbose=1)\n",
    "reshaped_imgs2 = np.reshape(features_imgs2, (int(features_imgs2.shape[0] / 4), 4, -1))\n",
    "score = model.evaluate(reshaped_imgs2, Y2_lstm, verbose=0)\n",
    "print('Emotify - accuracy:', score[1],\"\\n\")"
   ]
  },
  {
   "cell_type": "markdown",
   "id": "7b1f4c2a",
   "metadata": {
    "papermill": {
     "duration": 1.293877,
     "end_time": "2022-07-08T17:25:36.317541",
     "exception": false,
     "start_time": "2022-07-08T17:25:35.023664",
     "status": "completed"
    },
    "tags": []
   },
   "source": [
    "# LSTM - ALL DATASET MERGED"
   ]
  },
  {
   "cell_type": "code",
   "execution_count": 41,
   "id": "44266278",
   "metadata": {
    "execution": {
     "iopub.execute_input": "2022-07-08T17:25:38.893970Z",
     "iopub.status.busy": "2022-07-08T17:25:38.893656Z",
     "iopub.status.idle": "2022-07-08T17:25:42.855636Z",
     "shell.execute_reply": "2022-07-08T17:25:42.854194Z"
    },
    "papermill": {
     "duration": 5.253879,
     "end_time": "2022-07-08T17:25:42.858441",
     "exception": false,
     "start_time": "2022-07-08T17:25:37.604562",
     "status": "completed"
    },
    "tags": []
   },
   "outputs": [
    {
     "name": "stdout",
     "output_type": "stream",
     "text": [
      "Rimosso ID: 3069\n",
      "Rimosso ID: 3084\n",
      "Rimosso ID: 3196\n",
      "Rimosso ID: 3228\n",
      "Rimosso ID: 3342\n",
      "Rimosso ID: 3381\n",
      "Rimosso ID: 3437\n",
      "Rimosso ID: 3438\n",
      "Rimosso ID: 3558\n",
      "Rimosso ID: 3584\n",
      "Rimosso ID: 3611\n",
      "Rimosso ID: 3636\n",
      "Rimosso ID: 3688\n",
      "Rimosso ID: 3692\n",
      "Rimosso ID: 3758\n",
      "Rimosso ID: 3759\n",
      "Rimosso ID: 1678\n",
      "Rimosso ID: 1687\n",
      "Rimosso ID: 2040\n",
      "Rimosso ID: 2066\n",
      "Rimosso ID: 2073\n"
     ]
    }
   ],
   "source": [
    "df1 = pd.read_csv('../input/mel-pmemo/mel.csv')\n",
    "df2 = pd.read_csv('../input/mel-4q/mel.csv')\n",
    "df3 = pd.read_csv('../input/mel-emotify/mel.csv')\n",
    "\n",
    "df1['ID_song'] = df1['ID'].astype(str).str[0:4]\n",
    "df2['ID_song'] = df2['ID'].astype(str).str[0:4]\n",
    "df3['ID_song'] = df3['ID'].astype(str).str[0:4]\n",
    "\n",
    "df1_ID = pd.DataFrame()\n",
    "df1_ID['ID_song'] = df1['ID_song'].drop_duplicates()\n",
    "\n",
    "df2_ID = pd.DataFrame()\n",
    "df2_ID['ID_song'] = df2['ID_song'].drop_duplicates()\n",
    "\n",
    "df3_ID = pd.DataFrame()\n",
    "df3_ID['ID_song'] = df3['ID_song'].drop_duplicates()\n",
    "\n",
    "\n",
    "df_ID = pd.concat([df1_ID[:len(df1_ID)-1], df2_ID, df3_ID], ignore_index=True, sort=False)\n",
    "df = pd.concat([df1, df2, df3], ignore_index=True, sort=False)\n",
    "                   \n",
    "                   \n",
    "for i in np.array(df_ID['ID_song']):\n",
    "    miss = False\n",
    "    \n",
    "    if (i + '-0') not in df['ID'].values:\n",
    "        miss = True\n",
    "    if (i + '-1') not in df['ID'].values:\n",
    "        miss = True\n",
    "    if (i + '-2') not in df['ID'].values:\n",
    "        miss = True\n",
    "    if (i + '-3') not in df['ID'].values:\n",
    "        miss = True\n",
    "    if miss:\n",
    "        df_ID = df_ID[df_ID.ID_song != i] # riga con solo un'immagine\n",
    "        print(\"Rimosso ID: \" +i)\n",
    "        \n"
   ]
  },
  {
   "cell_type": "code",
   "execution_count": 42,
   "id": "f88f05b8",
   "metadata": {
    "execution": {
     "iopub.execute_input": "2022-07-08T17:25:45.820108Z",
     "iopub.status.busy": "2022-07-08T17:25:45.819838Z",
     "iopub.status.idle": "2022-07-08T17:25:45.835190Z",
     "shell.execute_reply": "2022-07-08T17:25:45.833718Z"
    },
    "papermill": {
     "duration": 1.304192,
     "end_time": "2022-07-08T17:25:45.838639",
     "exception": false,
     "start_time": "2022-07-08T17:25:44.534447",
     "status": "completed"
    },
    "tags": []
   },
   "outputs": [
    {
     "name": "stdout",
     "output_type": "stream",
     "text": [
      "(1431,)\n",
      "(307,)\n",
      "(307,)\n"
     ]
    },
    {
     "data": {
      "text/plain": [
       "array(['1707', '1121', '1251', '1730', '3060', '3001', '1243', '2077',\n",
       "       '3606', '3742', '2003', '2208', '3897', '1898', '3020', '3184',\n",
       "       '1879', '1868', '2006', '3079', '2126', '3066', '1445', '1404',\n",
       "       '1881', '3487', '3050', '1142', '1227', '2301', '2218', '3354',\n",
       "       '1139', '1836', '3107', '1484', '1119', '3935', '3049', '3047',\n",
       "       '2079', '2183', '2131', '1789', '3514', '1548', '2051', '1109',\n",
       "       '1547', '2106', '1374', '2391', '1645', '1409', '1344', '3827',\n",
       "       '3486', '1138', '1581', '2001', '1241', '2227', '3102', '3490',\n",
       "       '1417', '1829', '1400', '3572', '3301', '2318', '1614', '2021',\n",
       "       '1847', '3562', '1750', '2166', '3859', '2231', '1085', '1456',\n",
       "       '2202', '3784', '1025', '3848', '3269', '2262', '3137', '3388',\n",
       "       '1464', '3414', '1194', '1573', '3436', '3093', '3573', '1561',\n",
       "       '1446', '3412', '1802', '3203', '3693', '3038', '3204', '1744',\n",
       "       '3580', '1457', '2159', '3150', '1353', '2111', '1351', '1058',\n",
       "       '1536', '3237', '3833', '1729', '2290', '1394', '1012', '3058',\n",
       "       '3922', '3072', '1255', '3349', '3370', '3808', '3587', '3138',\n",
       "       '3488', '1619', '1110', '1549', '3732', '3904', '1059', '1757',\n",
       "       '1111', '2019', '3410', '3389', '3788', '1177', '1496', '1105',\n",
       "       '3339', '1491', '2353', '1508', '1842', '3948', '1841', '1335',\n",
       "       '1670', '2178', '2059', '1212', '2175', '2081', '2356', '2143',\n",
       "       '3508', '1542', '2396', '1723', '1728', '3855', '1627', '1530',\n",
       "       '2398', '1217', '1128', '1521', '3608', '1844', '1544', '3216',\n",
       "       '2168', '2222', '3823', '1382', '1801', '2080', '2281', '3566',\n",
       "       '3331', '2149', '2095', '2249', '2295', '1641', '2014', '2002',\n",
       "       '1603', '1123', '1396', '1466', '2340', '3444', '2045', '1244',\n",
       "       '1432', '3454', '2167', '3686', '1517', '3707', '1020', '1230',\n",
       "       '1261', '1706', '1489', '1316', '1219', '1818', '3398', '3149',\n",
       "       '1234', '1429', '1245', '2393', '1856', '3886', '3275', '1416',\n",
       "       '3383', '1891', '1854', '3158', '2259', '2068', '1237', '2047',\n",
       "       '1096', '2041', '1392', '1742', '3733', '2078', '3495', '3347',\n",
       "       '2287', '1651', '3348', '1803', '3928', '1827', '1413', '3570',\n",
       "       '1688', '1395', '2362', '3926', '3397', '3536', '2085', '1103',\n",
       "       '1389', '1720', '1703', '1871', '3720', '3510', '3315', '3896',\n",
       "       '1079', '1278', '2049', '1543', '2310', '3006', '3309', '2239',\n",
       "       '1061', '2252', '2355', '3171', '3442', '2210', '1533', '3385',\n",
       "       '1618', '1637', '1568', '3059', '3736', '3917', '2029', '1157',\n",
       "       '3100', '3889', '1430', '3627', '3242', '1591', '3761', '3083',\n",
       "       '3798', '1175', '1714', '2011', '3128', '1091', '1837', '1170',\n",
       "       '2263', '2273', '3706'], dtype=object)"
      ]
     },
     "execution_count": 42,
     "metadata": {},
     "output_type": "execute_result"
    }
   ],
   "source": [
    "ID_train, ID_test = train_test_split( np.array(df_ID['ID_song']), test_size=0.30, shuffle = True,  random_state=1)\n",
    "ID_test, ID_validation = train_test_split( ID_test, test_size=0.5, shuffle = True,  random_state=1)\n",
    "\n",
    "print(ID_train.shape)\n",
    "print(ID_test.shape)\n",
    "print(ID_validation.shape)\n",
    "ID_test"
   ]
  },
  {
   "cell_type": "code",
   "execution_count": 43,
   "id": "fe8a4ff0",
   "metadata": {
    "execution": {
     "iopub.execute_input": "2022-07-08T17:25:48.453167Z",
     "iopub.status.busy": "2022-07-08T17:25:48.452883Z",
     "iopub.status.idle": "2022-07-08T17:25:52.140825Z",
     "shell.execute_reply": "2022-07-08T17:25:52.139910Z"
    },
    "papermill": {
     "duration": 4.992482,
     "end_time": "2022-07-08T17:25:52.142951",
     "exception": false,
     "start_time": "2022-07-08T17:25:47.150469",
     "status": "completed"
    },
    "tags": []
   },
   "outputs": [
    {
     "name": "stdout",
     "output_type": "stream",
     "text": [
      "(5724,)\n",
      "(1228,)\n",
      "(1228,)\n"
     ]
    },
    {
     "data": {
      "text/plain": [
       "array(['1707-0', '1707-1', '1707-2', '1707-3', '1121-0', '1121-1',\n",
       "       '1121-2', '1121-3', '1251-0', '1251-1', '1251-2', '1251-3',\n",
       "       '1730-0', '1730-1', '1730-2', '1730-3', '3060-0', '3060-1',\n",
       "       '3060-2', '3060-3', '3001-0', '3001-1', '3001-2', '3001-3',\n",
       "       '1243-0', '1243-1', '1243-2', '1243-3', '2077-0', '2077-1',\n",
       "       '2077-2', '2077-3', '3606-0', '3606-1', '3606-2', '3606-3',\n",
       "       '3742-0', '3742-1', '3742-2', '3742-3', '2003-0', '2003-1',\n",
       "       '2003-2', '2003-3', '2208-0', '2208-1', '2208-2', '2208-3',\n",
       "       '3897-0', '3897-1', '3897-2', '3897-3', '1898-0', '1898-1',\n",
       "       '1898-2', '1898-3', '3020-0', '3020-1', '3020-2', '3020-3',\n",
       "       '3184-0', '3184-1', '3184-2', '3184-3', '1879-0', '1879-1',\n",
       "       '1879-2', '1879-3', '1868-0', '1868-1', '1868-2', '1868-3',\n",
       "       '2006-0', '2006-1', '2006-2', '2006-3', '3079-0', '3079-1',\n",
       "       '3079-2', '3079-3', '2126-0', '2126-1', '2126-2', '2126-3',\n",
       "       '3066-0', '3066-1', '3066-2', '3066-3', '1445-0', '1445-1',\n",
       "       '1445-2', '1445-3', '1404-0', '1404-1', '1404-2', '1404-3',\n",
       "       '1881-0', '1881-1', '1881-2', '1881-3'], dtype='<U6')"
      ]
     },
     "execution_count": 43,
     "metadata": {},
     "output_type": "execute_result"
    }
   ],
   "source": [
    "y_train_ID = []\n",
    "y_test_ID = []\n",
    "y_validation_ID = []\n",
    "\n",
    "for i in ID_train:\n",
    "    if (i + '-0') in df['ID'].values:\n",
    "        y_train_ID.append(i + '-0')\n",
    "    if (i + '-1') in df['ID'].values:\n",
    "        y_train_ID.append(i + '-1')\n",
    "    if (i + '-2') in df['ID'].values:\n",
    "        y_train_ID.append(i + '-2')\n",
    "    if (i + '-3') in df['ID'].values:\n",
    "        y_train_ID.append(i + '-3')\n",
    "\n",
    "\n",
    "for i in ID_test:\n",
    "    if (i + '-0') in df['ID'].values:\n",
    "        y_test_ID.append(i + '-0')\n",
    "    if (i + '-1') in df['ID'].values:\n",
    "        y_test_ID.append(i + '-1')\n",
    "    if (i + '-2') in df['ID'].values:\n",
    "        y_test_ID.append(i + '-2')\n",
    "    if (i + '-3') in df['ID'].values:\n",
    "        y_test_ID.append(i + '-3')\n",
    "\n",
    "        \n",
    "for i in ID_validation:\n",
    "    if (i + '-0') in df['ID'].values:\n",
    "        y_validation_ID.append(i + '-0')\n",
    "    if (i + '-1') in df['ID'].values:\n",
    "        y_validation_ID.append(i + '-1')\n",
    "    if (i + '-2') in df['ID'].values:\n",
    "        y_validation_ID.append(i + '-2')\n",
    "    if (i + '-3') in df['ID'].values:\n",
    "        y_validation_ID.append(i + '-3')\n",
    "\n",
    "        \n",
    "y_train_ID = np.array(y_train_ID)\n",
    "y_test_ID = np.array(y_test_ID)\n",
    "y_validation_ID = np.array(y_validation_ID)\n",
    "\n",
    "print(y_train_ID.shape)\n",
    "print(y_test_ID.shape)\n",
    "print(y_validation_ID.shape)\n",
    "y_test_ID[:100]"
   ]
  },
  {
   "cell_type": "code",
   "execution_count": 44,
   "id": "ba0fc077",
   "metadata": {
    "execution": {
     "iopub.execute_input": "2022-07-08T17:25:55.083321Z",
     "iopub.status.busy": "2022-07-08T17:25:55.082992Z",
     "iopub.status.idle": "2022-07-08T17:26:24.645610Z",
     "shell.execute_reply": "2022-07-08T17:26:24.644426Z"
    },
    "papermill": {
     "duration": 31.198457,
     "end_time": "2022-07-08T17:26:24.647822",
     "exception": false,
     "start_time": "2022-07-08T17:25:53.449365",
     "status": "completed"
    },
    "tags": []
   },
   "outputs": [
    {
     "name": "stdout",
     "output_type": "stream",
     "text": [
      "(5724, 300, 300, 3)\n",
      "(1228, 300, 300, 3)\n",
      "(1228, 300, 300, 3)\n"
     ]
    }
   ],
   "source": [
    "path1 = '../input/mel-pmemo/melspectrogram_dataset/'\n",
    "path2 = '../input/mel-4q/melspectrogram_dataset/'\n",
    "path3 = '../input/mel-emotify/melspectrogram_dataset/'\n",
    "\n",
    "\n",
    "# Load the images and the labels\n",
    "x_train = []\n",
    "x_test = []\n",
    "x_validation = []\n",
    "\n",
    "for img in y_train_ID:\n",
    "    if img[0] == '3':\n",
    "        pic = image.load_img((path1 + img + '.png'))\n",
    "        x_train.append(np.array(pic))\n",
    "    elif img[0] == '1':\n",
    "        pic = image.load_img((path2 + img + '.png'))\n",
    "        x_train.append(np.array(pic))\n",
    "    elif img[0] == '2':\n",
    "        pic = image.load_img((path3 + img + '.png'))\n",
    "        x_train.append(np.array(pic))\n",
    "\n",
    "for img in y_test_ID:\n",
    "    if img[0] == '3':\n",
    "        pic = image.load_img((path1 + img + '.png'))\n",
    "        x_test.append(np.array(pic))\n",
    "    elif img[0] == '1':\n",
    "        pic = image.load_img((path2 + img + '.png'))\n",
    "        x_test.append(np.array(pic))\n",
    "    elif img[0] == '2':\n",
    "        pic = image.load_img((path3 + img + '.png'))\n",
    "        x_test.append(np.array(pic))\n",
    "        \n",
    "for img in y_validation_ID:\n",
    "    if img[0] == '3':\n",
    "        pic = image.load_img((path1 + img + '.png'))\n",
    "        x_validation.append(np.array(pic))\n",
    "    elif img[0] == '1':\n",
    "        pic = image.load_img((path2 + img + '.png'))\n",
    "        x_validation.append(np.array(pic))\n",
    "    elif img[0] == '2':\n",
    "        pic = image.load_img((path3 + img + '.png'))\n",
    "        x_validation.append(np.array(pic))\n",
    "\n",
    "    \n",
    "x_train = np.array(x_train)\n",
    "x_test = np.array(x_test)\n",
    "x_validation = np.array(x_validation)\n",
    "\n",
    "print(x_train.shape)\n",
    "print(x_test.shape)\n",
    "print(x_validation.shape)"
   ]
  },
  {
   "cell_type": "code",
   "execution_count": 45,
   "id": "240ef5ae",
   "metadata": {
    "execution": {
     "iopub.execute_input": "2022-07-08T17:26:27.556459Z",
     "iopub.status.busy": "2022-07-08T17:26:27.555958Z",
     "iopub.status.idle": "2022-07-08T17:26:31.487326Z",
     "shell.execute_reply": "2022-07-08T17:26:31.486315Z"
    },
    "papermill": {
     "duration": 5.546536,
     "end_time": "2022-07-08T17:26:31.489538",
     "exception": false,
     "start_time": "2022-07-08T17:26:25.943002",
     "status": "completed"
    },
    "tags": []
   },
   "outputs": [
    {
     "name": "stdout",
     "output_type": "stream",
     "text": [
      "(1431,)\n",
      "(307,)\n",
      "(307,)\n"
     ]
    }
   ],
   "source": [
    "y_train = []\n",
    "y_test = []\n",
    "y_validation = []\n",
    "\n",
    "for i in ID_train:\n",
    "    \n",
    "    row = df.loc[df['ID'] == (i + '-0')]\n",
    "    y_train.append(row['Label'].iloc[0])\n",
    "\n",
    "for i in ID_test:\n",
    "    \n",
    "    row = df.loc[df['ID'] == (i + '-0')]\n",
    "    y_test.append(row['Label'].iloc[0])\n",
    "\n",
    "\n",
    "for i in ID_validation:\n",
    "    \n",
    "    row = df.loc[df['ID'] == (i + '-0')]\n",
    "    y_validation.append(row['Label'].iloc[0])\n",
    "    \n",
    "    \n",
    "    \n",
    "y_train = np.array(y_train)\n",
    "y_test = np.array(y_test)\n",
    "y_validation = np.array(y_validation)\n",
    "\n",
    "print(y_train.shape)\n",
    "print(y_test.shape)\n",
    "print(y_validation.shape)"
   ]
  },
  {
   "cell_type": "code",
   "execution_count": 46,
   "id": "3ebd20de",
   "metadata": {
    "execution": {
     "iopub.execute_input": "2022-07-08T17:26:34.125022Z",
     "iopub.status.busy": "2022-07-08T17:26:34.124644Z",
     "iopub.status.idle": "2022-07-08T17:26:52.050463Z",
     "shell.execute_reply": "2022-07-08T17:26:52.048376Z"
    },
    "papermill": {
     "duration": 19.237717,
     "end_time": "2022-07-08T17:26:52.052938",
     "exception": false,
     "start_time": "2022-07-08T17:26:32.815221",
     "status": "completed"
    },
    "tags": []
   },
   "outputs": [
    {
     "name": "stdout",
     "output_type": "stream",
     "text": [
      "179/179 [==============================] - 6s 35ms/step\n",
      "39/39 [==============================] - 2s 42ms/step\n",
      "39/39 [==============================] - 1s 34ms/step\n",
      "(5724, 1280)\n",
      "(1228, 1280)\n",
      "(1228, 1280)\n"
     ]
    }
   ],
   "source": [
    "feature_train = feature_extractor.predict(x_train, verbose=1)\n",
    "feature_test = feature_extractor.predict(x_test, verbose=1)\n",
    "feature_val = feature_extractor.predict(x_validation, verbose=1)\n",
    "\n",
    "print(feature_train.shape)\n",
    "print(feature_test.shape)\n",
    "print(feature_val.shape)"
   ]
  },
  {
   "cell_type": "code",
   "execution_count": 47,
   "id": "bacf24a3",
   "metadata": {
    "execution": {
     "iopub.execute_input": "2022-07-08T17:26:54.766188Z",
     "iopub.status.busy": "2022-07-08T17:26:54.765904Z",
     "iopub.status.idle": "2022-07-08T17:26:54.774517Z",
     "shell.execute_reply": "2022-07-08T17:26:54.773461Z"
    },
    "papermill": {
     "duration": 1.370172,
     "end_time": "2022-07-08T17:26:54.777348",
     "exception": false,
     "start_time": "2022-07-08T17:26:53.407176",
     "status": "completed"
    },
    "tags": []
   },
   "outputs": [
    {
     "name": "stdout",
     "output_type": "stream",
     "text": [
      "(1431, 4, 1280)\n",
      "(307, 4, 1280)\n",
      "(307, 4, 1280)\n"
     ]
    }
   ],
   "source": [
    "reshaped_train = np.reshape(feature_train, (int(feature_train.shape[0] / 4), 4, -1))\n",
    "print(reshaped_train.shape)\n",
    "\n",
    "reshaped_test = np.reshape(feature_test, (int(feature_test.shape[0] / 4), 4, -1))\n",
    "print(reshaped_test.shape)\n",
    "\n",
    "reshaped_val = np.reshape(feature_val, (int(feature_val.shape[0] / 4), 4, -1))\n",
    "print(reshaped_val.shape)"
   ]
  },
  {
   "cell_type": "code",
   "execution_count": 48,
   "id": "c0d5196d",
   "metadata": {
    "execution": {
     "iopub.execute_input": "2022-07-08T17:26:57.538816Z",
     "iopub.status.busy": "2022-07-08T17:26:57.538005Z",
     "iopub.status.idle": "2022-07-08T17:27:38.354265Z",
     "shell.execute_reply": "2022-07-08T17:27:38.353262Z"
    },
    "papermill": {
     "duration": 42.228806,
     "end_time": "2022-07-08T17:27:38.356742",
     "exception": false,
     "start_time": "2022-07-08T17:26:56.127936",
     "status": "completed"
    },
    "tags": []
   },
   "outputs": [
    {
     "name": "stdout",
     "output_type": "stream",
     "text": [
      "Epoch 1/20\n",
      "45/45 [==============================] - 5s 41ms/step - loss: 4.2008 - accuracy: 0.6918 - val_loss: 1.3452 - val_accuracy: 0.7590\n",
      "\n",
      "Epoch 00001: val_accuracy improved from -inf to 0.75896, saving model to weights.LSTM.hdf5\n",
      "Epoch 2/20\n",
      "45/45 [==============================] - 2s 35ms/step - loss: 1.8163 - accuracy: 0.7184 - val_loss: 0.8350 - val_accuracy: 0.7590\n",
      "\n",
      "Epoch 00002: val_accuracy did not improve from 0.75896\n",
      "Epoch 3/20\n",
      "45/45 [==============================] - 2s 35ms/step - loss: 1.1701 - accuracy: 0.7505 - val_loss: 0.7846 - val_accuracy: 0.7134\n",
      "\n",
      "Epoch 00003: val_accuracy did not improve from 0.75896\n",
      "Epoch 4/20\n",
      "45/45 [==============================] - 2s 34ms/step - loss: 1.0288 - accuracy: 0.7191 - val_loss: 0.9030 - val_accuracy: 0.7720\n",
      "\n",
      "Epoch 00004: val_accuracy improved from 0.75896 to 0.77199, saving model to weights.LSTM.hdf5\n",
      "Epoch 5/20\n",
      "45/45 [==============================] - 3s 59ms/step - loss: 0.8790 - accuracy: 0.7449 - val_loss: 0.6525 - val_accuracy: 0.7818\n",
      "\n",
      "Epoch 00005: val_accuracy improved from 0.77199 to 0.78176, saving model to weights.LSTM.hdf5\n",
      "Epoch 6/20\n",
      "45/45 [==============================] - 2s 47ms/step - loss: 0.8602 - accuracy: 0.7778 - val_loss: 0.6431 - val_accuracy: 0.7948\n",
      "\n",
      "Epoch 00006: val_accuracy improved from 0.78176 to 0.79479, saving model to weights.LSTM.hdf5\n",
      "Epoch 7/20\n",
      "45/45 [==============================] - 2s 34ms/step - loss: 0.8701 - accuracy: 0.7680 - val_loss: 0.7115 - val_accuracy: 0.7948\n",
      "\n",
      "Epoch 00007: val_accuracy did not improve from 0.79479\n",
      "Epoch 8/20\n",
      "45/45 [==============================] - 2s 36ms/step - loss: 0.7899 - accuracy: 0.7911 - val_loss: 0.8128 - val_accuracy: 0.7394\n",
      "\n",
      "Epoch 00008: val_accuracy did not improve from 0.79479\n",
      "Epoch 9/20\n",
      "45/45 [==============================] - 2s 35ms/step - loss: 0.8931 - accuracy: 0.7652 - val_loss: 0.6825 - val_accuracy: 0.7818\n",
      "\n",
      "Epoch 00009: val_accuracy did not improve from 0.79479\n",
      "Epoch 10/20\n",
      "45/45 [==============================] - 2s 36ms/step - loss: 0.7330 - accuracy: 0.7959 - val_loss: 0.9908 - val_accuracy: 0.7134\n",
      "\n",
      "Epoch 00010: val_accuracy did not improve from 0.79479\n",
      "Epoch 11/20\n",
      "45/45 [==============================] - 2s 36ms/step - loss: 0.7062 - accuracy: 0.8148 - val_loss: 0.6519 - val_accuracy: 0.7818\n",
      "\n",
      "Epoch 00011: val_accuracy did not improve from 0.79479\n",
      "Epoch 12/20\n",
      "45/45 [==============================] - 2s 34ms/step - loss: 0.6909 - accuracy: 0.8085 - val_loss: 0.8083 - val_accuracy: 0.7948\n",
      "\n",
      "Epoch 00012: val_accuracy did not improve from 0.79479\n",
      "Epoch 13/20\n",
      "45/45 [==============================] - 2s 54ms/step - loss: 0.6647 - accuracy: 0.7987 - val_loss: 0.7213 - val_accuracy: 0.7915\n",
      "\n",
      "Epoch 00013: val_accuracy did not improve from 0.79479\n",
      "Epoch 14/20\n",
      "45/45 [==============================] - 2s 42ms/step - loss: 0.8170 - accuracy: 0.7904 - val_loss: 0.7548 - val_accuracy: 0.7752\n",
      "\n",
      "Epoch 00014: val_accuracy did not improve from 0.79479\n",
      "Epoch 15/20\n",
      "45/45 [==============================] - 2s 35ms/step - loss: 0.6614 - accuracy: 0.8141 - val_loss: 0.8544 - val_accuracy: 0.7818\n",
      "\n",
      "Epoch 00015: val_accuracy did not improve from 0.79479\n",
      "Epoch 16/20\n",
      "45/45 [==============================] - 3s 65ms/step - loss: 0.6503 - accuracy: 0.8141 - val_loss: 0.7760 - val_accuracy: 0.7785\n",
      "\n",
      "Epoch 00016: val_accuracy did not improve from 0.79479\n",
      "Epoch 17/20\n",
      "45/45 [==============================] - 3s 72ms/step - loss: 0.6965 - accuracy: 0.7980 - val_loss: 0.8099 - val_accuracy: 0.7818\n",
      "\n",
      "Epoch 00017: val_accuracy did not improve from 0.79479\n",
      "Epoch 18/20\n",
      "45/45 [==============================] - 2s 38ms/step - loss: 0.6437 - accuracy: 0.8190 - val_loss: 0.6847 - val_accuracy: 0.7915\n",
      "\n",
      "Epoch 00018: val_accuracy did not improve from 0.79479\n",
      "Epoch 19/20\n",
      "45/45 [==============================] - 2s 35ms/step - loss: 0.6039 - accuracy: 0.8176 - val_loss: 0.6795 - val_accuracy: 0.7720\n",
      "\n",
      "Epoch 00019: val_accuracy did not improve from 0.79479\n",
      "Epoch 20/20\n",
      "45/45 [==============================] - 2s 35ms/step - loss: 0.6105 - accuracy: 0.8239 - val_loss: 0.7250 - val_accuracy: 0.7687\n",
      "\n",
      "Epoch 00020: val_accuracy did not improve from 0.79479\n"
     ]
    }
   ],
   "source": [
    "model = Sequential()\n",
    "model.add(LSTM(128, activation='relu', input_shape= reshaped_train.shape[1:]))\n",
    "model.add(Dropout(0.2))\n",
    "model.add(Dense(4, activation='softmax'))\n",
    "\n",
    "checkpoint = ModelCheckpoint(filepath_lstm, monitor='val_accuracy', verbose=1, save_best_only=True, mode='max')\n",
    "model.compile(loss='sparse_categorical_crossentropy', optimizer='RMSprop', metrics=['accuracy'])\n",
    "\n",
    "\n",
    "hist_lstm = model.fit(reshaped_train, y_train, batch_size=32, epochs=20, validation_data=(reshaped_val, y_validation), callbacks=[checkpoint])\n",
    "model.load_weights(filepath_lstm)"
   ]
  },
  {
   "cell_type": "code",
   "execution_count": 49,
   "id": "a76adae3",
   "metadata": {
    "execution": {
     "iopub.execute_input": "2022-07-08T17:27:41.848481Z",
     "iopub.status.busy": "2022-07-08T17:27:41.848083Z",
     "iopub.status.idle": "2022-07-08T17:27:42.516158Z",
     "shell.execute_reply": "2022-07-08T17:27:42.514949Z"
    },
    "papermill": {
     "duration": 2.572496,
     "end_time": "2022-07-08T17:27:42.519509",
     "exception": false,
     "start_time": "2022-07-08T17:27:39.947013",
     "status": "completed"
    },
    "tags": []
   },
   "outputs": [
    {
     "data": {
      "image/png": "[encoded data removed]",
      "text/plain": [
       "<Figure size 432x288 with 1 Axes>"
      ]
     },
     "metadata": {
      "needs_background": "light"
     },
     "output_type": "display_data"
    },
    {
     "data": {
      "image/png": "[encoded data removed]",
      "text/plain": [
       "<Figure size 432x288 with 1 Axes>"
      ]
     },
     "metadata": {
      "needs_background": "light"
     },
     "output_type": "display_data"
    }
   ],
   "source": [
    "plot_hist(hist_lstm, title=\"MobileNetV3 + LSTM\")"
   ]
  },
  {
   "cell_type": "code",
   "execution_count": 50,
   "id": "025db1ce",
   "metadata": {
    "execution": {
     "iopub.execute_input": "2022-07-08T17:27:46.065090Z",
     "iopub.status.busy": "2022-07-08T17:27:46.064810Z",
     "iopub.status.idle": "2022-07-08T17:27:46.075890Z",
     "shell.execute_reply": "2022-07-08T17:27:46.074754Z"
    },
    "papermill": {
     "duration": 1.719971,
     "end_time": "2022-07-08T17:27:46.078069",
     "exception": false,
     "start_time": "2022-07-08T17:27:44.358098",
     "status": "completed"
    },
    "tags": []
   },
   "outputs": [],
   "source": [
    "def plot_confusion_matrix(cm, classes,\n",
    "                          normalize=False,\n",
    "                          title='Confusion matrix',\n",
    "                          cmap=plt.cm.Blues):\n",
    "    \"\"\"\n",
    "    This function prints and plots the confusion matrix.\n",
    "    Normalization can be applied by setting `normalize=True`.\n",
    "    \"\"\"\n",
    "    plt.figure(figsize = (5,5))\n",
    "    plt.imshow(cm, interpolation='nearest', cmap=cmap)\n",
    "    plt.title(title)\n",
    "    plt.colorbar()\n",
    "    tick_marks = np.arange(len(classes))\n",
    "    plt.xticks(tick_marks, classes, rotation=90)\n",
    "    plt.yticks(tick_marks, classes)\n",
    "    if normalize:\n",
    "        cm = cm.astype('float') / cm.sum(axis=1)[:, np.newaxis]\n",
    "\n",
    "    thresh = cm.max() / 2.\n",
    "    for i, j in itertools.product(range(cm.shape[0]), range(cm.shape[1])):\n",
    "        plt.text(j, i, cm[i, j],\n",
    "                 horizontalalignment=\"center\",\n",
    "                 color=\"white\" if cm[i, j] > thresh else \"black\")\n",
    "    plt.tight_layout()\n",
    "    plt.ylabel('True label')\n",
    "    plt.xlabel('Predicted label')"
   ]
  },
  {
   "cell_type": "code",
   "execution_count": 51,
   "id": "ef01a911",
   "metadata": {
    "execution": {
     "iopub.execute_input": "2022-07-08T17:27:49.347558Z",
     "iopub.status.busy": "2022-07-08T17:27:49.347290Z",
     "iopub.status.idle": "2022-07-08T17:27:50.062188Z",
     "shell.execute_reply": "2022-07-08T17:27:50.061256Z"
    },
    "papermill": {
     "duration": 2.388943,
     "end_time": "2022-07-08T17:27:50.064474",
     "exception": false,
     "start_time": "2022-07-08T17:27:47.675531",
     "status": "completed"
    },
    "tags": []
   },
   "outputs": [
    {
     "name": "stdout",
     "output_type": "stream",
     "text": [
      "Convolutional Neural Network - accuracy: 0.8241042494773865 \n",
      "\n"
     ]
    },
    {
     "data": {
      "image/png": "[encoded data removed]",
      "text/plain": [
       "<Figure size 360x360 with 2 Axes>"
      ]
     },
     "metadata": {
      "needs_background": "light"
     },
     "output_type": "display_data"
    }
   ],
   "source": [
    "score = model.evaluate(reshaped_test, y_test, verbose=0)\n",
    "print('Convolutional Neural Network - accuracy:', score[1],\"\\n\")\n",
    "Y_pred = model.predict(reshaped_test)\n",
    "Y_pred_classes = np.argmax(Y_pred,axis = 1) \n",
    "confusion_mtx = confusion_matrix(y_test, Y_pred_classes)\n",
    "plot_confusion_matrix(confusion_mtx, classes = ['A-V-','A-V+','A+V-','A+V+']) \n",
    "plt.show()"
   ]
  }
 ],
 "metadata": {
  "kernelspec": {
   "display_name": "Python 3",
   "language": "python",
   "name": "python3"
  },
  "language_info": {
   "codemirror_mode": {
    "name": "ipython",
    "version": 3
   },
   "file_extension": ".py",
   "mimetype": "text/x-python",
   "name": "python",
   "nbconvert_exporter": "python",
   "pygments_lexer": "ipython3",
   "version": "3.7.12"
  },
  "papermill": {
   "default_parameters": {},
   "duration": 1043.904709,
   "end_time": "2022-07-08T17:27:55.354958",
   "environment_variables": {},
   "exception": null,
   "input_path": "__notebook__.ipynb",
   "output_path": "__notebook__.ipynb",
   "parameters": {},
   "start_time": "2022-07-08T17:10:31.450249",
   "version": "2.3.4"
  }
 },
 "nbformat": 4,
 "nbformat_minor": 5
}
