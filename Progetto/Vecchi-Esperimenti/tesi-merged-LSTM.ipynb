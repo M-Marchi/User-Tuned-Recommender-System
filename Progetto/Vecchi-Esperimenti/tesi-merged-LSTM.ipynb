{
 "cells": [
  {
   "cell_type": "code",
   "execution_count": 1,
   "id": "43bf750f",
   "metadata": {
    "_cell_guid": "b1076dfc-b9ad-4769-8c92-a6c4dae69d19",
    "_uuid": "8f2839f25d086af736a60e9eeb907d3b93b6e0e5",
    "execution": {
     "iopub.execute_input": "2022-06-21T16:06:42.883064Z",
     "iopub.status.busy": "2022-06-21T16:06:42.882680Z",
     "iopub.status.idle": "2022-06-21T16:06:50.336562Z",
     "shell.execute_reply": "2022-06-21T16:06:50.335680Z"
    },
    "papermill": {
     "duration": 7.478373,
     "end_time": "2022-06-21T16:06:50.339022",
     "exception": false,
     "start_time": "2022-06-21T16:06:42.860649",
     "status": "completed"
    },
    "tags": []
   },
   "outputs": [],
   "source": [
    "import zipfile\n",
    "import os\n",
    "import pandas as pd\n",
    "import tensorflow as tf\n",
    "from tensorflow import keras\n",
    "from keras import optimizers\n",
    "from keras import layers\n",
    "from keras.regularizers import l2\n",
    "from tensorflow.keras.preprocessing import image\n",
    "from tensorflow.keras.models import Model\n",
    "from keras.models import Sequential\n",
    "from keras.layers import Dense, GlobalAveragePooling2D, Dropout, Flatten, concatenate\n",
    "from tensorflow.keras import regularizers\n",
    "from keras.callbacks import EarlyStopping\n",
    "from keras.callbacks import ModelCheckpoint\n",
    "from keras.utils.vis_utils import plot_model\n",
    "import pylab as pl\n",
    "import numpy as np\n",
    "import matplotlib.image as mpimg\n",
    "import matplotlib.pyplot as plt\n",
    "import seaborn as sns\n",
    "from sklearn.model_selection import train_test_split\n",
    "from keras.models import load_model\n",
    "from keras.utils import np_utils\n",
    "from sklearn.utils import shuffle\n",
    "from sklearn.metrics import confusion_matrix\n",
    "from sklearn import preprocessing\n",
    "import itertools\n",
    "import math\n",
    "from keras.layers.recurrent import LSTM\n",
    "\n",
    "# audio lib\n",
    "import librosa\n",
    "import librosa.display\n",
    "from librosa.util import fix_length\n",
    "\n",
    "import IPython.display as ipd\n",
    "from PIL import Image\n"
   ]
  },
  {
   "cell_type": "code",
   "execution_count": 2,
   "id": "7daa5bec",
   "metadata": {
    "execution": {
     "iopub.execute_input": "2022-06-21T16:06:50.378182Z",
     "iopub.status.busy": "2022-06-21T16:06:50.377896Z",
     "iopub.status.idle": "2022-06-21T16:06:50.381875Z",
     "shell.execute_reply": "2022-06-21T16:06:50.381146Z"
    },
    "papermill": {
     "duration": 0.025447,
     "end_time": "2022-06-21T16:06:50.383701",
     "exception": false,
     "start_time": "2022-06-21T16:06:50.358254",
     "status": "completed"
    },
    "tags": []
   },
   "outputs": [],
   "source": [
    "import warnings\n",
    "warnings.filterwarnings(\"ignore\")"
   ]
  },
  {
   "cell_type": "markdown",
   "id": "bda4a05f",
   "metadata": {
    "papermill": {
     "duration": 0.018363,
     "end_time": "2022-06-21T16:06:50.420639",
     "exception": false,
     "start_time": "2022-06-21T16:06:50.402276",
     "status": "completed"
    },
    "tags": []
   },
   "source": [
    "# CNN MEL SPECTROGRAM APPROACH - MERGED DATASET\n",
    "\n",
    "Una volta capito che il modello migliore era quello ottenuto tramite CNN sono stati generati spectrogrammi di Mel corrispondenti i dataset: \"PMEmo\", \"4Q\", \"Emotify\".\n",
    "Al fine di ottenere un dataset finale più bilanciato del dataset \"PMEmo\" sono stati presi solo 600 campioni."
   ]
  },
  {
   "cell_type": "code",
   "execution_count": 3,
   "id": "58a30cf2",
   "metadata": {
    "execution": {
     "iopub.execute_input": "2022-06-21T16:06:50.458445Z",
     "iopub.status.busy": "2022-06-21T16:06:50.458217Z",
     "iopub.status.idle": "2022-06-21T16:06:50.524671Z",
     "shell.execute_reply": "2022-06-21T16:06:50.523947Z"
    },
    "papermill": {
     "duration": 0.087309,
     "end_time": "2022-06-21T16:06:50.526319",
     "exception": false,
     "start_time": "2022-06-21T16:06:50.439010",
     "status": "completed"
    },
    "tags": []
   },
   "outputs": [
    {
     "data": {
      "text/html": [
       "<div>\n",
       "<style scoped>\n",
       "    .dataframe tbody tr th:only-of-type {\n",
       "        vertical-align: middle;\n",
       "    }\n",
       "\n",
       "    .dataframe tbody tr th {\n",
       "        vertical-align: top;\n",
       "    }\n",
       "\n",
       "    .dataframe thead th {\n",
       "        text-align: right;\n",
       "    }\n",
       "</style>\n",
       "<table border=\"1\" class=\"dataframe\">\n",
       "  <thead>\n",
       "    <tr style=\"text-align: right;\">\n",
       "      <th></th>\n",
       "      <th>ID_song</th>\n",
       "    </tr>\n",
       "  </thead>\n",
       "  <tbody>\n",
       "    <tr>\n",
       "      <th>0</th>\n",
       "      <td>3001</td>\n",
       "    </tr>\n",
       "    <tr>\n",
       "      <th>5</th>\n",
       "      <td>3004</td>\n",
       "    </tr>\n",
       "    <tr>\n",
       "      <th>10</th>\n",
       "      <td>3005</td>\n",
       "    </tr>\n",
       "    <tr>\n",
       "      <th>15</th>\n",
       "      <td>3006</td>\n",
       "    </tr>\n",
       "    <tr>\n",
       "      <th>20</th>\n",
       "      <td>3007</td>\n",
       "    </tr>\n",
       "    <tr>\n",
       "      <th>...</th>\n",
       "      <td>...</td>\n",
       "    </tr>\n",
       "    <tr>\n",
       "      <th>3718</th>\n",
       "      <td>3993</td>\n",
       "    </tr>\n",
       "    <tr>\n",
       "      <th>3723</th>\n",
       "      <td>3996</td>\n",
       "    </tr>\n",
       "    <tr>\n",
       "      <th>3728</th>\n",
       "      <td>3997</td>\n",
       "    </tr>\n",
       "    <tr>\n",
       "      <th>3733</th>\n",
       "      <td>3999</td>\n",
       "    </tr>\n",
       "    <tr>\n",
       "      <th>3738</th>\n",
       "      <td>4000</td>\n",
       "    </tr>\n",
       "  </tbody>\n",
       "</table>\n",
       "<p>767 rows × 1 columns</p>\n",
       "</div>"
      ],
      "text/plain": [
       "     ID_song\n",
       "0       3001\n",
       "5       3004\n",
       "10      3005\n",
       "15      3006\n",
       "20      3007\n",
       "...      ...\n",
       "3718    3993\n",
       "3723    3996\n",
       "3728    3997\n",
       "3733    3999\n",
       "3738    4000\n",
       "\n",
       "[767 rows x 1 columns]"
      ]
     },
     "execution_count": 3,
     "metadata": {},
     "output_type": "execute_result"
    }
   ],
   "source": [
    "df1 = pd.read_csv('../input/mel-pmemo/mel.csv')\n",
    "df2 = pd.read_csv('../input/mel-4q/mel.csv')\n",
    "df3 = pd.read_csv('../input/mel-emotify/mel.csv')\n",
    "\n",
    "df1['ID_song'] = df1['ID'].astype(str).str[0:4]\n",
    "df2['ID_song'] = df2['ID'].astype(str).str[0:4]\n",
    "df3['ID_song'] = df3['ID'].astype(str).str[0:4]\n",
    "\n",
    "df1_ID = pd.DataFrame()\n",
    "df1_ID['ID_song'] = df1['ID_song'].drop_duplicates()\n",
    "\n",
    "df2_ID = pd.DataFrame()\n",
    "df2_ID['ID_song'] = df2['ID_song'].drop_duplicates()\n",
    "\n",
    "df3_ID = pd.DataFrame()\n",
    "df3_ID['ID_song'] = df3['ID_song'].drop_duplicates()\n",
    "\n",
    "\n",
    "df1_ID"
   ]
  },
  {
   "cell_type": "code",
   "execution_count": 4,
   "id": "2888f64b",
   "metadata": {
    "execution": {
     "iopub.execute_input": "2022-06-21T16:06:50.566588Z",
     "iopub.status.busy": "2022-06-21T16:06:50.565892Z",
     "iopub.status.idle": "2022-06-21T16:06:50.574740Z",
     "shell.execute_reply": "2022-06-21T16:06:50.573632Z"
    },
    "papermill": {
     "duration": 0.030744,
     "end_time": "2022-06-21T16:06:50.576928",
     "exception": false,
     "start_time": "2022-06-21T16:06:50.546184",
     "status": "completed"
    },
    "tags": []
   },
   "outputs": [
    {
     "name": "stdout",
     "output_type": "stream",
     "text": [
      "(1200, 1)\n",
      "(9844, 3)\n"
     ]
    }
   ],
   "source": [
    "df_ID = pd.concat([df1_ID[:150], df2_ID, df3_ID[:150]], ignore_index=True, sort=False)\n",
    "df = pd.concat([df1, df2, df3], ignore_index=True, sort=False)\n",
    "\n",
    "print(df_ID.shape)\n",
    "print(df.shape)\n"
   ]
  },
  {
   "cell_type": "code",
   "execution_count": 5,
   "id": "e8710a94",
   "metadata": {
    "execution": {
     "iopub.execute_input": "2022-06-21T16:06:50.617933Z",
     "iopub.status.busy": "2022-06-21T16:06:50.617715Z",
     "iopub.status.idle": "2022-06-21T16:06:52.906177Z",
     "shell.execute_reply": "2022-06-21T16:06:52.904843Z"
    },
    "papermill": {
     "duration": 2.31248,
     "end_time": "2022-06-21T16:06:52.909848",
     "exception": false,
     "start_time": "2022-06-21T16:06:50.597368",
     "status": "completed"
    },
    "tags": []
   },
   "outputs": [
    {
     "name": "stdout",
     "output_type": "stream",
     "text": [
      "Rimosso ID: 3069\n",
      "Rimosso ID: 3084\n",
      "Rimosso ID: 1678\n",
      "Rimosso ID: 1687\n",
      "Rimosso ID: 2040\n",
      "Rimosso ID: 2066\n",
      "Rimosso ID: 2073\n"
     ]
    }
   ],
   "source": [
    "for i in np.array(df_ID['ID_song']):\n",
    "    miss = False\n",
    "    \n",
    "    if (i + '-0') not in df['ID'].values:\n",
    "        miss = True\n",
    "    if (i + '-1') not in df['ID'].values:\n",
    "        miss = True\n",
    "    if (i + '-2') not in df['ID'].values:\n",
    "        miss = True\n",
    "    if (i + '-3') not in df['ID'].values:\n",
    "        miss = True\n",
    "    if miss:\n",
    "        df_ID = df_ID[df_ID.ID_song != i] # riga con solo un'immagine\n",
    "        print(\"Rimosso ID: \" +i)"
   ]
  },
  {
   "cell_type": "code",
   "execution_count": 6,
   "id": "eeb0b1dc",
   "metadata": {
    "execution": {
     "iopub.execute_input": "2022-06-21T16:06:52.955177Z",
     "iopub.status.busy": "2022-06-21T16:06:52.954944Z",
     "iopub.status.idle": "2022-06-21T16:06:52.966424Z",
     "shell.execute_reply": "2022-06-21T16:06:52.965254Z"
    },
    "papermill": {
     "duration": 0.03546,
     "end_time": "2022-06-21T16:06:52.969164",
     "exception": false,
     "start_time": "2022-06-21T16:06:52.933704",
     "status": "completed"
    },
    "tags": []
   },
   "outputs": [
    {
     "name": "stdout",
     "output_type": "stream",
     "text": [
      "(835,)\n",
      "(179,)\n",
      "(179,)\n"
     ]
    },
    {
     "data": {
      "text/plain": [
       "array(['3093', '3043', '1442', '1688', '1730', '3167', '1064', '1108',\n",
       "       '1671', '1243', '1018', '1174', '1317', '3058', '1503', '1778',\n",
       "       '1814', '1617', '1465', '1865', '1670', '1365', '1120', '1628',\n",
       "       '1732', '2053', '1781', '1420', '1267', '1176', '1033', '1057',\n",
       "       '1831', '1068', '3168', '1625', '3099', '1672', '1555', '1225',\n",
       "       '1833', '2133', '2039', '1374', '1478', '3097', '1425', '2096',\n",
       "       '3073', '1681', '1333', '1246', '1305', '1335', '1638', '1531',\n",
       "       '3014', '1286', '1822', '3134', '1589', '2135', '1633', '2124',\n",
       "       '3025', '1202', '1437', '3149', '1614', '1431', '1699', '1773',\n",
       "       '1345', '1650', '1127', '1184', '1198', '3105', '1042', '3100',\n",
       "       '3009', '1808', '1583', '1758', '1079', '1646', '3006', '1324',\n",
       "       '1835', '1053', '1810', '1336', '1200', '1183', '3051', '1348',\n",
       "       '1325', '1677', '2018', '3072', '1775', '1669', '1012', '1839',\n",
       "       '1723', '1506', '1466', '1706', '1485', '1497', '1384', '3017',\n",
       "       '1248', '1060', '1039', '1661', '2145', '1285', '1533', '1717',\n",
       "       '1362', '1281', '1254', '1101', '1472', '1095', '1272', '1001',\n",
       "       '2101', '3034', '2059', '1028', '3117', '2121', '1493', '1560',\n",
       "       '1178', '1747', '1870', '3090', '1173', '3008', '1598', '1081',\n",
       "       '1055', '1469', '1642', '1241', '1860', '1516', '1616', '1296',\n",
       "       '1337', '3114', '1331', '2087', '2012', '1872', '1599', '1624',\n",
       "       '1308', '2141', '1089', '3108', '1684', '1802', '1339', '1887',\n",
       "       '1344', '2008', '1136', '1482', '2119', '2077', '1009', '1552',\n",
       "       '1157', '1600', '1668'], dtype=object)"
      ]
     },
     "execution_count": 6,
     "metadata": {},
     "output_type": "execute_result"
    }
   ],
   "source": [
    "ID_train, ID_test = train_test_split( np.array(df_ID['ID_song']), test_size=0.30, shuffle = True,  random_state=1)\n",
    "ID_test, ID_validation = train_test_split( ID_test, test_size=0.5, shuffle = True,  random_state=1)\n",
    "\n",
    "print(ID_train.shape)\n",
    "print(ID_test.shape)\n",
    "print(ID_validation.shape)\n",
    "ID_test"
   ]
  },
  {
   "cell_type": "code",
   "execution_count": 7,
   "id": "e8ca807f",
   "metadata": {
    "execution": {
     "iopub.execute_input": "2022-06-21T16:06:53.012607Z",
     "iopub.status.busy": "2022-06-21T16:06:53.012421Z",
     "iopub.status.idle": "2022-06-21T16:06:55.294369Z",
     "shell.execute_reply": "2022-06-21T16:06:55.293193Z"
    },
    "papermill": {
     "duration": 2.305584,
     "end_time": "2022-06-21T16:06:55.296197",
     "exception": false,
     "start_time": "2022-06-21T16:06:52.990613",
     "status": "completed"
    },
    "tags": []
   },
   "outputs": [
    {
     "name": "stdout",
     "output_type": "stream",
     "text": [
      "(3340,)\n",
      "(716,)\n",
      "(716,)\n"
     ]
    },
    {
     "data": {
      "text/plain": [
       "array(['3093-0', '3093-1', '3093-2', '3093-3', '3043-0', '3043-1',\n",
       "       '3043-2', '3043-3', '1442-0', '1442-1', '1442-2', '1442-3',\n",
       "       '1688-0', '1688-1', '1688-2', '1688-3', '1730-0', '1730-1',\n",
       "       '1730-2', '1730-3', '3167-0', '3167-1', '3167-2', '3167-3',\n",
       "       '1064-0', '1064-1', '1064-2', '1064-3', '1108-0', '1108-1',\n",
       "       '1108-2', '1108-3', '1671-0', '1671-1', '1671-2', '1671-3',\n",
       "       '1243-0', '1243-1', '1243-2', '1243-3', '1018-0', '1018-1',\n",
       "       '1018-2', '1018-3', '1174-0', '1174-1', '1174-2', '1174-3',\n",
       "       '1317-0', '1317-1', '1317-2', '1317-3', '3058-0', '3058-1',\n",
       "       '3058-2', '3058-3', '1503-0', '1503-1', '1503-2', '1503-3',\n",
       "       '1778-0', '1778-1', '1778-2', '1778-3', '1814-0', '1814-1',\n",
       "       '1814-2', '1814-3', '1617-0', '1617-1', '1617-2', '1617-3',\n",
       "       '1465-0', '1465-1', '1465-2', '1465-3', '1865-0', '1865-1',\n",
       "       '1865-2', '1865-3', '1670-0', '1670-1', '1670-2', '1670-3',\n",
       "       '1365-0', '1365-1', '1365-2', '1365-3', '1120-0', '1120-1',\n",
       "       '1120-2', '1120-3', '1628-0', '1628-1', '1628-2', '1628-3',\n",
       "       '1732-0', '1732-1', '1732-2', '1732-3'], dtype='<U6')"
      ]
     },
     "execution_count": 7,
     "metadata": {},
     "output_type": "execute_result"
    }
   ],
   "source": [
    "y_train_ID = []\n",
    "y_test_ID = []\n",
    "y_validation_ID = []\n",
    "\n",
    "for i in ID_train:\n",
    "    if (i + '-0') in df['ID'].values:\n",
    "        y_train_ID.append(i + '-0')\n",
    "    if (i + '-1') in df['ID'].values:\n",
    "        y_train_ID.append(i + '-1')\n",
    "    if (i + '-2') in df['ID'].values:\n",
    "        y_train_ID.append(i + '-2')\n",
    "    if (i + '-3') in df['ID'].values:\n",
    "        y_train_ID.append(i + '-3')\n",
    "\n",
    "\n",
    "for i in ID_test:\n",
    "    if (i + '-0') in df['ID'].values:\n",
    "        y_test_ID.append(i + '-0')\n",
    "    if (i + '-1') in df['ID'].values:\n",
    "        y_test_ID.append(i + '-1')\n",
    "    if (i + '-2') in df['ID'].values:\n",
    "        y_test_ID.append(i + '-2')\n",
    "    if (i + '-3') in df['ID'].values:\n",
    "        y_test_ID.append(i + '-3')\n",
    "\n",
    "        \n",
    "for i in ID_validation:\n",
    "    if (i + '-0') in df['ID'].values:\n",
    "        y_validation_ID.append(i + '-0')\n",
    "    if (i + '-1') in df['ID'].values:\n",
    "        y_validation_ID.append(i + '-1')\n",
    "    if (i + '-2') in df['ID'].values:\n",
    "        y_validation_ID.append(i + '-2')\n",
    "    if (i + '-3') in df['ID'].values:\n",
    "        y_validation_ID.append(i + '-3')\n",
    "\n",
    "        \n",
    "y_train_ID = np.array(y_train_ID)\n",
    "y_test_ID = np.array(y_test_ID)\n",
    "y_validation_ID = np.array(y_validation_ID)\n",
    "\n",
    "print(y_train_ID.shape)\n",
    "print(y_test_ID.shape)\n",
    "print(y_validation_ID.shape)\n",
    "y_test_ID[:100]"
   ]
  },
  {
   "cell_type": "code",
   "execution_count": 8,
   "id": "71113591",
   "metadata": {
    "execution": {
     "iopub.execute_input": "2022-06-21T16:06:55.341729Z",
     "iopub.status.busy": "2022-06-21T16:06:55.341526Z",
     "iopub.status.idle": "2022-06-21T16:07:28.175104Z",
     "shell.execute_reply": "2022-06-21T16:07:28.174260Z"
    },
    "papermill": {
     "duration": 32.87816,
     "end_time": "2022-06-21T16:07:28.196961",
     "exception": false,
     "start_time": "2022-06-21T16:06:55.318801",
     "status": "completed"
    },
    "tags": []
   },
   "outputs": [
    {
     "name": "stdout",
     "output_type": "stream",
     "text": [
      "(3340, 300, 300, 3)\n",
      "(716, 300, 300, 3)\n",
      "(716, 300, 300, 3)\n"
     ]
    }
   ],
   "source": [
    "path1 = '../input/mel-pmemo/melspectrogram_dataset/'\n",
    "path2 = '../input/mel-4q/melspectrogram_dataset/'\n",
    "path3 = '../input/mel-emotify/melspectrogram_dataset/'\n",
    "\n",
    "\n",
    "# Load the images and the labels\n",
    "x_train = []\n",
    "x_test = []\n",
    "x_validation = []\n",
    "\n",
    "for img in y_train_ID:\n",
    "    if img[0] == '3':\n",
    "        pic = image.load_img((path1 + img + '.png'))\n",
    "        x_train.append(np.array(pic))\n",
    "    elif img[0] == '1':\n",
    "        pic = image.load_img((path2 + img + '.png'))\n",
    "        x_train.append(np.array(pic))\n",
    "    elif img[0] == '2':\n",
    "        pic = image.load_img((path3 + img + '.png'))\n",
    "        x_train.append(np.array(pic))\n",
    "\n",
    "for img in y_test_ID:\n",
    "    if img[0] == '3':\n",
    "        pic = image.load_img((path1 + img + '.png'))\n",
    "        x_test.append(np.array(pic))\n",
    "    elif img[0] == '1':\n",
    "        pic = image.load_img((path2 + img + '.png'))\n",
    "        x_test.append(np.array(pic))\n",
    "    elif img[0] == '2':\n",
    "        pic = image.load_img((path3 + img + '.png'))\n",
    "        x_test.append(np.array(pic))\n",
    "        \n",
    "for img in y_validation_ID:\n",
    "    if img[0] == '3':\n",
    "        pic = image.load_img((path1 + img + '.png'))\n",
    "        x_validation.append(np.array(pic))\n",
    "    elif img[0] == '1':\n",
    "        pic = image.load_img((path2 + img + '.png'))\n",
    "        x_validation.append(np.array(pic))\n",
    "    elif img[0] == '2':\n",
    "        pic = image.load_img((path3 + img + '.png'))\n",
    "        x_validation.append(np.array(pic))\n",
    "    \n",
    "x_train = np.array(x_train)\n",
    "x_test = np.array(x_test)\n",
    "x_validation = np.array(x_validation)\n",
    "\n",
    "print(x_train.shape)\n",
    "print(x_test.shape)\n",
    "print(x_validation.shape)"
   ]
  },
  {
   "cell_type": "code",
   "execution_count": 9,
   "id": "9e9da0f5",
   "metadata": {
    "execution": {
     "iopub.execute_input": "2022-06-21T16:07:28.242010Z",
     "iopub.status.busy": "2022-06-21T16:07:28.241766Z",
     "iopub.status.idle": "2022-06-21T16:07:30.712168Z",
     "shell.execute_reply": "2022-06-21T16:07:30.710444Z"
    },
    "papermill": {
     "duration": 2.495601,
     "end_time": "2022-06-21T16:07:30.714494",
     "exception": false,
     "start_time": "2022-06-21T16:07:28.218893",
     "status": "completed"
    },
    "tags": []
   },
   "outputs": [
    {
     "name": "stdout",
     "output_type": "stream",
     "text": [
      "(835,)\n",
      "(179,)\n",
      "(179,)\n"
     ]
    }
   ],
   "source": [
    "y_train = []\n",
    "y_test = []\n",
    "y_validation = []\n",
    "\n",
    "for i in ID_train:\n",
    "    \n",
    "    row = df.loc[df['ID'] == (i + '-0')]\n",
    "    y_train.append(row['Label'].iloc[0])\n",
    "\n",
    "for i in ID_test:\n",
    "    \n",
    "    row = df.loc[df['ID'] == (i + '-0')]\n",
    "    y_test.append(row['Label'].iloc[0])\n",
    "\n",
    "\n",
    "for i in ID_validation:\n",
    "    \n",
    "    row = df.loc[df['ID'] == (i + '-0')]\n",
    "    y_validation.append(row['Label'].iloc[0])\n",
    "    \n",
    "    \n",
    "    \n",
    "y_train = np.array(y_train)\n",
    "y_test = np.array(y_test)\n",
    "y_validation = np.array(y_validation)\n",
    "\n",
    "print(y_train.shape)\n",
    "print(y_test.shape)\n",
    "print(y_validation.shape)"
   ]
  },
  {
   "cell_type": "markdown",
   "id": "77b6c4c8",
   "metadata": {
    "papermill": {
     "duration": 0.02548,
     "end_time": "2022-06-21T16:07:30.765042",
     "exception": false,
     "start_time": "2022-06-21T16:07:30.739562",
     "status": "completed"
    },
    "tags": []
   },
   "source": [
    "Si procede a costruire il modello della rete ricorrente.\n",
    "si utilizzano i seguenti iperparametri:\n",
    "\n",
    "\n",
    "*   Tipo di modello: LSTM\n",
    "*   Modello di partenza: EfficientNetB3\n",
    "*   Numero di epoche 100;\n",
    "*   Activation Output Layer Softmax: funzione più usata per la classificazione multiclasse;\n",
    "*   Activation Hidden Layer ReLU: è la funzione di \"deafult\" grazie alla sua versatilità per la maggior parte degli utilizzi;\n",
    "*   Loss Function Sparse Categorical Crossentropy: funzione usata nella classificazione multiclasse usando varibili categoriche;\n",
    "*   Optimizer RMSprop;\n",
    "*   Regolarizzazione tramite dropout.\n",
    "*   Per evitare overfitting si utilizzeranno i pesi che ottengono il miglior valore di loss sul validation set."
   ]
  },
  {
   "cell_type": "code",
   "execution_count": 10,
   "id": "96c10d1d",
   "metadata": {
    "execution": {
     "iopub.execute_input": "2022-06-21T16:07:30.816608Z",
     "iopub.status.busy": "2022-06-21T16:07:30.816070Z",
     "iopub.status.idle": "2022-06-21T16:07:39.648555Z",
     "shell.execute_reply": "2022-06-21T16:07:39.647475Z"
    },
    "papermill": {
     "duration": 8.861611,
     "end_time": "2022-06-21T16:07:39.651397",
     "exception": false,
     "start_time": "2022-06-21T16:07:30.789786",
     "status": "completed"
    },
    "tags": []
   },
   "outputs": [
    {
     "name": "stderr",
     "output_type": "stream",
     "text": [
      "2022-06-21 16:07:31.460328: I tensorflow/stream_executor/cuda/cuda_gpu_executor.cc:937] successful NUMA node read from SysFS had negative value (-1), but there must be at least one NUMA node, so returning NUMA node zero\n",
      "2022-06-21 16:07:31.576328: I tensorflow/stream_executor/cuda/cuda_gpu_executor.cc:937] successful NUMA node read from SysFS had negative value (-1), but there must be at least one NUMA node, so returning NUMA node zero\n",
      "2022-06-21 16:07:31.577185: I tensorflow/stream_executor/cuda/cuda_gpu_executor.cc:937] successful NUMA node read from SysFS had negative value (-1), but there must be at least one NUMA node, so returning NUMA node zero\n",
      "2022-06-21 16:07:31.579010: I tensorflow/core/platform/cpu_feature_guard.cc:142] This TensorFlow binary is optimized with oneAPI Deep Neural Network Library (oneDNN) to use the following CPU instructions in performance-critical operations:  AVX2 AVX512F FMA\n",
      "To enable them in other operations, rebuild TensorFlow with the appropriate compiler flags.\n",
      "2022-06-21 16:07:31.579343: I tensorflow/stream_executor/cuda/cuda_gpu_executor.cc:937] successful NUMA node read from SysFS had negative value (-1), but there must be at least one NUMA node, so returning NUMA node zero\n",
      "2022-06-21 16:07:31.580033: I tensorflow/stream_executor/cuda/cuda_gpu_executor.cc:937] successful NUMA node read from SysFS had negative value (-1), but there must be at least one NUMA node, so returning NUMA node zero\n",
      "2022-06-21 16:07:31.580714: I tensorflow/stream_executor/cuda/cuda_gpu_executor.cc:937] successful NUMA node read from SysFS had negative value (-1), but there must be at least one NUMA node, so returning NUMA node zero\n",
      "2022-06-21 16:07:33.609219: I tensorflow/stream_executor/cuda/cuda_gpu_executor.cc:937] successful NUMA node read from SysFS had negative value (-1), but there must be at least one NUMA node, so returning NUMA node zero\n",
      "2022-06-21 16:07:33.610334: I tensorflow/stream_executor/cuda/cuda_gpu_executor.cc:937] successful NUMA node read from SysFS had negative value (-1), but there must be at least one NUMA node, so returning NUMA node zero\n",
      "2022-06-21 16:07:33.611111: I tensorflow/stream_executor/cuda/cuda_gpu_executor.cc:937] successful NUMA node read from SysFS had negative value (-1), but there must be at least one NUMA node, so returning NUMA node zero\n",
      "2022-06-21 16:07:33.612532: I tensorflow/core/common_runtime/gpu/gpu_device.cc:1510] Created device /job:localhost/replica:0/task:0/device:GPU:0 with 15403 MB memory:  -> device: 0, name: Tesla P100-PCIE-16GB, pci bus id: 0000:00:04.0, compute capability: 6.0\n"
     ]
    }
   ],
   "source": [
    "# Load a pre-trained neural network to use for feature extractor\n",
    "base_net = load_model('../input/effnetb3spectrogram/weights.cnn.hdf5')"
   ]
  },
  {
   "cell_type": "code",
   "execution_count": 11,
   "id": "e13f8366",
   "metadata": {
    "execution": {
     "iopub.execute_input": "2022-06-21T16:07:39.729963Z",
     "iopub.status.busy": "2022-06-21T16:07:39.729711Z",
     "iopub.status.idle": "2022-06-21T16:07:39.771156Z",
     "shell.execute_reply": "2022-06-21T16:07:39.770338Z"
    },
    "papermill": {
     "duration": 0.083203,
     "end_time": "2022-06-21T16:07:39.773724",
     "exception": false,
     "start_time": "2022-06-21T16:07:39.690521",
     "status": "completed"
    },
    "tags": []
   },
   "outputs": [],
   "source": [
    "layer_name = 'flatten'\n",
    "feature_extractor = Model(inputs=base_net.input, outputs=base_net.get_layer(layer_name).output)"
   ]
  },
  {
   "cell_type": "code",
   "execution_count": 12,
   "id": "3db2d74d",
   "metadata": {
    "execution": {
     "iopub.execute_input": "2022-06-21T16:07:39.851803Z",
     "iopub.status.busy": "2022-06-21T16:07:39.851603Z",
     "iopub.status.idle": "2022-06-21T16:08:09.407424Z",
     "shell.execute_reply": "2022-06-21T16:08:09.406690Z"
    },
    "papermill": {
     "duration": 29.596853,
     "end_time": "2022-06-21T16:08:09.409257",
     "exception": false,
     "start_time": "2022-06-21T16:07:39.812404",
     "status": "completed"
    },
    "tags": []
   },
   "outputs": [
    {
     "name": "stderr",
     "output_type": "stream",
     "text": [
      "2022-06-21 16:07:39.855302: W tensorflow/core/framework/cpu_allocator_impl.cc:80] Allocation of 901800000 exceeds 10% of free system memory.\n",
      "2022-06-21 16:07:40.818195: W tensorflow/core/framework/cpu_allocator_impl.cc:80] Allocation of 901800000 exceeds 10% of free system memory.\n",
      "2022-06-21 16:07:41.501762: I tensorflow/compiler/mlir/mlir_graph_optimization_pass.cc:185] None of the MLIR Optimization Passes are enabled (registered 2)\n",
      "2022-06-21 16:07:44.244199: I tensorflow/stream_executor/cuda/cuda_dnn.cc:369] Loaded cuDNN version 8005\n"
     ]
    },
    {
     "name": "stdout",
     "output_type": "stream",
     "text": [
      "105/105 [==============================] - 20s 110ms/step\n",
      "23/23 [==============================] - 2s 108ms/step\n",
      "23/23 [==============================] - 2s 108ms/step\n"
     ]
    }
   ],
   "source": [
    "feature_train = feature_extractor.predict(x_train, verbose=1)\n",
    "feature_test = feature_extractor.predict(x_test, verbose=1)\n",
    "feature_val = feature_extractor.predict(x_validation, verbose=1)"
   ]
  },
  {
   "cell_type": "code",
   "execution_count": 13,
   "id": "ba3115e4",
   "metadata": {
    "execution": {
     "iopub.execute_input": "2022-06-21T16:08:09.551761Z",
     "iopub.status.busy": "2022-06-21T16:08:09.551545Z",
     "iopub.status.idle": "2022-06-21T16:08:09.556554Z",
     "shell.execute_reply": "2022-06-21T16:08:09.555771Z"
    },
    "papermill": {
     "duration": 0.078702,
     "end_time": "2022-06-21T16:08:09.558957",
     "exception": false,
     "start_time": "2022-06-21T16:08:09.480255",
     "status": "completed"
    },
    "tags": []
   },
   "outputs": [
    {
     "name": "stdout",
     "output_type": "stream",
     "text": [
      "(3340, 1536)\n",
      "(716, 1536)\n",
      "(716, 1536)\n"
     ]
    }
   ],
   "source": [
    "print(feature_train.shape)\n",
    "print(feature_test.shape)\n",
    "print(feature_val.shape)"
   ]
  },
  {
   "cell_type": "code",
   "execution_count": 14,
   "id": "a1bb7333",
   "metadata": {
    "execution": {
     "iopub.execute_input": "2022-06-21T16:08:09.722319Z",
     "iopub.status.busy": "2022-06-21T16:08:09.722062Z",
     "iopub.status.idle": "2022-06-21T16:08:09.729603Z",
     "shell.execute_reply": "2022-06-21T16:08:09.728904Z"
    },
    "papermill": {
     "duration": 0.090792,
     "end_time": "2022-06-21T16:08:09.731768",
     "exception": false,
     "start_time": "2022-06-21T16:08:09.640976",
     "status": "completed"
    },
    "tags": []
   },
   "outputs": [
    {
     "name": "stdout",
     "output_type": "stream",
     "text": [
      "(835, 4, 1536)\n",
      "(179, 4, 1536)\n",
      "(179, 4, 1536)\n"
     ]
    }
   ],
   "source": [
    "reshaped_train = np.reshape(feature_train, (int(feature_train.shape[0] / 4), 4, -1))\n",
    "print(reshaped_train.shape)\n",
    "\n",
    "reshaped_test = np.reshape(feature_test, (int(feature_test.shape[0] / 4), 4, -1))\n",
    "print(reshaped_test.shape)\n",
    "\n",
    "reshaped_val = np.reshape(feature_val, (int(feature_val.shape[0] / 4), 4, -1))\n",
    "print(reshaped_val.shape)"
   ]
  },
  {
   "cell_type": "code",
   "execution_count": 15,
   "id": "9124257c",
   "metadata": {
    "execution": {
     "iopub.execute_input": "2022-06-21T16:08:09.893040Z",
     "iopub.status.busy": "2022-06-21T16:08:09.892483Z",
     "iopub.status.idle": "2022-06-21T16:08:10.065177Z",
     "shell.execute_reply": "2022-06-21T16:08:10.064345Z"
    },
    "papermill": {
     "duration": 0.255841,
     "end_time": "2022-06-21T16:08:10.067677",
     "exception": false,
     "start_time": "2022-06-21T16:08:09.811836",
     "status": "completed"
    },
    "tags": []
   },
   "outputs": [],
   "source": [
    "model = Sequential()\n",
    "model.add(LSTM(128, activation='relu', input_shape= reshaped_train.shape[1:]))\n",
    "model.add(Dropout(0.2))\n",
    "model.add(Dense(4, activation='softmax'))\n",
    "\n",
    "\n",
    "model.compile(loss='sparse_categorical_crossentropy', optimizer='RMSprop', metrics=['accuracy'])\n",
    "\n"
   ]
  },
  {
   "cell_type": "code",
   "execution_count": 16,
   "id": "2ad76fcb",
   "metadata": {
    "execution": {
     "iopub.execute_input": "2022-06-21T16:08:10.230890Z",
     "iopub.status.busy": "2022-06-21T16:08:10.230311Z",
     "iopub.status.idle": "2022-06-21T16:08:10.234955Z",
     "shell.execute_reply": "2022-06-21T16:08:10.234149Z"
    },
    "papermill": {
     "duration": 0.089144,
     "end_time": "2022-06-21T16:08:10.237110",
     "exception": false,
     "start_time": "2022-06-21T16:08:10.147966",
     "status": "completed"
    },
    "tags": []
   },
   "outputs": [],
   "source": [
    "filepath_cnn=\"weights.cnn.hdf5\"\n",
    "checkpoint = ModelCheckpoint(filepath_cnn, monitor='val_accuracy', verbose=1, save_best_only=True, mode='max')"
   ]
  },
  {
   "cell_type": "code",
   "execution_count": 17,
   "id": "e8a5b8a1",
   "metadata": {
    "execution": {
     "iopub.execute_input": "2022-06-21T16:08:10.397453Z",
     "iopub.status.busy": "2022-06-21T16:08:10.396807Z",
     "iopub.status.idle": "2022-06-21T16:08:53.902158Z",
     "shell.execute_reply": "2022-06-21T16:08:53.901331Z"
    },
    "papermill": {
     "duration": 43.588536,
     "end_time": "2022-06-21T16:08:53.904408",
     "exception": false,
     "start_time": "2022-06-21T16:08:10.315872",
     "status": "completed"
    },
    "tags": []
   },
   "outputs": [
    {
     "name": "stdout",
     "output_type": "stream",
     "text": [
      "Epoch 1/50\n",
      "27/27 [==============================] - 3s 33ms/step - loss: 1.5774 - accuracy: 0.8000 - val_loss: 0.6776 - val_accuracy: 0.8212\n",
      "\n",
      "Epoch 00001: val_accuracy improved from -inf to 0.82123, saving model to weights.cnn.hdf5\n",
      "Epoch 2/50\n",
      "27/27 [==============================] - 1s 23ms/step - loss: 0.6591 - accuracy: 0.8575 - val_loss: 0.5797 - val_accuracy: 0.8045\n",
      "\n",
      "Epoch 00002: val_accuracy did not improve from 0.82123\n",
      "Epoch 3/50\n",
      "27/27 [==============================] - 1s 23ms/step - loss: 0.4800 - accuracy: 0.8695 - val_loss: 0.5561 - val_accuracy: 0.8492\n",
      "\n",
      "Epoch 00003: val_accuracy improved from 0.82123 to 0.84916, saving model to weights.cnn.hdf5\n",
      "Epoch 4/50\n",
      "27/27 [==============================] - 1s 23ms/step - loss: 0.5207 - accuracy: 0.8743 - val_loss: 0.6797 - val_accuracy: 0.8492\n",
      "\n",
      "Epoch 00004: val_accuracy did not improve from 0.84916\n",
      "Epoch 5/50\n",
      "27/27 [==============================] - 1s 23ms/step - loss: 0.4732 - accuracy: 0.8802 - val_loss: 1.3641 - val_accuracy: 0.6760\n",
      "\n",
      "Epoch 00005: val_accuracy did not improve from 0.84916\n",
      "Epoch 6/50\n",
      "27/27 [==============================] - 1s 22ms/step - loss: 0.5513 - accuracy: 0.8635 - val_loss: 0.5350 - val_accuracy: 0.8547\n",
      "\n",
      "Epoch 00006: val_accuracy improved from 0.84916 to 0.85475, saving model to weights.cnn.hdf5\n",
      "Epoch 7/50\n",
      "27/27 [==============================] - 1s 22ms/step - loss: 0.4378 - accuracy: 0.8826 - val_loss: 0.7320 - val_accuracy: 0.8436\n",
      "\n",
      "Epoch 00007: val_accuracy did not improve from 0.85475\n",
      "Epoch 8/50\n",
      "27/27 [==============================] - 1s 23ms/step - loss: 0.4501 - accuracy: 0.8850 - val_loss: 0.6823 - val_accuracy: 0.8436\n",
      "\n",
      "Epoch 00008: val_accuracy did not improve from 0.85475\n",
      "Epoch 9/50\n",
      "27/27 [==============================] - 1s 25ms/step - loss: 0.3734 - accuracy: 0.9042 - val_loss: 0.6756 - val_accuracy: 0.8492\n",
      "\n",
      "Epoch 00009: val_accuracy did not improve from 0.85475\n",
      "Epoch 10/50\n",
      "27/27 [==============================] - 1s 23ms/step - loss: 0.4663 - accuracy: 0.8802 - val_loss: 0.6782 - val_accuracy: 0.8603\n",
      "\n",
      "Epoch 00010: val_accuracy improved from 0.85475 to 0.86034, saving model to weights.cnn.hdf5\n",
      "Epoch 11/50\n",
      "27/27 [==============================] - 1s 22ms/step - loss: 0.4025 - accuracy: 0.8994 - val_loss: 0.7549 - val_accuracy: 0.8324\n",
      "\n",
      "Epoch 00011: val_accuracy did not improve from 0.86034\n",
      "Epoch 12/50\n",
      "27/27 [==============================] - 1s 22ms/step - loss: 0.4262 - accuracy: 0.8958 - val_loss: 0.6758 - val_accuracy: 0.8436\n",
      "\n",
      "Epoch 00012: val_accuracy did not improve from 0.86034\n",
      "Epoch 13/50\n",
      "27/27 [==============================] - 1s 25ms/step - loss: 0.3769 - accuracy: 0.8898 - val_loss: 0.5768 - val_accuracy: 0.8659\n",
      "\n",
      "Epoch 00013: val_accuracy improved from 0.86034 to 0.86592, saving model to weights.cnn.hdf5\n",
      "Epoch 14/50\n",
      "27/27 [==============================] - 1s 23ms/step - loss: 0.3722 - accuracy: 0.9078 - val_loss: 0.7093 - val_accuracy: 0.8547\n",
      "\n",
      "Epoch 00014: val_accuracy did not improve from 0.86592\n",
      "Epoch 15/50\n",
      "27/27 [==============================] - 1s 24ms/step - loss: 0.3673 - accuracy: 0.9078 - val_loss: 0.8040 - val_accuracy: 0.8492\n",
      "\n",
      "Epoch 00015: val_accuracy did not improve from 0.86592\n",
      "Epoch 16/50\n",
      "27/27 [==============================] - 1s 29ms/step - loss: 0.3394 - accuracy: 0.9066 - val_loss: 0.6933 - val_accuracy: 0.8380\n",
      "\n",
      "Epoch 00016: val_accuracy did not improve from 0.86592\n",
      "Epoch 17/50\n",
      "27/27 [==============================] - 1s 30ms/step - loss: 0.3489 - accuracy: 0.9162 - val_loss: 0.8751 - val_accuracy: 0.6257\n",
      "\n",
      "Epoch 00017: val_accuracy did not improve from 0.86592\n",
      "Epoch 18/50\n",
      "27/27 [==============================] - 1s 24ms/step - loss: 0.3632 - accuracy: 0.9054 - val_loss: 0.5983 - val_accuracy: 0.8603\n",
      "\n",
      "Epoch 00018: val_accuracy did not improve from 0.86592\n",
      "Epoch 19/50\n",
      "27/27 [==============================] - 1s 37ms/step - loss: 0.3288 - accuracy: 0.9102 - val_loss: 0.7004 - val_accuracy: 0.8659\n",
      "\n",
      "Epoch 00019: val_accuracy did not improve from 0.86592\n",
      "Epoch 20/50\n",
      "27/27 [==============================] - 1s 33ms/step - loss: 0.3203 - accuracy: 0.9186 - val_loss: 0.7428 - val_accuracy: 0.8324\n",
      "\n",
      "Epoch 00020: val_accuracy did not improve from 0.86592\n",
      "Epoch 21/50\n",
      "27/27 [==============================] - 1s 23ms/step - loss: 0.3754 - accuracy: 0.9006 - val_loss: 1.2171 - val_accuracy: 0.7095\n",
      "\n",
      "Epoch 00021: val_accuracy did not improve from 0.86592\n",
      "Epoch 22/50\n",
      "27/27 [==============================] - 1s 23ms/step - loss: 0.3514 - accuracy: 0.9162 - val_loss: 0.6675 - val_accuracy: 0.8715\n",
      "\n",
      "Epoch 00022: val_accuracy improved from 0.86592 to 0.87151, saving model to weights.cnn.hdf5\n",
      "Epoch 23/50\n",
      "27/27 [==============================] - 1s 22ms/step - loss: 0.3598 - accuracy: 0.9066 - val_loss: 0.8661 - val_accuracy: 0.8603\n",
      "\n",
      "Epoch 00023: val_accuracy did not improve from 0.87151\n",
      "Epoch 24/50\n",
      "27/27 [==============================] - 1s 23ms/step - loss: 0.3346 - accuracy: 0.9210 - val_loss: 1.0542 - val_accuracy: 0.8547\n",
      "\n",
      "Epoch 00024: val_accuracy did not improve from 0.87151\n",
      "Epoch 25/50\n",
      "27/27 [==============================] - 1s 25ms/step - loss: 0.3627 - accuracy: 0.9114 - val_loss: 0.9882 - val_accuracy: 0.8492\n",
      "\n",
      "Epoch 00025: val_accuracy did not improve from 0.87151\n",
      "Epoch 26/50\n",
      "27/27 [==============================] - 1s 24ms/step - loss: 0.3329 - accuracy: 0.9102 - val_loss: 0.7880 - val_accuracy: 0.8715\n",
      "\n",
      "Epoch 00026: val_accuracy did not improve from 0.87151\n",
      "Epoch 27/50\n",
      "27/27 [==============================] - 1s 23ms/step - loss: 0.3303 - accuracy: 0.9138 - val_loss: 1.1199 - val_accuracy: 0.8436\n",
      "\n",
      "Epoch 00027: val_accuracy did not improve from 0.87151\n",
      "Epoch 28/50\n",
      "27/27 [==============================] - 1s 23ms/step - loss: 0.3200 - accuracy: 0.9210 - val_loss: 1.2485 - val_accuracy: 0.7318\n",
      "\n",
      "Epoch 00028: val_accuracy did not improve from 0.87151\n",
      "Epoch 29/50\n",
      "27/27 [==============================] - 1s 25ms/step - loss: 0.3490 - accuracy: 0.9078 - val_loss: 0.9313 - val_accuracy: 0.8492\n",
      "\n",
      "Epoch 00029: val_accuracy did not improve from 0.87151\n",
      "Epoch 30/50\n",
      "27/27 [==============================] - 1s 22ms/step - loss: 0.2840 - accuracy: 0.9174 - val_loss: 0.9715 - val_accuracy: 0.8659\n",
      "\n",
      "Epoch 00030: val_accuracy did not improve from 0.87151\n",
      "Epoch 31/50\n",
      "27/27 [==============================] - 1s 24ms/step - loss: 0.2619 - accuracy: 0.9269 - val_loss: 1.0133 - val_accuracy: 0.8547\n",
      "\n",
      "Epoch 00031: val_accuracy did not improve from 0.87151\n",
      "Epoch 32/50\n",
      "27/27 [==============================] - 1s 36ms/step - loss: 0.3047 - accuracy: 0.9198 - val_loss: 0.9651 - val_accuracy: 0.8324\n",
      "\n",
      "Epoch 00032: val_accuracy did not improve from 0.87151\n",
      "Epoch 33/50\n",
      "27/27 [==============================] - 1s 23ms/step - loss: 0.2973 - accuracy: 0.9246 - val_loss: 0.9448 - val_accuracy: 0.8659\n",
      "\n",
      "Epoch 00033: val_accuracy did not improve from 0.87151\n",
      "Epoch 34/50\n",
      "27/27 [==============================] - 1s 23ms/step - loss: 0.2722 - accuracy: 0.9341 - val_loss: 1.0705 - val_accuracy: 0.8492\n",
      "\n",
      "Epoch 00034: val_accuracy did not improve from 0.87151\n",
      "Epoch 35/50\n",
      "27/27 [==============================] - 1s 24ms/step - loss: 0.2796 - accuracy: 0.9162 - val_loss: 0.9981 - val_accuracy: 0.8547\n",
      "\n",
      "Epoch 00035: val_accuracy did not improve from 0.87151\n",
      "Epoch 36/50\n",
      "27/27 [==============================] - 1s 23ms/step - loss: 0.2846 - accuracy: 0.9257 - val_loss: 1.0122 - val_accuracy: 0.8659\n",
      "\n",
      "Epoch 00036: val_accuracy did not improve from 0.87151\n",
      "Epoch 37/50\n",
      "27/27 [==============================] - 1s 22ms/step - loss: 0.2262 - accuracy: 0.9257 - val_loss: 1.2497 - val_accuracy: 0.8603\n",
      "\n",
      "Epoch 00037: val_accuracy did not improve from 0.87151\n",
      "Epoch 38/50\n",
      "27/27 [==============================] - 1s 22ms/step - loss: 0.2744 - accuracy: 0.9341 - val_loss: 1.2652 - val_accuracy: 0.8436\n",
      "\n",
      "Epoch 00038: val_accuracy did not improve from 0.87151\n",
      "Epoch 39/50\n",
      "27/27 [==============================] - 1s 23ms/step - loss: 0.2495 - accuracy: 0.9329 - val_loss: 1.0528 - val_accuracy: 0.8547\n",
      "\n",
      "Epoch 00039: val_accuracy did not improve from 0.87151\n",
      "Epoch 40/50\n",
      "27/27 [==============================] - 1s 22ms/step - loss: 0.2820 - accuracy: 0.9246 - val_loss: 1.0536 - val_accuracy: 0.8603\n",
      "\n",
      "Epoch 00040: val_accuracy did not improve from 0.87151\n",
      "Epoch 41/50\n",
      "27/27 [==============================] - 1s 28ms/step - loss: 0.2538 - accuracy: 0.9329 - val_loss: 1.0369 - val_accuracy: 0.8492\n",
      "\n",
      "Epoch 00041: val_accuracy did not improve from 0.87151\n",
      "Epoch 42/50\n",
      "27/27 [==============================] - 1s 27ms/step - loss: 0.3994 - accuracy: 0.9210 - val_loss: 1.5638 - val_accuracy: 0.8156\n",
      "\n",
      "Epoch 00042: val_accuracy did not improve from 0.87151\n",
      "Epoch 43/50\n",
      "27/27 [==============================] - 1s 23ms/step - loss: 0.3808 - accuracy: 0.9365 - val_loss: 1.3653 - val_accuracy: 0.8492\n",
      "\n",
      "Epoch 00043: val_accuracy did not improve from 0.87151\n",
      "Epoch 44/50\n",
      "27/27 [==============================] - 1s 23ms/step - loss: 0.3159 - accuracy: 0.9246 - val_loss: 1.6906 - val_accuracy: 0.8492\n",
      "\n",
      "Epoch 00044: val_accuracy did not improve from 0.87151\n",
      "Epoch 45/50\n",
      "27/27 [==============================] - 1s 23ms/step - loss: 0.3250 - accuracy: 0.9341 - val_loss: 1.1369 - val_accuracy: 0.8324\n",
      "\n",
      "Epoch 00045: val_accuracy did not improve from 0.87151\n",
      "Epoch 46/50\n",
      "27/27 [==============================] - 1s 23ms/step - loss: 0.3105 - accuracy: 0.9293 - val_loss: 1.2601 - val_accuracy: 0.8492\n",
      "\n",
      "Epoch 00046: val_accuracy did not improve from 0.87151\n",
      "Epoch 47/50\n",
      "27/27 [==============================] - 1s 22ms/step - loss: 0.2512 - accuracy: 0.9353 - val_loss: 1.3339 - val_accuracy: 0.8436\n",
      "\n",
      "Epoch 00047: val_accuracy did not improve from 0.87151\n",
      "Epoch 48/50\n",
      "27/27 [==============================] - 1s 22ms/step - loss: 0.3169 - accuracy: 0.9389 - val_loss: 1.5569 - val_accuracy: 0.8547\n",
      "\n",
      "Epoch 00048: val_accuracy did not improve from 0.87151\n",
      "Epoch 49/50\n",
      "27/27 [==============================] - 1s 36ms/step - loss: 0.3394 - accuracy: 0.9246 - val_loss: 1.2781 - val_accuracy: 0.8603\n",
      "\n",
      "Epoch 00049: val_accuracy did not improve from 0.87151\n",
      "Epoch 50/50\n",
      "27/27 [==============================] - 1s 23ms/step - loss: 0.2523 - accuracy: 0.9341 - val_loss: 1.6189 - val_accuracy: 0.8492\n",
      "\n",
      "Epoch 00050: val_accuracy did not improve from 0.87151\n"
     ]
    }
   ],
   "source": [
    "hist_lstm = model.fit(reshaped_train, y_train, batch_size=32, epochs=50, validation_data=(reshaped_val, y_validation), callbacks=[checkpoint])"
   ]
  },
  {
   "cell_type": "code",
   "execution_count": 18,
   "id": "eb9db931",
   "metadata": {
    "execution": {
     "iopub.execute_input": "2022-06-21T16:08:54.403197Z",
     "iopub.status.busy": "2022-06-21T16:08:54.402466Z",
     "iopub.status.idle": "2022-06-21T16:08:54.780768Z",
     "shell.execute_reply": "2022-06-21T16:08:54.779975Z"
    },
    "papermill": {
     "duration": 0.629317,
     "end_time": "2022-06-21T16:08:54.782654",
     "exception": false,
     "start_time": "2022-06-21T16:08:54.153337",
     "status": "completed"
    },
    "tags": []
   },
   "outputs": [
    {
     "data": {
      "image/png": "[encoded data removed]",
      "text/plain": [
       "<Figure size 432x288 with 1 Axes>"
      ]
     },
     "metadata": {
      "needs_background": "light"
     },
     "output_type": "display_data"
    },
    {
     "data": {
      "image/png": "[encoded data removed]",
      "text/plain": [
       "<Figure size 432x288 with 1 Axes>"
      ]
     },
     "metadata": {
      "needs_background": "light"
     },
     "output_type": "display_data"
    }
   ],
   "source": [
    "def plot_hist(hist, title):\n",
    "    plt.plot(hist.history[\"accuracy\"])\n",
    "    plt.plot(hist.history[\"val_accuracy\"])\n",
    "    plt.title(\"Accuracy \" + title)\n",
    "    plt.ylabel(\"accuracy\")\n",
    "    plt.xlabel(\"epoch\")\n",
    "    plt.legend([\"train\", \"validation\"], loc=\"upper left\")\n",
    "    plt.show()\n",
    "    \n",
    "    # summarize history for loss\n",
    "    plt.plot(hist.history['loss'])\n",
    "    plt.plot(hist.history['val_loss'])\n",
    "    plt.title(\"LOSS \" + title)\n",
    "    plt.ylabel('loss')\n",
    "    plt.xlabel('epoch')\n",
    "    plt.legend(['train', 'validation'], loc='upper left')\n",
    "    plt.show()\n",
    "\n",
    "\n",
    "plot_hist(hist_lstm, title=\"Efficient-Net B3 + LSTM\")"
   ]
  },
  {
   "cell_type": "code",
   "execution_count": 19,
   "id": "822f2399",
   "metadata": {
    "execution": {
     "iopub.execute_input": "2022-06-21T16:08:55.284085Z",
     "iopub.status.busy": "2022-06-21T16:08:55.283835Z",
     "iopub.status.idle": "2022-06-21T16:08:55.292814Z",
     "shell.execute_reply": "2022-06-21T16:08:55.291999Z"
    },
    "papermill": {
     "duration": 0.26191,
     "end_time": "2022-06-21T16:08:55.294824",
     "exception": false,
     "start_time": "2022-06-21T16:08:55.032914",
     "status": "completed"
    },
    "tags": []
   },
   "outputs": [],
   "source": [
    "def plot_confusion_matrix(cm, classes,\n",
    "                          normalize=False,\n",
    "                          title='Confusion matrix',\n",
    "                          cmap=plt.cm.Blues):\n",
    "    \"\"\"\n",
    "    This function prints and plots the confusion matrix.\n",
    "    Normalization can be applied by setting `normalize=True`.\n",
    "    \"\"\"\n",
    "    plt.figure(figsize = (5,5))\n",
    "    plt.imshow(cm, interpolation='nearest', cmap=cmap)\n",
    "    plt.title(title)\n",
    "    plt.colorbar()\n",
    "    tick_marks = np.arange(len(classes))\n",
    "    plt.xticks(tick_marks, classes, rotation=90)\n",
    "    plt.yticks(tick_marks, classes)\n",
    "    if normalize:\n",
    "        cm = cm.astype('float') / cm.sum(axis=1)[:, np.newaxis]\n",
    "\n",
    "    thresh = cm.max() / 2.\n",
    "    for i, j in itertools.product(range(cm.shape[0]), range(cm.shape[1])):\n",
    "        plt.text(j, i, cm[i, j],\n",
    "                 horizontalalignment=\"center\",\n",
    "                 color=\"white\" if cm[i, j] > thresh else \"black\")\n",
    "    plt.tight_layout()\n",
    "    plt.ylabel('True label')\n",
    "    plt.xlabel('Predicted label')"
   ]
  },
  {
   "cell_type": "code",
   "execution_count": 20,
   "id": "ac38231d",
   "metadata": {
    "execution": {
     "iopub.execute_input": "2022-06-21T16:08:55.810263Z",
     "iopub.status.busy": "2022-06-21T16:08:55.809965Z",
     "iopub.status.idle": "2022-06-21T16:08:56.358085Z",
     "shell.execute_reply": "2022-06-21T16:08:56.357278Z"
    },
    "papermill": {
     "duration": 0.799168,
     "end_time": "2022-06-21T16:08:56.360249",
     "exception": false,
     "start_time": "2022-06-21T16:08:55.561081",
     "status": "completed"
    },
    "tags": []
   },
   "outputs": [
    {
     "name": "stdout",
     "output_type": "stream",
     "text": [
      "Convolutional Neural Network - accuracy: 0.8770949840545654 \n",
      "\n"
     ]
    },
    {
     "data": {
      "image/png": "[encoded data removed]",
      "text/plain": [
       "<Figure size 360x360 with 2 Axes>"
      ]
     },
     "metadata": {
      "needs_background": "light"
     },
     "output_type": "display_data"
    }
   ],
   "source": [
    "score = model.evaluate(reshaped_test, y_test, verbose=0)\n",
    "print('Convolutional Neural Network - accuracy:', score[1],\"\\n\")\n",
    "Y_pred = model.predict(reshaped_test)\n",
    "Y_pred_classes = np.argmax(Y_pred,axis = 1) \n",
    "confusion_mtx = confusion_matrix(y_test, Y_pred_classes)\n",
    "plot_confusion_matrix(confusion_mtx, classes = ['A-V-','A-V+','A+V-','A+V+']) \n",
    "plt.show()"
   ]
  }
 ],
 "metadata": {
  "kernelspec": {
   "display_name": "Python 3",
   "language": "python",
   "name": "python3"
  },
  "language_info": {
   "codemirror_mode": {
    "name": "ipython",
    "version": 3
   },
   "file_extension": ".py",
   "mimetype": "text/x-python",
   "name": "python",
   "nbconvert_exporter": "python",
   "pygments_lexer": "ipython3",
   "version": "3.7.12"
  },
  "papermill": {
   "default_parameters": {},
   "duration": 145.392148,
   "end_time": "2022-06-21T16:09:00.212844",
   "environment_variables": {},
   "exception": null,
   "input_path": "__notebook__.ipynb",
   "output_path": "__notebook__.ipynb",
   "parameters": {},
   "start_time": "2022-06-21T16:06:34.820696",
   "version": "2.3.4"
  }
 },
 "nbformat": 4,
 "nbformat_minor": 5
}
