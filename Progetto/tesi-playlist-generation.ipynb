{
 "cells": [
  {
   "cell_type": "markdown",
   "id": "3eea6b3f",
   "metadata": {
    "papermill": {
     "duration": 0.004953,
     "end_time": "2022-07-28T16:32:20.080622",
     "exception": false,
     "start_time": "2022-07-28T16:32:20.075669",
     "status": "completed"
    },
    "tags": []
   },
   "source": [
    "# Generazione Playlist personalizzata in base all'umore"
   ]
  },
  {
   "cell_type": "code",
   "execution_count": 1,
   "id": "a2c0c069",
   "metadata": {
    "_cell_guid": "b1076dfc-b9ad-4769-8c92-a6c4dae69d19",
    "_uuid": "8f2839f25d086af736a60e9eeb907d3b93b6e0e5",
    "execution": {
     "iopub.execute_input": "2022-07-28T16:32:20.091865Z",
     "iopub.status.busy": "2022-07-28T16:32:20.090611Z",
     "iopub.status.idle": "2022-07-28T16:32:34.908950Z",
     "shell.execute_reply": "2022-07-28T16:32:34.907634Z"
    },
    "papermill": {
     "duration": 14.827158,
     "end_time": "2022-07-28T16:32:34.912076",
     "exception": false,
     "start_time": "2022-07-28T16:32:20.084918",
     "status": "completed"
    },
    "tags": []
   },
   "outputs": [],
   "source": [
    "import os\n",
    "import collections\n",
    "from pathlib import Path\n",
    "import pandas as pd\n",
    "import numpy as np\n",
    "\n",
    "\n",
    "# audio lib\n",
    "import librosa\n",
    "import librosa.display\n",
    "from librosa.util import fix_length\n",
    "\n",
    "import IPython.display as ipd\n",
    "from PIL import Image"
   ]
  },
  {
   "cell_type": "markdown",
   "id": "6d90bce9",
   "metadata": {
    "papermill": {
     "duration": 0.003586,
     "end_time": "2022-07-28T16:32:34.919672",
     "exception": false,
     "start_time": "2022-07-28T16:32:34.916086",
     "status": "completed"
    },
    "tags": []
   },
   "source": [
    "Si importa il file .csv contenente le informazioni prodotte dal modello MER"
   ]
  },
  {
   "cell_type": "code",
   "execution_count": 2,
   "id": "1b4f8359",
   "metadata": {
    "execution": {
     "iopub.execute_input": "2022-07-28T16:32:34.929440Z",
     "iopub.status.busy": "2022-07-28T16:32:34.928994Z",
     "iopub.status.idle": "2022-07-28T16:32:34.946154Z",
     "shell.execute_reply": "2022-07-28T16:32:34.944951Z"
    },
    "papermill": {
     "duration": 0.026279,
     "end_time": "2022-07-28T16:32:34.949806",
     "exception": false,
     "start_time": "2022-07-28T16:32:34.923527",
     "status": "completed"
    },
    "tags": []
   },
   "outputs": [],
   "source": [
    "df = pd.read_csv('../input/tesi-finetuning/finetuned.csv')\n",
    "\n",
    "# dati relativi alla creazione playlist, personalizzabili dall'utente\n",
    "playlist_length = 10\n",
    "starting_mood = 'A-V-'\n",
    "expected_mood = 'A+V+'"
   ]
  },
  {
   "cell_type": "markdown",
   "id": "3afa2d05",
   "metadata": {
    "papermill": {
     "duration": 0.003511,
     "end_time": "2022-07-28T16:32:34.957193",
     "exception": false,
     "start_time": "2022-07-28T16:32:34.953682",
     "status": "completed"
    },
    "tags": []
   },
   "source": [
    "L'algoritmo ideato funziona nel seguente modo:\n",
    "* Si parte da una stima di 100 per il mood iniziale e di 0 per il mood da raggiungere\n",
    "* Si calcola quanto si dovranno shiftare i due mood ogni iterazione, incrementando il target e decrescendo quello di partenza\n",
    "* Si trovano le canzoni che hanno il mood di partenza e quello target più vicini ai valori ottenuti.\n",
    "\n",
    "Es. playlist di 5 canzoni:\n",
    "* 1° iterazione: valore_partenza = 100, valore_target = 0;\n",
    "* 2° iterazione: valore_partenza = 75, valore_target = 25;\n",
    "* 3° iterazione: valore_partenza = 50, valore_target = 50;\n",
    "* 4° iterazione: valore_partenza = 25, valore_target = 75;\n",
    "* 5° iterazione: valore_partenza = 0, valore_target = 100;\n",
    "\n",
    "Se l'utente invece non vuole cambiare umore si prendono le canzoni con stima di quell'emozione più alta."
   ]
  },
  {
   "cell_type": "code",
   "execution_count": 3,
   "id": "4846c255",
   "metadata": {
    "execution": {
     "iopub.execute_input": "2022-07-28T16:32:34.966529Z",
     "iopub.status.busy": "2022-07-28T16:32:34.966120Z",
     "iopub.status.idle": "2022-07-28T16:32:34.972763Z",
     "shell.execute_reply": "2022-07-28T16:32:34.971451Z"
    },
    "papermill": {
     "duration": 0.014427,
     "end_time": "2022-07-28T16:32:34.975369",
     "exception": false,
     "start_time": "2022-07-28T16:32:34.960942",
     "status": "completed"
    },
    "tags": []
   },
   "outputs": [],
   "source": [
    "# funzione che prende in input le colonne relative alla stima del mood e il valore atteso a cui esse devono avvicinarsi\n",
    "def find_nearest(array_starting, value_starting, array_target, value_target):\n",
    "    \n",
    "    # gli array contengono la differenza tra il valore reale e quello atteso\n",
    "    starting = np.abs(array_starting - value_starting)\n",
    "    target = np.abs(array_target - value_target)\n",
    "    \n",
    "    # si sommano i valori degli array\n",
    "    nearest_array = starting + target\n",
    "    \n",
    "    # l'elemento minore sarà quello con i due mood combinati che più si avvicinano all'obiettivo\n",
    "    return nearest_array.argmin()"
   ]
  },
  {
   "cell_type": "code",
   "execution_count": 4,
   "id": "f8205564",
   "metadata": {
    "execution": {
     "iopub.execute_input": "2022-07-28T16:32:34.984997Z",
     "iopub.status.busy": "2022-07-28T16:32:34.984572Z",
     "iopub.status.idle": "2022-07-28T16:32:34.992131Z",
     "shell.execute_reply": "2022-07-28T16:32:34.990772Z"
    },
    "papermill": {
     "duration": 0.015652,
     "end_time": "2022-07-28T16:32:34.994911",
     "exception": false,
     "start_time": "2022-07-28T16:32:34.979259",
     "status": "completed"
    },
    "tags": []
   },
   "outputs": [],
   "source": [
    "def show_playlist(title_array):\n",
    "    \n",
    "    original_df = pd.read_csv('../input/tesi-finetuning/finetuned.csv')\n",
    "    \n",
    "    del original_df['Max_Overall_Emotion']\n",
    "    del original_df['True_Emotion']\n",
    "    del original_df['Wrong_Inferences']\n",
    "    del original_df['diff_abs']\n",
    "    \n",
    "    my_playlist = original_df.iloc[:0,:].copy()\n",
    "    for i in title_array:\n",
    "        my_playlist = my_playlist.append(original_df.loc[original_df['ID'] == i], ignore_index=True)\n",
    "    \n",
    "    return my_playlist"
   ]
  },
  {
   "cell_type": "code",
   "execution_count": 5,
   "id": "0c40265f",
   "metadata": {
    "execution": {
     "iopub.execute_input": "2022-07-28T16:32:35.005531Z",
     "iopub.status.busy": "2022-07-28T16:32:35.004672Z",
     "iopub.status.idle": "2022-07-28T16:32:35.036830Z",
     "shell.execute_reply": "2022-07-28T16:32:35.036011Z"
    },
    "papermill": {
     "duration": 0.040511,
     "end_time": "2022-07-28T16:32:35.039426",
     "exception": false,
     "start_time": "2022-07-28T16:32:34.998915",
     "status": "completed"
    },
    "tags": []
   },
   "outputs": [],
   "source": [
    "song_list = []\n",
    "\n",
    "if starting_mood != expected_mood: \n",
    "    # caso nel quale l'utente vuole shiftare mood\n",
    "    jump = (100/(playlist_length-1))\n",
    "    starting_value = 100\n",
    "    expected_value = 0\n",
    "\n",
    "\n",
    "    for i in range(playlist_length):\n",
    "\n",
    "        idx = find_nearest(df[starting_mood].to_numpy(), starting_value, df[expected_mood].to_numpy(), expected_value)\n",
    "        song_list.append(df.iloc[idx]['ID'])\n",
    "        df = df.drop(idx)\n",
    "        df = df.reset_index(drop=True)\n",
    "        starting_value = starting_value - jump\n",
    "        expected_value = expected_value + jump\n",
    "        \n",
    "else: # il mood dell'utente non deve cambiare\n",
    "    df = df.sort_values(by=[starting_mood])\n",
    "    df = df[len(df)-playlist_length:]\n",
    "    song_list = df['ID'].to_numpy()\n"
   ]
  },
  {
   "cell_type": "code",
   "execution_count": 6,
   "id": "6e66f081",
   "metadata": {
    "execution": {
     "iopub.execute_input": "2022-07-28T16:32:35.049421Z",
     "iopub.status.busy": "2022-07-28T16:32:35.048711Z",
     "iopub.status.idle": "2022-07-28T16:32:35.101942Z",
     "shell.execute_reply": "2022-07-28T16:32:35.099572Z"
    },
    "papermill": {
     "duration": 0.062933,
     "end_time": "2022-07-28T16:32:35.106348",
     "exception": false,
     "start_time": "2022-07-28T16:32:35.043415",
     "status": "completed"
    },
    "tags": []
   },
   "outputs": [
    {
     "data": {
      "text/html": [
       "<div>\n",
       "<style scoped>\n",
       "    .dataframe tbody tr th:only-of-type {\n",
       "        vertical-align: middle;\n",
       "    }\n",
       "\n",
       "    .dataframe tbody tr th {\n",
       "        vertical-align: top;\n",
       "    }\n",
       "\n",
       "    .dataframe thead th {\n",
       "        text-align: right;\n",
       "    }\n",
       "</style>\n",
       "<table border=\"1\" class=\"dataframe\">\n",
       "  <thead>\n",
       "    <tr style=\"text-align: right;\">\n",
       "      <th></th>\n",
       "      <th>ID</th>\n",
       "      <th>A-V-</th>\n",
       "      <th>A-V+</th>\n",
       "      <th>A+V-</th>\n",
       "      <th>A+V+</th>\n",
       "    </tr>\n",
       "  </thead>\n",
       "  <tbody>\n",
       "    <tr>\n",
       "      <th>0</th>\n",
       "      <td>Nirvana - All Apologies</td>\n",
       "      <td>75.0</td>\n",
       "      <td>12.5</td>\n",
       "      <td>0.0</td>\n",
       "      <td>12.5</td>\n",
       "    </tr>\n",
       "    <tr>\n",
       "      <th>1</th>\n",
       "      <td>Radiohead - Fake Plastic Trees</td>\n",
       "      <td>58.3</td>\n",
       "      <td>25.0</td>\n",
       "      <td>0.0</td>\n",
       "      <td>16.7</td>\n",
       "    </tr>\n",
       "    <tr>\n",
       "      <th>2</th>\n",
       "      <td>Muse - Feeling Good</td>\n",
       "      <td>50.0</td>\n",
       "      <td>12.5</td>\n",
       "      <td>12.5</td>\n",
       "      <td>25.0</td>\n",
       "    </tr>\n",
       "    <tr>\n",
       "      <th>3</th>\n",
       "      <td>David Bowie - Space Oddity</td>\n",
       "      <td>38.5</td>\n",
       "      <td>30.8</td>\n",
       "      <td>0.0</td>\n",
       "      <td>30.8</td>\n",
       "    </tr>\n",
       "    <tr>\n",
       "      <th>4</th>\n",
       "      <td>Machine Gun Kelly - Home</td>\n",
       "      <td>33.3</td>\n",
       "      <td>0.0</td>\n",
       "      <td>22.2</td>\n",
       "      <td>44.4</td>\n",
       "    </tr>\n",
       "    <tr>\n",
       "      <th>5</th>\n",
       "      <td>System Of A Down - Lonely Day</td>\n",
       "      <td>16.7</td>\n",
       "      <td>33.3</td>\n",
       "      <td>0.0</td>\n",
       "      <td>50.0</td>\n",
       "    </tr>\n",
       "    <tr>\n",
       "      <th>6</th>\n",
       "      <td>twenty one pilots - Ride</td>\n",
       "      <td>22.2</td>\n",
       "      <td>0.0</td>\n",
       "      <td>11.1</td>\n",
       "      <td>66.7</td>\n",
       "    </tr>\n",
       "    <tr>\n",
       "      <th>7</th>\n",
       "      <td>Soundgarden - Black Hole Sun</td>\n",
       "      <td>23.1</td>\n",
       "      <td>7.7</td>\n",
       "      <td>0.0</td>\n",
       "      <td>69.2</td>\n",
       "    </tr>\n",
       "    <tr>\n",
       "      <th>8</th>\n",
       "      <td>Rino Gaetano - Ma il cielo  sempre pi blu</td>\n",
       "      <td>5.0</td>\n",
       "      <td>5.0</td>\n",
       "      <td>0.0</td>\n",
       "      <td>90.0</td>\n",
       "    </tr>\n",
       "    <tr>\n",
       "      <th>9</th>\n",
       "      <td>The Rolling Stones - Sympathy For The Devil</td>\n",
       "      <td>0.0</td>\n",
       "      <td>6.7</td>\n",
       "      <td>0.0</td>\n",
       "      <td>93.3</td>\n",
       "    </tr>\n",
       "  </tbody>\n",
       "</table>\n",
       "</div>"
      ],
      "text/plain": [
       "                                            ID  A-V-  A-V+  A+V-  A+V+\n",
       "0                      Nirvana - All Apologies  75.0  12.5   0.0  12.5\n",
       "1               Radiohead - Fake Plastic Trees  58.3  25.0   0.0  16.7\n",
       "2                          Muse - Feeling Good  50.0  12.5  12.5  25.0\n",
       "3                   David Bowie - Space Oddity  38.5  30.8   0.0  30.8\n",
       "4                     Machine Gun Kelly - Home  33.3   0.0  22.2  44.4\n",
       "5                System Of A Down - Lonely Day  16.7  33.3   0.0  50.0\n",
       "6                     twenty one pilots - Ride  22.2   0.0  11.1  66.7\n",
       "7                 Soundgarden - Black Hole Sun  23.1   7.7   0.0  69.2\n",
       "8    Rino Gaetano - Ma il cielo  sempre pi blu   5.0   5.0   0.0  90.0\n",
       "9  The Rolling Stones - Sympathy For The Devil   0.0   6.7   0.0  93.3"
      ]
     },
     "execution_count": 6,
     "metadata": {},
     "output_type": "execute_result"
    }
   ],
   "source": [
    "show_playlist(song_list)"
   ]
  },
  {
   "cell_type": "markdown",
   "id": "48ab817f",
   "metadata": {
    "papermill": {
     "duration": 0.004383,
     "end_time": "2022-07-28T16:32:35.115552",
     "exception": false,
     "start_time": "2022-07-28T16:32:35.111169",
     "status": "completed"
    },
    "tags": []
   },
   "source": [
    "## Playlist generata:"
   ]
  },
  {
   "cell_type": "code",
   "execution_count": 7,
   "id": "c53da54f",
   "metadata": {
    "execution": {
     "iopub.execute_input": "2022-07-28T16:32:35.130342Z",
     "iopub.status.busy": "2022-07-28T16:32:35.129518Z",
     "iopub.status.idle": "2022-07-28T16:32:35.137426Z",
     "shell.execute_reply": "2022-07-28T16:32:35.135775Z"
    },
    "papermill": {
     "duration": 0.018358,
     "end_time": "2022-07-28T16:32:35.140554",
     "exception": false,
     "start_time": "2022-07-28T16:32:35.122196",
     "status": "completed"
    },
    "tags": []
   },
   "outputs": [
    {
     "name": "stdout",
     "output_type": "stream",
     "text": [
      "Riproducendo:../input/my-playlist/Playlist/Nirvana - All Apologies.mp3\n",
      "Riproducendo:../input/my-playlist/Playlist/Radiohead - Fake Plastic Trees.mp3\n",
      "Riproducendo:../input/my-playlist/Playlist/Muse - Feeling Good.mp3\n",
      "Riproducendo:../input/my-playlist/Playlist/David Bowie - Space Oddity.mp3\n",
      "Riproducendo:../input/my-playlist/Playlist/Machine Gun Kelly - Home.mp3\n",
      "Riproducendo:../input/my-playlist/Playlist/System Of A Down - Lonely Day.mp3\n",
      "Riproducendo:../input/my-playlist/Playlist/twenty one pilots - Ride.mp3\n",
      "Riproducendo:../input/my-playlist/Playlist/Soundgarden - Black Hole Sun.mp3\n",
      "Riproducendo:../input/my-playlist/Playlist/Rino Gaetano - Ma il cielo  sempre pi blu.mp3\n",
      "Riproducendo:../input/my-playlist/Playlist/The Rolling Stones - Sympathy For The Devil.mp3\n"
     ]
    }
   ],
   "source": [
    "for song in song_list:\n",
    "    song_path = '../input/my-playlist/Playlist/' + song + '.mp3'\n",
    "    print(\"Riproducendo:\"+ song_path)\n",
    "    # ipd.display(ipd.Audio(song_path)) "
   ]
  }
 ],
 "metadata": {
  "kernelspec": {
   "display_name": "Python 3",
   "language": "python",
   "name": "python3"
  },
  "language_info": {
   "codemirror_mode": {
    "name": "ipython",
    "version": 3
   },
   "file_extension": ".py",
   "mimetype": "text/x-python",
   "name": "python",
   "nbconvert_exporter": "python",
   "pygments_lexer": "ipython3",
   "version": "3.7.12"
  },
  "papermill": {
   "default_parameters": {},
   "duration": 27.800931,
   "end_time": "2022-07-28T16:32:36.269307",
   "environment_variables": {},
   "exception": null,
   "input_path": "__notebook__.ipynb",
   "output_path": "__notebook__.ipynb",
   "parameters": {},
   "start_time": "2022-07-28T16:32:08.468376",
   "version": "2.3.4"
  }
 },
 "nbformat": 4,
 "nbformat_minor": 5
}
